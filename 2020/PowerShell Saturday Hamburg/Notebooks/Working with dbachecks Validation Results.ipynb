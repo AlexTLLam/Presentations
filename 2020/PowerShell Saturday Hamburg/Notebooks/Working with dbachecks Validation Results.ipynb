{
    "metadata": {
        "kernelspec": {
            "name": "SQL",
            "display_name": "SQL",
            "language": "sql"
        },
        "language_info": {
            "name": "sql",
            "version": ""
        }
    },
    "nbformat_minor": 2,
    "nbformat": 4,
    "cells": [
        {
            "cell_type": "markdown",
            "source": [
                "# Working with dbachecks Historical Results\r\n",
                "\r\n",
                "This guide will assist you to get used to the database schema where dbachecks historical reports are stored if you have followed the blog post [dbachecks – Save the results to a database for historical reporting](https://sqldbawithabeard.com/2018/05/23/dbachecks-save-the-results-to-a-database-for-historical-reporting/)\r\n",
                "\r\n",
                "* Click the **Not Trusted** button above to trust the notebook and enable command links.\r\n",
                "\r\n",
                "The first thing that is required is to update the data in the database so that it reflects the current date as if dbachecks had been run today\r\n",
                ""
            ],
            "metadata": {
                "azdata_cell_guid": "b073ca41-e9b4-4976-91c7-342d4cdc98f5"
            }
        },
        {
            "cell_type": "markdown",
            "source": [
                "## Demo Database and container\r\n",
                "\r\n",
                "I have provided you with a demo backup which you can find in my [GitHub Presentations Repository](https://github.com/SQLDBAWithABeard/Presentations/tree/master/Notebooks/dbachecks-historical).\r\n",
                "\r\n",
                "Download the backup file and the docker-compose.yml and save it in a folder, I am going to assume that you are using `C:\\dbachecks` for the rest of this notebook.\r\n",
                "\r\n",
                " I am also going to assume that you have Docker For Windows on your laptop (This will work in Docker running on other OS's but you will have to alter the paths accordingly). You will also find a docker-compose file in the [Repository](https://github.com/SQLDBAWithABeard/Presentations/blob/master/Notebooks/dbachecks-historical/docker-compose.yml) which you can use to spin up a SQL container and restore the backup. (Yes, I know I could have created a container with the database already embedded but this gives you more things to learn about!)\r\n",
                "\r\n",
                "The docker-compose file looks like this\r\n",
                "````\r\n",
                "version: '3.7'\r\n",
                "\r\n",
                "services:\r\n",
                "    HistoricalReporting:\r\n",
                "        image: mcr.microsoft.com/mssql/server:2019-CTP2.4-ubuntu\r\n",
                "        ports:  \r\n",
                "          - \"15594:1433\"\r\n",
                "        environment:\r\n",
                "          SA_PASSWORD: \"Password0!\"\r\n",
                "          ACCEPT_EULA: \"Y\"\r\n",
                "        volumes: \r\n",
                "          - C:\\dbachecks:/var/opt/mssql/backups\r\n",
                "````\r\n",
                "It will create \r\n",
                "\r\n",
                "- a single service (a container (See the [Docker Documentation for a full definition of a service](https://docs.docker.com/get-started/part3/))) called `HistoricalReporting`\r\n",
                "- assign port 1433 on the container to port 15594 on the host\r\n",
                "- add the environmental variables for the SA Password and the acceptance of the EULA\r\n",
                "- map the directory c:\\dbachecks on the host (your laptop) to the directory /var/opt/mssql/backups in the container\r\n",
                "\r\n",
                "It will create the container using the Community Technical Preview 2.4 image of SQL Server 2019 running on Ubuntu from the Microsoft Container Registry for SQL Server.\r\n",
                "\r\n",
                "You can, and should, understand how to change those values in the docker-compose file for different values so that you can spin up a container with a different image (maybe a later or earlier versions of SQL Server) or store your files in a different directory to `C:\\dbachecks` or becuase you are allergic to `Password0!`\r\n",
                "\r\n",
                "Once your docker-compose.yml file is ready open PowerShell (Windows or Core both will work) and type\r\n",
                "\r\n",
                "Set-Location c:\\dbachecks\r\n",
                "docker-compose up -d\r\n",
                "\r\n",
                "````\r\n",
                "Set-Location c:\\dbachecks\r\n",
                "docker-compose up -d\r\n",
                "````\r\n",
                "\r\n",
                "<a href=\"command:workbench.action.terminal.focus\">Or In Azure Data Studio you can click this link to open a new terminal'</a>\r\n",
                "\r\n",
                "and then \r\n",
                "\r\n",
                "<a href=\"command:workbench.action.terminal.sendSequence?%7B%22text%22%3A%22Set-Location C:%5C%5Cdbachecks \\u000D   %22%7D\">Run Set-Location by clicking this link</a> \r\n",
                "\r\n",
                "<a href=\"command:workbench.action.terminal.sendSequence?%7B%22text%22%3A%22docker-compose up -d \\u000D %22%7D\">Run the docker-compose up -d by clicking this link</a>\r\n",
                "\r\n",
                "You should see  \r\n",
                "  \r\n",
                "![docker compose up](https://github.com/SQLDBAWithABeard/Presentations/blob/a5651cfee447c9bbef1c9d4465b0b05ace420186/Notebooks/dbachecks-historical/images/docker-compose-up.jpg?raw=true)\r\n",
                "\r\n",
                "\r\n",
                ""
            ],
            "metadata": {
                "azdata_cell_guid": "16cd322f-92a5-4425-945d-57e2fdb862d3"
            }
        },
        {
            "cell_type": "markdown",
            "source": [
                "## Test that we have a running container\r\n",
                "\r\n",
                "Lets check that you have got a running container that we can use\r\n",
                "\r\n",
                "You will need to have dbatools installed - If you haven't Run\r\n",
                "\r\n",
                "````\r\n",
                "Install-Module dbatools\r\n",
                "````\r\n",
                "<a href=\"command:workbench.action.terminal.focus\">Open a new terminal if needed</a>\r\n",
                "\r\n",
                "and then \r\n",
                "\r\n",
                "<a href=\"command:workbench.action.terminal.sendSequence?%7B%22text%22%3A%22 %24cred%20%3D%20Get-Credential -Message%20%27Enter%20SA%20password %20for%20container%27%20sa%20 \\u000D if%28%28Test-DbaConnection%20-SqlInstance%20%27localhost%2C15594%27 -SqlCredential%20%24cred%29.ConnectSuccess%29%7B cls ; Write-Output %27The%20Beard%20is%20Happy! - %20you%20may%20continue%27%7D else%7B%24err%20%3D%20%24error%5B0%5D.Exception.GetBaseException%28%29%20%3B%20Write-Warning%20%27The%20Beard%20is%20sad%2C%20we%20have%20an%20error%20-%20%24err%27%7D \\u000D %22%7D\">Run the Test-DbaConnection code</a> \r\n",
                "\r\n",
                "In the credential prompt enter Password0! (or a different password if you have altered the docker-compose file)\r\n",
                ""
            ],
            "metadata": {
                "azdata_cell_guid": "3df0987e-395a-46ec-bba2-804dcac5530e"
            }
        },
        {
            "cell_type": "markdown",
            "source": [
                "## Restore the database from the backup\r\n",
                "\r\n",
                "<a href=\"command:workbench.action.terminal.focus\">Click this link to open a new terminal if needed</a>\r\n",
                "\r\n",
                "and then \r\n",
                "\r\n",
                "<a href=\"command:workbench.action.terminal.sendSequence?%7B%22text%22%3A%22 %24cred%20%3D%20Get-Credential -Message%20%27Enter%20SA%20password %20for%20container%27%20sa \\u000D Restore-DbaDatabase -SqlInstance %27localhost%2C15594%27 -SqlCredential %24cred -Path %2Fvar%2Fopt%2Fmssql%2Fbackups%2FValidationResults-201942-13-13-57.bak -WithReplace \\u000D %22%7D\">Run the Restore-DBaDatabase code</a> \r\n",
                "\r\n",
                "In the credential prompt enter Password0! (or a different password if you have altered the docker-compose file)"
            ],
            "metadata": {
                "azdata_cell_guid": "f5edccaa-c598-49d8-9393-42264f669d06"
            }
        },
        {
            "cell_type": "code",
            "source": [
                "/*Resets the date for the demo*/\r\n",
                "USE [ValidationResults]\r\n",
                "GO\r\n",
                "\r\n",
                "UPDATE [dbachecks].[Prod_dbachecks_summary]\r\n",
                "   SET [TestDate] = GETDATE()\r\n",
                " WHERE SummaryID = 7\r\n",
                "GO\r\n",
                "\r\n",
                "UPDATE [dbachecks].[Prod_dbachecks_summary]\r\n",
                "   SET [TestDate] = DATEADD(day,-1,GetDAte())\r\n",
                " WHERE SummaryID = 6\r\n",
                "GO\r\n",
                "\r\n",
                "UPDATE [dbachecks].[Prod_dbachecks_summary]\r\n",
                "   SET [TestDate] = DATEADD(day,-2,GetDAte())\r\n",
                " WHERE SummaryID = 5\r\n",
                " GO\r\n",
                " \r\n",
                "UPDATE [dbachecks].[Prod_dbachecks_summary]\r\n",
                "   SET [TestDate] = DATEADD(day,-3,GetDAte())\r\n",
                " WHERE SummaryID = 4\r\n",
                " GO\r\n",
                " \r\n",
                "UPDATE [dbachecks].[Prod_dbachecks_summary]\r\n",
                "   SET [TestDate] = DATEADD(day,-4,GetDAte())\r\n",
                " WHERE SummaryID = 3\r\n",
                " GO\r\n",
                "\r\n",
                " \r\n",
                "UPDATE [dbachecks].[Prod_dbachecks_summary]\r\n",
                "   SET [TestDate] = DATEADD(day,-5,GetDAte())\r\n",
                " WHERE SummaryID = 2\r\n",
                " GO\r\n",
                "\r\n",
                " \r\n",
                "UPDATE [dbachecks].[Prod_dbachecks_summary]\r\n",
                "   SET [TestDate] = DATEADD(day,-6,GetDAte())\r\n",
                " WHERE SummaryID = 1\r\n",
                " GO\r\n",
                ""
            ],
            "metadata": {
                "azdata_cell_guid": "6b4a948d-e8fa-4297-89ac-72f99cba426c"
            },
            "outputs": [],
            "execution_count": 1
        },
        {
            "cell_type": "markdown",
            "source": [
                "Lets list the Checks that we have and the descriptions"
            ],
            "metadata": {
                "azdata_cell_guid": "c5ee9ccb-db68-4678-9895-292abfe6ac49"
            }
        },
        {
            "cell_type": "code",
            "source": [
                "USE [ValidationResults]\r\n",
                "GO\r\n",
                "SELECT \r\n",
                "UniqueTag AS 'Check',  \r\n",
                "Description\r\n",
                "FROM dbachecks.Checks"
            ],
            "metadata": {
                "azdata_cell_guid": "9e849b75-1732-4a94-935e-a64b64bc812d"
            },
            "outputs": [],
            "execution_count": 2
        },
        {
            "cell_type": "markdown",
            "source": [
                "I want to see the total number of checks that passed and failed by date"
            ],
            "metadata": {
                "azdata_cell_guid": "896e2275-363f-40a2-8cb0-fffa5022c683"
            }
        },
        {
            "cell_type": "code",
            "source": [
                "USE [ValidationResults]\r\n",
                "GO\r\n",
                "SELECT \r\n",
                "TestDate,\r\n",
                "TotalCount AS 'Total Checks',\r\n",
                "PassedCount AS Passed,\r\n",
                "FailedCount AS Failed,\r\n",
                "SkippedCount AS Skipped\r\n",
                "FROM dbachecks.Prod_dbachecks_summary\r\n",
                ""
            ],
            "metadata": {
                "azdata_cell_guid": "57cbcbce-caa3-40a4-bf46-cc9fac93c526"
            },
            "outputs": [],
            "execution_count": 3
        },
        {
            "cell_type": "markdown",
            "source": [
                "What are todays failures ?"
            ],
            "metadata": {
                "azdata_cell_guid": "f0cab307-2382-4558-8613-70072061090e"
            }
        },
        {
            "cell_type": "code",
            "source": [
                "SELECT \r\n",
                "d.Name,\r\n",
                "ErrorRecord\r\n",
                "FROM dbachecks.Prod_dbachecks_detail d\r\n",
                "JOIN\r\n",
                "dbachecks.Prod_dbachecks_summary s\r\n",
                "ON\r\n",
                "d.SummaryID = S.SummaryID\r\n",
                "WHERE\r\n",
                "s.TestDate = Convert(date, GetDate())\r\n",
                "AND\r\n",
                "d.Passed = 0\r\n",
                "ORDER BY d.Name\r\n",
                ""
            ],
            "metadata": {
                "azdata_cell_guid": "f814cd7c-d42f-4487-8a6b-19afbf3e1150"
            },
            "outputs": [],
            "execution_count": 4
        },
        {
            "cell_type": "markdown",
            "source": [
                "Which instance had the most failures today ?"
            ],
            "metadata": {
                "azdata_cell_guid": "6cc734ad-94d5-4b00-9bd0-dd3b177336eb"
            }
        },
        {
            "cell_type": "code",
            "source": [
                "; With CTE AS (\r\n",
                "SELECT \r\n",
                "DetailID,\r\n",
                "RIGHT(Context, charindex(' ', reverse(Context) + ' ') - 1) AS SqlInstance\r\n",
                "FROM dbachecks.Prod_dbachecks_detail\r\n",
                ") \r\n",
                "SELECT \r\n",
                "CTE.SqlInstance,\r\n",
                "COUNT(d.DetailID) AS 'Failed Checks'\r\n",
                "FROM dbachecks.Prod_dbachecks_detail d\r\n",
                "JOIN CTE\r\n",
                "ON CTE.DetailID = d.DetailID\r\n",
                "JOIN\r\n",
                "dbachecks.Prod_dbachecks_summary s\r\n",
                "ON\r\n",
                "d.SummaryID = S.SummaryID\r\n",
                "WHERE\r\n",
                "s.TestDate = Convert(date, GetDate())\r\n",
                "AND\r\n",
                "d.Passed = 0\r\n",
                "GROUP BY CTE.SqlInstance"
            ],
            "metadata": {
                "azdata_cell_guid": "1bd0fc72-26ac-486e-9d7b-aef8d177ec76"
            },
            "outputs": [],
            "execution_count": 5
        },
        {
            "cell_type": "markdown",
            "source": [
                "Todays failures by instance and context"
            ],
            "metadata": {
                "azdata_cell_guid": "5b3a7bc1-e6e8-4c4a-86ed-7980ce545344"
            }
        },
        {
            "cell_type": "code",
            "source": [
                "; With CTE AS (\r\n",
                "SELECT \r\n",
                "DetailID,\r\n",
                "RIGHT(Context, charindex(' ', reverse(Context) + ' ') - 1) AS SqlInstance\r\n",
                "FROM dbachecks.Prod_dbachecks_detail\r\n",
                ") \r\n",
                "SELECT \r\n",
                "CTE.SqlInstance,\r\n",
                "d.Context,\r\n",
                "COUNT(d.DetailID) AS 'Failed Checks'\r\n",
                "FROM dbachecks.Prod_dbachecks_detail d\r\n",
                "JOIN CTE\r\n",
                "ON CTE.DetailID = d.DetailID\r\n",
                "JOIN\r\n",
                "dbachecks.Prod_dbachecks_summary s\r\n",
                "ON\r\n",
                "d.SummaryID = S.SummaryID\r\n",
                "WHERE\r\n",
                "s.TestDate = Convert(date, GetDate())\r\n",
                "AND\r\n",
                "d.Passed = 0\r\n",
                "GROUP BY CTE.SqlInstance,d.Context\r\n",
                "ORDER BY CTE.SqlInstance, [Failed Checks] DESC"
            ],
            "metadata": {
                "azdata_cell_guid": "973dd7b0-897a-486b-a7df-ec2bcd2edc39"
            },
            "outputs": [],
            "execution_count": 6
        },
        {
            "cell_type": "markdown",
            "source": [
                "Number of failures by date, instance and context"
            ],
            "metadata": {
                "azdata_cell_guid": "4fe210de-bcdb-4f41-ade7-0ec52d234dd8"
            }
        },
        {
            "cell_type": "code",
            "source": [
                "; With CTE AS (\r\n",
                "SELECT \r\n",
                "DetailID,\r\n",
                "RIGHT(Context, charindex(' ', reverse(Context) + ' ') - 1) AS SqlInstance\r\n",
                "FROM dbachecks.Prod_dbachecks_detail\r\n",
                ") \r\n",
                "SELECT \r\n",
                "s.TestDate,\r\n",
                "CTE.SqlInstance,\r\n",
                "d.Context,\r\n",
                "COUNT(d.DetailID) AS 'Failed Checks'\r\n",
                "FROM dbachecks.Prod_dbachecks_detail d\r\n",
                "JOIN CTE\r\n",
                "ON CTE.DetailID = d.DetailID\r\n",
                "JOIN\r\n",
                "dbachecks.Prod_dbachecks_summary s\r\n",
                "ON\r\n",
                "d.SummaryID = S.SummaryID\r\n",
                "WHERE\r\n",
                "d.Passed = 0\r\n",
                "GROUP BY s.TestDate,CTE.SqlInstance,d.Context\r\n",
                "ORDER BY CTE.SqlInstance, [Failed Checks] DESC"
            ],
            "metadata": {
                "azdata_cell_guid": "f0725b94-bc2a-4118-9df2-eeb20b34bba3"
            },
            "outputs": [],
            "execution_count": 7
        },
        {
            "cell_type": "markdown",
            "source": [
                "This is just a quick example of some of the things in the dbachecks ValidationResults database - What more can you do ?"
            ],
            "metadata": {
                "azdata_cell_guid": "e002e120-4c5e-4904-be40-f4b35a22cc0e"
            }
        },
        {
            "cell_type": "markdown",
            "source": [
                "# Power Bi Report\r\n",
                "\r\n",
                "I have written a Power Bi Report in addition to the standard dbachecks one. \r\n",
                "\r\n",
                "<a href=\"command:workbench.action.terminal.sendSequence?%7B%22text%22%3A%22 Invoke-Item .%5c%5cHistorical-Validation-dropdown-colourblindfriendlier.pbix \\u000D \\u000D %22%7D\">Open the Power Bi Report</a>\r\n",
                "\r\n",
                ""
            ],
            "metadata": {
                "azdata_cell_guid": "4ba6f115-2da4-4e1b-8905-7c23d503d809"
            }
        }
    ]
}