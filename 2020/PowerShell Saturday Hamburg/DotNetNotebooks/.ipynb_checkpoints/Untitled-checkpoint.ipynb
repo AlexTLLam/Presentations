{
 "cells": [
  {
   "cell_type": "markdown",
   "metadata": {},
   "source": [
    "# A .NET notebook\n",
    "\n",
    "This works in the same way but you use the browser to access it\n"
   ]
  },
  {
   "cell_type": "code",
   "execution_count": null,
   "metadata": {},
   "outputs": [],
   "source": [
    "$PSVersionTable"
   ]
  },
  {
   "cell_type": "markdown",
   "metadata": {},
   "source": [
    "# Lets see the Modules"
   ]
  },
  {
   "cell_type": "code",
   "execution_count": null,
   "metadata": {},
   "outputs": [],
   "source": [
    "Get-Module -ListAvailable"
   ]
  },
  {
   "cell_type": "markdown",
   "metadata": {},
   "source": [
    "Interesting - Lets run a Pester TEst"
   ]
  },
  {
   "cell_type": "code",
   "execution_count": null,
   "metadata": {},
   "outputs": [],
   "source": [
    "## <----- Press this button - DONT MAKE A BEARD MAD BY CHANGING ANYTHING below here\n",
    "\n",
    "Describe \"Checking Problem ...... by $($ENV:USERDOMAIN) $($ENV:UserName)\" {\n",
    "    Context \" Are all the services running ?\" {\n",
    "        $Services = 'Audiosrv','BITS','com.docker.service','EventLog','MSSQLSERVER', 'Spooler'\n",
    "        foreach($Service in $Services){\n",
    "            It \"The Service $Service should be running\" {\n",
    "                (Get-Service -ComputerName localhost -Name $Service).Status | Should -Be 'Running' -Because \"Service XXXX requires the service $Service to be running\"\n",
    "            }\n",
    "        }\n",
    "    }\n",
    "}"
   ]
  },
  {
   "cell_type": "markdown",
   "metadata": {},
   "source": [
    "Hmmm"
   ]
  },
  {
   "cell_type": "code",
   "execution_count": null,
   "metadata": {},
   "outputs": [],
   "source": [
    "ipmo Pester"
   ]
  },
  {
   "cell_type": "code",
   "execution_count": null,
   "metadata": {},
   "outputs": [],
   "source": [
    "Get-Module CimCmdlets -ListAvailable"
   ]
  },
  {
   "cell_type": "markdown",
   "metadata": {},
   "source": [
    "So we only have access to some of the default modules - There is an issue open on Github https://github.com/dotnet/interactive/issues/136\n",
    "\n",
    "But we have the module anyways - use windows terminal to find it"
   ]
  },
  {
   "cell_type": "code",
   "execution_count": null,
   "metadata": {},
   "outputs": [],
   "source": [
    "IPMO 'C:\\program files\\powershell\\7-preview\\Modules\\CimCmdlets\\CimCmdlets.psd1'"
   ]
  },
  {
   "cell_type": "code",
   "execution_count": null,
   "metadata": {},
   "outputs": [],
   "source": [
    "ipmo Pester"
   ]
  },
  {
   "cell_type": "code",
   "execution_count": null,
   "metadata": {},
   "outputs": [],
   "source": [
    "Describe \"Checking Problem ...... by $($ENV:USERDOMAIN) $($ENV:UserName)\" {\n",
    "    Context \" Are all the services running ?\" {\n",
    "        $Services = 'Audiosrv','BITS','com.docker.service','EventLog','MSSQLSERVER', 'Spooler'\n",
    "        foreach($Service in $Services){\n",
    "            It \"The Service $Service should be running\" {\n",
    "                (Get-Service -Name $Service).Status | Should -Be 'Running' -Because \"Service XXXX requires the service $Service to be running\"\n",
    "            }\n",
    "        }\n",
    "    }\n",
    "}"
   ]
  }
 ],
 "metadata": {
  "kernelspec": {
   "display_name": ".NET (PowerShell)",
   "language": "PowerShell",
   "name": ".net-powershell"
  },
  "language_info": {
   "file_extension": ".ps1",
   "mimetype": "text/x-powershell",
   "name": "PowerShell",
   "pygments_lexer": "powershell",
   "version": "7.0"
  }
 },
 "nbformat": 4,
 "nbformat_minor": 2
}
