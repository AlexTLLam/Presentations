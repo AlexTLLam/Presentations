{
 "cells": [
  {
   "cell_type": "markdown",
   "metadata": {
    "azdata_cell_guid": "417c67ae-8d69-4be2-9b09-d6178d5c2da6"
   },
   "source": [
    "![First Power Bi](.\\images\\dbachecks-logo.png )\n",
    "# Setting up the containers for the rest of the dbachecks notebooks\n",
    "\n",
    "To be able to follow along with the rest of the notebooks, you will need to set up two containers. \n",
    "\n",
    "This notebook will enable you to do that.\n",
    "\n",
    "You will need to have Docker installed. The image is based on the SQL Server 2019 image so you will need to have docker set to use Linux Containers. Right click on the Docker icon in the notification area and if it says \"Switch to Linux Containers\" click to switch and wait for Docker to restart.  \n",
    "\n",
    "![Switch To Linux Containers](.\\images\\switchtolinuxcontainers.png )\n",
    "\n",
    "You will be able to run all of the code in the notebooks by creating the folder, credential and containers in this notebook and then you can click on the play button in each code block to run the code. Note - There are a few code blocks with the results already included which should not be run. They are to show you the results of a command that cannot be run against containers (setting up configuration for domain accounts for example)\n"
   ]
  },
  {
   "cell_type": "markdown",
   "metadata": {
    "azdata_cell_guid": "1dc8ffc9-2c1a-4a93-bfcf-bc52f587df30"
   },
   "source": [
    "## Create the folders and the credential\n",
    "\n",
    "The code below will create a directory called dbachecks-demo in your Documents folder and save a credential file for logging into the containers. You can alter the directory created by altering the $FolderPath but you will have to do this in every notebook."
   ]
  },
  {
   "cell_type": "code",
   "execution_count": 1,
   "metadata": {
    "azdata_cell_guid": "05f101cc-6fe4-4f97-9e2a-88230ffa5462",
    "tags": [
     "hide_input"
    ]
   },
   "outputs": [],
   "source": [
    "$FolderPath = $Env:USERPROFILE + '\\Documents\\dbachecks'\n",
    "\n",
    "########################################################\n",
    "Write-Output \"Creating Directory $FolderPath\"\n",
    "if(Test-Path $FolderPath){\n",
    "    Write-Output \"Path $FolderPath exists already\"\n",
    "}else {\n",
    "    New-Item $FolderPath -ItemType Directory\n",
    "}\n",
    "Write-Output \"Creating a credential file for the containers - Please don't do this in production\"\n",
    "\n",
    "$sqladminPassword = ConvertTo-SecureString 'dbatools.IO' -AsPlainText -Force \n",
    "$cred = New-Object System.Management.Automation.PSCredential ('sqladmin', $sqladminpassword)\n",
    "$Cred | Export-Clixml -Path $FolderPath\\sqladmin.cred\n",
    "Write-Output \"Credential file created\""
   ]
  },
  {
   "cell_type": "markdown",
   "metadata": {
    "azdata_cell_guid": "47c883a8-f396-492c-8ed1-05acc981aeae"
   },
   "source": [
    "## Containers\n",
    "\n",
    "We are going to create two SQL 2019 containers using the sqldbawithabeard\\dbachecks [image from the Docker Hub](https://hub.docker.com/repository/docker/sqldbawithabeard/dbachecksdemo). \n",
    "\n",
    "Please copy the docker-compose.yml file from the folder that the Notebooks are in into the directory that was created above.\n",
    "\n",
    "The first time it is going to pull the image sqldbawithabeard/dbachecksdemo from the Docker Hub. If you wish to do this first, you can run \n",
    "\n",
    "`docker pull sqldbawithabeard/dbachecksdemo`\n"
   ]
  },
  {
   "cell_type": "code",
   "execution_count": 1,
   "metadata": {
    "azdata_cell_guid": "63ae3fba-d0af-4226-9a2e-1ec9f92b76dd",
    "tags": []
   },
   "outputs": [
    {
     "data": {
      "text/html": [
       "<pre>dbachecks_SQL2019_1 is up-to-date</pre>\r\n"
      ]
     },
     "metadata": {},
     "output_type": "display_data"
    },
    {
     "data": {
      "text/html": [
       "<pre>dbachecks_SQL2019-1_1 is up-to-date</pre>\r\n"
      ]
     },
     "metadata": {},
     "output_type": "display_data"
    }
   ],
   "source": [
    "$FolderPath = $Env:USERPROFILE + '\\Documents\\dbachecks'\n",
    "Set-Location $FolderPath\n",
    "docker-compose up -d"
   ]
  }
 ],
 "metadata": {
  "kernelspec": {
   "display_name": ".NET (PowerShell)",
   "language": "PowerShell",
   "name": ".net-powershell"
  },
  "language_info": {
   "file_extension": ".ps1",
   "mimetype": "text/x-powershell",
   "name": "PowerShell",
   "pygments_lexer": "powershell",
   "version": "7.0"
  }
 },
 "nbformat": 4,
 "nbformat_minor": 4
}
