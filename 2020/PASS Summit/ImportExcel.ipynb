{
    "metadata": {
        "kernelspec": {
            "name": "powershell",
            "display_name": "PowerShell"
        },
        "language_info": {
            "name": "powershell",
            "codemirror_mode": "shell",
            "mimetype": "text/x-sh",
            "file_extension": ".ps1"
        }
    },
    "nbformat_minor": 2,
    "nbformat": 4,
    "cells": [
        {
            "cell_type": "markdown",
            "source": [
                "# ImportExcel Module\n",
                "\n",
                "Started by Doug Finke with significant input from James O'Neill, ImportExcel enables automation of Excel workbooks\n",
                "\n",
                "## Installation\n",
                "Lets start by installing it (we will also check that you have dbatools too!)"
            ],
            "metadata": {
                "azdata_cell_guid": "594c3be1-b38f-4fcb-a12b-c032eb610f8f"
            }
        },
        {
            "cell_type": "code",
            "source": [
                "$Modules = 'ImportExcel','dbatools'\r\n",
                "foreach($Module in $Modules){\r\n",
                "    if(Get-Module $Module -ListAvailable -ErrorAction SilentlyContinue){\r\n",
                "        Write-Output \"We will update the module $Module\"\r\n",
                "        Update-Module $Module\r\n",
                "    } else {\r\n",
                "        Write-Output \"We will install the module $Module\"\r\n",
                "        Install-Module $Module -Scope CurrentUser\r\n",
                "    }\r\n",
                "}\r\n",
                ""
            ],
            "metadata": {
                "azdata_cell_guid": "e5e5b050-6176-4d40-b035-34c9905ba4fe",
                "tags": [
                    "hide_input"
                ]
            },
            "outputs": [],
            "execution_count": null
        },
        {
            "cell_type": "markdown",
            "source": [
                "## Listing the commands\r\n",
                "\r\n",
                "The module has a significant number of commands"
            ],
            "metadata": {
                "azdata_cell_guid": "e84e54e3-5a66-4cb3-83d1-9a478ddee797"
            }
        },
        {
            "cell_type": "code",
            "source": [
                "Get-Command -Module ImportExcel"
            ],
            "metadata": {
                "azdata_cell_guid": "a004fcfd-a51a-4d76-80e7-d5ffc7a7d59f"
            },
            "outputs": [],
            "execution_count": null
        },
        {
            "cell_type": "markdown",
            "source": [
                "## Start with something easy\n",
                "\n",
                "Let's start of by showing the power of PowerShell and the ImportExcel module\n",
                "\n",
                "First lets get the logins on an instance with dbatools"
            ],
            "metadata": {
                "azdata_cell_guid": "fe7a23c9-4f8a-48cf-8fad-95048ca3be04"
            }
        },
        {
            "cell_type": "code",
            "source": [
                "Get-DbaLogin -SqlInstance localhost | Format-Table"
            ],
            "metadata": {
                "azdata_cell_guid": "d29110c6-12d3-4d75-89ba-e1b13ad0d654"
            },
            "outputs": [],
            "execution_count": null
        },
        {
            "cell_type": "markdown",
            "source": [
                "Of course, your user wants them in Excel!!\n",
                "\n",
                "With ImportExcel Module, this is easy"
            ],
            "metadata": {
                "azdata_cell_guid": "378e0cce-763a-421a-b2f3-297e3770871b"
            }
        },
        {
            "cell_type": "code",
            "source": [
                "Get-DbaLogin -SqlInstance localhost | Export-Excel -Path C:\\temp\\xlsx\\Logins.xlsx\r\n",
                "Invoke-Item C:\\temp\\xlsx\\Logins.xlsx"
            ],
            "metadata": {
                "azdata_cell_guid": "6060475b-97db-47ff-98ac-323ba0c2f196"
            },
            "outputs": [],
            "execution_count": null
        },
        {
            "cell_type": "markdown",
            "source": [
                "Thats cool, <u>but we want more</u>.\n",
                "\n",
                "It would be good to auto format the columns so that they fit"
            ],
            "metadata": {
                "azdata_cell_guid": "fe348815-95f9-4f58-9046-7157dbdafdc2"
            }
        },
        {
            "cell_type": "code",
            "source": [
                "Get-DbaLogin -SqlInstance localhost | Export-Excel -Path C:\\temp\\xlsx\\Logins.xlsx -AutoSize\r\n",
                "Invoke-Item C:\\temp\\xlsx\\Logins.xlsx"
            ],
            "metadata": {
                "azdata_cell_guid": "7e9af96a-9a7f-4ffe-9857-290e210558e0"
            },
            "outputs": [],
            "execution_count": null
        },
        {
            "cell_type": "markdown",
            "source": [
                " Thats neat but I want to be able to filter by the columns"
            ],
            "metadata": {
                "azdata_cell_guid": "5aec1a0a-34b3-48e9-b92a-abb15ff64e50"
            }
        },
        {
            "cell_type": "code",
            "source": [
                "Get-DbaLogin -SqlInstance localhost | Export-Excel -Path C:\\temp\\xlsx\\Logins.xlsx -AutoSize -AutoFilter\r\n",
                "Invoke-Item C:\\temp\\xlsx\\Logins.xlsx"
            ],
            "metadata": {
                "azdata_cell_guid": "5d389cd9-887f-4588-8b9e-092dc7db3748"
            },
            "outputs": [],
            "execution_count": null
        },
        {
            "cell_type": "markdown",
            "source": [
                "I want a title and to be able to name the worksheet\n",
                "\n",
                "and I want it to just open with one line"
            ],
            "metadata": {
                "azdata_cell_guid": "7d22d1fd-1c4d-4fb5-a4ac-fda519b9e259"
            }
        },
        {
            "cell_type": "code",
            "source": [
                "Get-DbaLogin -SqlInstance localhost | Export-Excel -Path C:\\temp\\xlsx\\Logins.xlsx -AutoSize -AutoFilter -Title \"The Logins\" -WorksheetName \"Logins\" -Show "
            ],
            "metadata": {
                "azdata_cell_guid": "f8804fa9-7a82-4ea7-8072-fad7ec948ebb"
            },
            "outputs": [],
            "execution_count": null
        },
        {
            "cell_type": "markdown",
            "source": [
                "Hang on a minute, what happened there?\n",
                "\n",
                "It created a new worksheet and added it onto the existing workbook but it made it second\n",
                "\n",
                "Lets fix that with the `MoveToStart` parameter, We'll make the background yellow so its obvious"
            ],
            "metadata": {
                "azdata_cell_guid": "b29eeaa2-1a0c-4a1d-ae7e-7b4eef06320d"
            }
        },
        {
            "cell_type": "code",
            "source": [
                "Get-DbaLogin -SqlInstance localhost | Export-Excel -Path C:\\temp\\xlsx\\Logins.xlsx -AutoSize -AutoFilter -Title \"The Logins\" -WorksheetName \"Logins\" -MoveToStart -TitleBackgroundColor yellow -FreezeTopRow -Show "
            ],
            "metadata": {
                "azdata_cell_guid": "2694e534-3b3f-4a11-8937-a7777daf6248"
            },
            "outputs": [],
            "execution_count": null
        },
        {
            "cell_type": "markdown",
            "source": [
                "## Use cases\r\n",
                "\r\n",
                "This is really neat, its a simple way of getting the results of any PowerShell command, quickly and easily into an Excel sheet for sorting\r\n",
                "\r\n",
                "### Services"
            ],
            "metadata": {
                "azdata_cell_guid": "4b4836a2-af63-47bd-9408-a0f14c229c1f"
            }
        },
        {
            "cell_type": "code",
            "source": [
                "Get-Service | Export-Excel -Path C:\\temp\\xlsx\\Services.xlsx -AutoSize -AutoFilter -WorksheetName \"Services\" -MoveToStart -FreezeTopRow -Show "
            ],
            "metadata": {
                "azdata_cell_guid": "0c0e72b2-9c5d-4290-a4ab-3026111155a6"
            },
            "outputs": [],
            "execution_count": null
        },
        {
            "cell_type": "markdown",
            "source": [
                "### Processes\n",
                "\n",
                "This takes a little minute"
            ],
            "metadata": {
                "azdata_cell_guid": "32830f9c-e065-4da1-8fd9-110431e00963"
            }
        },
        {
            "cell_type": "code",
            "source": [
                "Get-Process | Export-Excel -Path C:\\temp\\xlsx\\Processes.xlsx -AutoSize -AutoFilter -WorksheetName \"Processes\" -MoveToStart -FreezeTopRow -Show "
            ],
            "metadata": {
                "azdata_cell_guid": "d2f9ba3f-b744-477c-9662-36b4e7912915"
            },
            "outputs": [],
            "execution_count": null
        },
        {
            "cell_type": "markdown",
            "source": [
                "### Event Logs"
            ],
            "metadata": {
                "azdata_cell_guid": "0ff3f569-bf6d-4510-904e-b52bdc0816f0"
            }
        },
        {
            "cell_type": "code",
            "source": [
                "Get-WinEvent -LogName System -MaxEvents 100  | Export-Excel -Path C:\\temp\\xlsx\\EventLogs.xlsx -AutoSize -AutoFilter -WorksheetName \"System\" -MoveToStart -FreezeTopRow \r\n",
                "Get-WinEvent -LogName Application -MaxEvents 100  | Export-Excel -Path C:\\temp\\xlsx\\EventLogs.xlsx -AutoSize -AutoFilter -WorksheetName \"Application\" -MoveToStart -FreezeTopRow -Show"
            ],
            "metadata": {
                "azdata_cell_guid": "c15bbd35-8c24-49ec-acab-f23e3ff40578"
            },
            "outputs": [],
            "execution_count": null
        },
        {
            "cell_type": "markdown",
            "source": [
                "###  SQL Error Logs"
            ],
            "metadata": {
                "azdata_cell_guid": "2012117a-b820-49d7-b547-86dbcfdaf16c"
            }
        },
        {
            "cell_type": "code",
            "source": [
                "Get-DbaErrorLog -SqlInstance localhost  | Export-Excel -Path C:\\temp\\xlsx\\SQLErrorLogs.xlsx -AutoSize -AutoFilter -WorksheetName \"SQL Error Logs\" -MoveToStart -FreezeTopRow -Show\r\n",
                ""
            ],
            "metadata": {
                "azdata_cell_guid": "628834b1-8b06-4497-97e4-afb0ee11cfa5"
            },
            "outputs": [],
            "execution_count": null
        },
        {
            "cell_type": "markdown",
            "source": [
                "## How About doing it all in one ?"
            ],
            "metadata": {
                "azdata_cell_guid": "f65ddcff-f9fb-4320-82c2-80483b7bd24a"
            }
        },
        {
            "cell_type": "code",
            "source": [
                "Get-Service | Export-Excel -Path C:\\temp\\xlsx\\Incident.xlsx -AutoSize -AutoFilter -WorksheetName \"Services\" -MoveToStart -FreezeTopRow\r\n",
                "#Get-Process | Export-Excel -Path C:\\temp\\xlsx\\Incident.xlsx -AutoSize -AutoFilter -WorksheetName \"Processes\" -MoveToStart -FreezeTopRow\r\n",
                "'just a dummy entry' | Export-Excel -Path C:\\temp\\xlsx\\Incident.xlsx -AutoSize -AutoFilter -WorksheetName \"Processes\" -MoveToStart -FreezeTopRow\r\n",
                "Get-WinEvent -LogName System -MaxEvents 100  | Export-Excel -Path C:\\temp\\xlsx\\Incident.xlsx -AutoSize -AutoFilter -WorksheetName \"System\" -MoveToStart -FreezeTopRow\r\n",
                "Get-WinEvent -LogName Application -MaxEvents 100  | Export-Excel -Path C:\\temp\\xlsx\\Incident.xlsx -AutoSize -AutoFilter -WorksheetName \"Application\" -MoveToStart -FreezeTopRow\r\n",
                "Get-DbaErrorLog -SqlInstance localhost  | Export-Excel -Path C:\\temp\\xlsx\\Incident.xlsx -AutoSize -AutoFilter -WorksheetName \"SQL Error Logs\" -MoveToStart -FreezeTopRow -Show\r\n",
                ""
            ],
            "metadata": {
                "azdata_cell_guid": "6dd21576-e49d-4cbc-b10d-431f4153e160"
            },
            "outputs": [],
            "execution_count": null
        },
        {
            "cell_type": "markdown",
            "source": [
                "## More Information needed\r\n",
                "\r\n",
                "So thats useful but how about if we add a front page which gives some more information?"
            ],
            "metadata": {
                "azdata_cell_guid": "a6369b59-c330-47c0-ae97-0581fccdf420"
            }
        },
        {
            "cell_type": "code",
            "source": [
                "$SqlInstance = 'Beard-Desktop'\r\n",
                "$Date = Get-Date -Format yyyyMMdd\r\n",
                "$Directory = 'C:\\temp\\xlsx\\'\r\n",
                "$ExcelFile = $Directory + $Date + '_Incident_For_' + $SqlInstance + '.xlsx'\r\n",
                "\r\n",
                "Get-Service | Export-Excel -Path $ExcelFile -AutoSize -AutoFilter -WorksheetName \"Services\" -MoveToStart -FreezeTopRow\r\n",
                "#Get-Process | Export-Excel -Path $ExcelFile -AutoSize -AutoFilter -WorksheetName \"Processes\" -MoveToStart -FreezeTopRow\r\n",
                "'just a dummy entry' | Export-Excel -Path $ExcelFile -AutoSize -AutoFilter -WorksheetName \"Processes\" -MoveToStart -FreezeTopRow\r\n",
                "Get-WinEvent -LogName System -MaxEvents 100  | Export-Excel -Path $ExcelFile -AutoSize -AutoFilter -WorksheetName \"System\" -MoveToStart -FreezeTopRow\r\n",
                "Get-WinEvent -LogName Application -MaxEvents 100  | Export-Excel -Path $ExcelFile -AutoSize -AutoFilter -WorksheetName \"Application\" -MoveToStart -FreezeTopRow\r\n",
                "Get-DbaErrorLog -SqlInstance localhost  | Export-Excel -Path $ExcelFile -AutoSize -AutoFilter -WorksheetName \"SQL Error Logs\" -MoveToStart -FreezeTopRow \r\n",
                "\r\n",
                "$Excel = Open-ExcelPackage -Path $ExcelFile\r\n",
                "Add-Worksheet -ExcelPackage $Excel -WorksheetName 'Title' -MoveToStart | Out-Null\r\n",
                "\r\n",
                "$TitleSheet = $excel.Workbook.Worksheets['Title']\r\n",
                "$Date = (Get-Date).ToLongDateString()\r\n",
                "$TitleSheet.Cells[\"A1\"].value = \"This Worksheet shows the System Event Log, Application Event Log, Services,Processes and SQL Error Log for $sqlinstance at $Date \"\r\n",
                "Set-ExcelRange -Worksheet $TitleSheet -Range \"A:1\" -Bold -FontSize 22 -Underline -UnderLineType Double\r\n",
                "\r\n",
                "Close-ExcelPackage $excel\r\n",
                "\r\n",
                "Write-Output \"                ###############                  \"\r\n",
                "Write-Output \"        FileName is $ExcelFile            \"\r\n",
                "Write-Output \"                ###############                  \"\r\n",
                "Write-Output \"\"\r\n",
                "\r\n",
                "Invoke-Item $ExcelFile"
            ],
            "metadata": {
                "azdata_cell_guid": "b7ace136-a597-43b8-bd66-ff0dd142ca09",
                "tags": []
            },
            "outputs": [],
            "execution_count": null
        },
        {
            "cell_type": "markdown",
            "source": [
                "## Charts and Pivot Tables\r\n",
                "\r\n",
                "So we have made a good start but we know that users will want there to be pictures as well as data.\r\n",
                "\r\n",
                "Lets get some data from the Bicycle Manufacturer"
            ],
            "metadata": {
                "azdata_cell_guid": "db8686f2-4298-40e0-a3cf-74747d9acf3f"
            }
        },
        {
            "cell_type": "code",
            "source": [
                "$Query = \"SELECT Top 25000 PROD.Name, \r\n",
                "OrdHead.OrderDate ,\r\n",
                "Details.OrderQty\r\n",
                "FROM Sales.SalesOrderDetail AS Details\r\n",
                "INNER JOIN Production.Product AS PROD ON Details.ProductID = PROD.ProductID\r\n",
                "INNER JOIN Sales.SalesOrderHeader AS OrdHead ON Details.SalesOrderID = OrdHead.SalesOrderID\"\r\n",
                "$results = Invoke-DbaQuery -SqlInstance localhost -Database AdventureWorks2017 -Query $Query \r\n",
                "$results | Export-Excel -Path C:\\temp\\xlsx\\query.xlsx -Show"
            ],
            "metadata": {
                "azdata_cell_guid": "ae5f51db-915e-4ebf-b5e9-8bb58d332bcb"
            },
            "outputs": [],
            "execution_count": null
        },
        {
            "cell_type": "markdown",
            "source": [
                "Thats a bit annoying but it is due to the datatable object that is returned. We can fix that using `Select * -ExcludeProperty ItemArray, RowError, RowState, Table, HasErrors`"
            ],
            "metadata": {
                "azdata_cell_guid": "7b7c0be4-446d-4b01-9614-46d0afeae9ca"
            }
        },
        {
            "cell_type": "code",
            "source": [
                "$Query = \"SELECT Top 25000 PROD.Name, \n",
                "OrdHead.OrderDate ,\n",
                "Details.OrderQty\n",
                "FROM Sales.SalesOrderDetail AS Details\n",
                "INNER JOIN Production.Product AS PROD ON Details.ProductID = PROD.ProductID\n",
                "INNER JOIN Sales.SalesOrderHeader AS OrdHead ON Details.SalesOrderID = OrdHead.SalesOrderID\"\n",
                "$results = Invoke-DbaQuery -SqlInstance localhost -Database AdventureWorks2017 -Query $Query  |Select * -ExcludeProperty ItemArray, RowError, RowState, Table, HasErrors\n",
                "$results  | Export-Excel -Path C:\\temp\\xlsx\\query.xlsx -Show"
            ],
            "metadata": {
                "azdata_cell_guid": "12d3fd4e-b8f6-49c8-a550-fdeeed4306e8"
            },
            "outputs": [],
            "execution_count": null
        },
        {
            "cell_type": "markdown",
            "source": [
                "Lets format it nicely again"
            ],
            "metadata": {
                "azdata_cell_guid": "995159a0-515a-49d4-85b1-36c141654878"
            }
        },
        {
            "cell_type": "code",
            "source": [
                "$results | Export-Excel -Path C:\\temp\\xlsx\\formattedquery.xlsx -AutoSize -AutoFilter -WorksheetName 'A Query' -TableName 'BeardsAreAwesome' -TableStyle Dark1 -Show"
            ],
            "metadata": {
                "azdata_cell_guid": "661e5eb0-d3b4-4d1b-9840-6d0d12059b2c"
            },
            "outputs": [],
            "execution_count": null
        },
        {
            "cell_type": "markdown",
            "source": [
                "## Chart\r\n",
                "\r\n",
                "We can create a chart with our data like this"
            ],
            "metadata": {
                "azdata_cell_guid": "3820dba5-2d1a-417b-bd28-74e928a2a18a"
            }
        },
        {
            "cell_type": "code",
            "source": [
                "$Query = \"SELECT  \r\n",
                "YEAR(OrdHead.OrderDate) AS Year,\r\n",
                "SUM(Details.OrderQty) AS TotalSales\r\n",
                "FROM Sales.SalesOrderDetail AS Details\r\n",
                "INNER JOIN Production.Product AS PROD ON Details.ProductID = PROD.ProductID\r\n",
                "INNER JOIN Sales.SalesOrderHeader AS OrdHead ON Details.SalesOrderID = OrdHead.SalesOrderID\r\n",
                "GROUP BY YEAR(OrdHead.OrderDate)\r\n",
                "ORDER BY YEAR(OrdHead.OrderDate) \r\n",
                "\"\r\n",
                "$results = Invoke-DbaQuery -SqlInstance localhost -Database AdventureWorks2017 -Query $Query  |Select * -ExcludeProperty ItemArray, RowError, RowState, Table, HasErrors\r\n",
                "$excel = $results | Export-Excel -Path C:\\temp\\xlsx\\chartedquery.xlsx -AutoSize -AutoFilter -TableName 'BeardsAreAwesome' -TableStyle Dark1 -AutoNameRange  -PassThru \r\n",
                "$chart = New-ExcelChartDefinition -Title BeardyChart -ChartType ColumnClustered -XRange Year -YRange TotalSales  -Column 4 -NoLegend\r\n",
                "Export-Excel -ExcelPackage $excel -ExcelChartDefinition $chart  -Show"
            ],
            "metadata": {
                "azdata_cell_guid": "3c42f9f1-2b7e-4663-b9b6-66f7e36f2b5d"
            },
            "outputs": [],
            "execution_count": null
        },
        {
            "cell_type": "markdown",
            "source": [
                "I'm a DBA, I like doughnuts :-)"
            ],
            "metadata": {
                "azdata_cell_guid": "771d88a1-e30d-4198-9462-8cba2b176a13"
            }
        },
        {
            "cell_type": "code",
            "source": [
                "$Query = \"SELECT  \r\n",
                "YEAR(OrdHead.OrderDate) AS Year,\r\n",
                "SUM(Details.OrderQty) AS TotalSales\r\n",
                "FROM Sales.SalesOrderDetail AS Details\r\n",
                "INNER JOIN Production.Product AS PROD ON Details.ProductID = PROD.ProductID\r\n",
                "INNER JOIN Sales.SalesOrderHeader AS OrdHead ON Details.SalesOrderID = OrdHead.SalesOrderID\r\n",
                "GROUP BY YEAR(OrdHead.OrderDate)\r\n",
                "ORDER BY YEAR(OrdHead.OrderDate) \r\n",
                "\"\r\n",
                "$results = Invoke-DbaQuery -SqlInstance localhost -Database AdventureWorks2017 -Query $Query  |Select * -ExcludeProperty ItemArray, RowError, RowState, Table, HasErrors\r\n",
                "$excel = $results | Export-Excel -Path C:\\temp\\xlsx\\chartedquery.xlsx -AutoSize -AutoFilter -TableName 'BeardsAreAwesome' -TableStyle Dark1 -AutoNameRange  -PassThru \r\n",
                "$chart = New-ExcelChartDefinition -Title 'Beardy Chart of Total Sales By Year' -ChartType Doughnut -XRange Year -YRange TotalSales  -Column 4  -ShowPercent\r\n",
                "Export-Excel -ExcelPackage $excel -ExcelChartDefinition $chart  -Show"
            ],
            "metadata": {
                "azdata_cell_guid": "16073965-8cc4-471d-a6e9-d0eaee087ba4"
            },
            "outputs": [],
            "execution_count": null
        },
        {
            "cell_type": "markdown",
            "source": [
                "## Pivot\r\n",
                "\r\n",
                "We can also create Pivot Tables"
            ],
            "metadata": {
                "azdata_cell_guid": "c6906d74-6d19-4a8b-8a8c-248019fb5937"
            }
        },
        {
            "cell_type": "code",
            "source": [
                "$Query = \"SELECT PROD.Name, \r\n",
                "OrdHead.OrderDate ,\r\n",
                "Details.OrderQty\r\n",
                "FROM Sales.SalesOrderDetail AS Details\r\n",
                "INNER JOIN Production.Product AS PROD ON Details.ProductID = PROD.ProductID\r\n",
                "INNER JOIN Sales.SalesOrderHeader AS OrdHead ON Details.SalesOrderID = OrdHead.SalesOrderID\"\r\n",
                "$results = Invoke-DbaQuery -SqlInstance localhost -Database AdventureWorks2017 -Query $Query  |Select * -ExcludeProperty ItemArray, RowError, RowState, Table, HasErrors\r\n",
                "$excel = $results | Export-Excel -Path C:\\temp\\xlsx\\pivotedquery.xlsx -AutoSize -AutoFilter -WorksheetName 'BaseQuery' -TableName 'BeardsAreAwesome' -TableStyle Dark1 -PassThru\r\n",
                "$PivotTable = New-PivotTableDefinition -PivotTableName BeardyPivot -SourceWorkSheet BaseQuery -PivotData @{\"OrderQty\" = \"Sum\"} -PivotRows OrderDate ,Name \r\n",
                "\r\n",
                "Export-Excel -ExcelPackage $excel -PivotTableDefinition $PivotTable -Show"
            ],
            "metadata": {
                "azdata_cell_guid": "2ebbed14-8740-4c49-8377-2166e4ef97fe"
            },
            "outputs": [],
            "execution_count": null
        },
        {
            "cell_type": "markdown",
            "source": [
                "It would be nice if we could add the Magic date to the Pivot as well"
            ],
            "metadata": {
                "azdata_cell_guid": "76ea5618-7164-4df3-a941-721b7041c93a"
            }
        },
        {
            "cell_type": "code",
            "source": [
                "$excel = $results | Export-Excel -Path C:\\temp\\xlsx\\pivoteddatedquery.xlsx -AutoSize -AutoFilter -WorksheetName 'BaseQuery' -TableName 'BeardsAreAwesome' -TableStyle Dark1 -PassThru\r\n",
                "$PivotTable = New-PivotTableDefinition -PivotTableName BeardyPivot -SourceWorkSheet BaseQuery -PivotData @{\"OrderQty\" = \"Sum\"} -PivotRows OrderDate ,Name -GroupDateRow OrderDate -GroupDatePart Years, Months, Days -PivotTableStyle Medium1 \r\n",
                "\r\n",
                "Export-Excel -ExcelPackage $excel -PivotTableDefinition $PivotTable -Show"
            ],
            "metadata": {
                "azdata_cell_guid": "195a34b6-4f24-40a2-bd8c-ff8aaa85fc34"
            },
            "outputs": [],
            "execution_count": null
        },
        {
            "cell_type": "markdown",
            "source": [
                "and how about a Pivot Chart also just to make it beautiful"
            ],
            "metadata": {
                "azdata_cell_guid": "0b262463-8d7b-44cc-86fd-e5ca75c03a8f"
            }
        },
        {
            "cell_type": "code",
            "source": [
                "$excel = $results | Export-Excel -Path C:\\temp\\xlsx\\pivoteddatedchartedquery.xlsx -AutoSize -AutoFilter -WorksheetName 'BaseQuery' -TableName 'BeardsAreAwesome' -TableStyle Dark1 -PassThru\r\n",
                "$PivotTable = New-PivotTableDefinition -PivotTableName BeardyPivot -SourceWorkSheet BaseQuery -PivotData @{\"OrderQty\" = \"Sum\"} -PivotRows OrderDate ,Name -GroupDateRow OrderDate -GroupDatePart Years, Months, Days -PivotTableStyle Medium1 -IncludePivotChart -ChartTitle BeardyChart -ChartType ColumnClustered \r\n",
                "\r\n",
                "Export-Excel -ExcelPackage $excel -PivotTableDefinition $PivotTable -Show"
            ],
            "metadata": {
                "azdata_cell_guid": "8b19b28f-2e43-4dd1-a731-77583659a2e0"
            },
            "outputs": [],
            "execution_count": null
        },
        {
            "cell_type": "markdown",
            "source": [
                "## Formatting\r\n",
                "\r\n",
                "Excel enables you to do custom formatting. ImportExcel does the same.\r\n",
                "\r\n",
                "Lets check permissions on an instance and colour code the results depending on the role membership"
            ],
            "metadata": {
                "azdata_cell_guid": "76b4d533-dbe1-4359-92c3-f9eb18dc8013"
            }
        },
        {
            "cell_type": "code",
            "source": [
                "$ExcelDirectory = 'c:\\temp\\xlsx\\' # Alter this to the directory you want the file created\r\n",
                "$SQlinstance = 'localhost'  # Alter this for the SQL Instance you want to get permissions for\r\n",
                "\r\n",
                "Write-Output \"Processing $sqlinstance\"\r\n",
                "\r\n",
                "$InstanceName = $SQlinstance.Split('\\').Split('.').Split('\\').Split(',') -join '_'\r\n",
                "$ExcelFile = $ExcelDirectory + '\\' + $InstanceName + '_Permssions_OneTab_' + (Get-Date).ToString('yyyy-MM-dd') + '.xlsx'\r\n",
                "\r\n",
                "Write-Output \"    FileName is $ExcelFile\"\r\n",
                "\r\n",
                "$WorkSheetName = \"Permissions\"\r\n",
                "\r\n",
                "    $excel = Get-DbaUserPermission -SqlInstance $sqlinstance | Export-Excel -Path $ExcelFile -WorksheetName $WorkSheetName -AutoSize -FreezeTopRow -AutoFilter -PassThru\r\n",
                "  \r\n",
                "    $rulesparam = @{\r\n",
                "        Address   = $excel.Workbook.Worksheets[$WorkSheetName].Dimension.Address\r\n",
                "        WorkSheet = $excel.Workbook.Worksheets[$WorkSheetName] \r\n",
                "        RuleType  = 'Expression'      \r\n",
                "    }\r\n",
                "\r\n",
                "    Add-ConditionalFormatting @rulesparam -ConditionValue 'NOT(ISERROR(FIND(\"sysadmin\",$G1)))' -BackgroundColor Yellow -StopIfTrue\r\n",
                "    Add-ConditionalFormatting @rulesparam -ConditionValue 'NOT(ISERROR(FIND(\"db_owner\",$G1)))' -BackgroundColor Yellow -StopIfTrue\r\n",
                "    Add-ConditionalFormatting @rulesparam -ConditionValue 'NOT(ISERROR(FIND(\"SERVER LOGINS\",$E1)))' -BackgroundColor PaleGreen \r\n",
                "    Add-ConditionalFormatting @rulesparam -ConditionValue 'NOT(ISERROR(FIND(\"SERVER SECURABLES\",$E1)))' -BackgroundColor PowderBlue \r\n",
                "    Add-ConditionalFormatting @rulesparam -ConditionValue 'NOT(ISERROR(FIND(\"DB ROLE MEMBERS\",$E1)))' -BackgroundColor GoldenRod \r\n",
                "    Add-ConditionalFormatting @rulesparam -ConditionValue 'NOT(ISERROR(FIND(\"DB SECURABLES\",$E1)))' -BackgroundColor BurlyWood \r\n",
                "\r\n",
                "    Close-ExcelPackage $excel\r\n",
                "\r\n",
                "\r\n",
                "Write-Output \"\"\r\n",
                "Write-Output \"Finished Processing $sqlinstance\"\r\n",
                "\r\n",
                "$Excel = Open-ExcelPackage -Path $ExcelFile\r\n",
                "Add-Worksheet -ExcelPackage $Excel -WorksheetName 'Title' -MoveToStart | Out-Null\r\n",
                "\r\n",
                "$TitleSheet = $excel.Workbook.Worksheets['Title']\r\n",
                "$Date = (Get-Date).ToLongDateString()\r\n",
                "$TitleSheet.Cells[\"A1\"].value = \"This Worksheet shows the User Permissions for each database on $sqlinstance at $Date \"\r\n",
                "Set-ExcelRange -Worksheet $TitleSheet -Range \"A:1\" -Bold -FontSize 22 -Underline -UnderLineType Double\r\n",
                "\r\n",
                "$TitleSheet.Cells[\"B3\"].Value = \"The Cells are colour coded as follows :-\"\r\n",
                "Set-ExcelRange -Worksheet $TitleSheet -Range \"B3\" -Bold -FontSize 18 \r\n",
                "$TitleSheet.Cells[\"E5\"].Value = \"The Yellow Cells show members of the sysadmin role who have permission to do and access anything on the instance \"\r\n",
                "$TitleSheet.Cells[\"E6\"].Value = \"The Green Cells show the logins on the server\"\r\n",
                "$TitleSheet.Cells[\"E7\"].Value = \"The Blue Cells show the instance level permissions that have been granted to the logins\"\r\n",
                "$TitleSheet.Cells[\"E8\"].Value = \"The Orange Cells show the database role membership for the login\"\r\n",
                "$TitleSheet.Cells[\"E9\"].Value = \"The Brown Cells show specific database permissions that have been granted for the logins\"\r\n",
                "\r\n",
                "$TitleSheet.Cells[\"B11\"].Value = \"You can filter by Database on the Object column\"\r\n",
                "Set-ExcelRange -Worksheet $TitleSheet -Range \"C11\" -FontSize 18\r\n",
                "\r\n",
                "$TitleSheet.Cells[\"B12\"].Value = \"You can filter by User/Group/Login on the Member column\"\r\n",
                "Set-ExcelRange -Worksheet $TitleSheet -Range \"C12\" -FontSize 18\r\n",
                "\r\n",
                "Set-ExcelRange -Worksheet $TitleSheet -Range  \"C5\" -BackgroundColor Yellow\r\n",
                "Set-ExcelRange -Worksheet $TitleSheet -Range  \"C6\" -BackgroundColor PaleGreen\r\n",
                "Set-ExcelRange -Worksheet $TitleSheet -Range  \"C7\" -BackgroundColor PowderBlue \r\n",
                "Set-ExcelRange -Worksheet $TitleSheet -Range  \"C8\" -BackgroundColor GoldenRod \r\n",
                "Set-ExcelRange -Worksheet $TitleSheet -Range  \"C9\" -BackgroundColor BurlyWood \r\n",
                "\r\n",
                "Close-ExcelPackage $excel\r\n",
                "\r\n",
                "\r\n",
                "Write-Output \"                ###############                  \"\r\n",
                "Write-Output \"        FileName is $ExcelFile            \"\r\n",
                "Write-Output \"                ###############                  \"\r\n",
                "Write-Output \"\"\r\n",
                "\r\n",
                "Invoke-Item $ExcelFile"
            ],
            "metadata": {
                "azdata_cell_guid": "9e5d7788-df51-4301-8774-7fe3cdf35014",
                "tags": [
                    "hide_input"
                ]
            },
            "outputs": [],
            "execution_count": null
        }
    ]
}