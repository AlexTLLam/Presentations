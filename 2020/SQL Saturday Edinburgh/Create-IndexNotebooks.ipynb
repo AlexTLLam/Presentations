{
    "metadata": {
        "kernelspec": {
            "name": "powershell",
            "display_name": "PowerShell"
        },
        "language_info": {
            "name": "powershell",
            "codemirror_mode": "shell",
            "mimetype": "text/x-sh",
            "file_extension": ".ps1"
        }
    },
    "nbformat_minor": 2,
    "nbformat": 4,
    "cells": [
        {
            "cell_type": "code",
            "source": [
                "$NotebookDirectory = \"C:\\Users\\mrrob\\OneDrive\\Documents\\GitHub\\Presentations\\2020\\SQL Saturday Edinburgh\\Notebooks\"\r\n",
                "$targetfilename = \"ADSNotebookIndex.ipynb\" \r\n",
                "$outputLocation = 'C:\\temp\\Work'\r\n",
                "$NotebookPath = \"$($NotebookDirectory)\\$targetfilename\"\r\n",
                "\r\n",
                "$IntroCellText = \"# Notebook Index \r\n",
                "Click on the code below the workbook you require to generate your custom version to save results in\"\r\n",
                "$IntroCell = New-ADSWorkBookCell -Text $IntroCellText -Type Text\r\n",
                "\r\n",
                "#check output path exists\r\n",
                "If (!(Test-path $outputLocation)) {\r\n",
                "    Write-Output \"creating folder $($outputLocation)\"\r\n",
                "    New-Item -Path  $outputLocation  -ItemType Directory   \r\n",
                "}\r\n",
                "\r\n",
                "#check ths files available and build the index\r\n",
                "$WorkBookCells = foreach ($file in (Get-ChildItem $NotebookDirectory -Recurse -Exclude $targetfilename)) {\r\n",
                "    # In case there are subfolders which don't have notebooks in them\r\n",
                "    $out = (Get-ChildItem $file -Include *ipynb) |Out-String\r\n",
                "    If ($file.PSIsContainer -ieq $true -and ((Get-ChildItem $file.FullName -Recurse -Include *ipynb).Count -ne 0)) {                            \r\n",
                "        New-ADSWorkBookCell -Type Text -Text \"---\r\n",
                "---\r\n",
                "## <u>Notebook Section:  **$($file.basename) </u>**\"   \r\n",
                "    }\r\n",
                "    Elseif ($file.Extension -eq '.ipynb') {\r\n",
                "        New-ADSWorkBookCell -Type Text -Text \"Notebook Name: **$($file.basename)**\"        \r\n",
                "        $CellText = \"# To use this Notebook, click the run button.\r\n",
                "`$user = `$env:USERNAME.Replace('.','')\r\n",
                "`$time = get-date -Format 'yyyyMMddHHmmssms'\r\n",
                "`$destination = '{3}\\{0}_' + `$time + '_'+ `$user + '{1}'\r\n",
                "copy-item -path '{2}' -destination `$destination\r\n",
                "# In case there is media or script files as well. Copy Those also\r\n",
                "Get-ChildItem '{4}' -Exclude *ipynb | Copy-Item -Destination '{3}' -Recurse -Force\r\n",
                "azuredatastudio.cmd `$destination\r\n",
                "\" -f $file.BaseName, $file.Extension, $file.FullName, $outputLocation , $file.DirectoryName\r\n",
                "        New-ADSWorkBookCell -Type code -Text $celltext -Collapse\r\n",
                "    }\r\n",
                "}\r\n",
                "\r\n",
                "New-ADSWorkBook -path $NotebookPath -Cells $IntroCell, $WorkBookCells -Type PowerShell"
            ],
            "metadata": {
                "azdata_cell_guid": "051c46d9-16fe-4aff-94ad-d41478d61db5"
            },
            "outputs": [
{
    "name": "stdout",
    "text": "",
    "output_type": "stream"
}
],
            "execution_count": 3
        }
    ]
}