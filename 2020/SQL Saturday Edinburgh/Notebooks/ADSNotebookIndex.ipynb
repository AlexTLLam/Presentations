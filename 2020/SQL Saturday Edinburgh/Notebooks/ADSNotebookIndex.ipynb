{
    "metadata":  {
                     "kernelspec":  {
                                        "name":  "powershell",
                                        "display_name":  "PowerShell"
                                    }
                 },
    "language_info":  {
                          "name":  "powershell",
                          "version":  "",
                          "codemirror_mode":  "shell",
                          "mimetype":  "text/x-sh",
                          "file_extension":  ".ps1"
                      },
    "nbformat_minor":  2,
    "nbformat":  4,
    "cells":  [
                  {
                      "cell_type":  "markdown",
                      "source":  [
                                     "# Notebook Index \r\n",
                                     "Click on the code below the workbook you require to generate your custom version to save results in\r\n"
                                 ],
                      "metadata":  {
                                       "azdata_cell_guid":  "cdd35be2-c560-418c-8bd1-a60ad08e3118"
                                   }
                  },
                  {
                      "cell_type":  "markdown",
                      "source":  [
                                     "Notebook Name: **Permissions**\r\n"
                                 ],
                      "metadata":  {
                                       "azdata_cell_guid":  "328f7055-f2c9-41d0-b1dd-0b1ac3be243c"
                                   }
                  },
                  {
                      "cell_type":  "code",
                      "source":  [
                                     "# To use this Notebook, click the run button.\r\n",
                                     "$user = $env:USERNAME.Replace(\u0027.\u0027,\u0027\u0027)\r\n",
                                     "$time = get-date -Format \u0027yyyyMMddHHmmssms\u0027\r\n",
                                     "$destination = \u0027C:\\temp\\Work\\Permissions_\u0027 + $time + \u0027_\u0027+ $user + \u0027.ipynb\u0027\r\n",
                                     "copy-item -path \u0027C:\\Users\\mrrob\\OneDrive\\Documents\\GitHub\\Presentations\\2020\\SQL Saturday Edinburgh\\Notebooks\\Permissions.ipynb\u0027 -destination $destination\r\n",
                                     "# In case there is media or script files as well. Copy Those also\r\n",
                                     "Get-ChildItem \u0027C:\\Users\\mrrob\\OneDrive\\Documents\\GitHub\\Presentations\\2020\\SQL Saturday Edinburgh\\Notebooks\u0027 -Exclude *ipynb | Copy-Item -Destination \u0027C:\\temp\\Work\u0027 -Recurse -Force\r\n",
                                     "azuredatastudio.cmd $destination\r\n",
                                     "\r\n"
                                 ],
                      "metadata":  {
                                       "azdata_cell_guid":  "01029608-a342-4aa6-9fed-469c8a951fc4",
                                       "tags":  [
                                                    "hide_input"
                                                ]
                                   },
                      "outputs":  [

                                  ],
                      "execution_count":  0
                  },
                  {
                      "cell_type":  "markdown",
                      "source":  [
                                     "Notebook Name: **sp_Blitz**\r\n"
                                 ],
                      "metadata":  {
                                       "azdata_cell_guid":  "843b12f4-e935-40a0-95dc-0b5b539f2639"
                                   }
                  },
                  {
                      "cell_type":  "code",
                      "source":  [
                                     "# To use this Notebook, click the run button.\r\n",
                                     "$user = $env:USERNAME.Replace(\u0027.\u0027,\u0027\u0027)\r\n",
                                     "$time = get-date -Format \u0027yyyyMMddHHmmssms\u0027\r\n",
                                     "$destination = \u0027C:\\temp\\Work\\sp_Blitz_\u0027 + $time + \u0027_\u0027+ $user + \u0027.ipynb\u0027\r\n",
                                     "copy-item -path \u0027C:\\Users\\mrrob\\OneDrive\\Documents\\GitHub\\Presentations\\2020\\SQL Saturday Edinburgh\\Notebooks\\sp_Blitz.ipynb\u0027 -destination $destination\r\n",
                                     "# In case there is media or script files as well. Copy Those also\r\n",
                                     "Get-ChildItem \u0027C:\\Users\\mrrob\\OneDrive\\Documents\\GitHub\\Presentations\\2020\\SQL Saturday Edinburgh\\Notebooks\u0027 -Exclude *ipynb | Copy-Item -Destination \u0027C:\\temp\\Work\u0027 -Recurse -Force\r\n",
                                     "azuredatastudio.cmd $destination\r\n",
                                     "\r\n"
                                 ],
                      "metadata":  {
                                       "azdata_cell_guid":  "7e17c373-c7bb-4af5-9b59-49e65c7c2180",
                                       "tags":  [
                                                    "hide_input"
                                                ]
                                   },
                      "outputs":  [

                                  ],
                      "execution_count":  0
                  },
                  {
                      "cell_type":  "markdown",
                      "source":  [
                                     "Notebook Name: **sp_BlitzCache**\r\n"
                                 ],
                      "metadata":  {
                                       "azdata_cell_guid":  "f17c3b74-e7c4-4266-9184-53ccbb8d2a5c"
                                   }
                  },
                  {
                      "cell_type":  "code",
                      "source":  [
                                     "# To use this Notebook, click the run button.\r\n",
                                     "$user = $env:USERNAME.Replace(\u0027.\u0027,\u0027\u0027)\r\n",
                                     "$time = get-date -Format \u0027yyyyMMddHHmmssms\u0027\r\n",
                                     "$destination = \u0027C:\\temp\\Work\\sp_BlitzCache_\u0027 + $time + \u0027_\u0027+ $user + \u0027.ipynb\u0027\r\n",
                                     "copy-item -path \u0027C:\\Users\\mrrob\\OneDrive\\Documents\\GitHub\\Presentations\\2020\\SQL Saturday Edinburgh\\Notebooks\\sp_BlitzCache.ipynb\u0027 -destination $destination\r\n",
                                     "# In case there is media or script files as well. Copy Those also\r\n",
                                     "Get-ChildItem \u0027C:\\Users\\mrrob\\OneDrive\\Documents\\GitHub\\Presentations\\2020\\SQL Saturday Edinburgh\\Notebooks\u0027 -Exclude *ipynb | Copy-Item -Destination \u0027C:\\temp\\Work\u0027 -Recurse -Force\r\n",
                                     "azuredatastudio.cmd $destination\r\n",
                                     "\r\n"
                                 ],
                      "metadata":  {
                                       "azdata_cell_guid":  "49fe862e-7d40-48c1-9963-52c0eea57726",
                                       "tags":  [
                                                    "hide_input"
                                                ]
                                   },
                      "outputs":  [

                                  ],
                      "execution_count":  0
                  },
                  {
                      "cell_type":  "markdown",
                      "source":  [
                                     "Notebook Name: **sp_BlitzFirst**\r\n"
                                 ],
                      "metadata":  {
                                       "azdata_cell_guid":  "be056ff8-1ccd-49e7-aacb-cccecaa767b9"
                                   }
                  },
                  {
                      "cell_type":  "code",
                      "source":  [
                                     "# To use this Notebook, click the run button.\r\n",
                                     "$user = $env:USERNAME.Replace(\u0027.\u0027,\u0027\u0027)\r\n",
                                     "$time = get-date -Format \u0027yyyyMMddHHmmssms\u0027\r\n",
                                     "$destination = \u0027C:\\temp\\Work\\sp_BlitzFirst_\u0027 + $time + \u0027_\u0027+ $user + \u0027.ipynb\u0027\r\n",
                                     "copy-item -path \u0027C:\\Users\\mrrob\\OneDrive\\Documents\\GitHub\\Presentations\\2020\\SQL Saturday Edinburgh\\Notebooks\\sp_BlitzFirst.ipynb\u0027 -destination $destination\r\n",
                                     "# In case there is media or script files as well. Copy Those also\r\n",
                                     "Get-ChildItem \u0027C:\\Users\\mrrob\\OneDrive\\Documents\\GitHub\\Presentations\\2020\\SQL Saturday Edinburgh\\Notebooks\u0027 -Exclude *ipynb | Copy-Item -Destination \u0027C:\\temp\\Work\u0027 -Recurse -Force\r\n",
                                     "azuredatastudio.cmd $destination\r\n",
                                     "\r\n"
                                 ],
                      "metadata":  {
                                       "azdata_cell_guid":  "ccbfe083-7302-46f4-9b43-ad0f275726be",
                                       "tags":  [
                                                    "hide_input"
                                                ]
                                   },
                      "outputs":  [

                                  ],
                      "execution_count":  0
                  },
                  {
                      "cell_type":  "markdown",
                      "source":  [
                                     "Notebook Name: **sp_BlitzIndex**\r\n"
                                 ],
                      "metadata":  {
                                       "azdata_cell_guid":  "76430aaa-6d6a-4d50-acbe-b4753b62a329"
                                   }
                  },
                  {
                      "cell_type":  "code",
                      "source":  [
                                     "# To use this Notebook, click the run button.\r\n",
                                     "$user = $env:USERNAME.Replace(\u0027.\u0027,\u0027\u0027)\r\n",
                                     "$time = get-date -Format \u0027yyyyMMddHHmmssms\u0027\r\n",
                                     "$destination = \u0027C:\\temp\\Work\\sp_BlitzIndex_\u0027 + $time + \u0027_\u0027+ $user + \u0027.ipynb\u0027\r\n",
                                     "copy-item -path \u0027C:\\Users\\mrrob\\OneDrive\\Documents\\GitHub\\Presentations\\2020\\SQL Saturday Edinburgh\\Notebooks\\sp_BlitzIndex.ipynb\u0027 -destination $destination\r\n",
                                     "# In case there is media or script files as well. Copy Those also\r\n",
                                     "Get-ChildItem \u0027C:\\Users\\mrrob\\OneDrive\\Documents\\GitHub\\Presentations\\2020\\SQL Saturday Edinburgh\\Notebooks\u0027 -Exclude *ipynb | Copy-Item -Destination \u0027C:\\temp\\Work\u0027 -Recurse -Force\r\n",
                                     "azuredatastudio.cmd $destination\r\n",
                                     "\r\n"
                                 ],
                      "metadata":  {
                                       "azdata_cell_guid":  "e40c7c9c-3a5c-4cd8-b521-eb8dbd37ac75",
                                       "tags":  [
                                                    "hide_input"
                                                ]
                                   },
                      "outputs":  [

                                  ],
                      "execution_count":  0
                  },
                  {
                      "cell_type":  "markdown",
                      "source":  [
                                     "Notebook Name: **Working with dbachecks Validation Results**\r\n"
                                 ],
                      "metadata":  {
                                       "azdata_cell_guid":  "dd7ecaa8-8321-4a09-a580-fd779e328ce2"
                                   }
                  },
                  {
                      "cell_type":  "code",
                      "source":  [
                                     "# To use this Notebook, click the run button.\r\n",
                                     "$user = $env:USERNAME.Replace(\u0027.\u0027,\u0027\u0027)\r\n",
                                     "$time = get-date -Format \u0027yyyyMMddHHmmssms\u0027\r\n",
                                     "$destination = \u0027C:\\temp\\Work\\Working with dbachecks Validation Results_\u0027 + $time + \u0027_\u0027+ $user + \u0027.ipynb\u0027\r\n",
                                     "copy-item -path \u0027C:\\Users\\mrrob\\OneDrive\\Documents\\GitHub\\Presentations\\2020\\SQL Saturday Edinburgh\\Notebooks\\Working with dbachecks Validation Results.ipynb\u0027 -destination $destination\r\n",
                                     "# In case there is media or script files as well. Copy Those also\r\n",
                                     "Get-ChildItem \u0027C:\\Users\\mrrob\\OneDrive\\Documents\\GitHub\\Presentations\\2020\\SQL Saturday Edinburgh\\Notebooks\u0027 -Exclude *ipynb | Copy-Item -Destination \u0027C:\\temp\\Work\u0027 -Recurse -Force\r\n",
                                     "azuredatastudio.cmd $destination\r\n",
                                     "\r\n"
                                 ],
                      "metadata":  {
                                       "azdata_cell_guid":  "2591ecbc-e56e-41d5-b77f-f614b432a8cf",
                                       "tags":  [
                                                    "hide_input"
                                                ]
                                   },
                      "outputs":  [

                                  ],
                      "execution_count":  0
                  }
              ]
}
