{
    "metadata":  {
                     "kernelspec":  {
                                        "name":  "powershell",
                                        "display_name":  "PowerShell"
                                    }
                 },
    "language_info":  {
                          "name":  "powershell",
                          "version":  "",
                          "codemirror_mode":  "shell",
                          "mimetype":  "text/x-sh",
                          "file_extension":  ".ps1"
                      },
    "nbformat_minor":  2,
    "nbformat":  4,
    "cells":  [
                  {
                      "cell_type":  "markdown",
                      "source":  [
                                     "# Notebook Index \r\n",
                                     "Click on the code below the workbook you require to generate your custom version to save results in\r\n"
                                 ],
                      "metadata":  {
                                       "azdata_cell_guid":  "252b6ec0-e742-418c-bdf1-e060f5074050"
                                   }
                  },
                  {
                      "cell_type":  "markdown",
                      "source":  [
                                     "---\r\n",
                                     "---\r\n",
                                     "## Notebook Name: **Permissions**\r\n",
                                     "## Get the permissions \r\n",
                                     "This Notebook will get the current Server Role Membership for all Logins and the database role membership for all user database users and the securables for all databases. Copy this and connect to the server required and click the run cells button above\r\n",
                                     "It was run on the server by the user at the time below\r\n",
                                     "\r\n"
                                 ],
                      "metadata":  {
                                       "azdata_cell_guid":  "50d4d9e6-e148-4488-9034-330a64534d33"
                                   }
                  },
                  {
                      "cell_type":  "code",
                      "source":  [
                                     "# To run a copy of the Notebook Permissions, click the run button.\r\n",
                                     "$user = $env:USERNAME.Replace(\u0027.\u0027,\u0027\u0027)\r\n",
                                     "$time = get-date -Format \u0027yyyyMMddHHmmssms\u0027\r\n",
                                     "$destination = \u0027C:\\temp\\Work\\Permissions_\u0027 + $time + \u0027_\u0027+ $user + \u0027.ipynb\u0027\r\n",
                                     "copy-item -path \u0027C:\\Users\\mrrob\\OneDrive\\Documents\\GitHub\\Presentations\\2020\\SQL Saturday Edinburgh\\Notebooks\\Permissions.ipynb\u0027 -destination $destination\r\n",
                                     "# In case there is media or script files as well. Copy Those also\r\n",
                                     "Get-ChildItem \u0027C:\\Users\\mrrob\\OneDrive\\Documents\\GitHub\\Presentations\\2020\\SQL Saturday Edinburgh\\Notebooks\u0027 -Exclude *ipynb | Copy-Item -Destination \u0027C:\\temp\\Work\u0027 -Recurse -Force\r\n",
                                     "azuredatastudio.cmd $destination\r\n",
                                     "\r\n"
                                 ],
                      "metadata":  {
                                       "azdata_cell_guid":  "2868ae8b-5770-4370-843e-2f1101986ec2",
                                       "tags":  [
                                                    "hide_input"
                                                ]
                                   },
                      "outputs":  [

                                  ],
                      "execution_count":  0
                  },
                  {
                      "cell_type":  "markdown",
                      "source":  [
                                     "---\r\n",
                                     "---\r\n",
                                     "## Notebook Name: **Querying Ola Hallengrens Command Log Table**\r\n",
                                     "## Ola Hallengrens CommandLog Table\r\n",
                                     "This is where the output of Ola\u0027s jobs are stored if you choose `@LogToTable= \u0027Y\u0027`\r\n",
                                     "\r\n"
                                 ],
                      "metadata":  {
                                       "azdata_cell_guid":  "3539da7b-efac-4f1e-8cd4-4da35e91fbaf"
                                   }
                  },
                  {
                      "cell_type":  "code",
                      "source":  [
                                     "# To run a copy of the Notebook Querying Ola Hallengrens Command Log Table, click the run button.\r\n",
                                     "$user = $env:USERNAME.Replace(\u0027.\u0027,\u0027\u0027)\r\n",
                                     "$time = get-date -Format \u0027yyyyMMddHHmmssms\u0027\r\n",
                                     "$destination = \u0027C:\\temp\\Work\\Querying Ola Hallengrens Command Log Table_\u0027 + $time + \u0027_\u0027+ $user + \u0027.ipynb\u0027\r\n",
                                     "copy-item -path \u0027C:\\Users\\mrrob\\OneDrive\\Documents\\GitHub\\Presentations\\2020\\SQL Saturday Edinburgh\\Notebooks\\Querying Ola Hallengrens Command Log Table.ipynb\u0027 -destination $destination\r\n",
                                     "# In case there is media or script files as well. Copy Those also\r\n",
                                     "Get-ChildItem \u0027C:\\Users\\mrrob\\OneDrive\\Documents\\GitHub\\Presentations\\2020\\SQL Saturday Edinburgh\\Notebooks\u0027 -Exclude *ipynb | Copy-Item -Destination \u0027C:\\temp\\Work\u0027 -Recurse -Force\r\n",
                                     "azuredatastudio.cmd $destination\r\n",
                                     "\r\n"
                                 ],
                      "metadata":  {
                                       "azdata_cell_guid":  "1fdd2044-cc2c-4148-b012-9f6d901cae07",
                                       "tags":  [
                                                    "hide_input"
                                                ]
                                   },
                      "outputs":  [

                                  ],
                      "execution_count":  0
                  },
                  {
                      "cell_type":  "markdown",
                      "source":  [
                                     "---\r\n",
                                     "---\r\n",
                                     "## Notebook Name: **sp_Blitz**\r\n",
                                     "## sp_Blitz from Brent Ozar\r\n",
                                     "You can download the First Responder Kit from https://www.brentozar.com/first-aid/ It will provide you with an excellent set of resources for free including sp_Blitz.\r\n",
                                     "You can either run the Install-All-Scripts.sql script to install all of the stored procedures or the individual stored procedures using the T-SQL files. It can go i nthe master database or in a DBA database, it is up to you. \r\n",
                                     "With the stored procedures installed you can then investigate the instance that you are interested in. Brent has written about how to start here https://www.brentozar.com/archive/2017/10/free-sql-server-health-check/\r\n",
                                     "\r\n"
                                 ],
                      "metadata":  {
                                       "azdata_cell_guid":  "f0d6769f-ccfb-497f-821a-aae59f5c89e1"
                                   }
                  },
                  {
                      "cell_type":  "code",
                      "source":  [
                                     "# To run a copy of the Notebook sp_Blitz, click the run button.\r\n",
                                     "$user = $env:USERNAME.Replace(\u0027.\u0027,\u0027\u0027)\r\n",
                                     "$time = get-date -Format \u0027yyyyMMddHHmmssms\u0027\r\n",
                                     "$destination = \u0027C:\\temp\\Work\\sp_Blitz_\u0027 + $time + \u0027_\u0027+ $user + \u0027.ipynb\u0027\r\n",
                                     "copy-item -path \u0027C:\\Users\\mrrob\\OneDrive\\Documents\\GitHub\\Presentations\\2020\\SQL Saturday Edinburgh\\Notebooks\\sp_Blitz.ipynb\u0027 -destination $destination\r\n",
                                     "# In case there is media or script files as well. Copy Those also\r\n",
                                     "Get-ChildItem \u0027C:\\Users\\mrrob\\OneDrive\\Documents\\GitHub\\Presentations\\2020\\SQL Saturday Edinburgh\\Notebooks\u0027 -Exclude *ipynb | Copy-Item -Destination \u0027C:\\temp\\Work\u0027 -Recurse -Force\r\n",
                                     "azuredatastudio.cmd $destination\r\n",
                                     "\r\n"
                                 ],
                      "metadata":  {
                                       "azdata_cell_guid":  "b50038db-9a06-45e4-b815-e7b949de9b67",
                                       "tags":  [
                                                    "hide_input"
                                                ]
                                   },
                      "outputs":  [

                                  ],
                      "execution_count":  0
                  },
                  {
                      "cell_type":  "markdown",
                      "source":  [
                                     "---\r\n",
                                     "---\r\n",
                                     "## Notebook Name: **sp_BlitzCache**\r\n",
                                     "## sp_BlitzCache from Brent Ozar\r\n",
                                     "You can download the First Responder Kit from https://www.brentozar.com/first-aid/ It will provide you with an excellent set of resources for free including sp_Blitz.\r\n",
                                     "You can either run the Install-All-Scripts.sql script to install all of the stored procedures or the individual stored procedures using the T-SQL files. It can go i nthe master database or in a DBA database, it is up to you. \r\n",
                                     "\r\n"
                                 ],
                      "metadata":  {
                                       "azdata_cell_guid":  "2c34f523-054b-40ac-8a53-b346c7131baa"
                                   }
                  },
                  {
                      "cell_type":  "code",
                      "source":  [
                                     "# To run a copy of the Notebook sp_BlitzCache, click the run button.\r\n",
                                     "$user = $env:USERNAME.Replace(\u0027.\u0027,\u0027\u0027)\r\n",
                                     "$time = get-date -Format \u0027yyyyMMddHHmmssms\u0027\r\n",
                                     "$destination = \u0027C:\\temp\\Work\\sp_BlitzCache_\u0027 + $time + \u0027_\u0027+ $user + \u0027.ipynb\u0027\r\n",
                                     "copy-item -path \u0027C:\\Users\\mrrob\\OneDrive\\Documents\\GitHub\\Presentations\\2020\\SQL Saturday Edinburgh\\Notebooks\\sp_BlitzCache.ipynb\u0027 -destination $destination\r\n",
                                     "# In case there is media or script files as well. Copy Those also\r\n",
                                     "Get-ChildItem \u0027C:\\Users\\mrrob\\OneDrive\\Documents\\GitHub\\Presentations\\2020\\SQL Saturday Edinburgh\\Notebooks\u0027 -Exclude *ipynb | Copy-Item -Destination \u0027C:\\temp\\Work\u0027 -Recurse -Force\r\n",
                                     "azuredatastudio.cmd $destination\r\n",
                                     "\r\n"
                                 ],
                      "metadata":  {
                                       "azdata_cell_guid":  "2b99c2ec-54a7-4177-8ee0-85e836036cdc",
                                       "tags":  [
                                                    "hide_input"
                                                ]
                                   },
                      "outputs":  [

                                  ],
                      "execution_count":  0
                  },
                  {
                      "cell_type":  "markdown",
                      "source":  [
                                     "---\r\n",
                                     "---\r\n",
                                     "## Notebook Name: **sp_BlitzFirst**\r\n",
                                     "## sp_BlitzFirst from Brent Ozar\r\n",
                                     "You can download the First Responder Kit from https://www.brentozar.com/first-aid/ It will provide you with an excellent set of resources for free including sp_Blitz.\r\n",
                                     "You can either run the Install-All-Scripts.sql script to install all of the stored procedures or the individual stored procedures using the T-SQL files. It can go i nthe master database or in a DBA database, it is up to you. \r\n",
                                     "With the stored procedures installed you can then investigate the instance that you are interested in. Brent has written about how to start here https://www.brentozar.com/archive/2017/10/free-sql-server-performance-check/\r\n",
                                     "#### Run sp_blitzFirst with basic parameters\r\n",
                                     "Start with wait stats, which tell you what the SQL Server has been waiting on since the service was last started, or since someone cleared wait stats with DBCC SQLPERF, whichever is more recent.\r\n",
                                     "\r\n"
                                 ],
                      "metadata":  {
                                       "azdata_cell_guid":  "2bc94798-80c8-445a-b568-e4bd1e70a9f6"
                                   }
                  },
                  {
                      "cell_type":  "code",
                      "source":  [
                                     "# To run a copy of the Notebook sp_BlitzFirst, click the run button.\r\n",
                                     "$user = $env:USERNAME.Replace(\u0027.\u0027,\u0027\u0027)\r\n",
                                     "$time = get-date -Format \u0027yyyyMMddHHmmssms\u0027\r\n",
                                     "$destination = \u0027C:\\temp\\Work\\sp_BlitzFirst_\u0027 + $time + \u0027_\u0027+ $user + \u0027.ipynb\u0027\r\n",
                                     "copy-item -path \u0027C:\\Users\\mrrob\\OneDrive\\Documents\\GitHub\\Presentations\\2020\\SQL Saturday Edinburgh\\Notebooks\\sp_BlitzFirst.ipynb\u0027 -destination $destination\r\n",
                                     "# In case there is media or script files as well. Copy Those also\r\n",
                                     "Get-ChildItem \u0027C:\\Users\\mrrob\\OneDrive\\Documents\\GitHub\\Presentations\\2020\\SQL Saturday Edinburgh\\Notebooks\u0027 -Exclude *ipynb | Copy-Item -Destination \u0027C:\\temp\\Work\u0027 -Recurse -Force\r\n",
                                     "azuredatastudio.cmd $destination\r\n",
                                     "\r\n"
                                 ],
                      "metadata":  {
                                       "azdata_cell_guid":  "69744efd-6553-4201-9ee7-69da4fc728af",
                                       "tags":  [
                                                    "hide_input"
                                                ]
                                   },
                      "outputs":  [

                                  ],
                      "execution_count":  0
                  },
                  {
                      "cell_type":  "markdown",
                      "source":  [
                                     "---\r\n",
                                     "---\r\n",
                                     "## Notebook Name: **sp_BlitzIndex**\r\n",
                                     "## sp_BlitzIndex from Brent Ozar\r\n",
                                     "You can download the First Responder Kit from https://www.brentozar.com/first-aid/ It will provide you with an excellent set of resources for free including sp_Blitz.\r\n",
                                     "You can either run the Install-All-Scripts.sql script to install all of the stored procedures or the individual stored procedures using the T-SQL files. It can go i nthe master database or in a DBA database, it is up to you. \r\n",
                                     "With the stored procedures installed you can then investigate the instance that you are interested in. Brent has written about how to start here https://www.brentozar.com/blitzindex/ with a video as well\r\n",
                                     "\r\n"
                                 ],
                      "metadata":  {
                                       "azdata_cell_guid":  "fab8c9a9-5d53-418e-8893-0359281c8621"
                                   }
                  },
                  {
                      "cell_type":  "code",
                      "source":  [
                                     "# To run a copy of the Notebook sp_BlitzIndex, click the run button.\r\n",
                                     "$user = $env:USERNAME.Replace(\u0027.\u0027,\u0027\u0027)\r\n",
                                     "$time = get-date -Format \u0027yyyyMMddHHmmssms\u0027\r\n",
                                     "$destination = \u0027C:\\temp\\Work\\sp_BlitzIndex_\u0027 + $time + \u0027_\u0027+ $user + \u0027.ipynb\u0027\r\n",
                                     "copy-item -path \u0027C:\\Users\\mrrob\\OneDrive\\Documents\\GitHub\\Presentations\\2020\\SQL Saturday Edinburgh\\Notebooks\\sp_BlitzIndex.ipynb\u0027 -destination $destination\r\n",
                                     "# In case there is media or script files as well. Copy Those also\r\n",
                                     "Get-ChildItem \u0027C:\\Users\\mrrob\\OneDrive\\Documents\\GitHub\\Presentations\\2020\\SQL Saturday Edinburgh\\Notebooks\u0027 -Exclude *ipynb | Copy-Item -Destination \u0027C:\\temp\\Work\u0027 -Recurse -Force\r\n",
                                     "azuredatastudio.cmd $destination\r\n",
                                     "\r\n"
                                 ],
                      "metadata":  {
                                       "azdata_cell_guid":  "7a8b18fa-b416-4707-b154-198c8830a1cb",
                                       "tags":  [
                                                    "hide_input"
                                                ]
                                   },
                      "outputs":  [

                                  ],
                      "execution_count":  0
                  },
                  {
                      "cell_type":  "markdown",
                      "source":  [
                                     "---\r\n",
                                     "---\r\n",
                                     "## Notebook Name: **Working with dbachecks Validation Results**\r\n",
                                     "## Working with dbachecks Historical Results\r\n",
                                     "This guide will assist you to get used to the database schema where dbachecks historical reports are stored if you have followed the blog post [dbachecks – Save the results to a database for historical reporting](https://sqldbawithabeard.com/2018/05/23/dbachecks-save-the-results-to-a-database-for-historical-reporting/)\r\n",
                                     "* Click the **Not Trusted** button above to trust the notebook and enable command links.\r\n",
                                     "The first thing that is required is to update the data in the database so that it reflects the current date as if dbachecks had been run today\r\n",
                                     "\r\n"
                                 ],
                      "metadata":  {
                                       "azdata_cell_guid":  "54e8fa7c-73e1-4562-9a3e-1b652de4d2bf"
                                   }
                  },
                  {
                      "cell_type":  "code",
                      "source":  [
                                     "# To run a copy of the Notebook Working with dbachecks Validation Results, click the run button.\r\n",
                                     "$user = $env:USERNAME.Replace(\u0027.\u0027,\u0027\u0027)\r\n",
                                     "$time = get-date -Format \u0027yyyyMMddHHmmssms\u0027\r\n",
                                     "$destination = \u0027C:\\temp\\Work\\Working with dbachecks Validation Results_\u0027 + $time + \u0027_\u0027+ $user + \u0027.ipynb\u0027\r\n",
                                     "copy-item -path \u0027C:\\Users\\mrrob\\OneDrive\\Documents\\GitHub\\Presentations\\2020\\SQL Saturday Edinburgh\\Notebooks\\Working with dbachecks Validation Results.ipynb\u0027 -destination $destination\r\n",
                                     "# In case there is media or script files as well. Copy Those also\r\n",
                                     "Get-ChildItem \u0027C:\\Users\\mrrob\\OneDrive\\Documents\\GitHub\\Presentations\\2020\\SQL Saturday Edinburgh\\Notebooks\u0027 -Exclude *ipynb | Copy-Item -Destination \u0027C:\\temp\\Work\u0027 -Recurse -Force\r\n",
                                     "azuredatastudio.cmd $destination\r\n",
                                     "\r\n"
                                 ],
                      "metadata":  {
                                       "azdata_cell_guid":  "e20f49a9-3601-45ea-b3ae-cc80739ce2a0",
                                       "tags":  [
                                                    "hide_input"
                                                ]
                                   },
                      "outputs":  [

                                  ],
                      "execution_count":  0
                  }
              ]
}
