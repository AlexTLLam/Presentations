{
 "cells": [
  {
   "cell_type": "code",
   "execution_count": 3,
   "metadata": {},
   "outputs": [
    {
     "data": {
      "text/html": [
       "<pre>Import-Module: The following error occurred while loading the extended type data file: \r\n",
       ", C:\\Users\\mrrob\\Documents\\PowerShell\\Modules\\Pester\\4.9.0\\Functions\\Gherkin.types.ps1xml: The file was skipped because of the following validation exception: AuthorizationManager check failed..</pre>\r\n"
      ]
     },
     "metadata": {},
     "output_type": "display_data"
    }
   ],
   "source": [
    "ipmo dbachecks"
   ]
  },
  {
   "cell_type": "code",
   "execution_count": 4,
   "metadata": {},
   "outputs": [
    {
     "data": {
      "text/html": [
       "<pre>Import-Module: The following error occurred while loading the extended type data file: \r\n",
       ", C:\\Users\\mrrob\\Documents\\PowerShell\\Modules\\pester\\4.9.0\\Functions\\Gherkin.types.ps1xml: The file was skipped because of the following validation exception: AuthorizationManager check failed..</pre>\r\n"
      ]
     },
     "metadata": {},
     "output_type": "display_data"
    }
   ],
   "source": [
    "ipmo pester"
   ]
  },
  {
   "cell_type": "code",
   "execution_count": null,
   "metadata": {},
   "outputs": [],
   "source": [
    "Install-Module Pester -RequiredVersion"
   ]
  }
 ],
 "metadata": {
  "kernelspec": {
   "display_name": ".NET (PowerShell)",
   "language": "PowerShell",
   "name": ".net-powershell"
  },
  "language_info": {
   "file_extension": ".ps1",
   "mimetype": "text/x-powershell",
   "name": "PowerShell",
   "pygments_lexer": "powershell",
   "version": "7.0"
  }
 },
 "nbformat": 4,
 "nbformat_minor": 4
}
