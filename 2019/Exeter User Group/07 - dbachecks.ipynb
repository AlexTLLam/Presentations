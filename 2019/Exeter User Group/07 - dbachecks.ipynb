{
    "metadata": {
        "kernelspec": {
            "name": "powershell",
            "display_name": "PowerShell"
        },
        "language_info": {
            "name": "powershell",
            "codemirror_mode": "shell",
            "mimetype": "text/x-sh",
            "file_extension": ".ps1"
        }
    },
    "nbformat_minor": 2,
    "nbformat": 4,
    "cells": [
        {
            "cell_type": "markdown",
            "source": [
                "# Dbachecks\r\n",
                "\r\n",
                "We can use dbachecks within a notebook  \r\n",
                "This will be really useful for  \r\n",
                "- Consultants visiting clients\r\n",
                "- Sanity Checks following upgrades, maintenance windows"
            ],
            "metadata": {
                "azdata_cell_guid": "7182dc05-c024-4c42-97fa-c9ef461b3960"
            }
        },
        {
            "cell_type": "code",
            "source": [
                "$sql0 = 'localhost,15591'\n",
                "$sql1 = 'localhost,15592'\n",
                "$cred = Import-Clixml -Path C:\\MSSQL\\BACKUP\\sqladmin.cred\n",
                "\n",
                "Set-DbcConfig -Name app.sqlinstance $sql0,$sql1\n",
                "Set-DbcConfig -Name policy.connection.authscheme -Value SQL\n",
                "Set-DbcConfig -Name skip.connection.ping -Value $true\n",
                "Set-DbcConfig -Name skip.connection.remoting -Value $true\n",
                "\n",
                "Invoke-DbcCheck -Check InstanceConnection -SqlCredential $cred\n",
                ""
            ],
            "metadata": {
                "azdata_cell_guid": "d427790d-6bef-4608-9c35-925c6f3f2379"
            },
            "outputs": [
                {
                    "output_type": "stream",
                    "name": "stdout",
                    "text": "\nExecuting all tests in 'C:\\Users\\mrrob\\OneDrive\\Documents\\GitHub\\dbachecks\\checks\\Instance.Tests.ps1' with Tags InstanceConnection\n\nExecuting script C:\\Users\\mrrob\\OneDrive\\Documents\\GitHub\\dbachecks\\checks\\Instance.Tests.ps1\n\n  Describing Instance Connection\n\n    Context Testing Instance Connection on localhost,15591\n      [+] connects successfully to localhost,15591 2ms\n      [+] auth scheme should be SQL on localhost,15591 135ms\n      [!] localhost,15591 is pingable, is skipped 0ms\n      [!] localhost,15591 Is PSRemoteable, is skipped 0ms\n\n  Describing Instance Connection\n\n    Context Testing Instance Connection on localhost,15592\n      [+] connects successfully to localhost,15592 2ms\n      [+] auth scheme should be SQL on localhost,15592 129ms\n      [!] localhost,15592 is pingable, is skipped 0ms\n      [!] localhost,15592 Is PSRemoteable, is skipped 0ms\nTests completed in 1.14s\nTests Passed: 4, Failed: 0, Skipped: 4, Pending: 0, Inconclusive: 0 \nName                         Value                              Description                                            \n----                         -----                              -----------                                            \napp.sqlinstance              {localhost,15591, localhost,15592} List of SQL Server instances that SQL-based tests wi...\npolicy.connection.authscheme SQL                                Auth requirement (Kerberos, NTLM, etc)                 \nskip.connection.ping         True                               Skip the ping check for connectivity                   \nskip.connection.remoting     True                               Skip PowerShell remoting check for connectivity        \n                                                                                                                       \n\n\n"
                }
            ],
            "execution_count": 8
        },
        {
            "cell_type": "code",
            "source": [
                "Get-DbcCheck -Pattern instanceconnection|fl"
            ],
            "metadata": {
                "azdata_cell_guid": "39ad2463-241e-40b5-b5fc-a1af81063f0d"
            },
            "outputs": [
                {
                    "name": "stdout",
                    "text": "\n\nGroup       : Instance\nType        : Sqlinstance\nUniqueTag   : InstanceConnection\nAllTags     : InstanceConnection, Connectivity, High, Instance\nConfig      : app.sqlinstance skip.connection.remoting skip.connection.ping skip.connection.auth \n              policy.connection.authscheme \nDescription : Tests that a SQL query can be run, that the specified authentication scheme (default kerberos) is being \n              used, that the host responds to one ping and that the host supports PS Remoting\n\n\n\n",
                    "output_type": "stream"
                }
            ],
            "execution_count": 2
        }
    ]
}