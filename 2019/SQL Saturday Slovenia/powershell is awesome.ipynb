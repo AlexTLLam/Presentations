{
    "metadata": {
        "kernelspec": {
            "name": "powershell",
            "display_name": "PowerShell"
        },
        "language_info": {
            "name": "powershell",
            "codemirror_mode": "shell",
            "mimetype": "text/x-sh",
            "file_extension": ".ps1"
        }
    },
    "nbformat_minor": 2,
    "nbformat": 4,
    "cells": [
        {
            "cell_type": "markdown",
            "source": [
                " # Yay we love PowerShell\r\n",
                "\r\n",
                ""
            ],
            "metadata": {
                "azdata_cell_guid": "7c9b383e-2c5b-4e4f-a0f9-3d38ade30166"
            }
        },
        {
            "cell_type": "code",
            "source": [
                "Get-Service -Name MSSQLSERVER | Ft"
            ],
            "metadata": {
                "azdata_cell_guid": "a8ddff46-fe4a-4536-a77f-1e501ada740f"
            },
            "outputs": [
{
    "name": "stdout",
    "text": "\nStatus   Name               DisplayName                           \n------   ----               -----------                           \nStopped  MSSQLSERVER        SQL Server (MSSQLSERVER)              \n\n\n",
    "output_type": "stream"
}
],
            "execution_count": 2
        }
    ]
}