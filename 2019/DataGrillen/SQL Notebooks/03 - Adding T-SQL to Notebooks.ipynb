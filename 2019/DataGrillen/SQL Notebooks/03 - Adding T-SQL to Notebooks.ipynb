{
    "metadata": {
        "kernelspec": {
            "name": "SQL",
            "display_name": "SQL",
            "language": "sql"
        },
        "language_info": {
            "name": "sql",
            "version": ""
        }
    },
    "nbformat_minor": 2,
    "nbformat": 4,
    "cells": [
        {
            "cell_type": "markdown",
            "source": "# T-SQL in a SQL Notebook\r\n\r\nNow that we can add some PowerShell to our Notebooks, I can show you how to add some T-SQL.\r\n\r\nFirst lets create a container to use for our notebook\r\n\r\nI am going to use the dbatools docker images for this. You can read [more about that here](https://dbatools.io/docker/)\r\n\r\nI am going to use the docker-compose file from [my DockerStuff repo](https://github.com/SQLDBAWithABeard/DockerStuff/tree/master/dbatools-2-instances-AG) which I have saved locally. This uses a local directory for backup storage.\r\n\r\n\r\n<a href=\"command:workbench.action.terminal.sendSequence?%7B%22text%22%3A%22 if %28-not %28%24IsLinux -or %24IsMacOS%29 %29 %7B    if %28-not%28Test-Path C:%5C%5C%5C%5CMSSQL%5C%5C%5C%5CBACKUP%29%29 %7B        Write-Output \\u0022I\\u0027m going to create C:%5C%5C%5C%5CMSSQL%5C%5C%5C%5CBACKUPS so that the docker-compose will work\\u0022        New-Item C:%5C%5CMSSQL1%5C%5CBACKUP1 -ItemType Directory    %7D    else %7B        Write-Output \\u0022C:%5C%5C%5C%5CMSSQL%5C%5C%5C%5CBACKUPS already exists\\u0022    %7D%7Delse %7B    Write-Warning \\u0022Sorry This code won\\u0027t run on Linux - You will have to do it manually and edit the docker compose file\\u0022%7D \\u000D %22%7D\">This link will create the directory C:\\MSSQL\\BaCKUPS</a>\r\n\r\n<a href=\"command:workbench.action.terminal.sendSequence?%7B%22text%22%3A%22 docker-compose -f C:%5C%5Cdbachecks%5C%5Cdbatools-docker-compose.yml up -d \\u000D %22%7D\">This will run the docker compose and create the containers</a>\r\n\r\n![image](https://user-images.githubusercontent.com/6729780/59587466-39003d80-90dd-11e9-8ca7-2c1550cb96cb.png)\r\n\r\n\r\n\r\n\r\n",
            "metadata": {}
        },
        {
            "cell_type": "markdown",
            "source": "# T-SQL\r\n\r\nYou can add T-SQL Code by clicking on the three elipses in a block\r\n\r\n![image](https://user-images.githubusercontent.com/6729780/59587952-600b3f00-90de-11e9-9801-d4c7664aaa84.png)\r\n\r\nor by using the button at the top of the Notebook\r\n\r\n![image](https://user-images.githubusercontent.com/6729780/59588101-c001e580-90de-11e9-8f86-f6b522c69322.png)\r\n\r\nEither of these creates a Code Block. You can enter your T-SQL code in the block\r\n\r\n![image](https://user-images.githubusercontent.com/6729780/59588323-3dc5f100-90df-11e9-85cf-9b9d5ae0c877.png)\r\n\r\nYou can set a connection at the top of the notebook. It defaults to the first instance that you have connected to in Azure Data Studio\r\n\r\n![image](https://user-images.githubusercontent.com/6729780/59588669-0c99f080-90e0-11e9-95a0-95710f67b3b9.png)\r\n\r\nYou can click the play button or F5 to run the code\r\n\r\n![image](https://user-images.githubusercontent.com/6729780/59588515-aca34a00-90df-11e9-9c76-6b9075ceca45.png)\r\n\r\nTo change database you will `USE [DatabaseName]`\r\n",
            "metadata": {}
        },
        {
            "cell_type": "code",
            "source": "SELECT @@VERSION AS SQLVersion",
            "metadata": {},
            "outputs": [
                {
                    "output_type": "display_data",
                    "data": {
                        "text/html": "(1 row affected)"
                    },
                    "metadata": {}
                },
                {
                    "output_type": "display_data",
                    "data": {
                        "text/html": "Total execution time: 00:00:00.020"
                    },
                    "metadata": {}
                },
                {
                    "output_type": "execute_result",
                    "metadata": {},
                    "execution_count": 1,
                    "data": {
                        "application/vnd.dataresource+json": {
                            "schema": {
                                "fields": [
                                    {
                                        "name": "SQLVersion"
                                    }
                                ]
                            },
                            "data": [
                                {
                                    "0": "Microsoft SQL Server 2017 (RTM-CU11) (KB4462262) - 14.0.3038.14 (X64) \n\tSep 14 2018 13:53:44 \n\tCopyright (C) 2017 Microsoft Corporation\n\tDeveloper Edition (64-bit) on Linux (Ubuntu 16.04.5 LTS)"
                                }
                            ]
                        },
                        "text/html": "<table><tr><th>SQLVersion</th></tr><tr><td>Microsoft SQL Server 2017 (RTM-CU11) (KB4462262) - 14.0.3038.14 (X64) \n\tSep 14 2018 13:53:44 \n\tCopyright (C) 2017 Microsoft Corporation\n\tDeveloper Edition (64-bit) on Linux (Ubuntu 16.04.5 LTS)</td></tr></table>"
                    }
                }
            ],
            "execution_count": 1
        },
        {
            "cell_type": "code",
            "source": "USE Northwind\r\nGO\r\n\r\nSELECT c.CategoryName,\r\n  (select sum(val)\r\n   from (SELECT TOP 5 od2.UnitPrice*od2.Quantity as val\r\n         FROM [Order Details] od2, Products p2\r\n         WHERE od2.ProductID = p2.ProductID\r\n         AND c.CategoryID = p2.CategoryID\r\n         ORDER BY 1 DESC\r\n        ) t\r\n  ) AS \"5 top orders in 1997\"\r\nFROM [Order Details] od, Products p, Categories c, Orders o \r\nWHERE od.ProductID = p. ProductID\r\nAND p.CategoryID = c.CategoryID\r\nAND od.OrderID = o.OrderID\r\nAND YEAR(o.OrderDate) = 1997\r\nGROUP BY c.CategoryName, c.CategoryId",
            "metadata": {},
            "outputs": [
                {
                    "output_type": "display_data",
                    "data": {
                        "text/html": "Commands completed successfully."
                    },
                    "metadata": {}
                },
                {
                    "output_type": "display_data",
                    "data": {
                        "text/html": "(8 rows affected)"
                    },
                    "metadata": {}
                },
                {
                    "output_type": "display_data",
                    "data": {
                        "text/html": "Total execution time: 00:00:00.153"
                    },
                    "metadata": {}
                },
                {
                    "output_type": "execute_result",
                    "metadata": {},
                    "execution_count": 2,
                    "data": {
                        "application/vnd.dataresource+json": {
                            "schema": {
                                "fields": [
                                    {
                                        "name": "CategoryName"
                                    },
                                    {
                                        "name": "5 top orders in 1997"
                                    }
                                ]
                            },
                            "data": [
                                {
                                    "0": "Beverages",
                                    "1": "63240.0000"
                                },
                                {
                                    "0": "Condiments",
                                    "1": "12989.5000"
                                },
                                {
                                    "0": "Confections",
                                    "1": "19379.0000"
                                },
                                {
                                    "0": "Dairy Products",
                                    "1": "21830.0000"
                                },
                                {
                                    "0": "Grains/Cereals",
                                    "1": "13822.5000"
                                },
                                {
                                    "0": "Meat/Poultry",
                                    "1": "35899.1000"
                                },
                                {
                                    "0": "Produce",
                                    "1": "17638.0000"
                                },
                                {
                                    "0": "Seafood",
                                    "1": "13082.5000"
                                }
                            ]
                        },
                        "text/html": "<table><tr><th>CategoryName</th><th>5 top orders in 1997</th></tr><tr><td>Beverages</td><td>63240.0000</td></tr><tr><td>Condiments</td><td>12989.5000</td></tr><tr><td>Confections</td><td>19379.0000</td></tr><tr><td>Dairy Products</td><td>21830.0000</td></tr><tr><td>Grains/Cereals</td><td>13822.5000</td></tr><tr><td>Meat/Poultry</td><td>35899.1000</td></tr><tr><td>Produce</td><td>17638.0000</td></tr><tr><td>Seafood</td><td>13082.5000</td></tr></table>"
                    }
                }
            ],
            "execution_count": 2
        },
        {
            "cell_type": "markdown",
            "source": "# Results\r\n\r\nThe results are saved with the notebook. This means that you can send the notebook to your clients, give it to your off-site engineers or first line support and you will then know *exactly* which queries they ran and the results of that query. So you can easily create runbooks for certain scenarios.\r\n\r\nYou could also use notebooks for upgrades or migrations and have a recorded timeline of what happened.\r\n\r\nThat would also be good for incident resolution - Let your mind go wild :-)",
            "metadata": {}
        }
    ]
}