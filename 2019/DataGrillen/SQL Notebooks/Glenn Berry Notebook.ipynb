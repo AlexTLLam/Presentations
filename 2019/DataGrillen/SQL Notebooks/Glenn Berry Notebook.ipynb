{
    "metadata": {
        "kernelspec": {
            "name": "SQL",
            "display_name": "SQL",
            "language": "sql"
        },
        "language_info": {
            "name": "sql",
            "version": ""
        }
    },
    "nbformat_minor": 2,
    "nbformat": 4,
    "cells": [
        {
            "cell_type": "markdown",
            "source": "# Glenn Berry Diagnostic Queries Notebook\r\n\r\nGlenn Berry created a set of Diagnostic Queries for SQL Server. [You can find them and read more here](https://www.sqlskills.com/blogs/glenn/category/dmv-queries/)\r\n\r\n## Automate it\r\n\r\nThe wonderous Chrissy LeMaire [@cl](https://twitter.com/cl) \r\n\r\n![IncredibleChrissy](https://dbatools.io/wp-content/uploads/2016/05/lollerskate.jpg)\r\n\r\ncreated [dbatools](https://dbatools.io)\r\n\r\n![dbatools](https://pbs.twimg.com/profile_images/759688014255759360/HKp0ctqn_400x400.jpg)\r\n\r\nMy amazing buddy André Kamman [@AmdreKamman](https://twitter.com/AndreKamman) \r\n\r\n![AwesomeAndre](https://pbs.twimg.com/profile_images/930449528796393474/75M0guLm_400x400.jpg)\r\n\r\nadded functions to dbatools for running the queries to dbatools\r\n\r\nThen my fabulous Italian friend Gianluca Sartori [@spaghettidba](https://twitter.com/spaghettidba)\r\n\r\n(![Gian](https://user-images.githubusercontent.com/6729780/59565505-6bae2580-904c-11e9-9808-b01c6db9f7c2.png))\r\n\r\ncreated a SQL Notebook for them. You can read about that [on his blog here](https://spaghettidba.com/2019/03/20/generating-a-jupyter-notebook-for-glenn-berrys-diagnostic-queries-with-powershell/).  \r\nThe code has also been added to dbatools for the release of 1.0.  \r\nThere is a new command `New-DbaDiagnosticAdsNotebook`\r\n\r\nCreating a Notebook is now as easy as \r\n\r\n    New-DbaDiagnosticAdsNotebook -TargetVersion 2017 -Path c:\\temp\\GiansGreatGlennBerryQueriesNotebook.ipynb\r\n\r\nYou can install dbatools with `Install-Module dbatools -Scope CurrentUser` If you have already installed dbatools, you can use `Update-Module dbatools` to get hte latest version which will have this command.\r\n\r\n\r\nRob - you need to install the pre-release with  ipmo Presentations:\\dbatools-prerelease\\dbatools-prerelease\\dbatools.psd1\r\n\r\n<a href=\"command:workbench.action.terminal.focus\">In Azure Data Studio click this link to open a new terminal</a>\r\n\r\n# Rob - Import pre-release module\r\n\r\n<a href=\"command:workbench.action.terminal.sendSequence?%7B%22text%22%3A%22 ipmo C:%5C%5CUsers%5C%5Cmrrob%5C%5COneDrive%5C%5CDocuments%5C%5CGithub%5C%5CPresentations%5C%5Cdbatools-prerelease%5C%5Cdbatools-prerelease%5C%5Cdbatools.psd1  %22%7D\">Paste in the import module pre-release Rob by clicking this link</a>\r\n\r\n<a href=\"command:workbench.action.terminal.focus\">Click this link to focus the terminal and press enter</a> \r\n\r\n# Create Notebook\r\n\r\n<a href=\"command:workbench.action.terminal.focus\">Click this link to open the terminal if needed</a>\r\n\r\n<a href=\"command:workbench.action.terminal.sendSequence?%7B%22text%22%3A%22  New-DbaDiagnosticAdsNotebook -TargetVersion 2017 -Path c:%5C%5Ctemp%5C%5CGiansGreatGlennBerryQueriesNotebook.ipynb %22%7D\">Paste New-DbaDiagnosticAdsNotebook -TargetVersion 2017 -Path c:\\temp\\GiansGreatGlennBerryQueriesNotebook.ipynb by clicking this link</a>\r\n\r\n<a href=\"command:workbench.action.terminal.focus\">Click this link to focus the terminal and press enter</a> \r\n\r\n# Open Notebook\r\n\r\n<a href=\"command:workbench.action.terminal.focus\">Click this link to open the terminal if needed</a>\r\n\r\n<a href=\"command:workbench.action.terminal.sendSequence?%7B%22text%22%3A%22  Invoke-Item c:%5C%5Ctemp%5C%5CGiansGreatGlennBerryQueriesNotebook.ipynb %22%7D\">Paste Invoke-Item  c:\\temp\\GiansGreatGlennBerryQueriesNotebook.ipynb by clicking this link</a>\r\n\r\n<a href=\"command:workbench.action.terminal.focus\">Click this link to focus the terminal and press enter</a>\r\n\r\n\r\n\r\n\r\n\r\n",
            "metadata": {}
        }
    ]
}