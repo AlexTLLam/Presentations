{
    "metadata": {
        "kernelspec": {
            "name": "SQL",
            "display_name": "SQL",
            "language": "sql"
        },
        "language_info": {
            "name": "sql",
            "version": ""
        }
    },
    "nbformat_minor": 2,
    "nbformat": 4,
    "cells": [
        {
            "cell_type": "markdown",
            "source": [
                "# SQL Queries\r\n",
                "\r\n",
                "We all have a list of queries that are useful that we keep. Maybe it would be good to have these for our team in a notebook\r\n",
                "\r\n",
                "Let's create a docker container with SQL 2019 CTP 3.2"
            ],
            "metadata": {}
        }
    ]
}