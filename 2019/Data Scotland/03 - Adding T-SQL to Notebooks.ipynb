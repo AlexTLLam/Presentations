{
    "metadata": {
        "kernelspec": {
            "name": "SQL",
            "display_name": "SQL",
            "language": "sql"
        },
        "language_info": {
            "name": "sql",
            "version": ""
        }
    },
    "nbformat_minor": 2,
    "nbformat": 4,
    "cells": [
        {
            "cell_type": "markdown",
            "source": [
                "# T-SQL in a SQL Notebook\r\n",
                "\r\n",
                "Now that we can add some PowerShell to our Notebooks, I can show you how to add some T-SQL.\r\n",
                "\r\n",
                "First lets create a container to use for our notebook\r\n",
                "\r\n",
                "I am going to use the dbatools docker images for this. You can read [more about that here](https://dbatools.io/docker/)\r\n",
                "\r\n",
                "I am going to use the docker-compose file from [my DockerStuff repo](https://github.com/SQLDBAWithABeard/DockerStuff/tree/master/dbatools-2-instances-AG) which I have saved locally. This uses a local directory for backup storage.\r\n",
                "\r\n",
                "<a href=\"command:workbench.action.terminal.sendSequence?%7B%22text%22%3A%22 if(Get-Module PSReadline)%7b Remove-Module PSReadline%7d\\u000Aif (-not (%24IsLinux -or %24IsMacOS) ) %7b\\u000A     if (-not(Test-Path C:%5c%5c%5c%5cMSSQL%5c%5c%5c%5cBACKUP))\\u000A     %7b\\u000A         Write-Output \\u0027I\\u0027\\u0027m going to create C:%5c%5c%5c%5cMSSQL%5c%5c%5c%5cBACKUPS so that the docker-compose will work\\u0027\\u000A         New-Item C:%5c%5cMSSQL1%5c%5cBACKUP1 -ItemType Directory\\u000A     %7d    else %7b\\u000A         Write-Output \\u0027C:%5c%5c%5c%5cMSSQL%5c%5c%5c%5cBACKUPS already exists\\u0027 %7d \\u000A %7d elseif(-not %24IsMacOS)%7b\\u000A     if (-not(Test-Path %2ftmp%2fdocker%2fvolumes%2fdbatools)) \\u000A     %7b\\u000A         Write-Output \\u0027I\\u0027\\u0027m going to create %2ftmp%2fdocker%2fvolumes%2fdbatools so that the docker-compose will work\\u0027\\u000A         New-Item %2ftmp%2fdocker%2fvolumes%2fdbatools -ItemType Directory\\u000A     %7d    else %7b\\u000A         Write-Output \\u0027%2ftmp%2fdocker%2fvolumes%2fdbatools already exists\\u0027 %7d \\u000A %7d else %7b Write-Warning \\u0027Sorry This code won\\u0027\\u0027t run on Mac - You will have to create the folder manually and edit the docker compose file\\u0027 \\u000A%7d \\u000D \\u000D %22%7D\">This link will create the volumes for the containers to work</a>\r\n",
                "\r\n",
                "<a href=\"command:workbench.action.terminal.sendSequence?%7B%22text%22%3A%22 if(Get-Module PSReadline)%7b Remove-Module PSReadline%7d\\u000Aif (-not (%24IsLinux -or %24IsMacOS) ) %7b\\u000A    docker-compose -f dbatools-docker-compose.yml up -d\\u000A %7d elseif(-not %24IsMacOS)%7b\\u000A    docker-compose -f linux-dbatools-docker-compose.yml up -d\\u000A %7d else %7b Write-Warning \\u0027Sorry This code won\\u0027\\u0027t run on Mac - You will have to create the folder manually and edit the docker compose file\\u0027 \\u000A%7d \\u000D \\u000D %22%7D\">This will run the docker compose and create the containers</a>\r\n",
                "\r\n",
                "![image](https://user-images.githubusercontent.com/6729780/59587466-39003d80-90dd-11e9-8ca7-2c1550cb96cb.png)\r\n",
                "\r\n",
                "\r\n",
                "\r\n",
                "\r\n",
                ""
            ],
            "metadata": {}
        },
        {
            "cell_type": "markdown",
            "source": [
                "# T-SQL\r\n",
                "\r\n",
                "You can add T-SQL Code by clicking on the three elipses in a block\r\n",
                "\r\n",
                "![image](https://user-images.githubusercontent.com/6729780/59587952-600b3f00-90de-11e9-9801-d4c7664aaa84.png)\r\n",
                "\r\n",
                "or by using the button at the top of the Notebook\r\n",
                "\r\n",
                "![image](https://user-images.githubusercontent.com/6729780/59588101-c001e580-90de-11e9-8f86-f6b522c69322.png)\r\n",
                "\r\n",
                "Either of these creates a Code Block. You can enter your T-SQL code in the block\r\n",
                "\r\n",
                "![image](https://user-images.githubusercontent.com/6729780/59588323-3dc5f100-90df-11e9-85cf-9b9d5ae0c877.png)\r\n",
                "\r\n",
                "You can set a connection at the top of the notebook. It defaults to the first instance that you have connected to in Azure Data Studio\r\n",
                "\r\n",
                "![image](https://user-images.githubusercontent.com/6729780/59588669-0c99f080-90e0-11e9-95a0-95710f67b3b9.png)\r\n",
                "\r\n",
                "You can click the play button or F5 to run the code\r\n",
                "\r\n",
                "![image](https://user-images.githubusercontent.com/6729780/59588515-aca34a00-90df-11e9-9c76-6b9075ceca45.png)\r\n",
                "\r\n",
                "To change database you will `USE [DatabaseName]`\r\n",
                ""
            ],
            "metadata": {}
        },
        {
            "cell_type": "code",
            "source": "SELECT @@VERSION AS SQLVersion",
            "metadata": {},
            "outputs": [
                {
                    "output_type": "display_data",
                    "data": {
                        "text/html": "(1 row affected)"
                    },
                    "metadata": {}
                },
                {
                    "output_type": "display_data",
                    "data": {
                        "text/html": "Total execution time: 00:00:00.177"
                    },
                    "metadata": {}
                },
                {
                    "output_type": "execute_result",
                    "metadata": {},
                    "execution_count": 1,
                    "data": {
                        "application/vnd.dataresource+json": {
                            "schema": {
                                "fields": [
                                    {
                                        "name": "SQLVersion"
                                    }
                                ]
                            },
                            "data": [
                                {
                                    "0": "Microsoft SQL Server 2017 (RTM-CU11) (KB4462262) - 14.0.3038.14 (X64) \n\tSep 14 2018 13:53:44 \n\tCopyright (C) 2017 Microsoft Corporation\n\tDeveloper Edition (64-bit) on Linux (Ubuntu 16.04.5 LTS)"
                                }
                            ]
                        },
                        "text/html": "<table><tr><th>SQLVersion</th></tr><tr><td>Microsoft SQL Server 2017 (RTM-CU11) (KB4462262) - 14.0.3038.14 (X64) \n\tSep 14 2018 13:53:44 \n\tCopyright (C) 2017 Microsoft Corporation\n\tDeveloper Edition (64-bit) on Linux (Ubuntu 16.04.5 LTS)</td></tr></table>"
                    }
                }
            ],
            "execution_count": 1
        },
        {
            "cell_type": "code",
            "source": [
                "USE Northwind\r\n",
                "GO\r\n",
                "\r\n",
                "SELECT c.CategoryName,\r\n",
                "  (select sum(val)\r\n",
                "   from (SELECT TOP 5 od2.UnitPrice*od2.Quantity as val\r\n",
                "         FROM [Order Details] od2, Products p2\r\n",
                "         WHERE od2.ProductID = p2.ProductID\r\n",
                "         AND c.CategoryID = p2.CategoryID\r\n",
                "         ORDER BY 1 DESC\r\n",
                "        ) t\r\n",
                "  ) AS \"5 top orders in 1997\"\r\n",
                "FROM [Order Details] od, Products p, Categories c, Orders o \r\n",
                "WHERE od.ProductID = p. ProductID\r\n",
                "AND p.CategoryID = c.CategoryID\r\n",
                "AND od.OrderID = o.OrderID\r\n",
                "AND YEAR(o.OrderDate) = 1997\r\n",
                "GROUP BY c.CategoryName, c.CategoryId"
            ],
            "metadata": {},
            "outputs": [
                {
                    "output_type": "display_data",
                    "data": {
                        "text/html": "Commands completed successfully."
                    },
                    "metadata": {}
                },
                {
                    "output_type": "display_data",
                    "data": {
                        "text/html": "(8 rows affected)"
                    },
                    "metadata": {}
                },
                {
                    "output_type": "display_data",
                    "data": {
                        "text/html": "Total execution time: 00:00:00.297"
                    },
                    "metadata": {}
                },
                {
                    "output_type": "execute_result",
                    "metadata": {},
                    "execution_count": 2,
                    "data": {
                        "application/vnd.dataresource+json": {
                            "schema": {
                                "fields": [
                                    {
                                        "name": "CategoryName"
                                    },
                                    {
                                        "name": "5 top orders in 1997"
                                    }
                                ]
                            },
                            "data": [
                                {
                                    "0": "Beverages",
                                    "1": "63240.0000"
                                },
                                {
                                    "0": "Condiments",
                                    "1": "12989.5000"
                                },
                                {
                                    "0": "Confections",
                                    "1": "19379.0000"
                                },
                                {
                                    "0": "Dairy Products",
                                    "1": "21830.0000"
                                },
                                {
                                    "0": "Grains/Cereals",
                                    "1": "13822.5000"
                                },
                                {
                                    "0": "Meat/Poultry",
                                    "1": "35899.1000"
                                },
                                {
                                    "0": "Produce",
                                    "1": "17638.0000"
                                },
                                {
                                    "0": "Seafood",
                                    "1": "13082.5000"
                                }
                            ]
                        },
                        "text/html": "<table><tr><th>CategoryName</th><th>5 top orders in 1997</th></tr><tr><td>Beverages</td><td>63240.0000</td></tr><tr><td>Condiments</td><td>12989.5000</td></tr><tr><td>Confections</td><td>19379.0000</td></tr><tr><td>Dairy Products</td><td>21830.0000</td></tr><tr><td>Grains/Cereals</td><td>13822.5000</td></tr><tr><td>Meat/Poultry</td><td>35899.1000</td></tr><tr><td>Produce</td><td>17638.0000</td></tr><tr><td>Seafood</td><td>13082.5000</td></tr></table>"
                    }
                }
            ],
            "execution_count": 2
        },
        {
            "cell_type": "markdown",
            "source": [
                "# Results\r\n",
                "\r\n",
                "The results are saved with the notebook. This means that you can send the notebook to your clients, give it to your off-site engineers or first line support and you will then know *exactly* which queries they ran and the results of that query. So you can easily create runbooks for certain scenarios.\r\n",
                "\r\n",
                "You could also use notebooks for upgrades or migrations and have a recorded timeline of what happened.\r\n",
                "\r\n",
                "That would also be good for incident resolution - Let your mind go wild :-)"
            ],
            "metadata": {}
        },
        {
            "cell_type": "code",
            "source": [
                "SELECT \r\n",
                "\tar.replica_server_name, \r\n",
                "\tadc.database_name, \r\n",
                "\tag.name AS ag_name, \r\n",
                "\tdrs.is_local, \r\n",
                "\tdrs.is_primary_replica, \r\n",
                "\tdrs.synchronization_state_desc, \r\n",
                "\tdrs.is_commit_participant, \r\n",
                "\tdrs.synchronization_health_desc, \r\n",
                "\tdrs.recovery_lsn, \r\n",
                "\tdrs.truncation_lsn, \r\n",
                "\tdrs.last_sent_lsn, \r\n",
                "\tdrs.last_sent_time, \r\n",
                "\tdrs.last_received_lsn, \r\n",
                "\tdrs.last_received_time, \r\n",
                "\tdrs.last_hardened_lsn, \r\n",
                "\tdrs.last_hardened_time, \r\n",
                "\tdrs.last_redone_lsn, \r\n",
                "\tdrs.last_redone_time, \r\n",
                "\tdrs.log_send_queue_size, \r\n",
                "\tdrs.log_send_rate, \r\n",
                "\tdrs.redo_queue_size, \r\n",
                "\tdrs.redo_rate, \r\n",
                "\tdrs.filestream_send_rate, \r\n",
                "\tdrs.end_of_log_lsn, \r\n",
                "\tdrs.last_commit_lsn, \r\n",
                "\tdrs.last_commit_time\r\n",
                "FROM sys.dm_hadr_database_replica_states AS drs\r\n",
                "INNER JOIN sys.availability_databases_cluster AS adc \r\n",
                "\tON drs.group_id = adc.group_id AND \r\n",
                "\tdrs.group_database_id = adc.group_database_id\r\n",
                "INNER JOIN sys.availability_groups AS ag\r\n",
                "\tON ag.group_id = drs.group_id\r\n",
                "INNER JOIN sys.availability_replicas AS ar \r\n",
                "\tON drs.group_id = ar.group_id AND \r\n",
                "\tdrs.replica_id = ar.replica_id\r\n",
                "ORDER BY \r\n",
                "\tag.name, \r\n",
                "\tar.replica_server_name, \r\n",
                "\tadc.database_name;"
            ],
            "metadata": {},
            "outputs": [
                {
                    "output_type": "display_data",
                    "data": {
                        "text/html": "(0 rows affected)"
                    },
                    "metadata": {}
                },
                {
                    "output_type": "execute_result",
                    "metadata": {},
                    "execution_count": 5,
                    "data": {
                        "application/vnd.dataresource+json": {
                            "schema": {
                                "fields": [
                                    {
                                        "name": "replica_server_name"
                                    },
                                    {
                                        "name": "database_name"
                                    },
                                    {
                                        "name": "ag_name"
                                    },
                                    {
                                        "name": "is_local"
                                    },
                                    {
                                        "name": "is_primary_replica"
                                    },
                                    {
                                        "name": "synchronization_state_desc"
                                    },
                                    {
                                        "name": "is_commit_participant"
                                    },
                                    {
                                        "name": "synchronization_health_desc"
                                    },
                                    {
                                        "name": "recovery_lsn"
                                    },
                                    {
                                        "name": "truncation_lsn"
                                    },
                                    {
                                        "name": "last_sent_lsn"
                                    },
                                    {
                                        "name": "last_sent_time"
                                    },
                                    {
                                        "name": "last_received_lsn"
                                    },
                                    {
                                        "name": "last_received_time"
                                    },
                                    {
                                        "name": "last_hardened_lsn"
                                    },
                                    {
                                        "name": "last_hardened_time"
                                    },
                                    {
                                        "name": "last_redone_lsn"
                                    },
                                    {
                                        "name": "last_redone_time"
                                    },
                                    {
                                        "name": "log_send_queue_size"
                                    },
                                    {
                                        "name": "log_send_rate"
                                    },
                                    {
                                        "name": "redo_queue_size"
                                    },
                                    {
                                        "name": "redo_rate"
                                    },
                                    {
                                        "name": "filestream_send_rate"
                                    },
                                    {
                                        "name": "end_of_log_lsn"
                                    },
                                    {
                                        "name": "last_commit_lsn"
                                    },
                                    {
                                        "name": "last_commit_time"
                                    }
                                ]
                            },
                            "data": []
                        },
                        "text/html": "<table><tr><th>replica_server_name</th><th>database_name</th><th>ag_name</th><th>is_local</th><th>is_primary_replica</th><th>synchronization_state_desc</th><th>is_commit_participant</th><th>synchronization_health_desc</th><th>recovery_lsn</th><th>truncation_lsn</th><th>last_sent_lsn</th><th>last_sent_time</th><th>last_received_lsn</th><th>last_received_time</th><th>last_hardened_lsn</th><th>last_hardened_time</th><th>last_redone_lsn</th><th>last_redone_time</th><th>log_send_queue_size</th><th>log_send_rate</th><th>redo_queue_size</th><th>redo_rate</th><th>filestream_send_rate</th><th>end_of_log_lsn</th><th>last_commit_lsn</th><th>last_commit_time</th></tr></table>"
                    }
                },
                {
                    "output_type": "display_data",
                    "data": {
                        "text/html": "Total execution time: 00:00:00.029"
                    },
                    "metadata": {}
                }
            ],
            "execution_count": 5
        },
        {
            "cell_type": "code",
            "source": "SELECT @@version AS 'Hugo thinks differently'",
            "metadata": {},
            "outputs": [
                {
                    "output_type": "display_data",
                    "data": {
                        "text/html": "(1 row affected)"
                    },
                    "metadata": {}
                },
                {
                    "output_type": "display_data",
                    "data": {
                        "text/html": "Total execution time: 00:00:00.013"
                    },
                    "metadata": {}
                },
                {
                    "output_type": "execute_result",
                    "execution_count": 4,
                    "data": {
                        "application/vnd.dataresource+json": {
                            "schema": {
                                "fields": [
                                    {
                                        "name": "Hugo thinks differently"
                                    }
                                ]
                            },
                            "data": [
                                {
                                    "0": "Microsoft SQL Server 2017 (RTM-CU11) (KB4462262) - 14.0.3038.14 (X64) \n\tSep 14 2018 13:53:44 \n\tCopyright (C) 2017 Microsoft Corporation\n\tDeveloper Edition (64-bit) on Linux (Ubuntu 16.04.5 LTS)"
                                }
                            ]
                        },
                        "text/html": "<table><tr><th>Hugo thinks differently</th></tr><tr><td>Microsoft SQL Server 2017 (RTM-CU11) (KB4462262) - 14.0.3038.14 (X64) \n\tSep 14 2018 13:53:44 \n\tCopyright (C) 2017 Microsoft Corporation\n\tDeveloper Edition (64-bit) on Linux (Ubuntu 16.04.5 LTS)</td></tr></table>"
                    },
                    "metadata": {}
                }
            ],
            "execution_count": 4
        }
    ]
}