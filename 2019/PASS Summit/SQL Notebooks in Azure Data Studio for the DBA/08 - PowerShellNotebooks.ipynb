{
    "metadata": {
        "kernelspec": {
            "name": "powershell",
            "display_name": "PowerShell"
        },
        "language_info": {
            "name": "powershell",
            "codemirror_mode": "shell",
            "mimetype": "text/x-sh",
            "file_extension": ".ps1"
        }
    },
    "nbformat_minor": 2,
    "nbformat": 4,
    "cells": [
        {
            "cell_type": "markdown",
            "source": [
                "# Dbachecks\r\n",
                "\r\n",
                "We can use dbachecks within a notebook  \r\n",
                "This will be really useful for  \r\n",
                "- Consultants visiting clients\r\n",
                "- Sanity Checks following upgrades, maintenance windows"
            ],
            "metadata": {
                "azdata_cell_guid": "7182dc05-c024-4c42-97fa-c9ef461b3960"
            }
        },
        {
            "cell_type": "markdown",
            "source": [
                "Ensure the estate is running with DbaChecks"
            ],
            "metadata": {
                "azdata_cell_guid": "afab42c4-35e1-4c6a-8e15-5224a2691d9a"
            }
        },
        {
            "cell_type": "code",
            "source": [
                "# Define some variables for the instances and the credential\n",
                "$sql0 = 'localhost,15591'\n",
                "$sql1 = 'localhost,15592'\n",
                "$cred = Import-Clixml -Path C:\\MSSQL\\BACKUP\\sqladmin.cred\n",
                "\n",
                "# Set the Instances for the Checks into the config to save \n",
                "Set-DbcConfig -Name app.sqlinstance $sql0,$sql1\n",
                "# Define the config for the authentication\n",
                "Set-DbcConfig -Name policy.connection.authscheme -Value SQL\n",
                "# Don't try and ping the containers\n",
                "Set-DbcConfig -Name skip.connection.ping -Value $true\n",
                "# Don't try to remote into the containers\n",
                "Set-DbcConfig -Name skip.connection.remoting -Value $true\n",
                "\n",
                "# Run the Instance Connection Checks\n",
                "Invoke-DbcCheck -Check InstanceConnection -SqlCredential $cred\n",
                ""
            ],
            "metadata": {
                "azdata_cell_guid": "d427790d-6bef-4608-9c35-925c6f3f2379"
            },
            "outputs": [],
            "execution_count": 8
        },
        {
            "cell_type": "markdown",
            "source": [
                "Lets Check some other configuration settings"
            ],
            "metadata": {
                "azdata_cell_guid": "1245cf56-eff4-425f-992c-b8c7119e3cd4"
            }
        },
        {
            "cell_type": "code",
            "source": [
                "$InvokeDbcCheck = @{\r\n",
                "    Check = 'NetworkLatency', 'OlaInstalled', 'AgentAlert', 'AutoUpdateStatistics' \r\n",
                "    SqlCredential = $cred\r\n",
                "}\r\n",
                "Invoke-DbcCheck @InvokeDbcCheck"
            ],
            "metadata": {
                "azdata_cell_guid": "39ad2463-241e-40b5-b5fc-a1af81063f0d"
            },
            "outputs": [],
            "execution_count": 7
        },
        {
            "cell_type": "markdown",
            "source": [
                "Too much information output? Let's only return the summary and also create the Json for the PowerBi"
            ],
            "metadata": {
                "azdata_cell_guid": "79d90653-81a6-4a0c-8176-079e317dd2be"
            }
        },
        {
            "cell_type": "code",
            "source": [
                "$InvokeDbcCheck = @{\r\n",
                "    Check = 'NetworkLatency', 'OlaInstalled', 'AgentAlert', 'AutoUpdateStatistics' \r\n",
                "    SqlCredential = $cred\r\n",
                "    PassThru = $true\r\n",
                "    Show = 'Summary'\r\n",
                "}\r\n",
                "Invoke-DbcCheck @InvokeDbcCheck | Update-DbcPowerBiDataSource -Environment PowerShellNotebooksFTW"
            ],
            "metadata": {
                "azdata_cell_guid": "825b3a2c-647c-4c43-9d2c-5cf825b1648a"
            },
            "outputs": [],
            "execution_count": 9
        },
        {
            "cell_type": "markdown",
            "source": [
                "Open the PowerBi File"
            ],
            "metadata": {
                "azdata_cell_guid": "ddca05fa-21f1-489d-bf24-077c7b9e18f1"
            }
        },
        {
            "cell_type": "code",
            "source": [
                "Start-DbcPowerBi"
            ],
            "metadata": {
                "azdata_cell_guid": "b267d9ca-4b77-4356-8f0f-d4e8f9da39bb"
            },
            "outputs": [],
            "execution_count": 10
        },
        {
            "cell_type": "markdown",
            "source": [
                "Want to learn more about DbaChecks? You can find many blog posts from this link\r\n",
                "\r\n",
                "https://dbatools.io/introducing-dbachecks/\r\n",
                "\r\n",
                "or on my website [sqldbawithabeard.com](sqldbawithabeard.com)\r\n",
                "\r\n",
                "Want to put the results into a database\r\n",
                "\r\n",
                "https://sqldbawithabeard.com/2018/05/23/dbachecks-save-the-results-to-a-database-for-historical-reporting/\r\n",
                "\r\n",
                "https://sqldbawithabeard.com/2018/05/28/dbachecks-dark-mode-historical-validation-powerbi/"
            ],
            "metadata": {
                "azdata_cell_guid": "dd79eef6-31e7-4536-b515-896ad01e1189"
            }
        }
    ]
}