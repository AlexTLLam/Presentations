{
    "metadata": {
        "kernelspec": {
            "name": "SQL",
            "display_name": "SQL",
            "language": "sql"
        },
        "language_info": {
            "name": "sql",
            "version": ""
        }
    },
    "nbformat_minor": 2,
    "nbformat": 4,
    "cells": [
        {
            "cell_type": "markdown",
            "source": "# T-SQL in a SQL Notebook\r\n\r\nNow that we can add some PowerShell to our Notebooks, I can show you how to add some T-SQL.\r\n\r\nFirst lets create a container to use for our notebook\r\n\r\nI am going to use the dbatools docker images for this. You can read [more about that here](https://dbatools.io/docker/)\r\n\r\nI am going to use the docker-compose file from [my DockerStuff repo](https://github.com/SQLDBAWithABeard/DockerStuff/tree/master/dbatools-2-instances-AG) which I have saved locally. This uses a local directory for backup storage.\r\n\r\n<a href=\"command:workbench.action.terminal.sendSequence?%7B%22text%22%3A%22 if (-not (%24IsLinux -or %24IsMacOS) ) \\u000A%7b \\u000A    if (-not(Test-Path C:%5c%5c%5c%5cMSSQL%5c%5c%5c%5cBACKUP)) \\u000A    %7b \\u000A        Write-Output \\u0027I\\u0027\\u0027m going to create C:%5c%5c%5c%5cMSSQL%5c%5c%5c%5cBACKUPS so that the docker-compose will work\\u0027\\u000A        New-Item C:%5c%5cMSSQL1%5c%5cBACKUP1 -ItemType Directory \\u000A    %7d    else %7b \\u000A        Write-Output \\u0027C:%5c%5c%5c%5cMSSQL%5c%5c%5c%5cBACKUPS already exists\\u0027 %7d \\u000A%7d elseif(-not %24IsMacOS)%7b\\u000A    if (-not(Test-Path %2ftmp%2fdocker%2fvolumes%2fdbatools)) \\u000A    %7b \\u000A        Write-Output \\u0027I\\u0027\\u0027m going to create %2ftmp%2fdocker%2fvolumes%2fdbatools so that the docker-compose will work\\u0027\\u000A        New-Item %2ftmp%2fdocker%2fvolumes%2fdbatools -ItemType Directory \\u000A    %7d    else %7b \\u000A        Write-Output \\u0027%2ftmp%2fdocker%2fvolumes%2fdbatools already exists\\u0027 %7d \\u000A%7d else %7b Write-Warning \\u0027Sorry This code won\\u0027\\u0027t run on Mac - You will have to create the folder manually and edit the docker compose file\\u0027 %7d \\u000A \\u000D %22%7D\">This link will create the volumes for the containers to work</a>\r\n\r\n<a href=\"command:workbench.action.terminal.sendSequence?%7B%22text%22%3A%22 docker-compose -f C:%5C%5Cdbachecks%5C%5Cdbatools-docker-compose.yml up -d \\u000D %22%7D\">This will run the docker compose and create the containers</a>\r\n\r\n![image](https://user-images.githubusercontent.com/6729780/59587466-39003d80-90dd-11e9-8ca7-2c1550cb96cb.png)\r\n\r\n\r\n\r\n\r\n",
            "metadata": {}
        },
        {
            "cell_type": "markdown",
            "source": "# T-SQL\r\n\r\nYou can add T-SQL Code by clicking on the three elipses in a block\r\n\r\n![image](https://user-images.githubusercontent.com/6729780/59587952-600b3f00-90de-11e9-9801-d4c7664aaa84.png)\r\n\r\nor by using the button at the top of the Notebook\r\n\r\n![image](https://user-images.githubusercontent.com/6729780/59588101-c001e580-90de-11e9-8f86-f6b522c69322.png)\r\n\r\nEither of these creates a Code Block. You can enter your T-SQL code in the block\r\n\r\n![image](https://user-images.githubusercontent.com/6729780/59588323-3dc5f100-90df-11e9-85cf-9b9d5ae0c877.png)\r\n\r\nYou can set a connection at the top of the notebook. It defaults to the first instance that you have connected to in Azure Data Studio\r\n\r\n![image](https://user-images.githubusercontent.com/6729780/59588669-0c99f080-90e0-11e9-95a0-95710f67b3b9.png)\r\n\r\nYou can click the play button or F5 to run the code\r\n\r\n![image](https://user-images.githubusercontent.com/6729780/59588515-aca34a00-90df-11e9-9c76-6b9075ceca45.png)\r\n\r\nTo change database you will `USE [DatabaseName]`\r\n",
            "metadata": {}
        },
        {
            "cell_type": "code",
            "source": "SELECT @@VERSION AS SQLVersion",
            "metadata": {},
            "outputs": [],
            "execution_count": 1
        },
        {
            "cell_type": "code",
            "source": "USE Northwind\r\nGO\r\n\r\nSELECT c.CategoryName,\r\n  (select sum(val)\r\n   from (SELECT TOP 5 od2.UnitPrice*od2.Quantity as val\r\n         FROM [Order Details] od2, Products p2\r\n         WHERE od2.ProductID = p2.ProductID\r\n         AND c.CategoryID = p2.CategoryID\r\n         ORDER BY 1 DESC\r\n        ) t\r\n  ) AS \"5 top orders in 1997\"\r\nFROM [Order Details] od, Products p, Categories c, Orders o \r\nWHERE od.ProductID = p. ProductID\r\nAND p.CategoryID = c.CategoryID\r\nAND od.OrderID = o.OrderID\r\nAND YEAR(o.OrderDate) = 1997\r\nGROUP BY c.CategoryName, c.CategoryId",
            "metadata": {},
            "outputs": [
                {
                    "output_type": "display_data",
                    "data": {
                        "text/html": "Commands completed successfully."
                    },
                    "metadata": {}
                },
                {
                    "output_type": "display_data",
                    "data": {
                        "text/html": "(8 rows affected)"
                    },
                    "metadata": {}
                },
                {
                    "output_type": "display_data",
                    "data": {
                        "text/html": "Total execution time: 00:00:00.212"
                    },
                    "metadata": {}
                },
                {
                    "output_type": "execute_result",
                    "metadata": {},
                    "execution_count": 1,
                    "data": {
                        "application/vnd.dataresource+json": {
                            "schema": {
                                "fields": [
                                    {
                                        "name": "CategoryName"
                                    },
                                    {
                                        "name": "5 top orders in 1997"
                                    }
                                ]
                            },
                            "data": [
                                {
                                    "0": "Beverages",
                                    "1": "63240.0000"
                                },
                                {
                                    "0": "Condiments",
                                    "1": "12989.5000"
                                },
                                {
                                    "0": "Confections",
                                    "1": "19379.0000"
                                },
                                {
                                    "0": "Dairy Products",
                                    "1": "21830.0000"
                                },
                                {
                                    "0": "Grains/Cereals",
                                    "1": "13822.5000"
                                },
                                {
                                    "0": "Meat/Poultry",
                                    "1": "35899.1000"
                                },
                                {
                                    "0": "Produce",
                                    "1": "17638.0000"
                                },
                                {
                                    "0": "Seafood",
                                    "1": "13082.5000"
                                }
                            ]
                        },
                        "text/html": "<table><tr><th>CategoryName</th><th>5 top orders in 1997</th></tr><tr><td>Beverages</td><td>63240.0000</td></tr><tr><td>Condiments</td><td>12989.5000</td></tr><tr><td>Confections</td><td>19379.0000</td></tr><tr><td>Dairy Products</td><td>21830.0000</td></tr><tr><td>Grains/Cereals</td><td>13822.5000</td></tr><tr><td>Meat/Poultry</td><td>35899.1000</td></tr><tr><td>Produce</td><td>17638.0000</td></tr><tr><td>Seafood</td><td>13082.5000</td></tr></table>"
                    }
                }
            ],
            "execution_count": 1
        },
        {
            "cell_type": "markdown",
            "source": "# Results\r\n\r\nThe results are saved with the notebook. This means that you can send the notebook to your clients, give it to your off-site engineers or first line support and you will then know *exactly* which queries they ran and the results of that query. So you can easily create runbooks for certain scenarios.\r\n\r\nYou could also use notebooks for upgrades or migrations and have a recorded timeline of what happened.\r\n\r\nThat would also be good for incident resolution - Let your mind go wild :-)",
            "metadata": {}
        },
        {
            "cell_type": "markdown",
            "source": "# Availability Groups\r\n\r\nOne thing that you could do is to use code blocks for users to follow to perform repeated tasks like maybe creating Availability Groups.\r\n\r\nI was going to create a demo showing exaclty that but actually its so much easierr to do it with dbatools I thought I would do that instead!\r\n\r\nThis is the code\r\n\r\n    $cred = Import-Clixml -Path dockercompose:\\dbatools-2-instances-AG\\sqladmincred.xml\r\n    $sqlinstance1 = 'localhost,15591'\r\n    $sqlinstance2 = 'localhost,15592'\r\n    $AGName = 'dbatools-ag'\r\n\r\n    $params = @{\r\n        Primary = $sqlinstance1\r\n        PrimarySqlCredential = $cred\r\n        Secondary = $sqlinstance2\r\n        SecondarySqlCredential = $cred\r\n        Name = $AGName\r\n        Database = 'pubs'\r\n        ClusterType = 'None'\r\n        SeedingMode = 'Automatic'\r\n        FailoverMode = 'Manual'\r\n        Confirm = $false\r\n    }\r\n    \r\n    # execute the command\r\n    New-DbaAvailabilityGroup @params \r\n\r\n<a href=\"command:workbench.action.terminal.sendSequence?%7B%22text%22%3A%22 \\u000ASystem.Management.Automation.PSCredential %3d Import-Clixml -Path %2fhome%2frob%2fDocuments%2fgit%2fDockerStuff%2fdbatools-2-instances-AG%2flinux%2fsqladmin.cred\\u000Alocalhost%2c15591 %3d \\u0027localhost%2c15591\\u0027\\u000Alocalhost%2c15592 %3d \\u0027localhost%2c15592\\u0027\\u000Adbatools-ag %3d \\u0027dbatools-ag\\u0027\\u000ASystem.Collections.Hashtable %3d %40%7b\\u000A    Primary %3d localhost%2c15591\\u000A    PrimarySqlCredential %3d System.Management.Automation.PSCredential\\u000A    Name %3d dbatools-ag\\u000A    Database %3d \\u0027pubs\\u0027\\u000A    ClusterType %3d \\u0027External\\u0027\\u000A    SeedingMode %3d \\u0027Automatic\\u0027\\u000A    FailoverMode %3d \\u0027External\\u0027\\u000A    Confirm %3d False\\u000A%7d\\u000ASecondary %3d localhost%2c15592\\u000ASecondarySqlCredential %3d System.Management.Automation.PSCredential\\u000A%23 execute the command\\u000ANew-DbaAvailabilityGroup %40params \\u000AGet-DbaAvailabilityGroup -SqlInstance localhost%2c15591 -SqlCredential System.Management.Automation.PSCredential %7c Add-DbaAgReplica -SqlInstance localhost%2c15592 -SqlCredential System.Management.Automation.PSCredential -FailoverMode External \\u000D %22%7D\">Lets create an AG - This won't work very well on Linux in docker</a>\r\n\r\nI don't know why the AG DB Status doesnt show in the report but I can show it with T-SQL\r\n\r\n(See how we mix PowerShell, Markdown and T-SQL to create a run book ?)",
            "metadata": {}
        },
        {
            "cell_type": "code",
            "source": "SELECT \r\n\tar.replica_server_name, \r\n\tadc.database_name, \r\n\tag.name AS ag_name, \r\n\tdrs.is_local, \r\n\tdrs.is_primary_replica, \r\n\tdrs.synchronization_state_desc, \r\n\tdrs.is_commit_participant, \r\n\tdrs.synchronization_health_desc, \r\n\tdrs.recovery_lsn, \r\n\tdrs.truncation_lsn, \r\n\tdrs.last_sent_lsn, \r\n\tdrs.last_sent_time, \r\n\tdrs.last_received_lsn, \r\n\tdrs.last_received_time, \r\n\tdrs.last_hardened_lsn, \r\n\tdrs.last_hardened_time, \r\n\tdrs.last_redone_lsn, \r\n\tdrs.last_redone_time, \r\n\tdrs.log_send_queue_size, \r\n\tdrs.log_send_rate, \r\n\tdrs.redo_queue_size, \r\n\tdrs.redo_rate, \r\n\tdrs.filestream_send_rate, \r\n\tdrs.end_of_log_lsn, \r\n\tdrs.last_commit_lsn, \r\n\tdrs.last_commit_time\r\nFROM sys.dm_hadr_database_replica_states AS drs\r\nINNER JOIN sys.availability_databases_cluster AS adc \r\n\tON drs.group_id = adc.group_id AND \r\n\tdrs.group_database_id = adc.group_database_id\r\nINNER JOIN sys.availability_groups AS ag\r\n\tON ag.group_id = drs.group_id\r\nINNER JOIN sys.availability_replicas AS ar \r\n\tON drs.group_id = ar.group_id AND \r\n\tdrs.replica_id = ar.replica_id\r\nORDER BY \r\n\tag.name, \r\n\tar.replica_server_name, \r\n\tadc.database_name;",
            "metadata": {},
            "outputs": [
                {
                    "output_type": "display_data",
                    "data": {
                        "text/html": "(2 rows affected)"
                    },
                    "metadata": {}
                },
                {
                    "output_type": "display_data",
                    "data": {
                        "text/html": "Total execution time: 00:00:00.074"
                    },
                    "metadata": {}
                },
                {
                    "output_type": "execute_result",
                    "metadata": {},
                    "execution_count": 3,
                    "data": {
                        "application/vnd.dataresource+json": {
                            "schema": {
                                "fields": [
                                    {
                                        "name": "replica_server_name"
                                    },
                                    {
                                        "name": "database_name"
                                    },
                                    {
                                        "name": "ag_name"
                                    },
                                    {
                                        "name": "is_local"
                                    },
                                    {
                                        "name": "is_primary_replica"
                                    },
                                    {
                                        "name": "synchronization_state_desc"
                                    },
                                    {
                                        "name": "is_commit_participant"
                                    },
                                    {
                                        "name": "synchronization_health_desc"
                                    },
                                    {
                                        "name": "recovery_lsn"
                                    },
                                    {
                                        "name": "truncation_lsn"
                                    },
                                    {
                                        "name": "last_sent_lsn"
                                    },
                                    {
                                        "name": "last_sent_time"
                                    },
                                    {
                                        "name": "last_received_lsn"
                                    },
                                    {
                                        "name": "last_received_time"
                                    },
                                    {
                                        "name": "last_hardened_lsn"
                                    },
                                    {
                                        "name": "last_hardened_time"
                                    },
                                    {
                                        "name": "last_redone_lsn"
                                    },
                                    {
                                        "name": "last_redone_time"
                                    },
                                    {
                                        "name": "log_send_queue_size"
                                    },
                                    {
                                        "name": "log_send_rate"
                                    },
                                    {
                                        "name": "redo_queue_size"
                                    },
                                    {
                                        "name": "redo_rate"
                                    },
                                    {
                                        "name": "filestream_send_rate"
                                    },
                                    {
                                        "name": "end_of_log_lsn"
                                    },
                                    {
                                        "name": "last_commit_lsn"
                                    },
                                    {
                                        "name": "last_commit_time"
                                    }
                                ]
                            },
                            "data": [
                                {
                                    "0": "36f57610fa49",
                                    "1": "pubs",
                                    "2": "dbatools-ag",
                                    "3": "0",
                                    "4": "0",
                                    "5": "NOT SYNCHRONIZING",
                                    "6": "0",
                                    "7": "NOT_HEALTHY",
                                    "8": "1",
                                    "9": "34000000035200038",
                                    "10": "1",
                                    "11": "2019-08-31 08:08:20.787",
                                    "12": "1",
                                    "13": "2019-08-31 08:08:20.787",
                                    "14": "0",
                                    "15": "2019-08-31 08:08:20.787",
                                    "16": "0",
                                    "17": "2019-08-31 08:08:20.787",
                                    "18": "NULL",
                                    "19": "0",
                                    "20": "0",
                                    "21": "0",
                                    "22": "0",
                                    "23": "0",
                                    "24": "0",
                                    "25": "NULL"
                                },
                                {
                                    "0": "82595dbaac28",
                                    "1": "pubs",
                                    "2": "dbatools-ag",
                                    "3": "1",
                                    "4": "1",
                                    "5": "SYNCHRONIZED",
                                    "6": "1",
                                    "7": "HEALTHY",
                                    "8": "4294967295429496729500001",
                                    "9": "34000000035200038",
                                    "10": "NULL",
                                    "11": "NULL",
                                    "12": "NULL",
                                    "13": "NULL",
                                    "14": "37000000024800001",
                                    "15": "NULL",
                                    "16": "NULL",
                                    "17": "NULL",
                                    "18": "NULL",
                                    "19": "NULL",
                                    "20": "NULL",
                                    "21": "NULL",
                                    "22": "NULL",
                                    "23": "37000000024000001",
                                    "24": "37000000020000025",
                                    "25": "2019-08-31 08:04:24.667"
                                }
                            ]
                        },
                        "text/html": "<table><tr><th>replica_server_name</th><th>database_name</th><th>ag_name</th><th>is_local</th><th>is_primary_replica</th><th>synchronization_state_desc</th><th>is_commit_participant</th><th>synchronization_health_desc</th><th>recovery_lsn</th><th>truncation_lsn</th><th>last_sent_lsn</th><th>last_sent_time</th><th>last_received_lsn</th><th>last_received_time</th><th>last_hardened_lsn</th><th>last_hardened_time</th><th>last_redone_lsn</th><th>last_redone_time</th><th>log_send_queue_size</th><th>log_send_rate</th><th>redo_queue_size</th><th>redo_rate</th><th>filestream_send_rate</th><th>end_of_log_lsn</th><th>last_commit_lsn</th><th>last_commit_time</th></tr><tr><td>36f57610fa49</td><td>pubs</td><td>dbatools-ag</td><td>0</td><td>0</td><td>NOT SYNCHRONIZING</td><td>0</td><td>NOT_HEALTHY</td><td>1</td><td>34000000035200038</td><td>1</td><td>2019-08-31 08:08:20.787</td><td>1</td><td>2019-08-31 08:08:20.787</td><td>0</td><td>2019-08-31 08:08:20.787</td><td>0</td><td>2019-08-31 08:08:20.787</td><td>NULL</td><td>0</td><td>0</td><td>0</td><td>0</td><td>0</td><td>0</td><td>NULL</td></tr><tr><td>82595dbaac28</td><td>pubs</td><td>dbatools-ag</td><td>1</td><td>1</td><td>SYNCHRONIZED</td><td>1</td><td>HEALTHY</td><td>4294967295429496729500001</td><td>34000000035200038</td><td>NULL</td><td>NULL</td><td>NULL</td><td>NULL</td><td>37000000024800001</td><td>NULL</td><td>NULL</td><td>NULL</td><td>NULL</td><td>NULL</td><td>NULL</td><td>NULL</td><td>NULL</td><td>37000000024000001</td><td>37000000020000025</td><td>2019-08-31 08:04:24.667</td></tr></table>"
                    }
                }
            ],
            "execution_count": 3
        },
        {
            "cell_type": "code",
            "source": "SELECT @@version AS 'Hugo thinks differently'",
            "metadata": {},
            "outputs": [],
            "execution_count": 5
        }
    ]
}