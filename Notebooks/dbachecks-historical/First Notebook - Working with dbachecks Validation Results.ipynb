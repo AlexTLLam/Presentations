{
    "metadata": {
        "kernelspec": {
            "name": "SQL",
            "display_name": "SQL",
            "language": "sql"
        },
        "language_info": {
            "name": "sql",
            "version": ""
        }
    },
    "nbformat_minor": 2,
    "nbformat": 4,
    "cells": [
        {
            "cell_type": "markdown",
            "source": "# Working with dbachecks Historical Results\r\n\r\nThis guide will assist you to get used to the database schema where dbachecks historical reports are stored if you have followed the blog post [dbachecks – Save the results to a database for historical reporting](https://sqldbawithabeard.com/2018/05/23/dbachecks-save-the-results-to-a-database-for-historical-reporting/)\r\n\r\nThe first thing that is required is to update the data in the database so that it reflects the current date as if dbachecks had been run today\r\n",
            "metadata": {}
        },
        {
            "cell_type": "markdown",
            "source": "## Demo Database and container\r\n\r\nI have provided you with a demo backup which you can find in my [GitHub Presentations Repository](https://github.com/SQLDBAWithABeard/Presentations/tree/master/Notebooks/dbachecks-historical).\r\n\r\nDownload this backup file and save it in a folder, I am going to assume that you are using `C:\\dbachecks` for the rest of this notebook. I am also going to assume that you have Docker For Windows on your laptop (This will work in Docker running on other OS's but you will have to alter the paths accordingly). You will also find a docker-compose file in the [Repository](https://github.com/SQLDBAWithABeard/Presentations/blob/master/Notebooks/dbachecks-historical/docker-compose.yml) which you can use to spin up a SQL container and restore the backup. (Yes, I know I could have created a container with the datbase already embedded but this gives you more things to learn about!)\r\n\r\nThe docker-compose file looks like this\r\n````\r\nversion: '3.7'\r\n\r\nservices:\r\n    HistoricalReporting:\r\n        image: mcr.microsoft.com/mssql/server:2019-CTP2.4-ubuntu\r\n        ports:  \r\n          - \"15594:1433\"\r\n        environment:\r\n          SA_PASSWORD: \"Password0!\"\r\n          ACCEPT_EULA: \"Y\"\r\n        volumes: \r\n          - C:\\dbachecks:/var/opt/mssql/backups\r\n````\r\nIt will create \r\n\r\n- a single service (a container (See the [Docker Documentation for a full definition of a service](https://docs.docker.com/get-started/part3/))) called `HistoricalReporting`\r\n- assign port 1433 on the container to port 15594 on the host\r\n- add the environmental variables for the SA Password and the acceptance of the EULA\r\n- map the directory c:\\dbachecks on the host (your laptop) to the directory /var/opt/mssql/backups in the container\r\n\r\nIt will create the container using the Community Technical Preview 2.4 image of SQL Server 2019 running on Ubuntu from the Microsoft Container Registry for SQL Server.\r\n\r\nYou can, and should, understand how to change those values in the docker-compose file for different values so that you can spin up a container with a different image (maybe a later or earlier versions of SQL Server) or store your files in a different directory to `C:\\dbachecks` or becuase you are allergic to `Password0!`\r\n\r\nOnce your docker-compose.yml file is ready open PowerShell (Windows or Core both will work) and type\r\n\r\n````\r\nSet-Locatioon c:\\dbachecks\r\ndocker-compose up -d\r\n````\r\n",
            "metadata": {}
        },
        {
            "cell_type": "code",
            "source": "version: '3.7'\r\n\r\nservices:\r\n    2019-CTP24:\r\n        image: mcr.microsoft.com/mssql/server:2019-CTP2.4-ubuntu\r\n        ports:  \r\n          - \"15594:1433\"\r\n        environment:\r\n          SA_PASSWORD: \"Password0!\"\r\n          ACCEPT_EULA: \"Y\"\r\n        volumes: \r\n          - D:\\Git:/var/opt/mssql/backups",
            "metadata": {},
            "outputs": []
        },
        {
            "cell_type": "code",
            "source": "/*Resets the date for the demo*/\r\nUSE [ValidationResults]\r\nGO\r\n\r\nUPDATE [dbachecks].[Prod_dbachecks_summary]\r\n   SET [TestDate] = GETDATE()\r\n WHERE SummaryID = 7\r\nGO\r\n\r\nUPDATE [dbachecks].[Prod_dbachecks_summary]\r\n   SET [TestDate] = DATEADD(day,-1,GetDAte())\r\n WHERE SummaryID = 6\r\nGO\r\n\r\nUPDATE [dbachecks].[Prod_dbachecks_summary]\r\n   SET [TestDate] = DATEADD(day,-2,GetDAte())\r\n WHERE SummaryID = 5\r\n GO\r\n \r\nUPDATE [dbachecks].[Prod_dbachecks_summary]\r\n   SET [TestDate] = DATEADD(day,-3,GetDAte())\r\n WHERE SummaryID = 4\r\n GO\r\n \r\nUPDATE [dbachecks].[Prod_dbachecks_summary]\r\n   SET [TestDate] = DATEADD(day,-4,GetDAte())\r\n WHERE SummaryID = 3\r\n GO\r\n\r\n \r\nUPDATE [dbachecks].[Prod_dbachecks_summary]\r\n   SET [TestDate] = DATEADD(day,-5,GetDAte())\r\n WHERE SummaryID = 2\r\n GO\r\n\r\n \r\nUPDATE [dbachecks].[Prod_dbachecks_summary]\r\n   SET [TestDate] = DATEADD(day,-6,GetDAte())\r\n WHERE SummaryID = 1\r\n GO\r\n",
            "metadata": {},
            "outputs": [],
            "execution_count": 1
        },
        {
            "cell_type": "markdown",
            "source": "Lets list the Checks that we have and the descriptions",
            "metadata": {}
        },
        {
            "cell_type": "code",
            "source": "USE [ValidationResults]\r\nGO\r\nSELECT \r\nUniqueTag AS 'Check',  \r\nDescription\r\nFROM dbachecks.Checks",
            "metadata": {},
            "outputs": [],
            "execution_count": 3
        },
        {
            "cell_type": "markdown",
            "source": "I want to see the total number of checks that passed and failed by date",
            "metadata": {}
        },
        {
            "cell_type": "code",
            "source": "USE [ValidationResults]\r\nGO\r\nSELECT \r\nTestDate,\r\nTotalCount AS 'Total Checks',\r\nPassedCount AS Passed,\r\nFailedCount AS Failed,\r\nSkippedCount AS Skipped\r\nFROM dbachecks.Prod_dbachecks_summary\r\n",
            "metadata": {},
            "outputs": [],
            "execution_count": 4
        },
        {
            "cell_type": "markdown",
            "source": "What are todays failures ?",
            "metadata": {}
        },
        {
            "cell_type": "code",
            "source": "SELECT \r\nd.Name,\r\nErrorRecord\r\nFROM dbachecks.Prod_dbachecks_detail d\r\nJOIN\r\ndbachecks.Prod_dbachecks_summary s\r\nON\r\nd.SummaryID = S.SummaryID\r\nWHERE\r\ns.TestDate = Convert(date, GetDate())\r\nAND\r\nd.Passed = 0\r\nORDER BY d.Name\r\n",
            "metadata": {},
            "outputs": [],
            "execution_count": 6
        },
        {
            "cell_type": "markdown",
            "source": "Which instance had the most failures today ?",
            "metadata": {}
        },
        {
            "cell_type": "code",
            "source": "; With CTE AS (\r\nSELECT \r\nDetailID,\r\nRIGHT(Context, charindex(' ', reverse(Context) + ' ') - 1) AS SqlInstance\r\nFROM dbachecks.Prod_dbachecks_detail\r\n) \r\nSELECT \r\nCTE.SqlInstance,\r\nCOUNT(d.DetailID) AS 'Failed Checks'\r\nFROM dbachecks.Prod_dbachecks_detail d\r\nJOIN CTE\r\nON CTE.DetailID = d.DetailID\r\nJOIN\r\ndbachecks.Prod_dbachecks_summary s\r\nON\r\nd.SummaryID = S.SummaryID\r\nWHERE\r\ns.TestDate = Convert(date, GetDate())\r\nAND\r\nd.Passed = 0\r\nGROUP BY CTE.SqlInstance",
            "metadata": {},
            "outputs": [],
            "execution_count": 7
        },
        {
            "cell_type": "markdown",
            "source": "Todays failures by instance and context",
            "metadata": {}
        },
        {
            "cell_type": "code",
            "source": "; With CTE AS (\r\nSELECT \r\nDetailID,\r\nRIGHT(Context, charindex(' ', reverse(Context) + ' ') - 1) AS SqlInstance\r\nFROM dbachecks.Prod_dbachecks_detail\r\n) \r\nSELECT \r\nCTE.SqlInstance,\r\nd.Context,\r\nCOUNT(d.DetailID) AS 'Failed Checks'\r\nFROM dbachecks.Prod_dbachecks_detail d\r\nJOIN CTE\r\nON CTE.DetailID = d.DetailID\r\nJOIN\r\ndbachecks.Prod_dbachecks_summary s\r\nON\r\nd.SummaryID = S.SummaryID\r\nWHERE\r\ns.TestDate = Convert(date, GetDate())\r\nAND\r\nd.Passed = 0\r\nGROUP BY CTE.SqlInstance,d.Context\r\nORDER BY CTE.SqlInstance, [Failed Checks] DESC",
            "metadata": {},
            "outputs": [],
            "execution_count": 8
        },
        {
            "cell_type": "markdown",
            "source": "Number of failures by date, instance and context",
            "metadata": {}
        },
        {
            "cell_type": "code",
            "source": "; With CTE AS (\r\nSELECT \r\nDetailID,\r\nRIGHT(Context, charindex(' ', reverse(Context) + ' ') - 1) AS SqlInstance\r\nFROM dbachecks.Prod_dbachecks_detail\r\n) \r\nSELECT \r\ns.TestDate,\r\nCTE.SqlInstance,\r\nd.Context,\r\nCOUNT(d.DetailID) AS 'Failed Checks'\r\nFROM dbachecks.Prod_dbachecks_detail d\r\nJOIN CTE\r\nON CTE.DetailID = d.DetailID\r\nJOIN\r\ndbachecks.Prod_dbachecks_summary s\r\nON\r\nd.SummaryID = S.SummaryID\r\nWHERE\r\nd.Passed = 0\r\nGROUP BY s.TestDate,CTE.SqlInstance,d.Context\r\nORDER BY CTE.SqlInstance, [Failed Checks] DESC",
            "metadata": {},
            "outputs": [],
            "execution_count": 9
        },
        {
            "cell_type": "markdown",
            "source": "This is just a quick example of some of the things in the dbachecks ValidationResults database - What more can you do ?",
            "metadata": {}
        },
        {
            "cell_type": "code",
            "source": "",
            "metadata": {},
            "outputs": []
        }
    ]
}