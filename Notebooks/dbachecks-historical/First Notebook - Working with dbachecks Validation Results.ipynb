{
    "metadata": {
        "kernelspec": {
            "name": "SQL",
            "display_name": "SQL",
            "language": "sql"
        },
        "language_info": {
            "name": "sql",
            "version": ""
        }
    },
    "nbformat_minor": 2,
    "nbformat": 4,
    "cells": [
        {
            "cell_type": "markdown",
            "source": "# Working with dbachecks Historical Results\r\n\r\nThis guide will assist you to get used to the database schema where dbachecks historical reports are stored if you have followed the blog post [dbachecks – Save the results to a database for historical reporting](https://sqldbawithabeard.com/2018/05/23/dbachecks-save-the-results-to-a-database-for-historical-reporting/)\r\n\r\nThe first thing that is required is to update the data in the database so that it reflects the current date as if dbachecks had been run today\r\n",
            "metadata": {}
        },
        {
            "cell_type": "markdown",
            "source": "## Demo Database and container\r\n\r\nI have provided you with a demo backup which you can find in my [GitHub Presentations Repository](https://github.com/SQLDBAWithABeard/Presentations/tree/master/Notebooks/dbachecks-historical).\r\n\r\n I am also going to assume that you have Docker For Windows on your laptop (This will work in Docker running on other OS's but you will have to alter the paths accordingly). You will also find a docker-compose file in the [Repository](https://github.com/SQLDBAWithABeard/Presentations/blob/master/Notebooks/dbachecks-historical/docker-compose.yml) which you can use to spin up a SQL container and restore the backup. (Yes, I know I could have created a container with the database already embedded but this gives you more things to learn about!)\r\n\r\nThe docker-compose file looks like this\r\n````\r\nversion: '3.7'\r\n\r\nservices:\r\n    HistoricalReporting:\r\n        image: mcr.microsoft.com/mssql/server:2019-CTP2.4-ubuntu\r\n        ports:  \r\n          - \"15594:1433\"\r\n        environment:\r\n          SA_PASSWORD: \"Password0!\"\r\n          ACCEPT_EULA: \"Y\"\r\n        volumes: \r\n          - C:\\dbachecks:/var/opt/mssql/backups\r\n````\r\nIt will create \r\n\r\n- a single service (a container (See the [Docker Documentation for a full definition of a service](https://docs.docker.com/get-started/part3/))) called `HistoricalReporting`\r\n- assign port 1433 on the container to port 15594 on the host\r\n- add the environmental variables for the SA Password and the acceptance of the EULA\r\n- map the directory c:\\dbachecks on the host (your laptop) to the directory /var/opt/mssql/backups in the container\r\n\r\nIt will create the container using the Community Technical Preview 2.4 image of SQL Server 2019 running on Ubuntu from the Microsoft Container Registry for SQL Server.\r\n\r\nDownload the backup file and the docker-compose.yml and save it in a folder, I am going to assume that you are using `C:\\dbachecks` for the rest of this notebook.\r\n\r\nYou can, and should, understand how to change those values in the docker-compose file for different values so that you can spin up a container with a different image (maybe a later or earlier versions of SQL Server) or store your files in a different directory to `C:\\dbachecks` or becuase you are allergic to `Password0!`\r\n\r\nOnce your docker-compose.yml file is ready open PowerShell (Windows or Core both will work) and type\r\n\r\nSet-Location c:\\dbachecks\r\ndocker-compose up -d\r\n\r\n````\r\nSet-Location c:\\dbachecks\r\ndocker-compose up -d\r\n````\r\n\r\n<a href=\"command:workbench.action.terminal.focus\">Or In Azure Data Studio you can click this link to open a new terminal'</a>\r\n\r\nand then \r\n\r\n<a href=\"command:workbench.action.terminal.sendSequence?%7B%22text%22%3A%22Set-Location C:%5C%5Cdbachecks%22%7D\">Paste in the Set-Location code by clicking this link</a> \r\n\r\n<a href=\"command:workbench.action.terminal.focus\">Click this link to focus the terminal and press enter</a> \r\n\r\n<a href=\"command:workbench.action.terminal.sendSequence?%7B%22text%22%3A%22docker-compose up -d%22%7D\">Paste in the docker-compose up -d code by clicking this link</a>\r\n\r\n<a href=\"command:workbench.action.terminal.focus\">Click this link to focus the terminal and press enter</a> \r\n\r\nYou should see  \r\n  \r\n![alt text](https://github.com/SQLDBAWithABeard/Presentations/blob/master/Notebooks/dbachecks-historical/docker-compose-up.jpg?raw=true)\r\n\r\n\r\n",
            "metadata": {}
        },
        {
            "cell_type": "markdown",
            "source": "## Test that we have a running container\r\n\r\nLets check that you have got a running container that we can use\r\n\r\nYou will need to have dbatools installed - If you haven't Run\r\n\r\n````\r\nInstall-Module dbatools\r\n````\r\n<a href=\"command:workbench.action.terminal.focus\">In Azure Data Studio you can click this link to open a new terminal'</a>\r\n\r\nand then \r\n\r\n<a href=\"command:workbench.action.terminal.sendSequence?%7B%22text%22%3A%22 %24cred%20%3D%20Get-Credential -Message%20%27Enter%20SA%20password %20for%20container%27%20sa%20%3B%20 if%28%28Test-DbaConnection%20-SqlInstance%20%27localhost%2C15594%27 -SqlCredential%20%24cred%29.ConnectSuccess%29%7BWrite-Output %27The%20Beard%20is%20Happy! - %20you%20may%20continue%27%7D else%7B%24err%20%3D%20%24error%5B0%5D.Exception.GetBaseException%28%29%20%3B%20Write-Warning%20%27The%20Beard%20is%20sad%2C%20we%20have%20an%20error%20-%20%24err%27%7D %22%7D\">Paste in the Test-DbaConnection code</a> \r\n\r\n<a href=\"command:workbench.action.terminal.focus\">Click this link to focus the terminal and press enter</a> \r\n\r\nIn the credential prompt enter Password0! (or a different password if you have altered the docker-compose file)\r\n",
            "metadata": {}
        },
        {
            "cell_type": "markdown",
            "source": "## Restore the database from the backup\r\n\r\n<a href=\"command:workbench.action.terminal.focus\">Click this link to open a new terminal'</a>\r\n\r\nand then \r\n\r\n<a href=\"command:workbench.action.terminal.sendSequence?%7B%22text%22%3A%22 %24cred%20%3D%20Get-Credential -Message%20%27Enter%20SA%20password %20for%20container%27%20sa %3BRestore-DbaDatabase -SqlInstance %27localhost%2C15594%27 -SqlCredential %24cred -Path %2Fvar%2Fopt%2Fmssql%2Fbackups%2FValidationResults-201942-13-13-57.bak -WithReplace %22%7D\">Paste in the Restore-DBaDatabase code</a> \r\n\r\n\r\n<a href=\"command:workbench.action.terminal.focus\">Focus the terminal and press enter</a> \r\n\r\nIn the credential prompt enter Password0! (or a different password if you have altered the docker-compose file)",
            "metadata": {}
        },
        {
            "cell_type": "markdown",
            "source": "<img src=\"docker-compose-up.png\">",
            "metadata": {}
        },
        {
            "cell_type": "code",
            "source": "/*Resets the date for the demo*/\r\nUSE [ValidationResults]\r\nGO\r\n\r\nUPDATE [dbachecks].[Prod_dbachecks_summary]\r\n   SET [TestDate] = GETDATE()\r\n WHERE SummaryID = 7\r\nGO\r\n\r\nUPDATE [dbachecks].[Prod_dbachecks_summary]\r\n   SET [TestDate] = DATEADD(day,-1,GetDAte())\r\n WHERE SummaryID = 6\r\nGO\r\n\r\nUPDATE [dbachecks].[Prod_dbachecks_summary]\r\n   SET [TestDate] = DATEADD(day,-2,GetDAte())\r\n WHERE SummaryID = 5\r\n GO\r\n \r\nUPDATE [dbachecks].[Prod_dbachecks_summary]\r\n   SET [TestDate] = DATEADD(day,-3,GetDAte())\r\n WHERE SummaryID = 4\r\n GO\r\n \r\nUPDATE [dbachecks].[Prod_dbachecks_summary]\r\n   SET [TestDate] = DATEADD(day,-4,GetDAte())\r\n WHERE SummaryID = 3\r\n GO\r\n\r\n \r\nUPDATE [dbachecks].[Prod_dbachecks_summary]\r\n   SET [TestDate] = DATEADD(day,-5,GetDAte())\r\n WHERE SummaryID = 2\r\n GO\r\n\r\n \r\nUPDATE [dbachecks].[Prod_dbachecks_summary]\r\n   SET [TestDate] = DATEADD(day,-6,GetDAte())\r\n WHERE SummaryID = 1\r\n GO\r\n",
            "metadata": {},
            "outputs": [
                {
                    "output_type": "display_data",
                    "data": {
                        "text/html": "Commands completed successfully."
                    },
                    "metadata": {}
                },
                {
                    "output_type": "display_data",
                    "data": {
                        "text/html": "Total execution time: 00:00:00.0309021"
                    },
                    "metadata": {}
                },
                {
                    "output_type": "display_data",
                    "data": {
                        "text/html": "(1 row affected)"
                    },
                    "metadata": {}
                },
                {
                    "output_type": "display_data",
                    "data": {
                        "text/html": "Total execution time: 00:00:00.0267746"
                    },
                    "metadata": {}
                },
                {
                    "output_type": "display_data",
                    "data": {
                        "text/html": "(1 row affected)"
                    },
                    "metadata": {}
                },
                {
                    "output_type": "display_data",
                    "data": {
                        "text/html": "Total execution time: 00:00:00.0160750"
                    },
                    "metadata": {}
                },
                {
                    "output_type": "display_data",
                    "data": {
                        "text/html": "(1 row affected)"
                    },
                    "metadata": {}
                },
                {
                    "output_type": "display_data",
                    "data": {
                        "text/html": "Total execution time: 00:00:00.0179396"
                    },
                    "metadata": {}
                },
                {
                    "output_type": "display_data",
                    "data": {
                        "text/html": "(1 row affected)"
                    },
                    "metadata": {}
                },
                {
                    "output_type": "display_data",
                    "data": {
                        "text/html": "Total execution time: 00:00:00.0134132"
                    },
                    "metadata": {}
                },
                {
                    "output_type": "display_data",
                    "data": {
                        "text/html": "(1 row affected)"
                    },
                    "metadata": {}
                },
                {
                    "output_type": "display_data",
                    "data": {
                        "text/html": "Total execution time: 00:00:00.0123698"
                    },
                    "metadata": {}
                },
                {
                    "output_type": "display_data",
                    "data": {
                        "text/html": "(1 row affected)"
                    },
                    "metadata": {}
                },
                {
                    "output_type": "display_data",
                    "data": {
                        "text/html": "Total execution time: 00:00:00.0248558"
                    },
                    "metadata": {}
                },
                {
                    "output_type": "display_data",
                    "data": {
                        "text/html": "(1 row affected)"
                    },
                    "metadata": {}
                },
                {
                    "output_type": "display_data",
                    "data": {
                        "text/html": "Total execution time: 00:00:00.0131490"
                    },
                    "metadata": {}
                }
            ],
            "execution_count": 1
        },
        {
            "cell_type": "markdown",
            "source": "Lets list the Checks that we have and the descriptions",
            "metadata": {}
        },
        {
            "cell_type": "code",
            "source": "USE [ValidationResults]\r\nGO\r\nSELECT \r\nUniqueTag AS 'Check',  \r\nDescription\r\nFROM dbachecks.Checks",
            "metadata": {},
            "outputs": [
                {
                    "output_type": "display_data",
                    "data": {
                        "text/html": "Commands completed successfully."
                    },
                    "metadata": {}
                },
                {
                    "output_type": "display_data",
                    "data": {
                        "text/html": "Total execution time: 00:00:00.0066360"
                    },
                    "metadata": {}
                },
                {
                    "output_type": "display_data",
                    "data": {
                        "text/html": "(89 rows affected)"
                    },
                    "metadata": {}
                },
                {
                    "output_type": "display_data",
                    "data": {
                        "text/html": "Total execution time: 00:00:01.8335301"
                    },
                    "metadata": {}
                },
                {
                    "output_type": "execute_result",
                    "metadata": {},
                    "execution_count": 2,
                    "data": {
                        "application/vnd.dataresource+json": {
                            "schema": {
                                "fields": [
                                    {
                                        "name": "Check"
                                    },
                                    {
                                        "name": "Description"
                                    }
                                ]
                            },
                            "data": [
                                {
                                    "0": "AgentServiceAccount",
                                    "1": "Tests that the SQL Agent Account is running and set to automatic"
                                },
                                {
                                    "0": "DbaOperator",
                                    "1": "Tests that the specified (default blank) DBA Operators exist and have the correct email address"
                                },
                                {
                                    "0": "FailsafeOperator",
                                    "1": "Tests that the specified (default blank) Failsafe Operator exists"
                                },
                                {
                                    "0": "DatabaseMailProfile",
                                    "1": "Tests that the specified (default blank) Database Mail Profile exists"
                                },
                                {
                                    "0": "FailedJob",
                                    "1": "Tests that enabled Agent Jobs last outcome was succeeded"
                                },
                                {
                                    "0": "ValidJobOwner",
                                    "1": "Testst that all Agent Jobs have a Job Owner in the list specified (default sa)"
                                },
                                {
                                    "0": "AgentAlert",
                                    "1": "Tests that there are Agent Alerts set up for the specified (default 16-25) alert severities and ids (default 823-825) and if specified Agent Jobs and/or notifications"
                                },
                                {
                                    "0": "DatabaseCollation",
                                    "1": "Tests that the Database Collation matches the instance collation except for specified databases"
                                },
                                {
                                    "0": "SuspectPage",
                                    "1": "Tests that there are 0 Suspect Pages for the database"
                                },
                                {
                                    "0": "TestLastBackup",
                                    "1": "Restores the last backup of a database onto a specified (default blank so will use the same instance) restore instance and checks if the DBCC result was succesful as well as the DBCC result. This can obviously take some time for large databases!"
                                },
                                {
                                    "0": "TestLastBackupVerifyOnly",
                                    "1": "Does a verify only restore of the last backup of the database and test the result"
                                },
                                {
                                    "0": "ValidDatabaseOwner",
                                    "1": "Tests that the database owner is in the specified (default blank) list"
                                },
                                {
                                    "0": "InvalidDatabaseOwner",
                                    "1": "Tests that the Database Owner is NOT in the specified (default blank) list"
                                },
                                {
                                    "0": "LastGoodCheckDb",
                                    "1": "Tests that there was a Last Good DBCC CHECKDB within the specified limit (default blank) and if specified that the DATA_PURITY flag is set"
                                },
                                {
                                    "0": "IdentityUsage",
                                    "1": "Tests that identity columns values are not above the specified percentage (default blank) of the maximum value for that data type"
                                },
                                {
                                    "0": "RecoveryModel",
                                    "1": "Tests that the Recovery model for all of the databases is set as specified (default blank) except for any specified"
                                },
                                {
                                    "0": "DuplicateIndex",
                                    "1": "Tests for any duplicate indexes"
                                },
                                {
                                    "0": "UnusedIndex",
                                    "1": "Tests for any unused indexes"
                                },
                                {
                                    "0": "DisabledIndex",
                                    "1": "Tests for any disabled indexes"
                                },
                                {
                                    "0": "DatabaseGrowthEvent",
                                    "1": "Tests for any database growth events in the default system trace"
                                },
                                {
                                    "0": "PageVerify",
                                    "1": "Tests the page verify settings"
                                },
                                {
                                    "0": "AutoClose",
                                    "1": "Tests the auto-close setting"
                                },
                                {
                                    "0": "AutoShrink",
                                    "1": "Tests the Auto Shrink setting"
                                },
                                {
                                    "0": "LastFullBackup",
                                    "1": "Tests if the last full backup of a database is less than the specified number of days (default 7) except for offline databases and read-only databases (read-only if specified) and databases created recently (if specified)"
                                },
                                {
                                    "0": "LastDiffBackup",
                                    "1": "Tests if the last diff backup of a database is less than the specified number of hours (default 24) except for offline databases and read-only databases (read-only if specified) and databases created recently (if specified)"
                                },
                                {
                                    "0": "LastLogBackup",
                                    "1": "Tests if the last log backup of a database is less than the specified number of minutes (default 30) except for simple databases, offline databases and read-only databases (read-only if specified) and databases created recently (if specified)"
                                },
                                {
                                    "0": "VirtualLogFile",
                                    "1": "Tests the number of the Virtual Log Files are less than the specified number"
                                },
                                {
                                    "0": "LogfileCount",
                                    "1": "Tests that the number of log files are less than the specified amount (default is 1) in all databases except those specified to be skipped by default"
                                },
                                {
                                    "0": "LogfileSize",
                                    "1": "Tests that the database log files are less than the specified percentage of the specified comparison (maximum size or average - default is average) of the data file size (default 100)"
                                },
                                {
                                    "0": "FutureFileGrowth",
                                    "1": "Tests if a database (except for those specified to be skipped explicitly) has free space less than the specified percentage (default 20)"
                                },
                                {
                                    "0": "FileGroupBalanced",
                                    "1": "Tests that all of the files within each filegroup are sized within the specified percentage (default 5) of the average"
                                },
                                {
                                    "0": "CertificateExpiration",
                                    "1": "Tests that all certificates have not expired and are not due to expire within the specified (default 1) number of months"
                                },
                                {
                                    "0": "AutoCreateStatistics",
                                    "1": "Tests the Auto Create Statistics property on each database is set to the specified (default false) value"
                                },
                                {
                                    "0": "AutoUpdateStatistics",
                                    "1": "Tests the Auto Update Statistics property on each database is set to the specified (default true) value"
                                },
                                {
                                    "0": "AutoUpdateStatisticsAsynchronously",
                                    "1": "Tests the Auto Update Statistics Asynchronously property on each database is set to the specified (default false) value"
                                },
                                {
                                    "0": "DatafileAutoGrowthType",
                                    "1": "Tests that the Datafile Auto Growth type and value on each database except those specified is set to the specified (default type = kb, value = 65535) values"
                                },
                                {
                                    "0": "Trustworthy",
                                    "1": "Tests thatt the Trustworthy Option for each database is set to false"
                                },
                                {
                                    "0": "OrphanedUser",
                                    "1": "Tests that each database has 0 orphaned users"
                                },
                                {
                                    "0": "PseudoSimple",
                                    "1": "Tests that databases are not in PseudoSimple Recovery Model"
                                },
                                {
                                    "0": "CompatibilityLevel",
                                    "1": "tests that the servers compatibility level matches the compatibility level"
                                },
                                {
                                    "0": "FKCKTrusted",
                                    "1": "Tests that each foreign key and each constraint is trusted"
                                },
                                {
                                    "0": "MaxDopDatabase",
                                    "1": "Tests that the database level MaxDop settings for all databases on all instances from version 2016 up are set to the specified value (default 0)"
                                },
                                {
                                    "0": "DatabaseStatus",
                                    "1": "Tests that there are no databases on an instance that are in a state of AutoClose, Offline, ReadOnly, Restoring, Recovery, Recovery Pending, EmergencyMode, Suspect or StandBy. Databases that are in ReadOnly,Offline and Restoring mode can be specified (default none)"
                                },
                                {
                                    "0": "DomainName",
                                    "1": "Uses WMI Win32_ComputerSystem to check that the host machine is on the correct domain"
                                },
                                {
                                    "0": "OrganizationalUnit",
                                    "1": "Currently skipped - Active Directory OU"
                                },
                                {
                                    "0": "ClusterHealth",
                                    "1": "Runs a suite of tests against an Availability Group on a Windows cluster to ensure that everything is as it should be. Tests cluster resources are online, cluster nodes are up, at least one IP Address for the AG listener is available, that each replica and listener are pingable (listener ping check can be skipped), can be connected to via T-SQL, have the correct domain name and TCP port, that each replica is synchronised/ing, is connected, is not in an unknown state, each database is synchronised/ing, failover ready and joined to the domain and that the Always On Health Extended Event sessions are running and set to auto-start"
                                },
                                {
                                    "0": "SqlEngineServiceAccount",
                                    "1": "Tests that the SQL Engine Service is started and set to auto-start"
                                },
                                {
                                    "0": "SqlBrowserServiceAccount",
                                    "1": "Tests that the SQL Browser Service is started and set to auto-start if there are multiple instances and stopped and set to disabled if there is only one "
                                },
                                {
                                    "0": "TempDbConfiguration",
                                    "1": "Tests that the TempDB Configuration is correct, that TF118 is enabled, there are the recommended number of files, autogrowth is not set to percent, that the files can grow and that they are not located on the C drive (each of these tests can be configured individually to be skipped"
                                },
                                {
                                    "0": "AdHocWorkload",
                                    "1": "Tests that the AAd Hoc Workload Optimization is enabled"
                                },
                                {
                                    "0": "BackupPathAccess",
                                    "1": "Tests that the SQL Service account has access to the default backup path or the specified folder path"
                                },
                                {
                                    "0": "DAC",
                                    "1": "Tests that the Dedicated Administrator Connection configuration setting matches the speified value (default true)"
                                },
                                {
                                    "0": "NetworkLatency",
                                    "1": "Tests that the Network Latency is less than the specified (default 40) ms"
                                },
                                {
                                    "0": "LinkedServerConnection",
                                    "1": "Tests for successful connection to all Linked Servers"
                                },
                                {
                                    "0": "MaxMemory",
                                    "1": "Tests an instances Max Memory"
                                },
                                {
                                    "0": "OrphanedFile",
                                    "1": "Tests that there are 0 orphaned data files"
                                },
                                {
                                    "0": "ServerNameMatch",
                                    "1": "Tests that the SQL + Windows names match"
                                },
                                {
                                    "0": "MemoryDump",
                                    "1": "Tests that there are less than the specified (default 1) number of SQL Memory Dumps"
                                },
                                {
                                    "0": "SupportedBuild",
                                    "1": "Tests that the instance is still under Microsoft support and that it will still be under support in a specfied (default 6) months"
                                },
                                {
                                    "0": "SaRenamed",
                                    "1": "Tests that the SA Login has been renamed"
                                },
                                {
                                    "0": "DefaultBackupCompression",
                                    "1": "Tests that an instances Default Backup Compression is set to the specified (default true) setting"
                                },
                                {
                                    "0": "XESessionStopped",
                                    "1": "Tests that the specified (default blank) XE Sessions are stopped"
                                },
                                {
                                    "0": "XESessionRunning",
                                    "1": "Tests that the specified (default blank) XE Sessions that are expected to be running are running"
                                },
                                {
                                    "0": "XESessionRunningAllowed",
                                    "1": "Tests that the specified (default blank) XE Sessions that are allowed to be running are running"
                                },
                                {
                                    "0": "OLEAutomation",
                                    "1": "Tests that OLE Automation is set to the specified (default false) setting"
                                },
                                {
                                    "0": "WhoIsActiveInstalled",
                                    "1": "Tests that sp_whoisactive is Installed by testig the specified (default master) database for the stored procedure"
                                },
                                {
                                    "0": "ModelDbGrowth",
                                    "1": "Tests that the Model Database Growth settings are not set to default"
                                },
                                {
                                    "0": "ADUser",
                                    "1": "Tests that Ad Users and Groups, except those specified, that are logins on a SQL Server exist in Active Directory, do not have an expired password, are not locked out, are enabled in AD and on the SQL Server "
                                },
                                {
                                    "0": "ErrorLog",
                                    "1": "Tests that the SQL Server Error Log does not have any Severity 17-24 level entries within the specified (default 2) days"
                                },
                                {
                                    "0": "MaxDopInstance",
                                    "1": "Tests that the instance level MaxDop settings on all instances (except those specified default blank) are set to the recommended value if specified (default false) or to the specified value (default 0)"
                                },
                                {
                                    "0": "LogShippingPrimary",
                                    "1": "Tests that the Log Shipping Primary status is ok"
                                },
                                {
                                    "0": "LogShippingSecondary",
                                    "1": "Tests that the Log Shipping Secondary status is ok"
                                },
                                {
                                    "0": "OlaInstalled",
                                    "1": "Tests that Ola maintenance solution is installed by testing the specified (default master) database for the command log table adn the stored procedures"
                                },
                                {
                                    "0": "SystemFull",
                                    "1": "Tests that the Ola - System Full Agent Job (using the specified name defaults to Olas default naming) enabled setting is set as specified (default true), the schedules are set as specified (default true) and enabled and that the backup retention setting for the job is set as specified (default 192 (hours))"
                                },
                                {
                                    "0": "UserFull",
                                    "1": "Tests that the Ola - User Full Agent Job (using the specified name defaults to Olas default naming) enabled setting is set as specified (default true), the schedules are set as specified (default true) and enabled and that the backup retention setting for the job is set as specified (default 192 (hours))"
                                },
                                {
                                    "0": "UserDiff",
                                    "1": "Tests that the Ola - User Diff Agent Job (using the specified name defaults to Olas default naming) enabled setting is set as specified (default true), the schedules are set as specified (default true) and enabled and that the backup retention setting for the job is set as specified (default 192 (hours))"
                                },
                                {
                                    "0": "UserLog",
                                    "1": "Tests that the Ola - User Log Agent Job (using the specified name defaults to Olas default naming) enabled setting is set as specified (default true), the schedules are set as specified (default true) and enabled and that the backup retention setting for the job is set as specified (default 192 (hours))"
                                },
                                {
                                    "0": "CommandLog",
                                    "1": "Tests that the Ola - Command Log Cleanup Job (using the specified name defaults to Olas default naming) enabled setting is set as specified (default true), the schedules are set as specified (default true) and enabled and that the clean up setting for the job is set as specified (default 30 (days))"
                                },
                                {
                                    "0": "SystemIntegrityCheck",
                                    "1": "Tests that the Ola - System Integrity Check Agent Job (using the specified name defaults to Olas default naming) enabled setting is set as specified (default true), the schedules are set as specified (default true) and enabled"
                                },
                                {
                                    "0": "UserIntegrityCheck",
                                    "1": "Tests that the Ola - User Integrity Check Agent Job (using the specified name defaults to Olas default naming) enabled setting is set as specified (default true), the schedules are set as specified (default true) and enabled"
                                },
                                {
                                    "0": "UserIndexOptimize",
                                    "1": "Tests that the Ola - User Index Optimise Agent Job (using the specified name defaults to Olas default naming) enabled setting is set as specified (default true), the schedules are set as specified (default true) and enabled"
                                },
                                {
                                    "0": "OutputFileCleanup",
                                    "1": "Tests that the Ola - Output File Cleanup Job (using the specified name defaults to Olas default naming) enabled setting is set as specified (default true), the schedules are set as specified (default true) and enabled and that the clean up setting for the job is set as specified (default 30 (days))"
                                },
                                {
                                    "0": "DeleteBackupHistory",
                                    "1": "Tests that the Ola - Delete Backup History Job (using the specified name defaults to Olas default naming) enabled setting is set as specified (default true), the schedules are set as specified (default true) and enabled and that the clean up setting for the job is set as specified (default 30 (days))"
                                },
                                {
                                    "0": "PurgeJobHistory",
                                    "1": "Tests that the Ola - Purge Job History Job (using the specified name defaults to Olas default naming) enabled setting is set as specified (default true), the schedules are set as specified (default true) and enabled and that the clean up setting for the job is set as specified (default 30 (days))"
                                },
                                {
                                    "0": "PowerPlan",
                                    "1": "Tests that the Server Power Plan is set to High Performance"
                                },
                                {
                                    "0": "InstanceConnection",
                                    "1": "Tests that a SQL query can be run, that the specified authentication scheme (default kerboros) is being used, that the host responds to one ping and that the host supports PS Remoting"
                                },
                                {
                                    "0": "SPN",
                                    "1": "Tests that all default SQL SPNs have been correctly registered"
                                },
                                {
                                    "0": "DiskCapacity",
                                    "1": "Tests that each drive has at least the specified percentage (default 20) free space"
                                },
                                {
                                    "0": "PingComputer",
                                    "1": "Tests that a host has been pinged a specified number of times (default 3) and that the average response time is less than specified (default 10ms)"
                                }
                            ]
                        },
                        "text/html": "<table><tr><th>Check</th><th>Description</th></tr><tr><td>AgentServiceAccount</td><td>Tests that the SQL Agent Account is running and set to automatic</td></tr><tr><td>DbaOperator</td><td>Tests that the specified (default blank) DBA Operators exist and have the correct email address</td></tr><tr><td>FailsafeOperator</td><td>Tests that the specified (default blank) Failsafe Operator exists</td></tr><tr><td>DatabaseMailProfile</td><td>Tests that the specified (default blank) Database Mail Profile exists</td></tr><tr><td>FailedJob</td><td>Tests that enabled Agent Jobs last outcome was succeeded</td></tr><tr><td>ValidJobOwner</td><td>Testst that all Agent Jobs have a Job Owner in the list specified (default sa)</td></tr><tr><td>AgentAlert</td><td>Tests that there are Agent Alerts set up for the specified (default 16-25) alert severities and ids (default 823-825) and if specified Agent Jobs and/or notifications</td></tr><tr><td>DatabaseCollation</td><td>Tests that the Database Collation matches the instance collation except for specified databases</td></tr><tr><td>SuspectPage</td><td>Tests that there are 0 Suspect Pages for the database</td></tr><tr><td>TestLastBackup</td><td>Restores the last backup of a database onto a specified (default blank so will use the same instance) restore instance and checks if the DBCC result was succesful as well as the DBCC result. This can obviously take some time for large databases!</td></tr><tr><td>TestLastBackupVerifyOnly</td><td>Does a verify only restore of the last backup of the database and test the result</td></tr><tr><td>ValidDatabaseOwner</td><td>Tests that the database owner is in the specified (default blank) list</td></tr><tr><td>InvalidDatabaseOwner</td><td>Tests that the Database Owner is NOT in the specified (default blank) list</td></tr><tr><td>LastGoodCheckDb</td><td>Tests that there was a Last Good DBCC CHECKDB within the specified limit (default blank) and if specified that the DATA_PURITY flag is set</td></tr><tr><td>IdentityUsage</td><td>Tests that identity columns values are not above the specified percentage (default blank) of the maximum value for that data type</td></tr><tr><td>RecoveryModel</td><td>Tests that the Recovery model for all of the databases is set as specified (default blank) except for any specified</td></tr><tr><td>DuplicateIndex</td><td>Tests for any duplicate indexes</td></tr><tr><td>UnusedIndex</td><td>Tests for any unused indexes</td></tr><tr><td>DisabledIndex</td><td>Tests for any disabled indexes</td></tr><tr><td>DatabaseGrowthEvent</td><td>Tests for any database growth events in the default system trace</td></tr><tr><td>PageVerify</td><td>Tests the page verify settings</td></tr><tr><td>AutoClose</td><td>Tests the auto-close setting</td></tr><tr><td>AutoShrink</td><td>Tests the Auto Shrink setting</td></tr><tr><td>LastFullBackup</td><td>Tests if the last full backup of a database is less than the specified number of days (default 7) except for offline databases and read-only databases (read-only if specified) and databases created recently (if specified)</td></tr><tr><td>LastDiffBackup</td><td>Tests if the last diff backup of a database is less than the specified number of hours (default 24) except for offline databases and read-only databases (read-only if specified) and databases created recently (if specified)</td></tr><tr><td>LastLogBackup</td><td>Tests if the last log backup of a database is less than the specified number of minutes (default 30) except for simple databases, offline databases and read-only databases (read-only if specified) and databases created recently (if specified)</td></tr><tr><td>VirtualLogFile</td><td>Tests the number of the Virtual Log Files are less than the specified number</td></tr><tr><td>LogfileCount</td><td>Tests that the number of log files are less than the specified amount (default is 1) in all databases except those specified to be skipped by default</td></tr><tr><td>LogfileSize</td><td>Tests that the database log files are less than the specified percentage of the specified comparison (maximum size or average - default is average) of the data file size (default 100)</td></tr><tr><td>FutureFileGrowth</td><td>Tests if a database (except for those specified to be skipped explicitly) has free space less than the specified percentage (default 20)</td></tr><tr><td>FileGroupBalanced</td><td>Tests that all of the files within each filegroup are sized within the specified percentage (default 5) of the average</td></tr><tr><td>CertificateExpiration</td><td>Tests that all certificates have not expired and are not due to expire within the specified (default 1) number of months</td></tr><tr><td>AutoCreateStatistics</td><td>Tests the Auto Create Statistics property on each database is set to the specified (default false) value</td></tr><tr><td>AutoUpdateStatistics</td><td>Tests the Auto Update Statistics property on each database is set to the specified (default true) value</td></tr><tr><td>AutoUpdateStatisticsAsynchronously</td><td>Tests the Auto Update Statistics Asynchronously property on each database is set to the specified (default false) value</td></tr><tr><td>DatafileAutoGrowthType</td><td>Tests that the Datafile Auto Growth type and value on each database except those specified is set to the specified (default type = kb, value = 65535) values</td></tr><tr><td>Trustworthy</td><td>Tests thatt the Trustworthy Option for each database is set to false</td></tr><tr><td>OrphanedUser</td><td>Tests that each database has 0 orphaned users</td></tr><tr><td>PseudoSimple</td><td>Tests that databases are not in PseudoSimple Recovery Model</td></tr><tr><td>CompatibilityLevel</td><td>tests that the servers compatibility level matches the compatibility level</td></tr><tr><td>FKCKTrusted</td><td>Tests that each foreign key and each constraint is trusted</td></tr><tr><td>MaxDopDatabase</td><td>Tests that the database level MaxDop settings for all databases on all instances from version 2016 up are set to the specified value (default 0)</td></tr><tr><td>DatabaseStatus</td><td>Tests that there are no databases on an instance that are in a state of AutoClose, Offline, ReadOnly, Restoring, Recovery, Recovery Pending, EmergencyMode, Suspect or StandBy. Databases that are in ReadOnly,Offline and Restoring mode can be specified (default none)</td></tr><tr><td>DomainName</td><td>Uses WMI Win32_ComputerSystem to check that the host machine is on the correct domain</td></tr><tr><td>OrganizationalUnit</td><td>Currently skipped - Active Directory OU</td></tr><tr><td>ClusterHealth</td><td>Runs a suite of tests against an Availability Group on a Windows cluster to ensure that everything is as it should be. Tests cluster resources are online, cluster nodes are up, at least one IP Address for the AG listener is available, that each replica and listener are pingable (listener ping check can be skipped), can be connected to via T-SQL, have the correct domain name and TCP port, that each replica is synchronised/ing, is connected, is not in an unknown state, each database is synchronised/ing, failover ready and joined to the domain and that the Always On Health Extended Event sessions are running and set to auto-start</td></tr><tr><td>SqlEngineServiceAccount</td><td>Tests that the SQL Engine Service is started and set to auto-start</td></tr><tr><td>SqlBrowserServiceAccount</td><td>Tests that the SQL Browser Service is started and set to auto-start if there are multiple instances and stopped and set to disabled if there is only one </td></tr><tr><td>TempDbConfiguration</td><td>Tests that the TempDB Configuration is correct, that TF118 is enabled, there are the recommended number of files, autogrowth is not set to percent, that the files can grow and that they are not located on the C drive (each of these tests can be configured individually to be skipped</td></tr><tr><td>AdHocWorkload</td><td>Tests that the AAd Hoc Workload Optimization is enabled</td></tr><tr><td>BackupPathAccess</td><td>Tests that the SQL Service account has access to the default backup path or the specified folder path</td></tr><tr><td>DAC</td><td>Tests that the Dedicated Administrator Connection configuration setting matches the speified value (default true)</td></tr><tr><td>NetworkLatency</td><td>Tests that the Network Latency is less than the specified (default 40) ms</td></tr><tr><td>LinkedServerConnection</td><td>Tests for successful connection to all Linked Servers</td></tr><tr><td>MaxMemory</td><td>Tests an instances Max Memory</td></tr><tr><td>OrphanedFile</td><td>Tests that there are 0 orphaned data files</td></tr><tr><td>ServerNameMatch</td><td>Tests that the SQL + Windows names match</td></tr><tr><td>MemoryDump</td><td>Tests that there are less than the specified (default 1) number of SQL Memory Dumps</td></tr><tr><td>SupportedBuild</td><td>Tests that the instance is still under Microsoft support and that it will still be under support in a specfied (default 6) months</td></tr><tr><td>SaRenamed</td><td>Tests that the SA Login has been renamed</td></tr><tr><td>DefaultBackupCompression</td><td>Tests that an instances Default Backup Compression is set to the specified (default true) setting</td></tr><tr><td>XESessionStopped</td><td>Tests that the specified (default blank) XE Sessions are stopped</td></tr><tr><td>XESessionRunning</td><td>Tests that the specified (default blank) XE Sessions that are expected to be running are running</td></tr><tr><td>XESessionRunningAllowed</td><td>Tests that the specified (default blank) XE Sessions that are allowed to be running are running</td></tr><tr><td>OLEAutomation</td><td>Tests that OLE Automation is set to the specified (default false) setting</td></tr><tr><td>WhoIsActiveInstalled</td><td>Tests that sp_whoisactive is Installed by testig the specified (default master) database for the stored procedure</td></tr><tr><td>ModelDbGrowth</td><td>Tests that the Model Database Growth settings are not set to default</td></tr><tr><td>ADUser</td><td>Tests that Ad Users and Groups, except those specified, that are logins on a SQL Server exist in Active Directory, do not have an expired password, are not locked out, are enabled in AD and on the SQL Server </td></tr><tr><td>ErrorLog</td><td>Tests that the SQL Server Error Log does not have any Severity 17-24 level entries within the specified (default 2) days</td></tr><tr><td>MaxDopInstance</td><td>Tests that the instance level MaxDop settings on all instances (except those specified default blank) are set to the recommended value if specified (default false) or to the specified value (default 0)</td></tr><tr><td>LogShippingPrimary</td><td>Tests that the Log Shipping Primary status is ok</td></tr><tr><td>LogShippingSecondary</td><td>Tests that the Log Shipping Secondary status is ok</td></tr><tr><td>OlaInstalled</td><td>Tests that Ola maintenance solution is installed by testing the specified (default master) database for the command log table adn the stored procedures</td></tr><tr><td>SystemFull</td><td>Tests that the Ola - System Full Agent Job (using the specified name defaults to Olas default naming) enabled setting is set as specified (default true), the schedules are set as specified (default true) and enabled and that the backup retention setting for the job is set as specified (default 192 (hours))</td></tr><tr><td>UserFull</td><td>Tests that the Ola - User Full Agent Job (using the specified name defaults to Olas default naming) enabled setting is set as specified (default true), the schedules are set as specified (default true) and enabled and that the backup retention setting for the job is set as specified (default 192 (hours))</td></tr><tr><td>UserDiff</td><td>Tests that the Ola - User Diff Agent Job (using the specified name defaults to Olas default naming) enabled setting is set as specified (default true), the schedules are set as specified (default true) and enabled and that the backup retention setting for the job is set as specified (default 192 (hours))</td></tr><tr><td>UserLog</td><td>Tests that the Ola - User Log Agent Job (using the specified name defaults to Olas default naming) enabled setting is set as specified (default true), the schedules are set as specified (default true) and enabled and that the backup retention setting for the job is set as specified (default 192 (hours))</td></tr><tr><td>CommandLog</td><td>Tests that the Ola - Command Log Cleanup Job (using the specified name defaults to Olas default naming) enabled setting is set as specified (default true), the schedules are set as specified (default true) and enabled and that the clean up setting for the job is set as specified (default 30 (days))</td></tr><tr><td>SystemIntegrityCheck</td><td>Tests that the Ola - System Integrity Check Agent Job (using the specified name defaults to Olas default naming) enabled setting is set as specified (default true), the schedules are set as specified (default true) and enabled</td></tr><tr><td>UserIntegrityCheck</td><td>Tests that the Ola - User Integrity Check Agent Job (using the specified name defaults to Olas default naming) enabled setting is set as specified (default true), the schedules are set as specified (default true) and enabled</td></tr><tr><td>UserIndexOptimize</td><td>Tests that the Ola - User Index Optimise Agent Job (using the specified name defaults to Olas default naming) enabled setting is set as specified (default true), the schedules are set as specified (default true) and enabled</td></tr><tr><td>OutputFileCleanup</td><td>Tests that the Ola - Output File Cleanup Job (using the specified name defaults to Olas default naming) enabled setting is set as specified (default true), the schedules are set as specified (default true) and enabled and that the clean up setting for the job is set as specified (default 30 (days))</td></tr><tr><td>DeleteBackupHistory</td><td>Tests that the Ola - Delete Backup History Job (using the specified name defaults to Olas default naming) enabled setting is set as specified (default true), the schedules are set as specified (default true) and enabled and that the clean up setting for the job is set as specified (default 30 (days))</td></tr><tr><td>PurgeJobHistory</td><td>Tests that the Ola - Purge Job History Job (using the specified name defaults to Olas default naming) enabled setting is set as specified (default true), the schedules are set as specified (default true) and enabled and that the clean up setting for the job is set as specified (default 30 (days))</td></tr><tr><td>PowerPlan</td><td>Tests that the Server Power Plan is set to High Performance</td></tr><tr><td>InstanceConnection</td><td>Tests that a SQL query can be run, that the specified authentication scheme (default kerboros) is being used, that the host responds to one ping and that the host supports PS Remoting</td></tr><tr><td>SPN</td><td>Tests that all default SQL SPNs have been correctly registered</td></tr><tr><td>DiskCapacity</td><td>Tests that each drive has at least the specified percentage (default 20) free space</td></tr><tr><td>PingComputer</td><td>Tests that a host has been pinged a specified number of times (default 3) and that the average response time is less than specified (default 10ms)</td></tr></table>"
                    }
                }
            ],
            "execution_count": 2
        },
        {
            "cell_type": "markdown",
            "source": "I want to see the total number of checks that passed and failed by date",
            "metadata": {}
        },
        {
            "cell_type": "code",
            "source": "USE [ValidationResults]\r\nGO\r\nSELECT \r\nTestDate,\r\nTotalCount AS 'Total Checks',\r\nPassedCount AS Passed,\r\nFailedCount AS Failed,\r\nSkippedCount AS Skipped\r\nFROM dbachecks.Prod_dbachecks_summary\r\n",
            "metadata": {},
            "outputs": [
                {
                    "output_type": "display_data",
                    "data": {
                        "text/html": "Commands completed successfully."
                    },
                    "metadata": {}
                },
                {
                    "output_type": "display_data",
                    "data": {
                        "text/html": "Total execution time: 00:00:00.0031211"
                    },
                    "metadata": {}
                },
                {
                    "output_type": "display_data",
                    "data": {
                        "text/html": "(7 rows affected)"
                    },
                    "metadata": {}
                },
                {
                    "output_type": "display_data",
                    "data": {
                        "text/html": "Total execution time: 00:00:00.0485921"
                    },
                    "metadata": {}
                },
                {
                    "output_type": "execute_result",
                    "metadata": {},
                    "execution_count": 3,
                    "data": {
                        "application/vnd.dataresource+json": {
                            "schema": {
                                "fields": [
                                    {
                                        "name": "TestDate"
                                    },
                                    {
                                        "name": "Total Checks"
                                    },
                                    {
                                        "name": "Passed"
                                    },
                                    {
                                        "name": "Failed"
                                    },
                                    {
                                        "name": "Skipped"
                                    }
                                ]
                            },
                            "data": [
                                {
                                    "0": "2019-05-15",
                                    "1": "887",
                                    "2": "768",
                                    "3": "110",
                                    "4": "9"
                                },
                                {
                                    "0": "2019-05-16",
                                    "1": "904",
                                    "2": "795",
                                    "3": "100",
                                    "4": "9"
                                },
                                {
                                    "0": "2019-05-17",
                                    "1": "881",
                                    "2": "788",
                                    "3": "84",
                                    "4": "9"
                                },
                                {
                                    "0": "2019-05-18",
                                    "1": "892",
                                    "2": "787",
                                    "3": "96",
                                    "4": "9"
                                },
                                {
                                    "0": "2019-05-19",
                                    "1": "892",
                                    "2": "778",
                                    "3": "105",
                                    "4": "9"
                                },
                                {
                                    "0": "2019-05-20",
                                    "1": "880",
                                    "2": "843",
                                    "3": "22",
                                    "4": "15"
                                },
                                {
                                    "0": "2019-05-21",
                                    "1": "894",
                                    "2": "822",
                                    "3": "53",
                                    "4": "19"
                                }
                            ]
                        },
                        "text/html": "<table><tr><th>TestDate</th><th>Total Checks</th><th>Passed</th><th>Failed</th><th>Skipped</th></tr><tr><td>2019-05-15</td><td>887</td><td>768</td><td>110</td><td>9</td></tr><tr><td>2019-05-16</td><td>904</td><td>795</td><td>100</td><td>9</td></tr><tr><td>2019-05-17</td><td>881</td><td>788</td><td>84</td><td>9</td></tr><tr><td>2019-05-18</td><td>892</td><td>787</td><td>96</td><td>9</td></tr><tr><td>2019-05-19</td><td>892</td><td>778</td><td>105</td><td>9</td></tr><tr><td>2019-05-20</td><td>880</td><td>843</td><td>22</td><td>15</td></tr><tr><td>2019-05-21</td><td>894</td><td>822</td><td>53</td><td>19</td></tr></table>"
                    }
                }
            ],
            "execution_count": 3
        },
        {
            "cell_type": "markdown",
            "source": "What are todays failures ?",
            "metadata": {}
        },
        {
            "cell_type": "code",
            "source": "SELECT \r\nd.Name,\r\nErrorRecord\r\nFROM dbachecks.Prod_dbachecks_detail d\r\nJOIN\r\ndbachecks.Prod_dbachecks_summary s\r\nON\r\nd.SummaryID = S.SummaryID\r\nWHERE\r\ns.TestDate = Convert(date, GetDate())\r\nAND\r\nd.Passed = 0\r\nORDER BY d.Name\r\n",
            "metadata": {},
            "outputs": [
                {
                    "output_type": "display_data",
                    "data": {
                        "text/html": "(53 rows affected)"
                    },
                    "metadata": {}
                },
                {
                    "output_type": "display_data",
                    "data": {
                        "text/html": "Total execution time: 00:00:00.1490683"
                    },
                    "metadata": {}
                },
                {
                    "output_type": "execute_result",
                    "metadata": {},
                    "execution_count": 4,
                    "data": {
                        "application/vnd.dataresource+json": {
                            "schema": {
                                "fields": [
                                    {
                                        "name": "Name"
                                    },
                                    {
                                        "name": "ErrorRecord"
                                    }
                                ]
                            },
                            "data": [
                                {
                                    "0": "AdventureWorks2012 should return 0 database growth events on sql0",
                                    "1": "Expected 0, because You want to control how your database files are grown, but got 1."
                                },
                                {
                                    "0": "AdventureWorks2014 diff backups on sql0 Should Be less than 26 hours",
                                    "1": "Expected 2018-05-25T07:29:44.7750989+00:00 to be greater than the actual value, because Taking regular backups is extraordinarily important, but got 2018-05-25T07:22:51.0000000."
                                },
                                {
                                    "0": "AdventureWorks2014 file AdventureWorks2014_Data on SQL0 has free space under threshold",
                                    "1": "Expected 20 to be greater or equal to the actual value, because free space within the file should be lower than threshold of 20 %, but got 6.486."
                                },
                                {
                                    "0": "AdventureWorks2014 has a database compatibility level equal to the level of SQL0",
                                    "1": "Expected 'Version140', because it means you are on the appropriate compatibility level for your SQL Server version to use all available features, but got Version120."
                                },
                                {
                                    "0": "AdventureWorks2014 on sql0 should return 0 Disabled indexes",
                                    "1": "Expected 0, because Disabled indexes are wasting disk space, but got 1."
                                },
                                {
                                    "0": "AdventureWorks2016 diff backups on sql0 Should Be less than 26 hours",
                                    "1": "Expected 2018-05-25T07:29:44.7991286+00:00 to be greater than the actual value, because Taking regular backups is extraordinarily important, but got 2018-05-25T07:22:52.0000000."
                                },
                                {
                                    "0": "AdventureWorks2016 file AdventureWorks2016_Data on SQL0 has free space under threshold",
                                    "1": "Expected 20 to be greater or equal to the actual value, because free space within the file should be lower than threshold of 20 %, but got 1.17400000000001."
                                },
                                {
                                    "0": "AdventureWorks2016 has a database compatibility level equal to the level of SQL0",
                                    "1": "Expected 'Version140', because it means you are on the appropriate compatibility level for your SQL Server version to use all available features, but got Version130."
                                },
                                {
                                    "0": "AdventureWorks2017 diff backups on sql0 Should Be less than 26 hours",
                                    "1": "Expected 2018-05-25T07:29:44.8130996+00:00 to be greater than the actual value, because Taking regular backups is extraordinarily important, but got 2018-05-25T07:22:52.0000000."
                                },
                                {
                                    "0": "AdventureWorksDW2012 diff backups on sql0 Should Be less than 26 hours",
                                    "1": "Expected 2018-05-25T07:29:44.8711028+00:00 to be greater than the actual value, because Taking regular backups is extraordinarily important, but got 2018-05-25T07:22:52.0000000."
                                },
                                {
                                    "0": "AdventureWorksDW2012 has a database compatibility level equal to the level of SQL0",
                                    "1": "Expected 'Version140', because it means you are on the appropriate compatibility level for your SQL Server version to use all available features, but got Version110."
                                },
                                {
                                    "0": "AdventureWorksDW2014 diff backups on sql0 Should Be less than 26 hours",
                                    "1": "Expected 2018-05-25T07:29:44.9331044+00:00 to be greater than the actual value, because Taking regular backups is extraordinarily important, but got 2018-05-25T07:22:52.0000000."
                                },
                                {
                                    "0": "AdventureWorksDW2014 has a database compatibility level equal to the level of SQL0",
                                    "1": "Expected 'Version140', because it means you are on the appropriate compatibility level for your SQL Server version to use all available features, but got Version120."
                                },
                                {
                                    "0": "AdventureWorksDW2016 diff backups on sql0 Should Be less than 26 hours",
                                    "1": "Expected 2018-05-25T07:29:45.0371101+00:00 to be greater than the actual value, because Taking regular backups is extraordinarily important, but got 2018-05-25T07:22:52.0000000."
                                },
                                {
                                    "0": "AdventureWorksDW2016 has a database compatibility level equal to the level of SQL0",
                                    "1": "Expected 'Version140', because it means you are on the appropriate compatibility level for your SQL Server version to use all available features, but got Version130."
                                },
                                {
                                    "0": "AdventureWorksDW2017 diff backups on sql0 Should Be less than 26 hours",
                                    "1": "Expected 2018-05-25T07:29:45.0661094+00:00 to be greater than the actual value, because Taking regular backups is extraordinarily important, but got 2018-05-25T07:22:53.0000000."
                                },
                                {
                                    "0": "All Databases should have the expected status",
                                    "1": "Expected regular expression 'Offline' to not match Offline, because We expect that there will be no offline databases except for those specified, but it did match."
                                },
                                {
                                    "0": "All Databases should have the expected status",
                                    "1": "Expected regular expression 'Restoring' to not match Restoring, because We expect that there will be no databases in a restoring state except for those specified, but it did match."
                                },
                                {
                                    "0": "Error log should be free of error severities 17-24 on sql0",
                                    "1": "Expected regular expression 'Severity: 1[7-9]' to not match 'Error: 35262, Severity: 17, State: 1.', because these severities indicate serious problems, but it did match."
                                },
                                {
                                    "0": "Error log should be free of error severities 17-24 on sql1",
                                    "1": "Expected regular expression 'Severity: 1[7-9]' to not match 'Error: 35262, Severity: 17, State: 1.', because these severities indicate serious problems, but it did match."
                                },
                                {
                                    "0": "Error occurred in Context block",
                                    "1": "Query failure"
                                },
                                {
                                    "0": "Error occurred in Context block",
                                    "1": "Query failure"
                                },
                                {
                                    "0": "Linked Server bearddockerhost,15786 on on SQL0 has connectivity",
                                    "1": "Expected $true, because You need to be able to connect to your linked servers, but got $false."
                                },
                                {
                                    "0": "Linked Server bearddockerhost,15787 on on SQL0 has connectivity",
                                    "1": "Expected $true, because You need to be able to connect to your linked servers, but got $false."
                                },
                                {
                                    "0": "Linked Server bearddockerhost,15788 on on SQL0 has connectivity",
                                    "1": "Expected $true, because You need to be able to connect to your linked servers, but got $false."
                                },
                                {
                                    "0": "Linked Server bearddockerhost,15789 on on SQL0 has connectivity",
                                    "1": "Expected $true, because You need to be able to connect to your linked servers, but got $false."
                                },
                                {
                                    "0": "master file master on SQL0 has free space under threshold",
                                    "1": "Expected 20 to be greater or equal to the actual value, because free space within the file should be lower than threshold of 20 %, but got 0."
                                },
                                {
                                    "0": "master file master on SQL1 has free space under threshold",
                                    "1": "Expected 20 to be greater or equal to the actual value, because free space within the file should be lower than threshold of 20 %, but got 13.953."
                                },
                                {
                                    "0": "master on filegroup PRIMARY should have Growth set equal or higher than 65535 on SQL0",
                                    "1": "Expected 65535 to be greater or equal to the actual value, because We expect a certain file growth value, but got 80."
                                },
                                {
                                    "0": "master on filegroup PRIMARY should have Growth set equal or higher than 65535 on SQL1",
                                    "1": "Expected 65535 to be greater or equal to the actual value, because We expect a certain file growth value, but got 80."
                                },
                                {
                                    "0": "master on filegroup PRIMARY should have GrowthType set to kb on SQL0",
                                    "1": "Expected strings to be the same, because We expect a certain file growth type, but they were different.\nExpected length: 2\nActual length:   7\nStrings differ at index 0.\nExpected: 'kb'\nBut was:  'Percent'\n-----------^"
                                },
                                {
                                    "0": "master on filegroup PRIMARY should have GrowthType set to kb on SQL1",
                                    "1": "Expected strings to be the same, because We expect a certain file growth type, but they were different.\nExpected length: 2\nActual length:   7\nStrings differ at index 0.\nExpected: 'kb'\nBut was:  'Percent'\n-----------^"
                                },
                                {
                                    "0": "mastlog on filegroup  should have Growth set equal or higher than 65535 on SQL0",
                                    "1": "Expected 65535 to be greater or equal to the actual value, because We expect a certain file growth value, but got 80."
                                },
                                {
                                    "0": "mastlog on filegroup  should have Growth set equal or higher than 65535 on SQL1",
                                    "1": "Expected 65535 to be greater or equal to the actual value, because We expect a certain file growth value, but got 80."
                                },
                                {
                                    "0": "mastlog on filegroup  should have GrowthType set to kb on SQL0",
                                    "1": "Expected strings to be the same, because We expect a certain file growth type, but they were different.\nExpected length: 2\nActual length:   7\nStrings differ at index 0.\nExpected: 'kb'\nBut was:  'Percent'\n-----------^"
                                },
                                {
                                    "0": "mastlog on filegroup  should have GrowthType set to kb on SQL1",
                                    "1": "Expected strings to be the same, because We expect a certain file growth type, but they were different.\nExpected length: 2\nActual length:   7\nStrings differ at index 0.\nExpected: 'kb'\nBut was:  'Percent'\n-----------^"
                                },
                                {
                                    "0": "msdb file MSDBData on SQL0 has free space under threshold",
                                    "1": "Expected 20 to be greater or equal to the actual value, because free space within the file should be lower than threshold of 20 %, but got 5.512."
                                },
                                {
                                    "0": "msdb file MSDBData on SQL1 has free space under threshold",
                                    "1": "Expected 20 to be greater or equal to the actual value, because free space within the file should be lower than threshold of 20 %, but got 14.74."
                                },
                                {
                                    "0": "msdb should return 0 database growth events on sql0",
                                    "1": "Expected 0, because You want to control how your database files are grown, but got 1."
                                },
                                {
                                    "0": "MSDBData on filegroup PRIMARY should have Growth set equal or higher than 65535 on SQL0",
                                    "1": "Expected 65535 to be greater or equal to the actual value, because We expect a certain file growth value, but got 80."
                                },
                                {
                                    "0": "MSDBData on filegroup PRIMARY should have Growth set equal or higher than 65535 on SQL1",
                                    "1": "Expected 65535 to be greater or equal to the actual value, because We expect a certain file growth value, but got 80."
                                },
                                {
                                    "0": "MSDBData on filegroup PRIMARY should have GrowthType set to kb on SQL0",
                                    "1": "Expected strings to be the same, because We expect a certain file growth type, but they were different.\nExpected length: 2\nActual length:   7\nStrings differ at index 0.\nExpected: 'kb'\nBut was:  'Percent'\n-----------^"
                                },
                                {
                                    "0": "MSDBData on filegroup PRIMARY should have GrowthType set to kb on SQL1",
                                    "1": "Expected strings to be the same, because We expect a certain file growth type, but they were different.\nExpected length: 2\nActual length:   7\nStrings differ at index 0.\nExpected: 'kb'\nBut was:  'Percent'\n-----------^"
                                },
                                {
                                    "0": "MSDBLog on filegroup  should have Growth set equal or higher than 65535 on SQL0",
                                    "1": "Expected 65535 to be greater or equal to the actual value, because We expect a certain file growth value, but got 80."
                                },
                                {
                                    "0": "MSDBLog on filegroup  should have Growth set equal or higher than 65535 on SQL1",
                                    "1": "Expected 65535 to be greater or equal to the actual value, because We expect a certain file growth value, but got 80."
                                },
                                {
                                    "0": "MSDBLog on filegroup  should have GrowthType set to kb on SQL0",
                                    "1": "Expected strings to be the same, because We expect a certain file growth type, but they were different.\nExpected length: 2\nActual length:   7\nStrings differ at index 0.\nExpected: 'kb'\nBut was:  'Percent'\n-----------^"
                                },
                                {
                                    "0": "MSDBLog on filegroup  should have GrowthType set to kb on SQL1",
                                    "1": "Expected strings to be the same, because We expect a certain file growth type, but they were different.\nExpected length: 2\nActual length:   7\nStrings differ at index 0.\nExpected: 'kb'\nBut was:  'Percent'\n-----------^"
                                },
                                {
                                    "0": "network latency Should Be less than 40 ms on SQL0",
                                    "1": "Expected 40 to be less than the actual value, because You dont want to be waiting on the network, but got 44.6772."
                                },
                                {
                                    "0": "network latency Should Be less than 40 ms on SQL1",
                                    "1": "Expected 40 to be less than the actual value, because You dont want to be waiting on the network, but got 47.6891."
                                },
                                {
                                    "0": "ValidationResults diff backups on sql0 Should Be less than 26 hours",
                                    "1": "Expected 2018-05-25T07:29:45.0861100+00:00 to be greater than the actual value, because Taking regular backups is extraordinarily important, but got 2018-05-25T07:22:53.0000000."
                                },
                                {
                                    "0": "WideWorldImporters diff backups on sql0 Should Be less than 26 hours",
                                    "1": "Expected 2018-05-25T07:29:45.1071112+00:00 to be greater than the actual value, because Taking regular backups is extraordinarily important, but got 2018-05-25T07:22:56.0000000."
                                },
                                {
                                    "0": "WideWorldImporters file WWI_Log on SQL0 has free space under threshold",
                                    "1": "Expected 20 to be greater or equal to the actual value, because free space within the file should be lower than threshold of 20 %, but got 19.36."
                                },
                                {
                                    "0": "WideWorldImporters has a database compatibility level equal to the level of SQL0",
                                    "1": "Expected 'Version140', because it means you are on the appropriate compatibility level for your SQL Server version to use all available features, but got Version130."
                                }
                            ]
                        },
                        "text/html": "<table><tr><th>Name</th><th>ErrorRecord</th></tr><tr><td>AdventureWorks2012 should return 0 database growth events on sql0</td><td>Expected 0, because You want to control how your database files are grown, but got 1.</td></tr><tr><td>AdventureWorks2014 diff backups on sql0 Should Be less than 26 hours</td><td>Expected 2018-05-25T07:29:44.7750989+00:00 to be greater than the actual value, because Taking regular backups is extraordinarily important, but got 2018-05-25T07:22:51.0000000.</td></tr><tr><td>AdventureWorks2014 file AdventureWorks2014_Data on SQL0 has free space under threshold</td><td>Expected 20 to be greater or equal to the actual value, because free space within the file should be lower than threshold of 20 %, but got 6.486.</td></tr><tr><td>AdventureWorks2014 has a database compatibility level equal to the level of SQL0</td><td>Expected 'Version140', because it means you are on the appropriate compatibility level for your SQL Server version to use all available features, but got Version120.</td></tr><tr><td>AdventureWorks2014 on sql0 should return 0 Disabled indexes</td><td>Expected 0, because Disabled indexes are wasting disk space, but got 1.</td></tr><tr><td>AdventureWorks2016 diff backups on sql0 Should Be less than 26 hours</td><td>Expected 2018-05-25T07:29:44.7991286+00:00 to be greater than the actual value, because Taking regular backups is extraordinarily important, but got 2018-05-25T07:22:52.0000000.</td></tr><tr><td>AdventureWorks2016 file AdventureWorks2016_Data on SQL0 has free space under threshold</td><td>Expected 20 to be greater or equal to the actual value, because free space within the file should be lower than threshold of 20 %, but got 1.17400000000001.</td></tr><tr><td>AdventureWorks2016 has a database compatibility level equal to the level of SQL0</td><td>Expected 'Version140', because it means you are on the appropriate compatibility level for your SQL Server version to use all available features, but got Version130.</td></tr><tr><td>AdventureWorks2017 diff backups on sql0 Should Be less than 26 hours</td><td>Expected 2018-05-25T07:29:44.8130996+00:00 to be greater than the actual value, because Taking regular backups is extraordinarily important, but got 2018-05-25T07:22:52.0000000.</td></tr><tr><td>AdventureWorksDW2012 diff backups on sql0 Should Be less than 26 hours</td><td>Expected 2018-05-25T07:29:44.8711028+00:00 to be greater than the actual value, because Taking regular backups is extraordinarily important, but got 2018-05-25T07:22:52.0000000.</td></tr><tr><td>AdventureWorksDW2012 has a database compatibility level equal to the level of SQL0</td><td>Expected 'Version140', because it means you are on the appropriate compatibility level for your SQL Server version to use all available features, but got Version110.</td></tr><tr><td>AdventureWorksDW2014 diff backups on sql0 Should Be less than 26 hours</td><td>Expected 2018-05-25T07:29:44.9331044+00:00 to be greater than the actual value, because Taking regular backups is extraordinarily important, but got 2018-05-25T07:22:52.0000000.</td></tr><tr><td>AdventureWorksDW2014 has a database compatibility level equal to the level of SQL0</td><td>Expected 'Version140', because it means you are on the appropriate compatibility level for your SQL Server version to use all available features, but got Version120.</td></tr><tr><td>AdventureWorksDW2016 diff backups on sql0 Should Be less than 26 hours</td><td>Expected 2018-05-25T07:29:45.0371101+00:00 to be greater than the actual value, because Taking regular backups is extraordinarily important, but got 2018-05-25T07:22:52.0000000.</td></tr><tr><td>AdventureWorksDW2016 has a database compatibility level equal to the level of SQL0</td><td>Expected 'Version140', because it means you are on the appropriate compatibility level for your SQL Server version to use all available features, but got Version130.</td></tr><tr><td>AdventureWorksDW2017 diff backups on sql0 Should Be less than 26 hours</td><td>Expected 2018-05-25T07:29:45.0661094+00:00 to be greater than the actual value, because Taking regular backups is extraordinarily important, but got 2018-05-25T07:22:53.0000000.</td></tr><tr><td>All Databases should have the expected status</td><td>Expected regular expression 'Offline' to not match Offline, because We expect that there will be no offline databases except for those specified, but it did match.</td></tr><tr><td>All Databases should have the expected status</td><td>Expected regular expression 'Restoring' to not match Restoring, because We expect that there will be no databases in a restoring state except for those specified, but it did match.</td></tr><tr><td>Error log should be free of error severities 17-24 on sql0</td><td>Expected regular expression 'Severity: 1[7-9]' to not match 'Error: 35262, Severity: 17, State: 1.', because these severities indicate serious problems, but it did match.</td></tr><tr><td>Error log should be free of error severities 17-24 on sql1</td><td>Expected regular expression 'Severity: 1[7-9]' to not match 'Error: 35262, Severity: 17, State: 1.', because these severities indicate serious problems, but it did match.</td></tr><tr><td>Error occurred in Context block</td><td>Query failure</td></tr><tr><td>Error occurred in Context block</td><td>Query failure</td></tr><tr><td>Linked Server bearddockerhost,15786 on on SQL0 has connectivity</td><td>Expected $true, because You need to be able to connect to your linked servers, but got $false.</td></tr><tr><td>Linked Server bearddockerhost,15787 on on SQL0 has connectivity</td><td>Expected $true, because You need to be able to connect to your linked servers, but got $false.</td></tr><tr><td>Linked Server bearddockerhost,15788 on on SQL0 has connectivity</td><td>Expected $true, because You need to be able to connect to your linked servers, but got $false.</td></tr><tr><td>Linked Server bearddockerhost,15789 on on SQL0 has connectivity</td><td>Expected $true, because You need to be able to connect to your linked servers, but got $false.</td></tr><tr><td>master file master on SQL0 has free space under threshold</td><td>Expected 20 to be greater or equal to the actual value, because free space within the file should be lower than threshold of 20 %, but got 0.</td></tr><tr><td>master file master on SQL1 has free space under threshold</td><td>Expected 20 to be greater or equal to the actual value, because free space within the file should be lower than threshold of 20 %, but got 13.953.</td></tr><tr><td>master on filegroup PRIMARY should have Growth set equal or higher than 65535 on SQL0</td><td>Expected 65535 to be greater or equal to the actual value, because We expect a certain file growth value, but got 80.</td></tr><tr><td>master on filegroup PRIMARY should have Growth set equal or higher than 65535 on SQL1</td><td>Expected 65535 to be greater or equal to the actual value, because We expect a certain file growth value, but got 80.</td></tr><tr><td>master on filegroup PRIMARY should have GrowthType set to kb on SQL0</td><td>Expected strings to be the same, because We expect a certain file growth type, but they were different.\nExpected length: 2\nActual length:   7\nStrings differ at index 0.\nExpected: 'kb'\nBut was:  'Percent'\n-----------^</td></tr><tr><td>master on filegroup PRIMARY should have GrowthType set to kb on SQL1</td><td>Expected strings to be the same, because We expect a certain file growth type, but they were different.\nExpected length: 2\nActual length:   7\nStrings differ at index 0.\nExpected: 'kb'\nBut was:  'Percent'\n-----------^</td></tr><tr><td>mastlog on filegroup  should have Growth set equal or higher than 65535 on SQL0</td><td>Expected 65535 to be greater or equal to the actual value, because We expect a certain file growth value, but got 80.</td></tr><tr><td>mastlog on filegroup  should have Growth set equal or higher than 65535 on SQL1</td><td>Expected 65535 to be greater or equal to the actual value, because We expect a certain file growth value, but got 80.</td></tr><tr><td>mastlog on filegroup  should have GrowthType set to kb on SQL0</td><td>Expected strings to be the same, because We expect a certain file growth type, but they were different.\nExpected length: 2\nActual length:   7\nStrings differ at index 0.\nExpected: 'kb'\nBut was:  'Percent'\n-----------^</td></tr><tr><td>mastlog on filegroup  should have GrowthType set to kb on SQL1</td><td>Expected strings to be the same, because We expect a certain file growth type, but they were different.\nExpected length: 2\nActual length:   7\nStrings differ at index 0.\nExpected: 'kb'\nBut was:  'Percent'\n-----------^</td></tr><tr><td>msdb file MSDBData on SQL0 has free space under threshold</td><td>Expected 20 to be greater or equal to the actual value, because free space within the file should be lower than threshold of 20 %, but got 5.512.</td></tr><tr><td>msdb file MSDBData on SQL1 has free space under threshold</td><td>Expected 20 to be greater or equal to the actual value, because free space within the file should be lower than threshold of 20 %, but got 14.74.</td></tr><tr><td>msdb should return 0 database growth events on sql0</td><td>Expected 0, because You want to control how your database files are grown, but got 1.</td></tr><tr><td>MSDBData on filegroup PRIMARY should have Growth set equal or higher than 65535 on SQL0</td><td>Expected 65535 to be greater or equal to the actual value, because We expect a certain file growth value, but got 80.</td></tr><tr><td>MSDBData on filegroup PRIMARY should have Growth set equal or higher than 65535 on SQL1</td><td>Expected 65535 to be greater or equal to the actual value, because We expect a certain file growth value, but got 80.</td></tr><tr><td>MSDBData on filegroup PRIMARY should have GrowthType set to kb on SQL0</td><td>Expected strings to be the same, because We expect a certain file growth type, but they were different.\nExpected length: 2\nActual length:   7\nStrings differ at index 0.\nExpected: 'kb'\nBut was:  'Percent'\n-----------^</td></tr><tr><td>MSDBData on filegroup PRIMARY should have GrowthType set to kb on SQL1</td><td>Expected strings to be the same, because We expect a certain file growth type, but they were different.\nExpected length: 2\nActual length:   7\nStrings differ at index 0.\nExpected: 'kb'\nBut was:  'Percent'\n-----------^</td></tr><tr><td>MSDBLog on filegroup  should have Growth set equal or higher than 65535 on SQL0</td><td>Expected 65535 to be greater or equal to the actual value, because We expect a certain file growth value, but got 80.</td></tr><tr><td>MSDBLog on filegroup  should have Growth set equal or higher than 65535 on SQL1</td><td>Expected 65535 to be greater or equal to the actual value, because We expect a certain file growth value, but got 80.</td></tr><tr><td>MSDBLog on filegroup  should have GrowthType set to kb on SQL0</td><td>Expected strings to be the same, because We expect a certain file growth type, but they were different.\nExpected length: 2\nActual length:   7\nStrings differ at index 0.\nExpected: 'kb'\nBut was:  'Percent'\n-----------^</td></tr><tr><td>MSDBLog on filegroup  should have GrowthType set to kb on SQL1</td><td>Expected strings to be the same, because We expect a certain file growth type, but they were different.\nExpected length: 2\nActual length:   7\nStrings differ at index 0.\nExpected: 'kb'\nBut was:  'Percent'\n-----------^</td></tr><tr><td>network latency Should Be less than 40 ms on SQL0</td><td>Expected 40 to be less than the actual value, because You dont want to be waiting on the network, but got 44.6772.</td></tr><tr><td>network latency Should Be less than 40 ms on SQL1</td><td>Expected 40 to be less than the actual value, because You dont want to be waiting on the network, but got 47.6891.</td></tr><tr><td>ValidationResults diff backups on sql0 Should Be less than 26 hours</td><td>Expected 2018-05-25T07:29:45.0861100+00:00 to be greater than the actual value, because Taking regular backups is extraordinarily important, but got 2018-05-25T07:22:53.0000000.</td></tr><tr><td>WideWorldImporters diff backups on sql0 Should Be less than 26 hours</td><td>Expected 2018-05-25T07:29:45.1071112+00:00 to be greater than the actual value, because Taking regular backups is extraordinarily important, but got 2018-05-25T07:22:56.0000000.</td></tr><tr><td>WideWorldImporters file WWI_Log on SQL0 has free space under threshold</td><td>Expected 20 to be greater or equal to the actual value, because free space within the file should be lower than threshold of 20 %, but got 19.36.</td></tr><tr><td>WideWorldImporters has a database compatibility level equal to the level of SQL0</td><td>Expected 'Version140', because it means you are on the appropriate compatibility level for your SQL Server version to use all available features, but got Version130.</td></tr></table>"
                    }
                }
            ],
            "execution_count": 4
        },
        {
            "cell_type": "markdown",
            "source": "Which instance had the most failures today ?",
            "metadata": {}
        },
        {
            "cell_type": "code",
            "source": "; With CTE AS (\r\nSELECT \r\nDetailID,\r\nRIGHT(Context, charindex(' ', reverse(Context) + ' ') - 1) AS SqlInstance\r\nFROM dbachecks.Prod_dbachecks_detail\r\n) \r\nSELECT \r\nCTE.SqlInstance,\r\nCOUNT(d.DetailID) AS 'Failed Checks'\r\nFROM dbachecks.Prod_dbachecks_detail d\r\nJOIN CTE\r\nON CTE.DetailID = d.DetailID\r\nJOIN\r\ndbachecks.Prod_dbachecks_summary s\r\nON\r\nd.SummaryID = S.SummaryID\r\nWHERE\r\ns.TestDate = Convert(date, GetDate())\r\nAND\r\nd.Passed = 0\r\nGROUP BY CTE.SqlInstance",
            "metadata": {},
            "outputs": [
                {
                    "output_type": "display_data",
                    "data": {
                        "text/html": "(2 rows affected)"
                    },
                    "metadata": {}
                },
                {
                    "output_type": "display_data",
                    "data": {
                        "text/html": "Total execution time: 00:00:00.1691171"
                    },
                    "metadata": {}
                },
                {
                    "output_type": "execute_result",
                    "metadata": {},
                    "execution_count": 5,
                    "data": {
                        "application/vnd.dataresource+json": {
                            "schema": {
                                "fields": [
                                    {
                                        "name": "SqlInstance"
                                    },
                                    {
                                        "name": "Failed Checks"
                                    }
                                ]
                            },
                            "data": [
                                {
                                    "0": "sql0",
                                    "1": "39"
                                },
                                {
                                    "0": "sql1",
                                    "1": "14"
                                }
                            ]
                        },
                        "text/html": "<table><tr><th>SqlInstance</th><th>Failed Checks</th></tr><tr><td>sql0</td><td>39</td></tr><tr><td>sql1</td><td>14</td></tr></table>"
                    }
                }
            ],
            "execution_count": 5
        },
        {
            "cell_type": "markdown",
            "source": "Todays failures by instance and context",
            "metadata": {}
        },
        {
            "cell_type": "code",
            "source": "; With CTE AS (\r\nSELECT \r\nDetailID,\r\nRIGHT(Context, charindex(' ', reverse(Context) + ' ') - 1) AS SqlInstance\r\nFROM dbachecks.Prod_dbachecks_detail\r\n) \r\nSELECT \r\nCTE.SqlInstance,\r\nd.Context,\r\nCOUNT(d.DetailID) AS 'Failed Checks'\r\nFROM dbachecks.Prod_dbachecks_detail d\r\nJOIN CTE\r\nON CTE.DetailID = d.DetailID\r\nJOIN\r\ndbachecks.Prod_dbachecks_summary s\r\nON\r\nd.SummaryID = S.SummaryID\r\nWHERE\r\ns.TestDate = Convert(date, GetDate())\r\nAND\r\nd.Passed = 0\r\nGROUP BY CTE.SqlInstance,d.Context\r\nORDER BY CTE.SqlInstance, [Failed Checks] DESC",
            "metadata": {},
            "outputs": [
                {
                    "output_type": "display_data",
                    "data": {
                        "text/html": "(17 rows affected)"
                    },
                    "metadata": {}
                },
                {
                    "output_type": "display_data",
                    "data": {
                        "text/html": "Total execution time: 00:00:00.0768573"
                    },
                    "metadata": {}
                },
                {
                    "output_type": "execute_result",
                    "metadata": {},
                    "execution_count": 6,
                    "data": {
                        "application/vnd.dataresource+json": {
                            "schema": {
                                "fields": [
                                    {
                                        "name": "SqlInstance"
                                    },
                                    {
                                        "name": "Context"
                                    },
                                    {
                                        "name": "Failed Checks"
                                    }
                                ]
                            },
                            "data": [
                                {
                                    "0": "sql0",
                                    "1": "Testing last diff backups on sql0",
                                    "2": "9"
                                },
                                {
                                    "0": "sql0",
                                    "1": "Testing datafile growth type on sql0",
                                    "2": "8"
                                },
                                {
                                    "0": "sql0",
                                    "1": "Testing database compatibility level matches server compatibility level on sql0",
                                    "2": "6"
                                },
                                {
                                    "0": "sql0",
                                    "1": "Testing for files likely to grow soon on sql0",
                                    "2": "5"
                                },
                                {
                                    "0": "sql0",
                                    "1": "Testing Linked Servers on sql0",
                                    "2": "4"
                                },
                                {
                                    "0": "sql0",
                                    "1": "Testing database growth event on sql0",
                                    "2": "2"
                                },
                                {
                                    "0": "sql0",
                                    "1": "Checking error log on sql0",
                                    "2": "1"
                                },
                                {
                                    "0": "sql0",
                                    "1": "Database status is correct on sql0",
                                    "2": "1"
                                },
                                {
                                    "0": "sql0",
                                    "1": "Testing Network Latency on sql0",
                                    "2": "1"
                                },
                                {
                                    "0": "sql0",
                                    "1": "Testing Disabled indexes on sql0",
                                    "2": "1"
                                },
                                {
                                    "0": "sql0",
                                    "1": "Testing duplicate indexes on sql0",
                                    "2": "1"
                                },
                                {
                                    "0": "sql1",
                                    "1": "Testing datafile growth type on sql1",
                                    "2": "8"
                                },
                                {
                                    "0": "sql1",
                                    "1": "Testing for files likely to grow soon on sql1",
                                    "2": "2"
                                },
                                {
                                    "0": "sql1",
                                    "1": "Testing duplicate indexes on sql1",
                                    "2": "1"
                                },
                                {
                                    "0": "sql1",
                                    "1": "Testing Network Latency on sql1",
                                    "2": "1"
                                },
                                {
                                    "0": "sql1",
                                    "1": "Database status is correct on sql1",
                                    "2": "1"
                                },
                                {
                                    "0": "sql1",
                                    "1": "Checking error log on sql1",
                                    "2": "1"
                                }
                            ]
                        },
                        "text/html": "<table><tr><th>SqlInstance</th><th>Context</th><th>Failed Checks</th></tr><tr><td>sql0</td><td>Testing last diff backups on sql0</td><td>9</td></tr><tr><td>sql0</td><td>Testing datafile growth type on sql0</td><td>8</td></tr><tr><td>sql0</td><td>Testing database compatibility level matches server compatibility level on sql0</td><td>6</td></tr><tr><td>sql0</td><td>Testing for files likely to grow soon on sql0</td><td>5</td></tr><tr><td>sql0</td><td>Testing Linked Servers on sql0</td><td>4</td></tr><tr><td>sql0</td><td>Testing database growth event on sql0</td><td>2</td></tr><tr><td>sql0</td><td>Checking error log on sql0</td><td>1</td></tr><tr><td>sql0</td><td>Database status is correct on sql0</td><td>1</td></tr><tr><td>sql0</td><td>Testing Network Latency on sql0</td><td>1</td></tr><tr><td>sql0</td><td>Testing Disabled indexes on sql0</td><td>1</td></tr><tr><td>sql0</td><td>Testing duplicate indexes on sql0</td><td>1</td></tr><tr><td>sql1</td><td>Testing datafile growth type on sql1</td><td>8</td></tr><tr><td>sql1</td><td>Testing for files likely to grow soon on sql1</td><td>2</td></tr><tr><td>sql1</td><td>Testing duplicate indexes on sql1</td><td>1</td></tr><tr><td>sql1</td><td>Testing Network Latency on sql1</td><td>1</td></tr><tr><td>sql1</td><td>Database status is correct on sql1</td><td>1</td></tr><tr><td>sql1</td><td>Checking error log on sql1</td><td>1</td></tr></table>"
                    }
                }
            ],
            "execution_count": 6
        },
        {
            "cell_type": "markdown",
            "source": "Number of failures by date, instance and context",
            "metadata": {}
        },
        {
            "cell_type": "code",
            "source": "; With CTE AS (\r\nSELECT \r\nDetailID,\r\nRIGHT(Context, charindex(' ', reverse(Context) + ' ') - 1) AS SqlInstance\r\nFROM dbachecks.Prod_dbachecks_detail\r\n) \r\nSELECT \r\ns.TestDate,\r\nCTE.SqlInstance,\r\nd.Context,\r\nCOUNT(d.DetailID) AS 'Failed Checks'\r\nFROM dbachecks.Prod_dbachecks_detail d\r\nJOIN CTE\r\nON CTE.DetailID = d.DetailID\r\nJOIN\r\ndbachecks.Prod_dbachecks_summary s\r\nON\r\nd.SummaryID = S.SummaryID\r\nWHERE\r\nd.Passed = 0\r\nGROUP BY s.TestDate,CTE.SqlInstance,d.Context\r\nORDER BY CTE.SqlInstance, [Failed Checks] DESC",
            "metadata": {},
            "outputs": [
                {
                    "output_type": "display_data",
                    "data": {
                        "text/html": "(153 rows affected)"
                    },
                    "metadata": {}
                },
                {
                    "output_type": "display_data",
                    "data": {
                        "text/html": "Total execution time: 00:00:00.0971087"
                    },
                    "metadata": {}
                },
                {
                    "output_type": "execute_result",
                    "metadata": {},
                    "execution_count": 7,
                    "data": {
                        "application/vnd.dataresource+json": {
                            "schema": {
                                "fields": [
                                    {
                                        "name": "TestDate"
                                    },
                                    {
                                        "name": "SqlInstance"
                                    },
                                    {
                                        "name": "Context"
                                    },
                                    {
                                        "name": "Failed Checks"
                                    }
                                ]
                            },
                            "data": [
                                {
                                    "0": "2019-05-15",
                                    "1": "sql0",
                                    "2": "Testing datafile growth type on sql0",
                                    "3": "14"
                                },
                                {
                                    "0": "2019-05-16",
                                    "1": "sql0",
                                    "2": "Testing datafile growth type on sql0",
                                    "3": "14"
                                },
                                {
                                    "0": "2019-05-17",
                                    "1": "sql0",
                                    "2": "Testing datafile growth type on sql0",
                                    "3": "14"
                                },
                                {
                                    "0": "2019-05-18",
                                    "1": "sql0",
                                    "2": "Testing datafile growth type on sql0",
                                    "3": "14"
                                },
                                {
                                    "0": "2019-05-19",
                                    "1": "sql0",
                                    "2": "Testing datafile growth type on sql0",
                                    "3": "14"
                                },
                                {
                                    "0": "2019-05-15",
                                    "1": "sql0",
                                    "2": "Testing last full backups on sql0",
                                    "3": "13"
                                },
                                {
                                    "0": "2019-05-16",
                                    "1": "sql0",
                                    "2": "Testing last diff backups on sql0",
                                    "3": "10"
                                },
                                {
                                    "0": "2019-05-15",
                                    "1": "sql0",
                                    "2": "Testing last diff backups on sql0",
                                    "3": "10"
                                },
                                {
                                    "0": "2019-05-19",
                                    "1": "sql0",
                                    "2": "Testing last diff backups on sql0",
                                    "3": "10"
                                },
                                {
                                    "0": "2019-05-21",
                                    "1": "sql0",
                                    "2": "Testing last diff backups on sql0",
                                    "3": "9"
                                },
                                {
                                    "0": "2019-05-19",
                                    "1": "sql0",
                                    "2": "Database MaxDop setting is correct on sql0",
                                    "3": "9"
                                },
                                {
                                    "0": "2019-05-18",
                                    "1": "sql0",
                                    "2": "Database MaxDop setting is correct on sql0",
                                    "3": "9"
                                },
                                {
                                    "0": "2019-05-15",
                                    "1": "sql0",
                                    "2": "Testing Last Good DBCC CHECKDB on sql0",
                                    "3": "9"
                                },
                                {
                                    "0": "2019-05-15",
                                    "1": "sql0",
                                    "2": "Testing last log backups on sql0",
                                    "3": "9"
                                },
                                {
                                    "0": "2019-05-15",
                                    "1": "sql0",
                                    "2": "Testing database collation on sql0",
                                    "3": "8"
                                },
                                {
                                    "0": "2019-05-16",
                                    "1": "sql0",
                                    "2": "Testing Last Good DBCC CHECKDB on sql0",
                                    "3": "8"
                                },
                                {
                                    "0": "2019-05-16",
                                    "1": "sql0",
                                    "2": "Testing Recovery Model on sql0",
                                    "3": "8"
                                },
                                {
                                    "0": "2019-05-16",
                                    "1": "sql0",
                                    "2": "Testing database collation on sql0",
                                    "3": "8"
                                },
                                {
                                    "0": "2019-05-17",
                                    "1": "sql0",
                                    "2": "Testing Recovery Model on sql0",
                                    "3": "8"
                                },
                                {
                                    "0": "2019-05-19",
                                    "1": "sql0",
                                    "2": "Testing Recovery Model on sql0",
                                    "3": "8"
                                },
                                {
                                    "0": "2019-05-18",
                                    "1": "sql0",
                                    "2": "Testing Recovery Model on sql0",
                                    "3": "8"
                                },
                                {
                                    "0": "2019-05-21",
                                    "1": "sql0",
                                    "2": "Testing datafile growth type on sql0",
                                    "3": "8"
                                },
                                {
                                    "0": "2019-05-20",
                                    "1": "sql0",
                                    "2": "Testing database compatibility level matches server compatibility level on sql0",
                                    "3": "7"
                                },
                                {
                                    "0": "2019-05-18",
                                    "1": "sql0",
                                    "2": "Testing database collation on sql0",
                                    "3": "7"
                                },
                                {
                                    "0": "2019-05-18",
                                    "1": "sql0",
                                    "2": "Testing database compatibility level matches server compatibility level on sql0",
                                    "3": "7"
                                },
                                {
                                    "0": "2019-05-19",
                                    "1": "sql0",
                                    "2": "Testing database collation on sql0",
                                    "3": "7"
                                },
                                {
                                    "0": "2019-05-19",
                                    "1": "sql0",
                                    "2": "Testing database compatibility level matches server compatibility level on sql0",
                                    "3": "7"
                                },
                                {
                                    "0": "2019-05-17",
                                    "1": "sql0",
                                    "2": "Testing database collation on sql0",
                                    "3": "7"
                                },
                                {
                                    "0": "2019-05-17",
                                    "1": "sql0",
                                    "2": "Testing database compatibility level matches server compatibility level on sql0",
                                    "3": "7"
                                },
                                {
                                    "0": "2019-05-17",
                                    "1": "sql0",
                                    "2": "Testing database growth event on sql0",
                                    "3": "7"
                                },
                                {
                                    "0": "2019-05-15",
                                    "1": "sql0",
                                    "2": "Testing database compatibility level matches server compatibility level on sql0",
                                    "3": "7"
                                },
                                {
                                    "0": "2019-05-15",
                                    "1": "sql0",
                                    "2": "Testing for files likely to grow soon on sql0",
                                    "3": "6"
                                },
                                {
                                    "0": "2019-05-16",
                                    "1": "sql0",
                                    "2": "Testing database compatibility level matches server compatibility level on sql0",
                                    "3": "6"
                                },
                                {
                                    "0": "2019-05-16",
                                    "1": "sql0",
                                    "2": "Testing database growth event on sql0",
                                    "3": "6"
                                },
                                {
                                    "0": "2019-05-16",
                                    "1": "sql0",
                                    "2": "Testing duplicate indexes on sql0",
                                    "3": "6"
                                },
                                {
                                    "0": "2019-05-18",
                                    "1": "sql0",
                                    "2": "Testing database growth event on sql0",
                                    "3": "6"
                                },
                                {
                                    "0": "2019-05-21",
                                    "1": "sql0",
                                    "2": "Testing database compatibility level matches server compatibility level on sql0",
                                    "3": "6"
                                },
                                {
                                    "0": "2019-05-21",
                                    "1": "sql0",
                                    "2": "Testing for files likely to grow soon on sql0",
                                    "3": "5"
                                },
                                {
                                    "0": "2019-05-20",
                                    "1": "sql0",
                                    "2": "Testing duplicate indexes on sql0",
                                    "3": "5"
                                },
                                {
                                    "0": "2019-05-18",
                                    "1": "sql0",
                                    "2": "Testing for files likely to grow soon on sql0",
                                    "3": "5"
                                },
                                {
                                    "0": "2019-05-19",
                                    "1": "sql0",
                                    "2": "Testing for files likely to grow soon on sql0",
                                    "3": "5"
                                },
                                {
                                    "0": "2019-05-16",
                                    "1": "sql0",
                                    "2": "Testing for files likely to grow soon on sql0",
                                    "3": "5"
                                },
                                {
                                    "0": "2019-05-15",
                                    "1": "sql0",
                                    "2": "Testing duplicate indexes on sql0",
                                    "3": "5"
                                },
                                {
                                    "0": "2019-05-15",
                                    "1": "sql0",
                                    "2": "Testing database growth event on sql0",
                                    "3": "5"
                                },
                                {
                                    "0": "2019-05-17",
                                    "1": "sql0",
                                    "2": "Testing for files likely to grow soon on sql0",
                                    "3": "5"
                                },
                                {
                                    "0": "2019-05-17",
                                    "1": "sql0",
                                    "2": "Testing Last Good DBCC CHECKDB on sql0",
                                    "3": "4"
                                },
                                {
                                    "0": "2019-05-17",
                                    "1": "sql0",
                                    "2": "Testing duplicate indexes on sql0",
                                    "3": "4"
                                },
                                {
                                    "0": "2019-05-19",
                                    "1": "sql0",
                                    "2": "Testing duplicate indexes on sql0",
                                    "3": "4"
                                },
                                {
                                    "0": "2019-05-18",
                                    "1": "sql0",
                                    "2": "Testing duplicate indexes on sql0",
                                    "3": "4"
                                },
                                {
                                    "0": "2019-05-18",
                                    "1": "sql0",
                                    "2": "Testing Last Good DBCC CHECKDB on sql0",
                                    "3": "4"
                                },
                                {
                                    "0": "2019-05-18",
                                    "1": "sql0",
                                    "2": "Testing Linked Servers on sql0",
                                    "3": "4"
                                },
                                {
                                    "0": "2019-05-19",
                                    "1": "sql0",
                                    "2": "Testing Last Good DBCC CHECKDB on sql0",
                                    "3": "4"
                                },
                                {
                                    "0": "2019-05-19",
                                    "1": "sql0",
                                    "2": "Testing Linked Servers on sql0",
                                    "3": "4"
                                },
                                {
                                    "0": "2019-05-21",
                                    "1": "sql0",
                                    "2": "Testing Linked Servers on sql0",
                                    "3": "4"
                                },
                                {
                                    "0": "2019-05-20",
                                    "1": "sql0",
                                    "2": "Testing for files likely to grow soon on sql0",
                                    "3": "3"
                                },
                                {
                                    "0": "2019-05-19",
                                    "1": "sql0",
                                    "2": "Testing database growth event on sql0",
                                    "3": "3"
                                },
                                {
                                    "0": "2019-05-19",
                                    "1": "sql0",
                                    "2": "Testing last log backups on sql0",
                                    "3": "2"
                                },
                                {
                                    "0": "2019-05-21",
                                    "1": "sql0",
                                    "2": "Testing database growth event on sql0",
                                    "3": "2"
                                },
                                {
                                    "0": "2019-05-21",
                                    "1": "sql0",
                                    "2": "Checking error log on sql0",
                                    "3": "1"
                                },
                                {
                                    "0": "2019-05-21",
                                    "1": "sql0",
                                    "2": "Database status is correct on sql0",
                                    "3": "1"
                                },
                                {
                                    "0": "2019-05-21",
                                    "1": "sql0",
                                    "2": "Testing Disabled indexes on sql0",
                                    "3": "1"
                                },
                                {
                                    "0": "2019-05-21",
                                    "1": "sql0",
                                    "2": "Testing duplicate indexes on sql0",
                                    "3": "1"
                                },
                                {
                                    "0": "2019-05-21",
                                    "1": "sql0",
                                    "2": "Testing Network Latency on sql0",
                                    "3": "1"
                                },
                                {
                                    "0": "2019-05-20",
                                    "1": "sql0",
                                    "2": "Testing database growth event on sql0",
                                    "3": "1"
                                },
                                {
                                    "0": "2019-05-20",
                                    "1": "sql0",
                                    "2": "Testing Disabled indexes on sql0",
                                    "3": "1"
                                },
                                {
                                    "0": "2019-05-20",
                                    "1": "sql0",
                                    "2": "Checking error log on sql0",
                                    "3": "1"
                                },
                                {
                                    "0": "2019-05-20",
                                    "1": "sql0",
                                    "2": "Database MaxDop setting is correct on sql0",
                                    "3": "1"
                                },
                                {
                                    "0": "2019-05-19",
                                    "1": "sql0",
                                    "2": "Testing Ad Hoc Workload Optimization on sql0",
                                    "3": "1"
                                },
                                {
                                    "0": "2019-05-19",
                                    "1": "sql0",
                                    "2": "Testing Auto Update Statistics Asynchronously on sql0",
                                    "3": "1"
                                },
                                {
                                    "0": "2019-05-19",
                                    "1": "sql0",
                                    "2": "Checking error log on sql0",
                                    "3": "1"
                                },
                                {
                                    "0": "2019-05-19",
                                    "1": "sql0",
                                    "2": "Testing Disabled indexes on sql0",
                                    "3": "1"
                                },
                                {
                                    "0": "2019-05-18",
                                    "1": "sql0",
                                    "2": "Testing last diff backups on sql0",
                                    "3": "1"
                                },
                                {
                                    "0": "2019-05-18",
                                    "1": "sql0",
                                    "2": "Testing Disabled indexes on sql0",
                                    "3": "1"
                                },
                                {
                                    "0": "2019-05-17",
                                    "1": "sql0",
                                    "2": "Testing Disabled indexes on sql0",
                                    "3": "1"
                                },
                                {
                                    "0": "2019-05-17",
                                    "1": "sql0",
                                    "2": "Checking error log on sql0",
                                    "3": "1"
                                },
                                {
                                    "0": "2019-05-17",
                                    "1": "sql0",
                                    "2": "Testing Ad Hoc Workload Optimization on sql0",
                                    "3": "1"
                                },
                                {
                                    "0": "2019-05-17",
                                    "1": "sql0",
                                    "2": "Testing Auto Update Statistics Asynchronously on sql0",
                                    "3": "1"
                                },
                                {
                                    "0": "2019-05-17",
                                    "1": "sql0",
                                    "2": "Testing last diff backups on sql0",
                                    "3": "1"
                                },
                                {
                                    "0": "2019-05-18",
                                    "1": "sql0",
                                    "2": "Testing Ad Hoc Workload Optimization on sql0",
                                    "3": "1"
                                },
                                {
                                    "0": "2019-05-18",
                                    "1": "sql0",
                                    "2": "Testing Auto Update Statistics Asynchronously on sql0",
                                    "3": "1"
                                },
                                {
                                    "0": "2019-05-18",
                                    "1": "sql0",
                                    "2": "Checking error log on sql0",
                                    "3": "1"
                                },
                                {
                                    "0": "2019-05-15",
                                    "1": "sql0",
                                    "2": "Checking error log on sql0",
                                    "3": "1"
                                },
                                {
                                    "0": "2019-05-15",
                                    "1": "sql0",
                                    "2": "Testing Ad Hoc Workload Optimization on sql0",
                                    "3": "1"
                                },
                                {
                                    "0": "2019-05-15",
                                    "1": "sql0",
                                    "2": "Testing Auto Update Statistics Asynchronously on sql0",
                                    "3": "1"
                                },
                                {
                                    "0": "2019-05-15",
                                    "1": "sql0",
                                    "2": "Testing Disabled indexes on sql0",
                                    "3": "1"
                                },
                                {
                                    "0": "2019-05-16",
                                    "1": "sql0",
                                    "2": "Testing Network Latency on sql0",
                                    "3": "1"
                                },
                                {
                                    "0": "2019-05-16",
                                    "1": "sql0",
                                    "2": "Testing Disabled indexes on sql0",
                                    "3": "1"
                                },
                                {
                                    "0": "2019-05-16",
                                    "1": "sql0",
                                    "2": "Checking error log on sql0",
                                    "3": "1"
                                },
                                {
                                    "0": "2019-05-16",
                                    "1": "sql0",
                                    "2": "Testing Ad Hoc Workload Optimization on sql0",
                                    "3": "1"
                                },
                                {
                                    "0": "2019-05-16",
                                    "1": "sql0",
                                    "2": "Testing Auto Update Statistics Asynchronously on sql0",
                                    "3": "1"
                                },
                                {
                                    "0": "2019-05-15",
                                    "1": "sql1",
                                    "2": "Testing datafile growth type on sql1",
                                    "3": "8"
                                },
                                {
                                    "0": "2019-05-17",
                                    "1": "sql1",
                                    "2": "Testing datafile growth type on sql1",
                                    "3": "8"
                                },
                                {
                                    "0": "2019-05-16",
                                    "1": "sql1",
                                    "2": "Testing datafile growth type on sql1",
                                    "3": "8"
                                },
                                {
                                    "0": "2019-05-18",
                                    "1": "sql1",
                                    "2": "Testing datafile growth type on sql1",
                                    "3": "8"
                                },
                                {
                                    "0": "2019-05-19",
                                    "1": "sql1",
                                    "2": "Testing datafile growth type on sql1",
                                    "3": "8"
                                },
                                {
                                    "0": "2019-05-21",
                                    "1": "sql1",
                                    "2": "Testing datafile growth type on sql1",
                                    "3": "8"
                                },
                                {
                                    "0": "2019-05-15",
                                    "1": "sql1",
                                    "2": "Testing last full backups on sql1",
                                    "3": "4"
                                },
                                {
                                    "0": "2019-05-16",
                                    "1": "sql1",
                                    "2": "Testing for files likely to grow soon on sql1",
                                    "3": "3"
                                },
                                {
                                    "0": "2019-05-16",
                                    "1": "sql1",
                                    "2": "Testing last diff backups on sql1",
                                    "3": "2"
                                },
                                {
                                    "0": "2019-05-16",
                                    "1": "sql1",
                                    "2": "Testing Database Owners on sql1",
                                    "3": "2"
                                },
                                {
                                    "0": "2019-05-16",
                                    "1": "sql1",
                                    "2": "Testing last log backups on sql1",
                                    "3": "2"
                                },
                                {
                                    "0": "2019-05-17",
                                    "1": "sql1",
                                    "2": "Testing duplicate indexes on sql1",
                                    "3": "2"
                                },
                                {
                                    "0": "2019-05-17",
                                    "1": "sql1",
                                    "2": "Testing for files likely to grow soon on sql1",
                                    "3": "2"
                                },
                                {
                                    "0": "2019-05-17",
                                    "1": "sql1",
                                    "2": "Testing last diff backups on sql1",
                                    "3": "2"
                                },
                                {
                                    "0": "2019-05-17",
                                    "1": "sql1",
                                    "2": "Testing last log backups on sql1",
                                    "3": "2"
                                },
                                {
                                    "0": "2019-05-17",
                                    "1": "sql1",
                                    "2": "Testing Database Owners on sql1",
                                    "3": "2"
                                },
                                {
                                    "0": "2019-05-15",
                                    "1": "sql1",
                                    "2": "Testing for files likely to grow soon on sql1",
                                    "3": "2"
                                },
                                {
                                    "0": "2019-05-21",
                                    "1": "sql1",
                                    "2": "Testing for files likely to grow soon on sql1",
                                    "3": "2"
                                },
                                {
                                    "0": "2019-05-20",
                                    "1": "sql1",
                                    "2": "Testing duplicate indexes on sql1",
                                    "3": "2"
                                },
                                {
                                    "0": "2019-05-19",
                                    "1": "sql1",
                                    "2": "Testing duplicate indexes on sql1",
                                    "3": "2"
                                },
                                {
                                    "0": "2019-05-19",
                                    "1": "sql1",
                                    "2": "Testing for files likely to grow soon on sql1",
                                    "3": "2"
                                },
                                {
                                    "0": "2019-05-19",
                                    "1": "sql1",
                                    "2": "Testing last diff backups on sql1",
                                    "3": "2"
                                },
                                {
                                    "0": "2019-05-19",
                                    "1": "sql1",
                                    "2": "Testing Database Owners on sql1",
                                    "3": "2"
                                },
                                {
                                    "0": "2019-05-19",
                                    "1": "sql1",
                                    "2": "Testing last log backups on sql1",
                                    "3": "2"
                                },
                                {
                                    "0": "2019-05-18",
                                    "1": "sql1",
                                    "2": "Testing duplicate indexes on sql1",
                                    "3": "2"
                                },
                                {
                                    "0": "2019-05-18",
                                    "1": "sql1",
                                    "2": "Testing for files likely to grow soon on sql1",
                                    "3": "2"
                                },
                                {
                                    "0": "2019-05-18",
                                    "1": "sql1",
                                    "2": "Testing last diff backups on sql1",
                                    "3": "2"
                                },
                                {
                                    "0": "2019-05-18",
                                    "1": "sql1",
                                    "2": "Testing last log backups on sql1",
                                    "3": "2"
                                },
                                {
                                    "0": "2019-05-18",
                                    "1": "sql1",
                                    "2": "Testing Database Owners on sql1",
                                    "3": "2"
                                },
                                {
                                    "0": "2019-05-19",
                                    "1": "sql1",
                                    "2": "Checking error log on sql1",
                                    "3": "1"
                                },
                                {
                                    "0": "2019-05-19",
                                    "1": "sql1",
                                    "2": "Testing Ad Hoc Workload Optimization on sql1",
                                    "3": "1"
                                },
                                {
                                    "0": "2019-05-19",
                                    "1": "sql1",
                                    "2": "Testing Auto Update Statistics Asynchronously on sql1",
                                    "3": "1"
                                },
                                {
                                    "0": "2019-05-19",
                                    "1": "sql1",
                                    "2": "Testing database growth event on sql1",
                                    "3": "1"
                                },
                                {
                                    "0": "2019-05-18",
                                    "1": "sql1",
                                    "2": "Testing last full backups on sql1",
                                    "3": "1"
                                },
                                {
                                    "0": "2019-05-18",
                                    "1": "sql1",
                                    "2": "Checking error log on sql1",
                                    "3": "1"
                                },
                                {
                                    "0": "2019-05-18",
                                    "1": "sql1",
                                    "2": "Testing Ad Hoc Workload Optimization on sql1",
                                    "3": "1"
                                },
                                {
                                    "0": "2019-05-18",
                                    "1": "sql1",
                                    "2": "Testing Auto Update Statistics Asynchronously on sql1",
                                    "3": "1"
                                },
                                {
                                    "0": "2019-05-18",
                                    "1": "sql1",
                                    "2": "Testing database growth event on sql1",
                                    "3": "1"
                                },
                                {
                                    "0": "2019-05-19",
                                    "1": "sql1",
                                    "2": "Testing Network Latency on sql1",
                                    "3": "1"
                                },
                                {
                                    "0": "2019-05-20",
                                    "1": "sql1",
                                    "2": "Checking error log on sql1",
                                    "3": "1"
                                },
                                {
                                    "0": "2019-05-19",
                                    "1": "sql1",
                                    "2": "Testing last full backups on sql1",
                                    "3": "1"
                                },
                                {
                                    "0": "2019-05-21",
                                    "1": "sql1",
                                    "2": "Testing Network Latency on sql1",
                                    "3": "1"
                                },
                                {
                                    "0": "2019-05-21",
                                    "1": "sql1",
                                    "2": "Testing duplicate indexes on sql1",
                                    "3": "1"
                                },
                                {
                                    "0": "2019-05-21",
                                    "1": "sql1",
                                    "2": "Checking error log on sql1",
                                    "3": "1"
                                },
                                {
                                    "0": "2019-05-21",
                                    "1": "sql1",
                                    "2": "Database status is correct on sql1",
                                    "3": "1"
                                },
                                {
                                    "0": "2019-05-15",
                                    "1": "sql1",
                                    "2": "Testing last diff backups on sql1",
                                    "3": "1"
                                },
                                {
                                    "0": "2019-05-15",
                                    "1": "sql1",
                                    "2": "Testing duplicate indexes on sql1",
                                    "3": "1"
                                },
                                {
                                    "0": "2019-05-15",
                                    "1": "sql1",
                                    "2": "Checking error log on sql1",
                                    "3": "1"
                                },
                                {
                                    "0": "2019-05-15",
                                    "1": "sql1",
                                    "2": "Testing Ad Hoc Workload Optimization on sql1",
                                    "3": "1"
                                },
                                {
                                    "0": "2019-05-15",
                                    "1": "sql1",
                                    "2": "Testing Auto Update Statistics Asynchronously on sql1",
                                    "3": "1"
                                },
                                {
                                    "0": "2019-05-15",
                                    "1": "sql1",
                                    "2": "Testing last log backups on sql1",
                                    "3": "1"
                                },
                                {
                                    "0": "2019-05-16",
                                    "1": "sql1",
                                    "2": "Checking error log on sql1",
                                    "3": "1"
                                },
                                {
                                    "0": "2019-05-16",
                                    "1": "sql1",
                                    "2": "Testing Ad Hoc Workload Optimization on sql1",
                                    "3": "1"
                                },
                                {
                                    "0": "2019-05-16",
                                    "1": "sql1",
                                    "2": "Testing Auto Update Statistics Asynchronously on sql1",
                                    "3": "1"
                                },
                                {
                                    "0": "2019-05-16",
                                    "1": "sql1",
                                    "2": "Testing database compatibility level matches server compatibility level on sql1",
                                    "3": "1"
                                },
                                {
                                    "0": "2019-05-17",
                                    "1": "sql1",
                                    "2": "Checking error log on sql1",
                                    "3": "1"
                                },
                                {
                                    "0": "2019-05-17",
                                    "1": "sql1",
                                    "2": "Testing Ad Hoc Workload Optimization on sql1",
                                    "3": "1"
                                },
                                {
                                    "0": "2019-05-17",
                                    "1": "sql1",
                                    "2": "Testing Auto Update Statistics Asynchronously on sql1",
                                    "3": "1"
                                },
                                {
                                    "0": "2019-05-17",
                                    "1": "sql1",
                                    "2": "Testing database growth event on sql1",
                                    "3": "1"
                                },
                                {
                                    "0": "2019-05-17",
                                    "1": "sql1",
                                    "2": "Testing last full backups on sql1",
                                    "3": "1"
                                },
                                {
                                    "0": "2019-05-16",
                                    "1": "sql1",
                                    "2": "Testing duplicate indexes on sql1",
                                    "3": "1"
                                },
                                {
                                    "0": "2019-05-16",
                                    "1": "sql1",
                                    "2": "Testing last full backups on sql1",
                                    "3": "1"
                                },
                                {
                                    "0": "2019-05-16",
                                    "1": "sql1",
                                    "2": "Testing Last Good DBCC CHECKDB on sql1",
                                    "3": "1"
                                }
                            ]
                        },
                        "text/html": "<table><tr><th>TestDate</th><th>SqlInstance</th><th>Context</th><th>Failed Checks</th></tr><tr><td>2019-05-15</td><td>sql0</td><td>Testing datafile growth type on sql0</td><td>14</td></tr><tr><td>2019-05-16</td><td>sql0</td><td>Testing datafile growth type on sql0</td><td>14</td></tr><tr><td>2019-05-17</td><td>sql0</td><td>Testing datafile growth type on sql0</td><td>14</td></tr><tr><td>2019-05-18</td><td>sql0</td><td>Testing datafile growth type on sql0</td><td>14</td></tr><tr><td>2019-05-19</td><td>sql0</td><td>Testing datafile growth type on sql0</td><td>14</td></tr><tr><td>2019-05-15</td><td>sql0</td><td>Testing last full backups on sql0</td><td>13</td></tr><tr><td>2019-05-16</td><td>sql0</td><td>Testing last diff backups on sql0</td><td>10</td></tr><tr><td>2019-05-15</td><td>sql0</td><td>Testing last diff backups on sql0</td><td>10</td></tr><tr><td>2019-05-19</td><td>sql0</td><td>Testing last diff backups on sql0</td><td>10</td></tr><tr><td>2019-05-21</td><td>sql0</td><td>Testing last diff backups on sql0</td><td>9</td></tr><tr><td>2019-05-19</td><td>sql0</td><td>Database MaxDop setting is correct on sql0</td><td>9</td></tr><tr><td>2019-05-18</td><td>sql0</td><td>Database MaxDop setting is correct on sql0</td><td>9</td></tr><tr><td>2019-05-15</td><td>sql0</td><td>Testing Last Good DBCC CHECKDB on sql0</td><td>9</td></tr><tr><td>2019-05-15</td><td>sql0</td><td>Testing last log backups on sql0</td><td>9</td></tr><tr><td>2019-05-15</td><td>sql0</td><td>Testing database collation on sql0</td><td>8</td></tr><tr><td>2019-05-16</td><td>sql0</td><td>Testing Last Good DBCC CHECKDB on sql0</td><td>8</td></tr><tr><td>2019-05-16</td><td>sql0</td><td>Testing Recovery Model on sql0</td><td>8</td></tr><tr><td>2019-05-16</td><td>sql0</td><td>Testing database collation on sql0</td><td>8</td></tr><tr><td>2019-05-17</td><td>sql0</td><td>Testing Recovery Model on sql0</td><td>8</td></tr><tr><td>2019-05-19</td><td>sql0</td><td>Testing Recovery Model on sql0</td><td>8</td></tr><tr><td>2019-05-18</td><td>sql0</td><td>Testing Recovery Model on sql0</td><td>8</td></tr><tr><td>2019-05-21</td><td>sql0</td><td>Testing datafile growth type on sql0</td><td>8</td></tr><tr><td>2019-05-20</td><td>sql0</td><td>Testing database compatibility level matches server compatibility level on sql0</td><td>7</td></tr><tr><td>2019-05-18</td><td>sql0</td><td>Testing database collation on sql0</td><td>7</td></tr><tr><td>2019-05-18</td><td>sql0</td><td>Testing database compatibility level matches server compatibility level on sql0</td><td>7</td></tr><tr><td>2019-05-19</td><td>sql0</td><td>Testing database collation on sql0</td><td>7</td></tr><tr><td>2019-05-19</td><td>sql0</td><td>Testing database compatibility level matches server compatibility level on sql0</td><td>7</td></tr><tr><td>2019-05-17</td><td>sql0</td><td>Testing database collation on sql0</td><td>7</td></tr><tr><td>2019-05-17</td><td>sql0</td><td>Testing database compatibility level matches server compatibility level on sql0</td><td>7</td></tr><tr><td>2019-05-17</td><td>sql0</td><td>Testing database growth event on sql0</td><td>7</td></tr><tr><td>2019-05-15</td><td>sql0</td><td>Testing database compatibility level matches server compatibility level on sql0</td><td>7</td></tr><tr><td>2019-05-15</td><td>sql0</td><td>Testing for files likely to grow soon on sql0</td><td>6</td></tr><tr><td>2019-05-16</td><td>sql0</td><td>Testing database compatibility level matches server compatibility level on sql0</td><td>6</td></tr><tr><td>2019-05-16</td><td>sql0</td><td>Testing database growth event on sql0</td><td>6</td></tr><tr><td>2019-05-16</td><td>sql0</td><td>Testing duplicate indexes on sql0</td><td>6</td></tr><tr><td>2019-05-18</td><td>sql0</td><td>Testing database growth event on sql0</td><td>6</td></tr><tr><td>2019-05-21</td><td>sql0</td><td>Testing database compatibility level matches server compatibility level on sql0</td><td>6</td></tr><tr><td>2019-05-21</td><td>sql0</td><td>Testing for files likely to grow soon on sql0</td><td>5</td></tr><tr><td>2019-05-20</td><td>sql0</td><td>Testing duplicate indexes on sql0</td><td>5</td></tr><tr><td>2019-05-18</td><td>sql0</td><td>Testing for files likely to grow soon on sql0</td><td>5</td></tr><tr><td>2019-05-19</td><td>sql0</td><td>Testing for files likely to grow soon on sql0</td><td>5</td></tr><tr><td>2019-05-16</td><td>sql0</td><td>Testing for files likely to grow soon on sql0</td><td>5</td></tr><tr><td>2019-05-15</td><td>sql0</td><td>Testing duplicate indexes on sql0</td><td>5</td></tr><tr><td>2019-05-15</td><td>sql0</td><td>Testing database growth event on sql0</td><td>5</td></tr><tr><td>2019-05-17</td><td>sql0</td><td>Testing for files likely to grow soon on sql0</td><td>5</td></tr><tr><td>2019-05-17</td><td>sql0</td><td>Testing Last Good DBCC CHECKDB on sql0</td><td>4</td></tr><tr><td>2019-05-17</td><td>sql0</td><td>Testing duplicate indexes on sql0</td><td>4</td></tr><tr><td>2019-05-19</td><td>sql0</td><td>Testing duplicate indexes on sql0</td><td>4</td></tr><tr><td>2019-05-18</td><td>sql0</td><td>Testing duplicate indexes on sql0</td><td>4</td></tr><tr><td>2019-05-18</td><td>sql0</td><td>Testing Last Good DBCC CHECKDB on sql0</td><td>4</td></tr><tr><td>2019-05-18</td><td>sql0</td><td>Testing Linked Servers on sql0</td><td>4</td></tr><tr><td>2019-05-19</td><td>sql0</td><td>Testing Last Good DBCC CHECKDB on sql0</td><td>4</td></tr><tr><td>2019-05-19</td><td>sql0</td><td>Testing Linked Servers on sql0</td><td>4</td></tr><tr><td>2019-05-21</td><td>sql0</td><td>Testing Linked Servers on sql0</td><td>4</td></tr><tr><td>2019-05-20</td><td>sql0</td><td>Testing for files likely to grow soon on sql0</td><td>3</td></tr><tr><td>2019-05-19</td><td>sql0</td><td>Testing database growth event on sql0</td><td>3</td></tr><tr><td>2019-05-19</td><td>sql0</td><td>Testing last log backups on sql0</td><td>2</td></tr><tr><td>2019-05-21</td><td>sql0</td><td>Testing database growth event on sql0</td><td>2</td></tr><tr><td>2019-05-21</td><td>sql0</td><td>Checking error log on sql0</td><td>1</td></tr><tr><td>2019-05-21</td><td>sql0</td><td>Database status is correct on sql0</td><td>1</td></tr><tr><td>2019-05-21</td><td>sql0</td><td>Testing Disabled indexes on sql0</td><td>1</td></tr><tr><td>2019-05-21</td><td>sql0</td><td>Testing duplicate indexes on sql0</td><td>1</td></tr><tr><td>2019-05-21</td><td>sql0</td><td>Testing Network Latency on sql0</td><td>1</td></tr><tr><td>2019-05-20</td><td>sql0</td><td>Testing database growth event on sql0</td><td>1</td></tr><tr><td>2019-05-20</td><td>sql0</td><td>Testing Disabled indexes on sql0</td><td>1</td></tr><tr><td>2019-05-20</td><td>sql0</td><td>Checking error log on sql0</td><td>1</td></tr><tr><td>2019-05-20</td><td>sql0</td><td>Database MaxDop setting is correct on sql0</td><td>1</td></tr><tr><td>2019-05-19</td><td>sql0</td><td>Testing Ad Hoc Workload Optimization on sql0</td><td>1</td></tr><tr><td>2019-05-19</td><td>sql0</td><td>Testing Auto Update Statistics Asynchronously on sql0</td><td>1</td></tr><tr><td>2019-05-19</td><td>sql0</td><td>Checking error log on sql0</td><td>1</td></tr><tr><td>2019-05-19</td><td>sql0</td><td>Testing Disabled indexes on sql0</td><td>1</td></tr><tr><td>2019-05-18</td><td>sql0</td><td>Testing last diff backups on sql0</td><td>1</td></tr><tr><td>2019-05-18</td><td>sql0</td><td>Testing Disabled indexes on sql0</td><td>1</td></tr><tr><td>2019-05-17</td><td>sql0</td><td>Testing Disabled indexes on sql0</td><td>1</td></tr><tr><td>2019-05-17</td><td>sql0</td><td>Checking error log on sql0</td><td>1</td></tr><tr><td>2019-05-17</td><td>sql0</td><td>Testing Ad Hoc Workload Optimization on sql0</td><td>1</td></tr><tr><td>2019-05-17</td><td>sql0</td><td>Testing Auto Update Statistics Asynchronously on sql0</td><td>1</td></tr><tr><td>2019-05-17</td><td>sql0</td><td>Testing last diff backups on sql0</td><td>1</td></tr><tr><td>2019-05-18</td><td>sql0</td><td>Testing Ad Hoc Workload Optimization on sql0</td><td>1</td></tr><tr><td>2019-05-18</td><td>sql0</td><td>Testing Auto Update Statistics Asynchronously on sql0</td><td>1</td></tr><tr><td>2019-05-18</td><td>sql0</td><td>Checking error log on sql0</td><td>1</td></tr><tr><td>2019-05-15</td><td>sql0</td><td>Checking error log on sql0</td><td>1</td></tr><tr><td>2019-05-15</td><td>sql0</td><td>Testing Ad Hoc Workload Optimization on sql0</td><td>1</td></tr><tr><td>2019-05-15</td><td>sql0</td><td>Testing Auto Update Statistics Asynchronously on sql0</td><td>1</td></tr><tr><td>2019-05-15</td><td>sql0</td><td>Testing Disabled indexes on sql0</td><td>1</td></tr><tr><td>2019-05-16</td><td>sql0</td><td>Testing Network Latency on sql0</td><td>1</td></tr><tr><td>2019-05-16</td><td>sql0</td><td>Testing Disabled indexes on sql0</td><td>1</td></tr><tr><td>2019-05-16</td><td>sql0</td><td>Checking error log on sql0</td><td>1</td></tr><tr><td>2019-05-16</td><td>sql0</td><td>Testing Ad Hoc Workload Optimization on sql0</td><td>1</td></tr><tr><td>2019-05-16</td><td>sql0</td><td>Testing Auto Update Statistics Asynchronously on sql0</td><td>1</td></tr><tr><td>2019-05-15</td><td>sql1</td><td>Testing datafile growth type on sql1</td><td>8</td></tr><tr><td>2019-05-17</td><td>sql1</td><td>Testing datafile growth type on sql1</td><td>8</td></tr><tr><td>2019-05-16</td><td>sql1</td><td>Testing datafile growth type on sql1</td><td>8</td></tr><tr><td>2019-05-18</td><td>sql1</td><td>Testing datafile growth type on sql1</td><td>8</td></tr><tr><td>2019-05-19</td><td>sql1</td><td>Testing datafile growth type on sql1</td><td>8</td></tr><tr><td>2019-05-21</td><td>sql1</td><td>Testing datafile growth type on sql1</td><td>8</td></tr><tr><td>2019-05-15</td><td>sql1</td><td>Testing last full backups on sql1</td><td>4</td></tr><tr><td>2019-05-16</td><td>sql1</td><td>Testing for files likely to grow soon on sql1</td><td>3</td></tr><tr><td>2019-05-16</td><td>sql1</td><td>Testing last diff backups on sql1</td><td>2</td></tr><tr><td>2019-05-16</td><td>sql1</td><td>Testing Database Owners on sql1</td><td>2</td></tr><tr><td>2019-05-16</td><td>sql1</td><td>Testing last log backups on sql1</td><td>2</td></tr><tr><td>2019-05-17</td><td>sql1</td><td>Testing duplicate indexes on sql1</td><td>2</td></tr><tr><td>2019-05-17</td><td>sql1</td><td>Testing for files likely to grow soon on sql1</td><td>2</td></tr><tr><td>2019-05-17</td><td>sql1</td><td>Testing last diff backups on sql1</td><td>2</td></tr><tr><td>2019-05-17</td><td>sql1</td><td>Testing last log backups on sql1</td><td>2</td></tr><tr><td>2019-05-17</td><td>sql1</td><td>Testing Database Owners on sql1</td><td>2</td></tr><tr><td>2019-05-15</td><td>sql1</td><td>Testing for files likely to grow soon on sql1</td><td>2</td></tr><tr><td>2019-05-21</td><td>sql1</td><td>Testing for files likely to grow soon on sql1</td><td>2</td></tr><tr><td>2019-05-20</td><td>sql1</td><td>Testing duplicate indexes on sql1</td><td>2</td></tr><tr><td>2019-05-19</td><td>sql1</td><td>Testing duplicate indexes on sql1</td><td>2</td></tr><tr><td>2019-05-19</td><td>sql1</td><td>Testing for files likely to grow soon on sql1</td><td>2</td></tr><tr><td>2019-05-19</td><td>sql1</td><td>Testing last diff backups on sql1</td><td>2</td></tr><tr><td>2019-05-19</td><td>sql1</td><td>Testing Database Owners on sql1</td><td>2</td></tr><tr><td>2019-05-19</td><td>sql1</td><td>Testing last log backups on sql1</td><td>2</td></tr><tr><td>2019-05-18</td><td>sql1</td><td>Testing duplicate indexes on sql1</td><td>2</td></tr><tr><td>2019-05-18</td><td>sql1</td><td>Testing for files likely to grow soon on sql1</td><td>2</td></tr><tr><td>2019-05-18</td><td>sql1</td><td>Testing last diff backups on sql1</td><td>2</td></tr><tr><td>2019-05-18</td><td>sql1</td><td>Testing last log backups on sql1</td><td>2</td></tr><tr><td>2019-05-18</td><td>sql1</td><td>Testing Database Owners on sql1</td><td>2</td></tr><tr><td>2019-05-19</td><td>sql1</td><td>Checking error log on sql1</td><td>1</td></tr><tr><td>2019-05-19</td><td>sql1</td><td>Testing Ad Hoc Workload Optimization on sql1</td><td>1</td></tr><tr><td>2019-05-19</td><td>sql1</td><td>Testing Auto Update Statistics Asynchronously on sql1</td><td>1</td></tr><tr><td>2019-05-19</td><td>sql1</td><td>Testing database growth event on sql1</td><td>1</td></tr><tr><td>2019-05-18</td><td>sql1</td><td>Testing last full backups on sql1</td><td>1</td></tr><tr><td>2019-05-18</td><td>sql1</td><td>Checking error log on sql1</td><td>1</td></tr><tr><td>2019-05-18</td><td>sql1</td><td>Testing Ad Hoc Workload Optimization on sql1</td><td>1</td></tr><tr><td>2019-05-18</td><td>sql1</td><td>Testing Auto Update Statistics Asynchronously on sql1</td><td>1</td></tr><tr><td>2019-05-18</td><td>sql1</td><td>Testing database growth event on sql1</td><td>1</td></tr><tr><td>2019-05-19</td><td>sql1</td><td>Testing Network Latency on sql1</td><td>1</td></tr><tr><td>2019-05-20</td><td>sql1</td><td>Checking error log on sql1</td><td>1</td></tr><tr><td>2019-05-19</td><td>sql1</td><td>Testing last full backups on sql1</td><td>1</td></tr><tr><td>2019-05-21</td><td>sql1</td><td>Testing Network Latency on sql1</td><td>1</td></tr><tr><td>2019-05-21</td><td>sql1</td><td>Testing duplicate indexes on sql1</td><td>1</td></tr><tr><td>2019-05-21</td><td>sql1</td><td>Checking error log on sql1</td><td>1</td></tr><tr><td>2019-05-21</td><td>sql1</td><td>Database status is correct on sql1</td><td>1</td></tr><tr><td>2019-05-15</td><td>sql1</td><td>Testing last diff backups on sql1</td><td>1</td></tr><tr><td>2019-05-15</td><td>sql1</td><td>Testing duplicate indexes on sql1</td><td>1</td></tr><tr><td>2019-05-15</td><td>sql1</td><td>Checking error log on sql1</td><td>1</td></tr><tr><td>2019-05-15</td><td>sql1</td><td>Testing Ad Hoc Workload Optimization on sql1</td><td>1</td></tr><tr><td>2019-05-15</td><td>sql1</td><td>Testing Auto Update Statistics Asynchronously on sql1</td><td>1</td></tr><tr><td>2019-05-15</td><td>sql1</td><td>Testing last log backups on sql1</td><td>1</td></tr><tr><td>2019-05-16</td><td>sql1</td><td>Checking error log on sql1</td><td>1</td></tr><tr><td>2019-05-16</td><td>sql1</td><td>Testing Ad Hoc Workload Optimization on sql1</td><td>1</td></tr><tr><td>2019-05-16</td><td>sql1</td><td>Testing Auto Update Statistics Asynchronously on sql1</td><td>1</td></tr><tr><td>2019-05-16</td><td>sql1</td><td>Testing database compatibility level matches server compatibility level on sql1</td><td>1</td></tr><tr><td>2019-05-17</td><td>sql1</td><td>Checking error log on sql1</td><td>1</td></tr><tr><td>2019-05-17</td><td>sql1</td><td>Testing Ad Hoc Workload Optimization on sql1</td><td>1</td></tr><tr><td>2019-05-17</td><td>sql1</td><td>Testing Auto Update Statistics Asynchronously on sql1</td><td>1</td></tr><tr><td>2019-05-17</td><td>sql1</td><td>Testing database growth event on sql1</td><td>1</td></tr><tr><td>2019-05-17</td><td>sql1</td><td>Testing last full backups on sql1</td><td>1</td></tr><tr><td>2019-05-16</td><td>sql1</td><td>Testing duplicate indexes on sql1</td><td>1</td></tr><tr><td>2019-05-16</td><td>sql1</td><td>Testing last full backups on sql1</td><td>1</td></tr><tr><td>2019-05-16</td><td>sql1</td><td>Testing Last Good DBCC CHECKDB on sql1</td><td>1</td></tr></table>"
                    }
                }
            ],
            "execution_count": 7
        },
        {
            "cell_type": "markdown",
            "source": "This is just a quick example of some of the things in the dbachecks ValidationResults database - What more can you do ?",
            "metadata": {}
        },
        {
            "cell_type": "code",
            "source": "",
            "metadata": {},
            "outputs": [],
            "execution_count": 0
        },
        {
            "cell_type": "markdown",
            "source": "<a href=\"command:workbench.action.terminal.focus\">Or In Azure Data Studio you can click this link to open a new terminal'</a>\r\n\r\nand then \r\n\r\n<a href=\"command:workbench.action.terminal.sendSequence?%7B%22text%22%3A%22 %24cred %3D Get-Credential %3BRestore-DbaDatabase -SqlInstance %27localhost%2C15594%27 -SqlCredential %24cred -Path %2Fvar%2Fopt%2Fmssql%2Fbackups%2FValidationResults-201942-13-13-57.bak %22%7D\">Paste in the Restore-DBaDatabase code by clicking this link - :-)</a> \r\n\r\n\r\n<a href=\"command:workbench.action.terminal.sendSequence?%7B%22text%22%3A%22docker-compose up -d%22%7D\">Paste in the docker-compose up -d code by clicking this link</a>\r\n\r\n<a href=\"command:workbench.action.terminal.focus\">Click this link to focus the terminal and press enter</a> \r\n\r\nIn the credential prompt enter Password0! (or a different password if you have altered the docker-compose file)",
            "metadata": {}
        }
    ]
}