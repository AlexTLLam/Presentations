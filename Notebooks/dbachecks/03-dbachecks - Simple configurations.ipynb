{
    "metadata": {
        "kernelspec": {
            "name": "powershell",
            "display_name": "PowerShell"
        },
        "language_info": {
            "name": "powershell",
            "codemirror_mode": "shell",
            "mimetype": "text/x-sh",
            "file_extension": ".ps1"
        }
    },
    "nbformat_minor": 2,
    "nbformat": 4,
    "cells": [
        {
            "cell_type": "markdown",
            "source": [
                "# dbachecks - Configurations\r\n",
                "\r\n",
                "You can use dbachecks on the command line as we have seen in the previous notebook but you will not always want to have the default settings for the checks\r\n",
                "\r\n",
                "You can alter any of the configurations using the `Set-DbcConfig` command.\r\n",
                "\r\n",
                "## Invalid Database Owners\r\n",
                "\r\n",
                "You may want to check that databases are not owned by certain accounts.\r\n",
                "\r\n",
                "By default the `InvalidDatabaseOwner` checks that the databases are not owned by the sa account. When we run this check against the instance we pass all of the checks\r\n",
                "\r\n",
                "\r\n",
                "Again, this requires that you have the containers set up from the Notebook 00 - Setting up the containers for the rest of the containers.ipynb\r\n",
                "\r\n",
                "If you have altered the folder path you will need to alter it below.\r\n",
                ""
            ],
            "metadata": {
                "azdata_cell_guid": "eade8b6a-a343-45c6-b917-f018cb2d0e7e"
            }
        },
        {
            "cell_type": "code",
            "source": [
                "$FolderPath = $Env:USERPROFILE + '\\Documents\\dbachecks'\r\n",
                "$SqlInstances = 'localhost,15592','localhost,15593'\r\n",
                "$SqlCredential = Import-Clixml -Path $FolderPath\\sqladmin.cred\r\n",
                "# Just in case the config has been altered\r\n",
                "$null = Reset-DbcConfig\r\n",
                "Invoke-DbcCheck -SqlInstance $SqlInstances -SqlCredential $SqlCredential  InvalidDatabaseOwner"
            ],
            "metadata": {
                "azdata_cell_guid": "3627b53c-63a5-4e21-9a2d-96b1a092c913",
                "tags": []
            },
            "outputs": [
                {
                    "name": "stdout",
                    "text": "    ____            __\n   / __ \\___  _____/ /____  _____\n  / /_/ / _ \\/ ___/ __/ _ \\/ ___/\n / ____/  __(__  ) /_/  __/ /\n/_/    \\___/____/\\__/\\___/_/\nPester v4.9.0\nExecuting all tests in 'C:\\Program Files\\WindowsPowerShell\\Modules\\dbachecks\\1.2.21\\checks\\Database.Tests.ps1' with Tags InvalidDatabaseOwner\n\nExecuting script C:\\Program Files\\WindowsPowerShell\\Modules\\dbachecks\\1.2.21\\checks\\Database.Tests.ps1\n\n  Describing Invalid Database Owner\n\n    Context Testing Database Owners on localhost,15592\n      [+] Database AdventureWorks2017 - owner sqladmin should Not be in this list ( sa ) on localhost,15592 1ms\n      [+] Database Northwind - owner sqladmin should Not be in this list ( sa ) on localhost,15592 1ms\n      [+] Database pubs - owner sqladmin should Not be in this list ( sa ) on localhost,15592 1ms\n      [+] Database WideWorldImporters - owner sqladmin should Not be in this list ( sa ) on localhost,15592 2ms\n\n  Describing Invalid Database Owner\n\n    Context Testing Database Owners on localhost,15593\n      [+] Database AdventureWorks2017 - owner sqladmin should Not be in this list ( sa ) on localhost,15593 1ms\n      [+] Database Northwind - owner sqladmin should Not be in this list ( sa ) on localhost,15593 3ms\n      [+] Database pubs - owner sqladmin should Not be in this list ( sa ) on localhost,15593 1ms\n      [+] Database WideWorldImporters - owner sqladmin should Not be in this list ( sa ) on localhost,15593 1ms\nTests completed in 7.68s\nTests Passed: 8, Failed: 0, Skipped: 0, Pending: 0, Inconclusive: 0 \n",
                    "output_type": "stream"
                }
            ],
            "execution_count": 23
        },
        {
            "cell_type": "markdown",
            "source": [
                "If our organistation requirements are that no databases should be owned by members of the DBA Team user accounts, we can alter the configuration to check for that. \r\n",
                "\r\n",
                "To find out which configuration we need to change we can use `Get-DbcCheck`"
            ],
            "metadata": {
                "azdata_cell_guid": "0b36fbd4-d266-493e-9aef-f6c66f76f97c"
            }
        },
        {
            "cell_type": "code",
            "source": [
                "Get-DbcCheck -Pattern InvalidDatabaseOwner | Format-List"
            ],
            "metadata": {
                "azdata_cell_guid": "c03ce802-b2e9-4da0-b302-0f916e03ece7"
            },
            "outputs": [
                {
                    "name": "stdout",
                    "text": "\n\nGroup       : Database\nType        : Sqlinstance\nUniqueTag   : InvalidDatabaseOwner\nAllTags     : InvalidDatabaseOwner, Medium, Database\nConfig      : app.sqlinstance policy.invaliddbowner.name policy.invaliddbowner.excludedb \nDescription : Tests that the Database Owner is NOT in the specified (default blank) list\n\n\n\n",
                    "output_type": "stream"
                }
            ],
            "execution_count": 5
        },
        {
            "cell_type": "markdown",
            "source": [
                "We can see that there are 3 configurations that this check will use\r\n",
                "- app.sqlinstance\r\n",
                "- policy.invaliddbowner.name \r\n",
                "- policy.invaliddbowner.excludedb \r\n",
                "\r\n",
                "We can get further information about the checks with `Get-DbcConfig`"
            ],
            "metadata": {
                "azdata_cell_guid": "6f7e0921-11ae-4cca-a8c5-4cd4e9f2abe3"
            }
        },
        {
            "cell_type": "code",
            "source": [
                "Get-DbcConfig -Name policy.invaliddbowner.name | Format-List"
            ],
            "metadata": {
                "azdata_cell_guid": "4318390f-f330-496e-aecb-a7d546bd62e4"
            },
            "outputs": [
                {
                    "name": "stdout",
                    "text": "\n\nName        : policy.invaliddbowner.name\nValue       : sa\nDescription : The database owner account should not be this user\n\n\n\n",
                    "output_type": "stream"
                }
            ],
            "execution_count": 6
        },
        {
            "cell_type": "markdown",
            "source": [
                "We can change the value of that configuration item using `Set-DbcConfig`. We will set it to the members of the DBA Team AD Group\r\n",
                "\r\n",
                "This is an example - don't run this unless you are connected to THEBEARD.local domain :-)"
            ],
            "metadata": {
                "azdata_cell_guid": "8b57c94f-95f7-4575-a2e4-db1e84df87e4"
            }
        },
        {
            "cell_type": "code",
            "source": [
                "$DBA_Accounts =  (Get-ADGroup -Identity 'CN=SQL_DBAs_The_Cool_Ones,OU=TheBeardGroups,OU=TheBeard,DC=TheBeard,DC=local' |Get-ADGroupMember).ForEach{\"THEBEARD\\$($Psitem.SamAccountName)\"} \r\n",
                "Set-DbcConfig -Name policy.invaliddbowner.name -Value $DBA_Accounts"
            ],
            "metadata": {
                "azdata_cell_guid": "1d12f62f-107a-440c-b87d-b0b8c2a2ba08"
            },
            "outputs": [
                {
                    "output_type": "stream",
                    "name": "stdout",
                    "text": "\nName                       Value                                                                Description            \n----                       -----                                                                -----------            \npolicy.invaliddbowner.name {THEBEARD\\Rob, THEBEARD\\DBA, THEBEARD\\wdurkin, THEBEARD\\gsartori...} The database owner a...\n\n\n"
                }
            ],
            "execution_count": 19
        },
        {
            "cell_type": "markdown",
            "source": [
                "## This is how you can alter a check to test the values that YOU want by setting a configuration\r\n",
                "We have disabled the sa acccount and disabled the old account - Perhaps we do not want our databases owned by the new sysadmin account `sqladmin` We can set that value in the configuration and run the test"
            ],
            "metadata": {
                "azdata_cell_guid": "cbf7ed68-9fe1-42a7-a890-a06acf016cfd"
            }
        },
        {
            "cell_type": "code",
            "source": [
                "$FolderPath = $Env:USERPROFILE + '\\Documents\\dbachecks'\r\n",
                "$SqlInstances = 'localhost,15592','localhost,15593'\r\n",
                "$SqlCredential = Import-Clixml -Path $FolderPath\\sqladmin.cred\r\n",
                "Set-DbcConfig -Name policy.invaliddbowner.name -Value sqladmin\r\n",
                "Invoke-DbcCheck -SqlInstance $SqlInstances -SqlCredential $SqlCredential -Check InvalidDatabaseOwner"
            ],
            "metadata": {
                "azdata_cell_guid": "c2aed9d7-6fcc-4c04-b91c-5007a8ddc27a"
            },
            "outputs": [
                {
                    "name": "stdout",
                    "text": "\n    ____            __\n   / __ \\___  _____/ /____  _____\n  / /_/ / _ \\/ ___/ __/ _ \\/ ___/\n / ____/  __(__  ) /_/  __/ /\n/_/    \\___/____/\\__/\\___/_/\nPester v4.9.0\nExecuting all tests in 'C:\\Program Files\\WindowsPowerShell\\Modules\\dbachecks\\1.2.21\\checks\\Database.Tests.ps1' with Tags InvalidDatabaseOwner\n\nExecuting script C:\\Program Files\\WindowsPowerShell\\Modules\\dbachecks\\1.2.21\\checks\\Database.Tests.ps1\n\n  Describing Invalid Database Owner\n\n    Context Testing Database Owners on localhost,15592\n      [-] Database AdventureWorks2017 - owner sqladmin should Not be in this list ( sqladmin ) on localhost,15592 3ms\n        Expected collection sqladmin to not contain 'sqladmin', because The database owner was one specified as incorrect, but it was found.\n        176:                         $psitem.Owner | Should -Not -BeIn $TargetOwner -Because \"The database owner was one specified as incorrect\"\n        at <ScriptBlock>, C:\\Program Files\\WindowsPowerShell\\Modules\\dbachecks\\1.2.21\\checks\\Database.Tests.ps1: line 176\n      [-] Database Northwind - owner sqladmin should Not be in this list ( sqladmin ) on localhost,15592 3ms\n        Expected collection sqladmin to not contain 'sqladmin', because The database owner was one specified as incorrect, but it was found.\n        176:                         $psitem.Owner | Should -Not -BeIn $TargetOwner -Because \"The database owner was one specified as incorrect\"\n        at <ScriptBlock>, C:\\Program Files\\WindowsPowerShell\\Modules\\dbachecks\\1.2.21\\checks\\Database.Tests.ps1: line 176\n      [-] Database pubs - owner sqladmin should Not be in this list ( sqladmin ) on localhost,15592 3ms\n        Expected collection sqladmin to not contain 'sqladmin', because The database owner was one specified as incorrect, but it was found.\n        176:                         $psitem.Owner | Should -Not -BeIn $TargetOwner -Because \"The database owner was one specified as incorrect\"\n        at <ScriptBlock>, C:\\Program Files\\WindowsPowerShell\\Modules\\dbachecks\\1.2.21\\checks\\Database.Tests.ps1: line 176\n      [-] Database WideWorldImporters - owner sqladmin should Not be in this list ( sqladmin ) on localhost,15592 3ms\n        Expected collection sqladmin to not contain 'sqladmin', because The database owner was one specified as incorrect, but it was found.\n        176:                         $psitem.Owner | Should -Not -BeIn $TargetOwner -Because \"The database owner was one specified as incorrect\"\n        at <ScriptBlock>, C:\\Program Files\\WindowsPowerShell\\Modules\\dbachecks\\1.2.21\\checks\\Database.Tests.ps1: line 176\n\n  Describing Invalid Database Owner\n\n    Context Testing Database Owners on localhost,15593\n      [-] Database AdventureWorks2017 - owner sqladmin should Not be in this list ( sqladmin ) on localhost,15593 2ms\n        Expected collection sqladmin to not contain 'sqladmin', because The database owner was one specified as incorrect, but it was found.\n        176:                         $psitem.Owner | Should -Not -BeIn $TargetOwner -Because \"The database owner was one specified as incorrect\"\n        at <ScriptBlock>, C:\\Program Files\\WindowsPowerShell\\Modules\\dbachecks\\1.2.21\\checks\\Database.Tests.ps1: line 176\n      [-] Database Northwind - owner sqladmin should Not be in this list ( sqladmin ) on localhost,15593 3ms\n        Expected collection sqladmin to not contain 'sqladmin', because The database owner was one specified as incorrect, but it was found.\n        176:                         $psitem.Owner | Should -Not -BeIn $TargetOwner -Because \"The database owner was one specified as incorrect\"\n        at <ScriptBlock>, C:\\Program Files\\WindowsPowerShell\\Modules\\dbachecks\\1.2.21\\checks\\Database.Tests.ps1: line 176\n      [-] Database pubs - owner sqladmin should Not be in this list ( sqladmin ) on localhost,15593 3ms\n        Expected collection sqladmin to not contain 'sqladmin', because The database owner was one specified as incorrect, but it was found.\n        176:                         $psitem.Owner | Should -Not -BeIn $TargetOwner -Because \"The database owner was one specified as incorrect\"\n        at <ScriptBlock>, C:\\Program Files\\WindowsPowerShell\\Modules\\dbachecks\\1.2.21\\checks\\Database.Tests.ps1: line 176\n      [-] Database WideWorldImporters - owner sqladmin should Not be in this list ( sqladmin ) on localhost,15593 4ms\n        Expected collection sqladmin to not contain 'sqladmin', because The database owner was one specified as incorrect, but it was found.\n        176:                         $psitem.Owner | Should -Not -BeIn $TargetOwner -Because \"The database owner was one specified as incorrect\"\n        at <ScriptBlock>, C:\\Program Files\\WindowsPowerShell\\Modules\\dbachecks\\1.2.21\\checks\\Database.Tests.ps1: line 176\nTests completed in 480ms\nTests Passed: 0, Failed: 8, Skipped: 0, Pending: 0, Inconclusive: 0 \nName                       Value    Description                                       \n----                       -----    -----------                                       \npolicy.invaliddbowner.name sqladmin The database owner account should not be this user\n\n\n",
                    "output_type": "stream"
                }
            ],
            "execution_count": 24
        },
        {
            "cell_type": "markdown",
            "source": [
                "Ah\r\n",
                "\r\n",
                "We had better have a word with that fellow Rob and alter all of those database owners!! \r\n",
                "\r\n",
                "## This is how we could ask our junior DBA to do this and test they have done so correctly\r\n",
                "\r\n",
                "We could change the owner with `Get-DbaDatabase -SqlInstance sql2016n1 -ExcludeSystem -Owner THEBEARD\\Rob | Set-DbaDbOwner -TargetLogin THEBEARD\\DatabaseOwner`\r\n",
                "\r\n",
                "We can also set a confiuguration for our desired database owner and test for that. With dbachecks we can check for both Valid and Invalid database owner accounts\r\n",
                "\r\n",
                ""
            ],
            "metadata": {
                "azdata_cell_guid": "d76f851d-c6ae-4978-856c-3e9ab76459be"
            }
        },
        {
            "cell_type": "code",
            "source": [
                "$FolderPath = $Env:USERPROFILE + '\\Documents\\dbachecks'\r\n",
                "$SqlInstances = 'localhost,15592','localhost,15593'\r\n",
                "$SqlCredential = Import-Clixml -Path $FolderPath\\sqladmin.cred\r\n",
                "# Set the correct owner\r\n",
                "$null = Get-DbaDatabase -SqlInstance $SqlInstances -SqlCredential $SqlCredential -ExcludeSystem -Owner sqladmin | Set-DbaDbOwner -TargetLogin thebeard\r\n",
                "# Check that we do not have any databases owned by the unexpected accounts\r\n",
                "Invoke-DbcCheck -SqlInstance $SqlInstances -SqlCredential $SqlCredential -Check InvalidDatabaseOwner\r\n",
                "# Set the value for expected database owner\r\n",
                "Set-DbcConfig -Name policy.validdbowner.name -Value thebeard\r\n",
                "# Check our databases  are owned by the correct account\r\n",
                "Invoke-DbcCheck -SqlInstance $SqlInstances -SqlCredential $SqlCredential -Check ValidDatabaseOwner "
            ],
            "metadata": {
                "azdata_cell_guid": "e567857c-6450-40d6-b02e-685a8fbd29e4"
            },
            "outputs": [
                {
                    "name": "stdout",
                    "text": "    ____            __\n   / __ \\___  _____/ /____  _____\n  / /_/ / _ \\/ ___/ __/ _ \\/ ___/\n / ____/  __(__  ) /_/  __/ /\n/_/    \\___/____/\\__/\\___/_/\nPester v4.9.0\nExecuting all tests in 'C:\\Program Files\\WindowsPowerShell\\Modules\\dbachecks\\1.2.21\\checks\\Database.Tests.ps1' with Tags InvalidDatabaseOwner\n\nExecuting script C:\\Program Files\\WindowsPowerShell\\Modules\\dbachecks\\1.2.21\\checks\\Database.Tests.ps1\n\n  Describing Invalid Database Owner\n\n    Context Testing Database Owners on localhost,15592\n      [+] Database AdventureWorks2017 - owner thebeard should Not be in this list ( sqladmin ) on localhost,15592 1ms\n      [+] Database Northwind - owner thebeard should Not be in this list ( sqladmin ) on localhost,15592 2ms\n      [+] Database pubs - owner thebeard should Not be in this list ( sqladmin ) on localhost,15592 1ms\n      [+] Database WideWorldImporters - owner thebeard should Not be in this list ( sqladmin ) on localhost,15592 1ms\n\n  Describing Invalid Database Owner\n\n    Context Testing Database Owners on localhost,15593\n      [+] Database AdventureWorks2017 - owner thebeard should Not be in this list ( sqladmin ) on localhost,15593 1ms\n      [+] Database Northwind - owner thebeard should Not be in this list ( sqladmin ) on localhost,15593 1ms\n      [+] Database pubs - owner thebeard should Not be in this list ( sqladmin ) on localhost,15593 1ms\n      [+] Database WideWorldImporters - owner thebeard should Not be in this list ( sqladmin ) on localhost,15593 1ms\nTests completed in 415ms\nTests Passed: 8, Failed: 0, Skipped: 0, Pending: 0, Inconclusive: 0 \n\n    ____            __\n   / __ \\___  _____/ /____  _____\n  / /_/ / _ \\/ ___/ __/ _ \\/ ___/\n / ____/  __(__  ) /_/  __/ /\n/_/    \\___/____/\\__/\\___/_/\nPester v4.9.0\nExecuting all tests in 'C:\\Program Files\\WindowsPowerShell\\Modules\\dbachecks\\1.2.21\\checks\\Database.Tests.ps1' with Tags ValidDatabaseOwner\n\nExecuting script C:\\Program Files\\WindowsPowerShell\\Modules\\dbachecks\\1.2.21\\checks\\Database.Tests.ps1\n\n  Describing Valid Database Owner\n\n    Context Testing Database Owners on localhost,15592\n      [+] Database AdventureWorks2017 - owner thebeard should be in this list ( thebeard ) on localhost,15592 1ms\n      [+] Database Northwind - owner thebeard should be in this list ( thebeard ) on localhost,15592 1ms\n      [+] Database pubs - owner thebeard should be in this list ( thebeard ) on localhost,15592 1ms\n      [+] Database WideWorldImporters - owner thebeard should be in this list ( thebeard ) on localhost,15592 1ms\n\n  Describing Valid Database Owner\n\n    Context Testing Database Owners on localhost,15593\n      [+] Database AdventureWorks2017 - owner thebeard should be in this list ( thebeard ) on localhost,15593 1ms\n      [+] Database Northwind - owner thebeard should be in this list ( thebeard ) on localhost,15593 2ms\n      [+] Database pubs - owner thebeard should be in this list ( thebeard ) on localhost,15593 1ms\n      [+] Database WideWorldImporters - owner thebeard should be in this list ( thebeard ) on localhost,15593 2ms\nTests completed in 432ms\nTests Passed: 8, Failed: 0, Skipped: 0, Pending: 0, Inconclusive: 0 \nName                     Value    Description                                   \n----                     -----    -----------                                   \npolicy.validdbowner.name thebeard The database owner account should be this user\n\n\n",
                    "output_type": "stream"
                }
            ],
            "execution_count": 25
        },
        {
            "cell_type": "markdown",
            "source": [
                "## Ensuring Databases exist\r\n",
                "\r\n",
                "You might want to test that a particular database exists on your instance. This could be your DBA database or perhaps you have a check for your companies software system that you want to run on a clients estate and your software requires certain databases to exist \r\n",
                "\r\n",
                "You can run the default `DatabaseExists` which will check that the system databases exist as we showed in the quick examples notebook."
            ],
            "metadata": {
                "azdata_cell_guid": "ebca0026-3a00-496b-aeec-730f3d5bd799"
            }
        },
        {
            "cell_type": "code",
            "source": [
                "$FolderPath = $Env:USERPROFILE + '\\Documents\\dbachecks'\r\n",
                "$SqlInstances = 'localhost,15592','localhost,15593'\r\n",
                "$SqlCredential = Import-Clixml -Path $FolderPath\\sqladmin.cred\r\n",
                "Set-DbcConfig -Name policy.invaliddbowner.name -Value sqladmin\r\n",
                "Invoke-DbcCheck -SqlInstance $SqlInstances -SqlCredential $SqlCredential -Check DatabaseExists"
            ],
            "metadata": {
                "azdata_cell_guid": "6657827a-36ca-435d-9624-4e18c20d8593"
            },
            "outputs": [
                {
                    "name": "stdout",
                    "text": "\n    ____            __\n   / __ \\___  _____/ /____  _____\n  / /_/ / _ \\/ ___/ __/ _ \\/ ___/\n / ____/  __(__  ) /_/  __/ /\n/_/    \\___/____/\\__/\\___/_/\nPester v4.9.0\nExecuting all tests in 'C:\\Program Files\\WindowsPowerShell\\Modules\\dbachecks\\1.2.21\\checks\\Database.Tests.ps1' with Tags DatabaseExists\n\nExecuting script C:\\Program Files\\WindowsPowerShell\\Modules\\dbachecks\\1.2.21\\checks\\Database.Tests.ps1\n\n  Describing Database Exists\n\n    Context Database exists on localhost,15592\n      [+] Database master should exist on  82ms\n      [+] Database msdb should exist on  77ms\n      [+] Database tempdb should exist on  76ms\n      [+] Database model should exist on  79ms\n\n  Describing Database Exists\n\n    Context Database exists on localhost,15593\n      [+] Database master should exist on  80ms\n      [+] Database msdb should exist on  84ms\n      [+] Database tempdb should exist on  85ms\n      [+] Database model should exist on  81ms\nTests completed in 1.03s\nTests Passed: 8, Failed: 0, Skipped: 0, Pending: 0, Inconclusive: 0 \nName                       Value    Description                                       \n----                       -----    -----------                                       \npolicy.invaliddbowner.name sqladmin The database owner account should not be this user\n\n\n",
                    "output_type": "stream"
                }
            ],
            "execution_count": 26
        },
        {
            "cell_type": "markdown",
            "source": [
                "### Finding the configurations for the check\r\n",
                "\r\n",
                "You can find the configurations that you can set for a check with `Get-DbcCheck`"
            ],
            "metadata": {
                "azdata_cell_guid": "7ee90397-1031-4fe3-b679-6bb017b3f6c1"
            }
        },
        {
            "cell_type": "code",
            "source": [
                "Get-DbcCheck DatabaseExists | Format-List"
            ],
            "metadata": {
                "azdata_cell_guid": "80668f2f-9a92-4930-89bb-43861de533ba"
            },
            "outputs": [
                {
                    "name": "stdout",
                    "text": "\n\nGroup       : Database\nType        : Sqlinstance\nUniqueTag   : DatabaseExists\nAllTags     : DatabaseExists, Database\nConfig      : app.sqlinstance database.exists \nDescription : Tests that the databases are specified are on the instance (Note - Does not check if they are available \n              - Use DatabaseStatus for that))\n\n\n\n",
                    "output_type": "stream"
                }
            ],
            "execution_count": 12
        },
        {
            "cell_type": "markdown",
            "source": [
                "You can see that you can set the configuration `database.exists` Note that we are using the `-Append` parameter to add to the configuration instead of replacing it."
            ],
            "metadata": {
                "azdata_cell_guid": "b03439f2-0c50-4487-bec3-cc2001a6ab4a"
            }
        },
        {
            "cell_type": "code",
            "source": [
                "Set-DbcConfig -Name database.exists -Value 'pubs','NorthWind','AdventureWorks2017','WideWorldImporters' -Append"
            ],
            "metadata": {
                "azdata_cell_guid": "0c09af8d-8447-403b-8096-282ec554fa0e"
            },
            "outputs": [
                {
                    "name": "stdout",
                    "text": "\nName            Value                            Description                                   \n----            -----                            -----------                                   \ndatabase.exists {master, msdb, tempdb, model...} The databases we expect to be on the instances\n\n\n",
                    "output_type": "stream"
                }
            ],
            "execution_count": 27
        },
        {
            "cell_type": "markdown",
            "source": [
                "and then we can run the check again and confirm that we have all of the expected databases."
            ],
            "metadata": {
                "azdata_cell_guid": "732fb678-3816-46ec-a54c-2e4a84244183"
            }
        },
        {
            "cell_type": "code",
            "source": [
                "$FolderPath = $Env:USERPROFILE + '\\Documents\\dbachecks'\r\n",
                "$SqlInstances = 'localhost,15592','localhost,15593'\r\n",
                "$SqlCredential = Import-Clixml -Path $FolderPath\\sqladmin.cred\r\n",
                "Set-DbcConfig -Name policy.invaliddbowner.name -Value sqladmin\r\n",
                "Invoke-DbcCheck -SqlInstance $SqlInstances -SqlCredential $SqlCredential -Check DatabaseExists"
            ],
            "metadata": {
                "azdata_cell_guid": "1d421c8c-bc48-43a9-a15a-d5c95c5c7b68"
            },
            "outputs": [
                {
                    "name": "stdout",
                    "text": "\n    ____            __\n   / __ \\___  _____/ /____  _____\n  / /_/ / _ \\/ ___/ __/ _ \\/ ___/\n / ____/  __(__  ) /_/  __/ /\n/_/    \\___/____/\\__/\\___/_/\nPester v4.9.0\nExecuting all tests in 'C:\\Program Files\\WindowsPowerShell\\Modules\\dbachecks\\1.2.21\\checks\\Database.Tests.ps1' with Tags DatabaseExists\n\nExecuting script C:\\Program Files\\WindowsPowerShell\\Modules\\dbachecks\\1.2.21\\checks\\Database.Tests.ps1\n\n  Describing Database Exists\n\n    Context Database exists on localhost,15592\n      [+] Database master should exist on  79ms\n      [+] Database msdb should exist on  77ms\n      [+] Database tempdb should exist on  76ms\n      [+] Database model should exist on  84ms\n      [+] Database pubs should exist on  78ms\n      [+] Database NorthWind should exist on  82ms\n      [+] Database AdventureWorks2017 should exist on  75ms\n      [+] Database WideWorldImporters should exist on  82ms\n\n  Describing Database Exists\n\n    Context Database exists on localhost,15593\n      [+] Database master should exist on  79ms\n      [+] Database msdb should exist on  75ms\n      [+] Database tempdb should exist on  78ms\n      [+] Database model should exist on  79ms\n      [+] Database pubs should exist on  83ms\n      [+] Database NorthWind should exist on  78ms\n      [+] Database AdventureWorks2017 should exist on  75ms\n      [+] Database WideWorldImporters should exist on  77ms\nTests completed in 1.68s\nTests Passed: 16, Failed: 0, Skipped: 0, Pending: 0, Inconclusive: 0 \nName                       Value    Description                                       \n----                       -----    -----------                                       \npolicy.invaliddbowner.name sqladmin The database owner account should not be this user\n\n\n",
                    "output_type": "stream"
                }
            ],
            "execution_count": 28
        },
        {
            "cell_type": "markdown",
            "source": [
                "## Ensuring the Agent Alerts are as expected\r\n",
                "\r\n",
                "You might want to check that you have all of the expected Agent Alerts. By default dbachecks will check for alerts for Severity 16-25 and messageid 823,824,825"
            ],
            "metadata": {
                "azdata_cell_guid": "41f2997a-83b2-493b-bf76-c152e73b903e"
            }
        },
        {
            "cell_type": "code",
            "source": [
                "$FolderPath = $Env:USERPROFILE + '\\Documents\\dbachecks'\r\n",
                "$SqlInstances = 'localhost,15592','localhost,15593'\r\n",
                "$SqlCredential = Import-Clixml -Path $FolderPath\\sqladmin.cred\r\n",
                "Invoke-DbcCheck -SqlInstance $SqlInstances -SqlCredential $SqlCredential -Check AgentAlert"
            ],
            "metadata": {
                "azdata_cell_guid": "18432613-5b44-41e3-8da9-667d704cebf2"
            },
            "outputs": [
                {
                    "name": "stdout",
                    "text": "    ____            __\n   / __ \\___  _____/ /____  _____\n  / /_/ / _ \\/ ___/ __/ _ \\/ ___/\n / ____/  __(__  ) /_/  __/ /\n/_/    \\___/____/\\__/\\___/_/\nPester v4.9.0\nExecuting all tests in 'C:\\Program Files\\WindowsPowerShell\\Modules\\dbachecks\\1.2.21\\checks\\Agent.Tests.ps1' with Tags AgentAlert\n\nExecuting script C:\\Program Files\\WindowsPowerShell\\Modules\\dbachecks\\1.2.21\\checks\\Agent.Tests.ps1\n\n  Describing Agent Alerts\n\n    Context Testing Agent Alerts Severity exists on localhost,15592\n      [+] localhost,15592 should have Severity 16 Alert 2ms\n      [+] localhost,15592 should have Severity 16 Alert enabled 1ms\n      [+] localhost,15592 should have notification for Severity 16 Alert 1ms\n      [+] localhost,15592 should have Severity 17 Alert 2ms\n      [+] localhost,15592 should have Severity 17 Alert enabled 2ms\n      [+] localhost,15592 should have notification for Severity 17 Alert 3ms\n      [+] localhost,15592 should have Severity 18 Alert 1ms\n      [+] localhost,15592 should have Severity 18 Alert enabled 2ms\n      [+] localhost,15592 should have notification for Severity 18 Alert 1ms\n      [+] localhost,15592 should have Severity 19 Alert 1ms\n      [+] localhost,15592 should have Severity 19 Alert enabled 1ms\n      [+] localhost,15592 should have notification for Severity 19 Alert 2ms\n      [+] localhost,15592 should have Severity 20 Alert 1ms\n      [+] localhost,15592 should have Severity 20 Alert enabled 1ms\n      [+] localhost,15592 should have notification for Severity 20 Alert 1ms\n      [+] localhost,15592 should have Severity 21 Alert 2ms\n      [+] localhost,15592 should have Severity 21 Alert enabled 2ms\n      [+] localhost,15592 should have notification for Severity 21 Alert 1ms\n      [+] localhost,15592 should have Severity 22 Alert 3ms\n      [+] localhost,15592 should have Severity 22 Alert enabled 2ms\n      [+] localhost,15592 should have notification for Severity 22 Alert 2ms\n      [+] localhost,15592 should have Severity 23 Alert 2ms\n      [+] localhost,15592 should have Severity 23 Alert enabled 1ms\n      [+] localhost,15592 should have notification for Severity 23 Alert 2ms\n      [+] localhost,15592 should have Severity 24 Alert 1ms\n      [+] localhost,15592 should have Severity 24 Alert enabled 1ms\n      [+] localhost,15592 should have notification for Severity 24 Alert 1ms\n      [+] localhost,15592 should have Severity 25 Alert 2ms\n      [+] localhost,15592 should have Severity 25 Alert enabled 1ms\n      [+] localhost,15592 should have notification for Severity 25 Alert 2ms\n\n    Context Testing Agent Alerts MessageID exists on localhost,15592\n      [+] localhost,15592 should have Message_ID 823 Alert 4ms\n      [+] localhost,15592 should have Message_ID 823 Alert enabled 2ms\n      [+] localhost,15592 should have notification for Message_ID 823 Alert 2ms\n      [+] localhost,15592 should have Message_ID 824 Alert 2ms\n      [+] localhost,15592 should have Message_ID 824 Alert enabled 1ms\n      [+] localhost,15592 should have notification for Message_ID 824 Alert 3ms\n      [+] localhost,15592 should have Message_ID 825 Alert 2ms\n      [+] localhost,15592 should have Message_ID 825 Alert enabled 3ms\n      [+] localhost,15592 should have notification for Message_ID 825 Alert 1ms\n\n  Describing Agent Alerts\n\n    Context Testing Agent Alerts Severity exists on localhost,15593\n      [+] localhost,15593 should have Severity 16 Alert 1ms\n      [+] localhost,15593 should have Severity 16 Alert enabled 2ms\n      [+] localhost,15593 should have notification for Severity 16 Alert 2ms\n      [+] localhost,15593 should have Severity 17 Alert 2ms\n      [+] localhost,15593 should have Severity 17 Alert enabled 1ms\n      [+] localhost,15593 should have notification for Severity 17 Alert 2ms\n      [+] localhost,15593 should have Severity 18 Alert 2ms\n      [+] localhost,15593 should have Severity 18 Alert enabled 1ms\n      [+] localhost,15593 should have notification for Severity 18 Alert 2ms\n      [+] localhost,15593 should have Severity 19 Alert 4ms\n      [+] localhost,15593 should have Severity 19 Alert enabled 1ms\n      [+] localhost,15593 should have notification for Severity 19 Alert 2ms\n      [+] localhost,15593 should have Severity 20 Alert 1ms\n      [+] localhost,15593 should have Severity 20 Alert enabled 2ms\n      [+] localhost,15593 should have notification for Severity 20 Alert 1ms\n      [+] localhost,15593 should have Severity 21 Alert 2ms\n      [+] localhost,15593 should have Severity 21 Alert enabled 1ms\n      [+] localhost,15593 should have notification for Severity 21 Alert 2ms\n      [+] localhost,15593 should have Severity 22 Alert 1ms\n      [+] localhost,15593 should have Severity 22 Alert enabled 1ms\n      [+] localhost,15593 should have notification for Severity 22 Alert 1ms\n      [+] localhost,15593 should have Severity 23 Alert 3ms\n      [+] localhost,15593 should have Severity 23 Alert enabled 3ms\n      [+] localhost,15593 should have notification for Severity 23 Alert 2ms\n      [+] localhost,15593 should have Severity 24 Alert 1ms\n      [+] localhost,15593 should have Severity 24 Alert enabled 2ms\n      [+] localhost,15593 should have notification for Severity 24 Alert 1ms\n      [+] localhost,15593 should have Severity 25 Alert 2ms\n      [+] localhost,15593 should have Severity 25 Alert enabled 1ms\n      [+] localhost,15593 should have notification for Severity 25 Alert 1ms\n\n    Context Testing Agent Alerts MessageID exists on localhost,15593\n      [+] localhost,15593 should have Message_ID 823 Alert 2ms\n      [+] localhost,15593 should have Message_ID 823 Alert enabled 1ms\n      [+] localhost,15593 should have notification for Message_ID 823 Alert 2ms\n      [+] localhost,15593 should have Message_ID 824 Alert 3ms\n      [+] localhost,15593 should have Message_ID 824 Alert enabled 2ms\n      [+] localhost,15593 should have notification for Message_ID 824 Alert 1ms\n      [+] localhost,15593 should have Message_ID 825 Alert 1ms\n      [+] localhost,15593 should have Message_ID 825 Alert enabled 2ms\n      [+] localhost,15593 should have notification for Message_ID 825 Alert 2ms\nTests completed in 3.04s\nTests Passed: 78, Failed: 0, Skipped: 0, Pending: 0, Inconclusive: 0 \n",
                    "output_type": "stream"
                }
            ],
            "execution_count": 31
        },
        {
            "cell_type": "markdown",
            "source": [
                "You can check the config items available for the check"
            ],
            "metadata": {
                "azdata_cell_guid": "d9618240-c7af-48d0-b194-2f6afe8ac49c"
            }
        },
        {
            "cell_type": "code",
            "source": [
                "Get-DbcCheck -Pattern AgentAlert | Format-List"
            ],
            "metadata": {
                "azdata_cell_guid": "98c2a0f5-05e3-429e-b896-b25c4fa6ddee"
            },
            "outputs": [
                {
                    "name": "stdout",
                    "text": "\n\nGroup       : Agent\nType        : Sqlinstance\nUniqueTag   : AgentAlert\nAllTags     : AgentAlert, Agent\nConfig      : app.sqlinstance agent.alert.Severity agent.alert.messageid agent.alert.Job agent.alert.Notification \nDescription : Tests that there are Agent Alerts set up for the specified (default 16-25) alert severities and ids \n              (default 823-825) and if specified Agent Jobs and/or notifications\n\n\n\n",
                    "output_type": "stream"
                }
            ],
            "execution_count": 33
        },
        {
            "cell_type": "markdown",
            "source": [
                "The configuration items available are\r\n",
                "- app.sqlinstance \r\n",
                "- agent.alert.Severity \r\n",
                "- agent.alert.messageid \r\n",
                "- agent.alert.Job \r\n",
                "- agent.alert.Notification\r\n",
                "\r\n",
                ""
            ],
            "metadata": {
                "azdata_cell_guid": "5f996f6b-213a-464b-af59-ea8af3169159"
            }
        },
        {
            "cell_type": "code",
            "source": [
                "'app.sqlinstance', 'agent.alert.Severity', 'agent.alert.messageid', 'agent.alert.Job', 'agent.alert.Notification' | ForEach-Object {\r\n",
                "    Get-DbcConfig -Name $PSItem | Format-List\r\n",
                "}"
            ],
            "metadata": {
                "azdata_cell_guid": "4da84c61-fdca-403b-be54-b6a5e2fed90f"
            },
            "outputs": [
                {
                    "name": "stdout",
                    "text": "\n\nName        : app.sqlinstance\nValue       : \nDescription : List of SQL Server instances that SQL-based tests will run against\n\n\n\n\n\nName        : agent.alert.Severity\nValue       : {16, 17, 18, 19...}\nDescription : Agent alert severity to validate; https://www.brentozar.com/blitz/configure-sql-server-alerts/\n\n\n\n\n\nName        : agent.alert.messageid\nValue       : {823, 824, 825}\nDescription : Agent alert messageid to validate; https://www.brentozar.com/blitz/configure-sql-server-alerts/\n\n\n\n\n\nName        : agent.alert.Job\nValue       : False\nDescription : Agent alert job notification. Ex job to write to eventlog for SCOM monitoring\n\n\n\n\n\nName        : agent.alert.Notification\nValue       : True\nDescription : Agent alert notification\n\n\n\n",
                    "output_type": "stream"
                }
            ],
            "execution_count": 37
        }
    ]
}