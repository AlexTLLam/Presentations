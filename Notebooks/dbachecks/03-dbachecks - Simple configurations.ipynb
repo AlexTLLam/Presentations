{
    "metadata": {
        "kernelspec": {
            "name": "powershell",
            "display_name": "PowerShell"
        },
        "language_info": {
            "name": "powershell",
            "codemirror_mode": "shell",
            "mimetype": "text/x-sh",
            "file_extension": ".ps1"
        }
    },
    "nbformat_minor": 2,
    "nbformat": 4,
    "cells": [
        {
            "cell_type": "markdown",
            "source": [
                "# dbachecks - Configurations\r\n",
                "\r\n",
                "You can use dbachecks on the command line as we have seen in the previous notebook but you will not always want to have the default settings for the checks\r\n",
                "\r\n",
                "You can alter any of the configurations using the `Set-DbcConfig` command.\r\n",
                "\r\n",
                "## Invalid Database Owners\r\n",
                "\r\n",
                "You may want to check that databases are not owned by certain accounts.\r\n",
                "\r\n",
                "By default the `InvalidDatabaseOwner` checks that the databases are not owned by the sa account. When we run this check against the instance we pass all of the checks\r\n",
                ""
            ],
            "metadata": {
                "azdata_cell_guid": "eade8b6a-a343-45c6-b917-f018cb2d0e7e"
            }
        },
        {
            "cell_type": "code",
            "source": [
                "Invoke-DbcCheck -SqlInstance SQL2016N1 -Check InvalidDatabaseOwner"
            ],
            "metadata": {
                "azdata_cell_guid": "3627b53c-63a5-4e21-9a2d-96b1a092c913",
                "tags": [
                    "hide_input"
                ]
            },
            "outputs": [
                {
                    "output_type": "stream",
                    "name": "stdout",
                    "text": "    ____            __\n   / __ \\___  _____/ /____  _____\n  / /_/ / _ \\/ ___/ __/ _ \\/ ___/\n / ____/  __(__  ) /_/  __/ /\n/_/    \\___/____/\\__/\\___/_/\nPester v4.9.0\nExecuting all tests in 'C:\\Program Files\\WindowsPowerShell\\Modules\\dbachecks\\1.2.21\\checks\\Database.Tests.ps1' with Tags InvalidDatabaseOwner\n\nExecuting script C:\\Program Files\\WindowsPowerShell\\Modules\\dbachecks\\1.2.21\\checks\\Database.Tests.ps1\n\n  Describing Invalid Database Owner\n\n    Context Testing Database Owners on SQL2016N1\n      [+] Database AdventureWorksDW2014 - owner THEBEARD\\Rob should Not be in this list ( sa ) on SQL2016N1 3ms\n      [+] Database BeardedAg_db - owner THEBEARD\\Rob should Not be in this list ( sa ) on SQL2016N1 2ms\n      [+] Database DAC - owner THEBEARD\\Rob should Not be in this list ( sa ) on SQL2016N1 1ms\n      [+] Database database - owner THEBEARD\\Rob should Not be in this list ( sa ) on SQL2016N1 1ms\n      [+] Database DBA-Admin - owner THEBEARD\\Rob should Not be in this list ( sa ) on SQL2016N1 1ms\n      [+] Database dbachecks - owner THEBEARD\\Rob should Not be in this list ( sa ) on SQL2016N1 1ms\n      [+] Database DEMOdbareports - owner THEBEARD\\Rob should Not be in this list ( sa ) on SQL2016N1 1ms\n      [+] Database Lisbondbareports - owner THEBEARD\\Rob should Not be in this list ( sa ) on SQL2016N1 1ms\n      [+] Database NoGoodDBCC - owner THEBEARD\\Rob should Not be in this list ( sa ) on SQL2016N1 1ms\n      [+] Database passrocssug_dbareports - owner THEBEARD\\Rob should Not be in this list ( sa ) on SQL2016N1 2ms\n      [+] Database ReportServer - owner THEBEARD\\Rob should Not be in this list ( sa ) on SQL2016N1 1ms\n      [+] Database ReportServerTempDB - owner THEBEARD\\Rob should Not be in this list ( sa ) on SQL2016N1 3ms\n      [+] Database SQLWatch - owner THEBEARD\\Rob should Not be in this list ( sa ) on SQL2016N1 1ms\n      [+] Database SSISDB - owner THEBEARD\\Rob should Not be in this list ( sa ) on SQL2016N1 2ms\n      [+] Database TheBeardsProd - owner THEBEARD\\Rob should Not be in this list ( sa ) on SQL2016N1 2ms\n      [+] Database VideoDemodbareports - owner THEBEARD\\Rob should Not be in this list ( sa ) on SQL2016N1 1ms\n      [+] Database Viennadbareports - owner THEBEARD\\Rob should Not be in this list ( sa ) on SQL2016N1 2ms\nTests completed in 2.82s\nTests Passed: 17, Failed: 0, Skipped: 0, Pending: 0, Inconclusive: 0 \n"
                }
            ],
            "execution_count": 2
        },
        {
            "cell_type": "markdown",
            "source": [
                "If our organistation requirements are that no databases should be owned by members of the DBA Team user accounts, we can alter the configuration to check for that. \r\n",
                "\r\n",
                "To find out which configuration we need to change we can use `Get-DbcCheck`"
            ],
            "metadata": {
                "azdata_cell_guid": "0b36fbd4-d266-493e-9aef-f6c66f76f97c"
            }
        },
        {
            "cell_type": "code",
            "source": [
                "Get-DbcCheck -Pattern InvalidDatabaseOwner | Format-List"
            ],
            "metadata": {
                "azdata_cell_guid": "c03ce802-b2e9-4da0-b302-0f916e03ece7"
            },
            "outputs": [
                {
                    "output_type": "stream",
                    "name": "stdout",
                    "text": "\n\nGroup       : Database\nType        : Sqlinstance\nUniqueTag   : InvalidDatabaseOwner\nAllTags     : InvalidDatabaseOwner, Medium, Database\nConfig      : app.sqlinstance policy.invaliddbowner.name policy.invaliddbowner.excludedb \nDescription : Tests that the Database Owner is NOT in the specified (default blank) list\n\n\n\n"
                }
            ],
            "execution_count": 14
        },
        {
            "cell_type": "markdown",
            "source": [
                "We can see that there are 3 configurations that this check will use\r\n",
                "- app.sqlinstance\r\n",
                "- policy.invaliddbowner.name \r\n",
                "- policy.invaliddbowner.excludedb \r\n",
                "\r\n",
                "We can get further information about the checks with `Get-DbcConfig`"
            ],
            "metadata": {
                "azdata_cell_guid": "6f7e0921-11ae-4cca-a8c5-4cd4e9f2abe3"
            }
        },
        {
            "cell_type": "code",
            "source": [
                "Get-DbcConfig -Name policy.invaliddbowner.name | Format-List"
            ],
            "metadata": {
                "azdata_cell_guid": "4318390f-f330-496e-aecb-a7d546bd62e4"
            },
            "outputs": [
                {
                    "output_type": "stream",
                    "name": "stdout",
                    "text": "\n\nName        : policy.invaliddbowner.name\nValue       : sa\nDescription : The database owner account should not be this user\n\n\n\n"
                }
            ],
            "execution_count": 18
        },
        {
            "cell_type": "markdown",
            "source": [
                "We can change the value of that configuration item using `Set-DbcConfig`. We will set it to the members of the DBA Team AD Group"
            ],
            "metadata": {
                "azdata_cell_guid": "8b57c94f-95f7-4575-a2e4-db1e84df87e4"
            }
        },
        {
            "cell_type": "code",
            "source": [
                "$DBA_Accounts =  (Get-ADGroup -Identity 'CN=SQL_DBAs_The_Cool_Ones,OU=TheBeardGroups,OU=TheBeard,DC=TheBeard,DC=local' |Get-ADGroupMember).ForEach{\"THEBEARD\\$($Psitem.SamAccountName)\"} \r\n",
                "Set-DbcConfig -Name policy.invaliddbowner.name -Value $DBA_Accounts"
            ],
            "metadata": {
                "azdata_cell_guid": "1d12f62f-107a-440c-b87d-b0b8c2a2ba08"
            },
            "outputs": [
                {
                    "output_type": "stream",
                    "name": "stdout",
                    "text": "\nName                       Value                                                                Description            \n----                       -----                                                                -----------            \npolicy.invaliddbowner.name {THEBEARD\\Rob, THEBEARD\\DBA, THEBEARD\\wdurkin, THEBEARD\\gsartori...} The database owner a...\n\n\n"
                }
            ],
            "execution_count": 19
        },
        {
            "cell_type": "markdown",
            "source": [
                "Now that we have set the configuration, we can run the check again"
            ],
            "metadata": {
                "azdata_cell_guid": "3d397199-71b5-4e38-a45e-fa39a7fa347d"
            }
        },
        {
            "cell_type": "code",
            "source": [
                "Invoke-DbcCheck -SqlInstance SQL2016N1 -Check InvalidDatabaseOwner"
            ],
            "metadata": {
                "azdata_cell_guid": "c2aed9d7-6fcc-4c04-b91c-5007a8ddc27a"
            },
            "outputs": [
                {
                    "output_type": "stream",
                    "name": "stdout",
                    "text": "    ____            __\n   / __ \\___  _____/ /____  _____\n  / /_/ / _ \\/ ___/ __/ _ \\/ ___/\n / ____/  __(__  ) /_/  __/ /\n/_/    \\___/____/\\__/\\___/_/\nPester v4.9.0\nExecuting all tests in 'C:\\Program Files\\WindowsPowerShell\\Modules\\dbachecks\\1.2.21\\checks\\Database.Tests.ps1' with Tags InvalidDatabaseOwner\n\nExecuting script C:\\Program Files\\WindowsPowerShell\\Modules\\dbachecks\\1.2.21\\checks\\Database.Tests.ps1\n\n  Describing Invalid Database Owner\n\n    Context Testing Database Owners on SQL2016N1\n      [-] Database AdventureWorksDW2014 - owner THEBEARD\\Rob should Not be in this list ( THEBEARD\\Rob, THEBEARD\\DBA, THEBEARD\\wdurkin, THEBEARD\\gsartori, THEBEARD\\akamman, THEBEARD\\clemaire, THEBEARD\\smelton, THEBEARD\\csilva, THEBEARD\\fatherjack, THEBEARD\\alevy, THEBEARD\\jamrtin ) on SQL2016N1 76ms\n        Expected collection @('THEBEARD\\Rob', 'THEBEARD\\DBA', 'THEBEARD\\wdurkin', 'THEBEARD\\gsartori', 'THEBEARD\\akamman', 'THEBEARD\\clemaire', 'THEBEARD\\smelton', 'THEBEARD\\csilva', 'THEBEARD\\fatherjack', 'THEBEARD\\alevy') to not contain 'THEBEARD\\Rob', because The database owner was one specified as incorrect, but it was found.\n        176:                         $psitem.Owner | Should -Not -BeIn $TargetOwner -Because \"The database owner was one specified as incorrect\"\n        at <ScriptBlock>, C:\\Program Files\\WindowsPowerShell\\Modules\\dbachecks\\1.2.21\\checks\\Database.Tests.ps1: line 176\n      [-] Database BeardedAg_db - owner THEBEARD\\Rob should Not be in this list ( THEBEARD\\Rob, THEBEARD\\DBA, THEBEARD\\wdurkin, THEBEARD\\gsartori, THEBEARD\\akamman, THEBEARD\\clemaire, THEBEARD\\smelton, THEBEARD\\csilva, THEBEARD\\fatherjack, THEBEARD\\alevy, THEBEARD\\jamrtin ) on SQL2016N1 4ms\n        Expected collection @('THEBEARD\\Rob', 'THEBEARD\\DBA', 'THEBEARD\\wdurkin', 'THEBEARD\\gsartori', 'THEBEARD\\akamman', 'THEBEARD\\clemaire', 'THEBEARD\\smelton', 'THEBEARD\\csilva', 'THEBEARD\\fatherjack', 'THEBEARD\\alevy') to not contain 'THEBEARD\\Rob', because The database owner was one specified as incorrect, but it was found.\n        176:                         $psitem.Owner | Should -Not -BeIn $TargetOwner -Because \"The database owner was one specified as incorrect\"\n        at <ScriptBlock>, C:\\Program Files\\WindowsPowerShell\\Modules\\dbachecks\\1.2.21\\checks\\Database.Tests.ps1: line 176\n      [-] Database DAC - owner THEBEARD\\Rob should Not be in this list ( THEBEARD\\Rob, THEBEARD\\DBA, THEBEARD\\wdurkin, THEBEARD\\gsartori, THEBEARD\\akamman, THEBEARD\\clemaire, THEBEARD\\smelton, THEBEARD\\csilva, THEBEARD\\fatherjack, THEBEARD\\alevy, THEBEARD\\jamrtin ) on SQL2016N1 4ms\n        Expected collection @('THEBEARD\\Rob', 'THEBEARD\\DBA', 'THEBEARD\\wdurkin', 'THEBEARD\\gsartori', 'THEBEARD\\akamman', 'THEBEARD\\clemaire', 'THEBEARD\\smelton', 'THEBEARD\\csilva', 'THEBEARD\\fatherjack', 'THEBEARD\\alevy') to not contain 'THEBEARD\\Rob', because The database owner was one specified as incorrect, but it was found.\n        176:                         $psitem.Owner | Should -Not -BeIn $TargetOwner -Because \"The database owner was one specified as incorrect\"\n        at <ScriptBlock>, C:\\Program Files\\WindowsPowerShell\\Modules\\dbachecks\\1.2.21\\checks\\Database.Tests.ps1: line 176\n      [-] Database database - owner THEBEARD\\Rob should Not be in this list ( THEBEARD\\Rob, THEBEARD\\DBA, THEBEARD\\wdurkin, THEBEARD\\gsartori, THEBEARD\\akamman, THEBEARD\\clemaire, THEBEARD\\smelton, THEBEARD\\csilva, THEBEARD\\fatherjack, THEBEARD\\alevy, THEBEARD\\jamrtin ) on SQL2016N1 4ms\n        Expected collection @('THEBEARD\\Rob', 'THEBEARD\\DBA', 'THEBEARD\\wdurkin', 'THEBEARD\\gsartori', 'THEBEARD\\akamman', 'THEBEARD\\clemaire', 'THEBEARD\\smelton', 'THEBEARD\\csilva', 'THEBEARD\\fatherjack', 'THEBEARD\\alevy') to not contain 'THEBEARD\\Rob', because The database owner was one specified as incorrect, but it was found.\n        176:                         $psitem.Owner | Should -Not -BeIn $TargetOwner -Because \"The database owner was one specified as incorrect\"\n        at <ScriptBlock>, C:\\Program Files\\WindowsPowerShell\\Modules\\dbachecks\\1.2.21\\checks\\Database.Tests.ps1: line 176\n      [-] Database DBA-Admin - owner THEBEARD\\Rob should Not be in this list ( THEBEARD\\Rob, THEBEARD\\DBA, THEBEARD\\wdurkin, THEBEARD\\gsartori, THEBEARD\\akamman, THEBEARD\\clemaire, THEBEARD\\smelton, THEBEARD\\csilva, THEBEARD\\fatherjack, THEBEARD\\alevy, THEBEARD\\jamrtin ) on SQL2016N1 8ms\n        Expected collection @('THEBEARD\\Rob', 'THEBEARD\\DBA', 'THEBEARD\\wdurkin', 'THEBEARD\\gsartori', 'THEBEARD\\akamman', 'THEBEARD\\clemaire', 'THEBEARD\\smelton', 'THEBEARD\\csilva', 'THEBEARD\\fatherjack', 'THEBEARD\\alevy') to not contain 'THEBEARD\\Rob', because The database owner was one specified as incorrect, but it was found.\n        176:                         $psitem.Owner | Should -Not -BeIn $TargetOwner -Because \"The database owner was one specified as incorrect\"\n        at <ScriptBlock>, C:\\Program Files\\WindowsPowerShell\\Modules\\dbachecks\\1.2.21\\checks\\Database.Tests.ps1: line 176\n      [-] Database dbachecks - owner THEBEARD\\Rob should Not be in this list ( THEBEARD\\Rob, THEBEARD\\DBA, THEBEARD\\wdurkin, THEBEARD\\gsartori, THEBEARD\\akamman, THEBEARD\\clemaire, THEBEARD\\smelton, THEBEARD\\csilva, THEBEARD\\fatherjack, THEBEARD\\alevy, THEBEARD\\jamrtin ) on SQL2016N1 8ms\n        Expected collection @('THEBEARD\\Rob', 'THEBEARD\\DBA', 'THEBEARD\\wdurkin', 'THEBEARD\\gsartori', 'THEBEARD\\akamman', 'THEBEARD\\clemaire', 'THEBEARD\\smelton', 'THEBEARD\\csilva', 'THEBEARD\\fatherjack', 'THEBEARD\\alevy') to not contain 'THEBEARD\\Rob', because The database owner was one specified as incorrect, but it was found.\n        176:                         $psitem.Owner | Should -Not -BeIn $TargetOwner -Because \"The database owner was one specified as incorrect\"\n        at <ScriptBlock>, C:\\Program Files\\WindowsPowerShell\\Modules\\dbachecks\\1.2.21\\checks\\Database.Tests.ps1: line 176\n      [-] Database DEMOdbareports - owner THEBEARD\\Rob should Not be in this list ( THEBEARD\\Rob, THEBEARD\\DBA, THEBEARD\\wdurkin, THEBEARD\\gsartori, THEBEARD\\akamman, THEBEARD\\clemaire, THEBEARD\\smelton, THEBEARD\\csilva, THEBEARD\\fatherjack, THEBEARD\\alevy, THEBEARD\\jamrtin ) on SQL2016N1 4ms\n        Expected collection @('THEBEARD\\Rob', 'THEBEARD\\DBA', 'THEBEARD\\wdurkin', 'THEBEARD\\gsartori', 'THEBEARD\\akamman', 'THEBEARD\\clemaire', 'THEBEARD\\smelton', 'THEBEARD\\csilva', 'THEBEARD\\fatherjack', 'THEBEARD\\alevy') to not contain 'THEBEARD\\Rob', because The database owner was one specified as incorrect, but it was found.\n        176:                         $psitem.Owner | Should -Not -BeIn $TargetOwner -Because \"The database owner was one specified as incorrect\"\n        at <ScriptBlock>, C:\\Program Files\\WindowsPowerShell\\Modules\\dbachecks\\1.2.21\\checks\\Database.Tests.ps1: line 176\n      [-] Database Lisbondbareports - owner THEBEARD\\Rob should Not be in this list ( THEBEARD\\Rob, THEBEARD\\DBA, THEBEARD\\wdurkin, THEBEARD\\gsartori, THEBEARD\\akamman, THEBEARD\\clemaire, THEBEARD\\smelton, THEBEARD\\csilva, THEBEARD\\fatherjack, THEBEARD\\alevy, THEBEARD\\jamrtin ) on SQL2016N1 4ms\n        Expected collection @('THEBEARD\\Rob', 'THEBEARD\\DBA', 'THEBEARD\\wdurkin', 'THEBEARD\\gsartori', 'THEBEARD\\akamman', 'THEBEARD\\clemaire', 'THEBEARD\\smelton', 'THEBEARD\\csilva', 'THEBEARD\\fatherjack', 'THEBEARD\\alevy') to not contain 'THEBEARD\\Rob', because The database owner was one specified as incorrect, but it was found.\n        176:                         $psitem.Owner | Should -Not -BeIn $TargetOwner -Because \"The database owner was one specified as incorrect\"\n        at <ScriptBlock>, C:\\Program Files\\WindowsPowerShell\\Modules\\dbachecks\\1.2.21\\checks\\Database.Tests.ps1: line 176\n      [-] Database NoGoodDBCC - owner THEBEARD\\Rob should Not be in this list ( THEBEARD\\Rob, THEBEARD\\DBA, THEBEARD\\wdurkin, THEBEARD\\gsartori, THEBEARD\\akamman, THEBEARD\\clemaire, THEBEARD\\smelton, THEBEARD\\csilva, THEBEARD\\fatherjack, THEBEARD\\alevy, THEBEARD\\jamrtin ) on SQL2016N1 7ms\n        Expected collection @('THEBEARD\\Rob', 'THEBEARD\\DBA', 'THEBEARD\\wdurkin', 'THEBEARD\\gsartori', 'THEBEARD\\akamman', 'THEBEARD\\clemaire', 'THEBEARD\\smelton', 'THEBEARD\\csilva', 'THEBEARD\\fatherjack', 'THEBEARD\\alevy') to not contain 'THEBEARD\\Rob', because The database owner was one specified as incorrect, but it was found.\n        176:                         $psitem.Owner | Should -Not -BeIn $TargetOwner -Because \"The database owner was one specified as incorrect\"\n        at <ScriptBlock>, C:\\Program Files\\WindowsPowerShell\\Modules\\dbachecks\\1.2.21\\checks\\Database.Tests.ps1: line 176\n      [-] Database passrocssug_dbareports - owner THEBEARD\\Rob should Not be in this list ( THEBEARD\\Rob, THEBEARD\\DBA, THEBEARD\\wdurkin, THEBEARD\\gsartori, THEBEARD\\akamman, THEBEARD\\clemaire, THEBEARD\\smelton, THEBEARD\\csilva, THEBEARD\\fatherjack, THEBEARD\\alevy, THEBEARD\\jamrtin ) on SQL2016N1 9ms\n        Expected collection @('THEBEARD\\Rob', 'THEBEARD\\DBA', 'THEBEARD\\wdurkin', 'THEBEARD\\gsartori', 'THEBEARD\\akamman', 'THEBEARD\\clemaire', 'THEBEARD\\smelton', 'THEBEARD\\csilva', 'THEBEARD\\fatherjack', 'THEBEARD\\alevy') to not contain 'THEBEARD\\Rob', because The database owner was one specified as incorrect, but it was found.\n        176:                         $psitem.Owner | Should -Not -BeIn $TargetOwner -Because \"The database owner was one specified as incorrect\"\n        at <ScriptBlock>, C:\\Program Files\\WindowsPowerShell\\Modules\\dbachecks\\1.2.21\\checks\\Database.Tests.ps1: line 176\n      [-] Database ReportServer - owner THEBEARD\\Rob should Not be in this list ( THEBEARD\\Rob, THEBEARD\\DBA, THEBEARD\\wdurkin, THEBEARD\\gsartori, THEBEARD\\akamman, THEBEARD\\clemaire, THEBEARD\\smelton, THEBEARD\\csilva, THEBEARD\\fatherjack, THEBEARD\\alevy, THEBEARD\\jamrtin ) on SQL2016N1 10ms\n        Expected collection @('THEBEARD\\Rob', 'THEBEARD\\DBA', 'THEBEARD\\wdurkin', 'THEBEARD\\gsartori', 'THEBEARD\\akamman', 'THEBEARD\\clemaire', 'THEBEARD\\smelton', 'THEBEARD\\csilva', 'THEBEARD\\fatherjack', 'THEBEARD\\alevy') to not contain 'THEBEARD\\Rob', because The database owner was one specified as incorrect, but it was found.\n        176:                         $psitem.Owner | Should -Not -BeIn $TargetOwner -Because \"The database owner was one specified as incorrect\"\n        at <ScriptBlock>, C:\\Program Files\\WindowsPowerShell\\Modules\\dbachecks\\1.2.21\\checks\\Database.Tests.ps1: line 176\n      [-] Database ReportServerTempDB - owner THEBEARD\\Rob should Not be in this list ( THEBEARD\\Rob, THEBEARD\\DBA, THEBEARD\\wdurkin, THEBEARD\\gsartori, THEBEARD\\akamman, THEBEARD\\clemaire, THEBEARD\\smelton, THEBEARD\\csilva, THEBEARD\\fatherjack, THEBEARD\\alevy, THEBEARD\\jamrtin ) on SQL2016N1 10ms\n        Expected collection @('THEBEARD\\Rob', 'THEBEARD\\DBA', 'THEBEARD\\wdurkin', 'THEBEARD\\gsartori', 'THEBEARD\\akamman', 'THEBEARD\\clemaire', 'THEBEARD\\smelton', 'THEBEARD\\csilva', 'THEBEARD\\fatherjack', 'THEBEARD\\alevy') to not contain 'THEBEARD\\Rob', because The database owner was one specified as incorrect, but it was found.\n        176:                         $psitem.Owner | Should -Not -BeIn $TargetOwner -Because \"The database owner was one specified as incorrect\"\n        at <ScriptBlock>, C:\\Program Files\\WindowsPowerShell\\Modules\\dbachecks\\1.2.21\\checks\\Database.Tests.ps1: line 176\n      [-] Database SQLWatch - owner THEBEARD\\Rob should Not be in this list ( THEBEARD\\Rob, THEBEARD\\DBA, THEBEARD\\wdurkin, THEBEARD\\gsartori, THEBEARD\\akamman, THEBEARD\\clemaire, THEBEARD\\smelton, THEBEARD\\csilva, THEBEARD\\fatherjack, THEBEARD\\alevy, THEBEARD\\jamrtin ) on SQL2016N1 15ms\n        Expected collection @('THEBEARD\\Rob', 'THEBEARD\\DBA', 'THEBEARD\\wdurkin', 'THEBEARD\\gsartori', 'THEBEARD\\akamman', 'THEBEARD\\clemaire', 'THEBEARD\\smelton', 'THEBEARD\\csilva', 'THEBEARD\\fatherjack', 'THEBEARD\\alevy') to not contain 'THEBEARD\\Rob', because The database owner was one specified as incorrect, but it was found.\n        176:                         $psitem.Owner | Should -Not -BeIn $TargetOwner -Because \"The database owner was one specified as incorrect\"\n        at <ScriptBlock>, C:\\Program Files\\WindowsPowerShell\\Modules\\dbachecks\\1.2.21\\checks\\Database.Tests.ps1: line 176\n      [-] Database SSISDB - owner THEBEARD\\Rob should Not be in this list ( THEBEARD\\Rob, THEBEARD\\DBA, THEBEARD\\wdurkin, THEBEARD\\gsartori, THEBEARD\\akamman, THEBEARD\\clemaire, THEBEARD\\smelton, THEBEARD\\csilva, THEBEARD\\fatherjack, THEBEARD\\alevy, THEBEARD\\jamrtin ) on SQL2016N1 6ms\n        Expected collection @('THEBEARD\\Rob', 'THEBEARD\\DBA', 'THEBEARD\\wdurkin', 'THEBEARD\\gsartori', 'THEBEARD\\akamman', 'THEBEARD\\clemaire', 'THEBEARD\\smelton', 'THEBEARD\\csilva', 'THEBEARD\\fatherjack', 'THEBEARD\\alevy') to not contain 'THEBEARD\\Rob', because The database owner was one specified as incorrect, but it was found.\n        176:                         $psitem.Owner | Should -Not -BeIn $TargetOwner -Because \"The database owner was one specified as incorrect\"\n        at <ScriptBlock>, C:\\Program Files\\WindowsPowerShell\\Modules\\dbachecks\\1.2.21\\checks\\Database.Tests.ps1: line 176\n      [-] Database TheBeardsProd - owner THEBEARD\\Rob should Not be in this list ( THEBEARD\\Rob, THEBEARD\\DBA, THEBEARD\\wdurkin, THEBEARD\\gsartori, THEBEARD\\akamman, THEBEARD\\clemaire, THEBEARD\\smelton, THEBEARD\\csilva, THEBEARD\\fatherjack, THEBEARD\\alevy, THEBEARD\\jamrtin ) on SQL2016N1 9ms\n        Expected collection @('THEBEARD\\Rob', 'THEBEARD\\DBA', 'THEBEARD\\wdurkin', 'THEBEARD\\gsartori', 'THEBEARD\\akamman', 'THEBEARD\\clemaire', 'THEBEARD\\smelton', 'THEBEARD\\csilva', 'THEBEARD\\fatherjack', 'THEBEARD\\alevy') to not contain 'THEBEARD\\Rob', because The database owner was one specified as incorrect, but it was found.\n        176:                         $psitem.Owner | Should -Not -BeIn $TargetOwner -Because \"The database owner was one specified as incorrect\"\n        at <ScriptBlock>, C:\\Program Files\\WindowsPowerShell\\Modules\\dbachecks\\1.2.21\\checks\\Database.Tests.ps1: line 176\n      [-] Database VideoDemodbareports - owner THEBEARD\\Rob should Not be in this list ( THEBEARD\\Rob, THEBEARD\\DBA, THEBEARD\\wdurkin, THEBEARD\\gsartori, THEBEARD\\akamman, THEBEARD\\clemaire, THEBEARD\\smelton, THEBEARD\\csilva, THEBEARD\\fatherjack, THEBEARD\\alevy, THEBEARD\\jamrtin ) on SQL2016N1 6ms\n        Expected collection @('THEBEARD\\Rob', 'THEBEARD\\DBA', 'THEBEARD\\wdurkin', 'THEBEARD\\gsartori', 'THEBEARD\\akamman', 'THEBEARD\\clemaire', 'THEBEARD\\smelton', 'THEBEARD\\csilva', 'THEBEARD\\fatherjack', 'THEBEARD\\alevy') to not contain 'THEBEARD\\Rob', because The database owner was one specified as incorrect, but it was found.\n        176:                         $psitem.Owner | Should -Not -BeIn $TargetOwner -Because \"The database owner was one specified as incorrect\"\n        at <ScriptBlock>, C:\\Program Files\\WindowsPowerShell\\Modules\\dbachecks\\1.2.21\\checks\\Database.Tests.ps1: line 176\n      [-] Database Viennadbareports - owner THEBEARD\\Rob should Not be in this list ( THEBEARD\\Rob, THEBEARD\\DBA, THEBEARD\\wdurkin, THEBEARD\\gsartori, THEBEARD\\akamman, THEBEARD\\clemaire, THEBEARD\\smelton, THEBEARD\\csilva, THEBEARD\\fatherjack, THEBEARD\\alevy, THEBEARD\\jamrtin ) on SQL2016N1 5ms\n        Expected collection @('THEBEARD\\Rob', 'THEBEARD\\DBA', 'THEBEARD\\wdurkin', 'THEBEARD\\gsartori', 'THEBEARD\\akamman', 'THEBEARD\\clemaire', 'THEBEARD\\smelton', 'THEBEARD\\csilva', 'THEBEARD\\fatherjack', 'THEBEARD\\alevy') to not contain 'THEBEARD\\Rob', because The database owner was one specified as incorrect, but it was found.\n        176:                         $psitem.Owner | Should -Not -BeIn $TargetOwner -Because \"The database owner was one specified as incorrect\"\n        at <ScriptBlock>, C:\\Program Files\\WindowsPowerShell\\Modules\\dbachecks\\1.2.21\\checks\\Database.Tests.ps1: line 176\nTests completed in 664ms\nTests Passed: 0, Failed: 17, Skipped: 0, Pending: 0, Inconclusive: 0 \n"
                }
            ],
            "execution_count": 20
        },
        {
            "cell_type": "markdown",
            "source": [
                "Ah\r\n",
                "\r\n",
                "We had better have a word with that fellow Rob and alter all of those database owners!! \r\n",
                "\r\n",
                "(We could do that with `Get-DbaDatabase -SqlInstance sql2016n1 -ExcludeSystem -Owner THEBEARD\\Rob | Set-DbaDbOwner -TargetLogin THEBEARD\\DatabaseOwner`)\r\n",
                "\r\n",
                "This is how you can alter a check to test what you want by setting a configuration"
            ],
            "metadata": {
                "azdata_cell_guid": "d76f851d-c6ae-4978-856c-3e9ab76459be"
            }
        },
        {
            "cell_type": "markdown",
            "source": [
                "## Ensuring Databases exist\r\n",
                "\r\n",
                "You might want to test that a particular database exists on your instance. This could be your DBA database or perhaps you have a check for your companies software system that you want to run on a clients estate and your software requires certain databases to exist.\r\n",
                "\r\n",
                "You can run the default `DatabaseExists` which will check that the system databases exist"
            ],
            "metadata": {
                "azdata_cell_guid": "ebca0026-3a00-496b-aeec-730f3d5bd799"
            }
        },
        {
            "cell_type": "code",
            "source": [
                "Invoke-DbcCheck -SqlInstance SQL2016N1 -Check DatabaseExists"
            ],
            "metadata": {
                "azdata_cell_guid": "6657827a-36ca-435d-9624-4e18c20d8593"
            },
            "outputs": [
                {
                    "name": "stdout",
                    "text": "    ____            __\n   / __ \\___  _____/ /____  _____\n  / /_/ / _ \\/ ___/ __/ _ \\/ ___/\n / ____/  __(__  ) /_/  __/ /\n/_/    \\___/____/\\__/\\___/_/\nPester v4.9.0\nExecuting all tests in 'C:\\Program Files\\WindowsPowerShell\\Modules\\dbachecks\\1.2.21\\checks\\Database.Tests.ps1' with Tags DatabaseExists\n\nExecuting script C:\\Program Files\\WindowsPowerShell\\Modules\\dbachecks\\1.2.21\\checks\\Database.Tests.ps1\n\n  Describing Database Exists\n\n    Context Database exists on SQL2016N1\n      [+] Database master should exist on  506ms\n      [+] Database msdb should exist on  109ms\n      [+] Database tempdb should exist on  140ms\n      [+] Database model should exist on  118ms\nTests completed in 2.62s\nTests Passed: 4, Failed: 0, Skipped: 0, Pending: 0, Inconclusive: 0 \n",
                    "output_type": "stream"
                }
            ],
            "execution_count": 1
        },
        {
            "cell_type": "markdown",
            "source": [
                "### Finding the configurations for the check\r\n",
                "\r\n",
                "You can find the configurations that you can set for a check with `Get-DbcCheck`"
            ],
            "metadata": {
                "azdata_cell_guid": "7ee90397-1031-4fe3-b679-6bb017b3f6c1"
            }
        },
        {
            "cell_type": "code",
            "source": [
                "Get-DbcCheck DatabaseExists | Format-List"
            ],
            "metadata": {
                "azdata_cell_guid": "80668f2f-9a92-4930-89bb-43861de533ba"
            },
            "outputs": [
                {
                    "name": "stdout",
                    "text": "\n\nGroup       : Database\nType        : Sqlinstance\nUniqueTag   : DatabaseExists\nAllTags     : DatabaseExists, Database\nConfig      : app.sqlinstance database.exists \nDescription : Tests that the databases are specified are on the instance (Note - Does not check if they are available \n              - Use DatabaseStatus for that))\n\n\n\n",
                    "output_type": "stream"
                }
            ],
            "execution_count": 2
        },
        {
            "cell_type": "markdown",
            "source": [
                "You can see that you can set the configuration `database.exists` Note that we are using the `-Append` parameter to add to the configuration instead of replacing it."
            ],
            "metadata": {
                "azdata_cell_guid": "b03439f2-0c50-4487-bec3-cc2001a6ab4a"
            }
        },
        {
            "cell_type": "code",
            "source": [
                "Set-DbcConfig -Name database.exists -Value 'DBA-Admin','SQLWatch','Viennadbareports','BeardedAg_db' -Append"
            ],
            "metadata": {
                "azdata_cell_guid": "0c09af8d-8447-403b-8096-282ec554fa0e"
            },
            "outputs": [
                {
                    "name": "stdout",
                    "text": "\nName            Value                            Description                                   \n----            -----                            -----------                                   \ndatabase.exists {master, msdb, tempdb, model...} The databases we expect to be on the instances\n\n\n",
                    "output_type": "stream"
                }
            ],
            "execution_count": 3
        },
        {
            "cell_type": "markdown",
            "source": [
                "and then we can run the check again and confirm that we have all of the expected databases."
            ],
            "metadata": {
                "azdata_cell_guid": "732fb678-3816-46ec-a54c-2e4a84244183"
            }
        },
        {
            "cell_type": "code",
            "source": [
                "Invoke-DbcCheck -SqlInstance SQL2016N1 -Check DatabaseExists"
            ],
            "metadata": {
                "azdata_cell_guid": "1d421c8c-bc48-43a9-a15a-d5c95c5c7b68"
            },
            "outputs": [
                {
                    "name": "stdout",
                    "text": "    ____            __\n   / __ \\___  _____/ /____  _____\n  / /_/ / _ \\/ ___/ __/ _ \\/ ___/\n / ____/  __(__  ) /_/  __/ /\n/_/    \\___/____/\\__/\\___/_/\nPester v4.9.0\nExecuting all tests in 'C:\\Program Files\\WindowsPowerShell\\Modules\\dbachecks\\1.2.21\\checks\\Database.Tests.ps1' with Tags DatabaseExists\n\nExecuting script C:\\Program Files\\WindowsPowerShell\\Modules\\dbachecks\\1.2.21\\checks\\Database.Tests.ps1\n\n  Describing Database Exists\n\n    Context Database exists on SQL2016N1\n      [+] Database master should exist on  120ms\n      [+] Database msdb should exist on  103ms\n      [+] Database tempdb should exist on  105ms\n      [+] Database model should exist on  130ms\n      [+] Database DBA-Admin should exist on  123ms\n      [+] Database SQLWatch should exist on  119ms\n      [+] Database Viennadbareports should exist on  109ms\n      [+] Database BeardedAg_db should exist on  101ms\nTests completed in 1.18s\nTests Passed: 8, Failed: 0, Skipped: 0, Pending: 0, Inconclusive: 0 \n",
                    "output_type": "stream"
                }
            ],
            "execution_count": 4
        }
    ]
}