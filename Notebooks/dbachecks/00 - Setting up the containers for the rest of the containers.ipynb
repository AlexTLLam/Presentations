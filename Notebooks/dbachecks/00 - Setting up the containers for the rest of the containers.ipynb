{
    "metadata": {
        "kernelspec": {
            "name": "powershell",
            "display_name": "PowerShell"
        },
        "language_info": {
            "name": "powershell",
            "codemirror_mode": "shell",
            "mimetype": "text/x-sh",
            "file_extension": ".ps1"
        }
    },
    "nbformat_minor": 2,
    "nbformat": 4,
    "cells": [
        {
            "cell_type": "markdown",
            "source": [
                "# Setting up the containers for the rest of the notebooks\r\n",
                "\r\n",
                "To be able to follow along with the rest of the notebooks, you will need to set up two containers. \r\n",
                "\r\n",
                "This notebook will enable you to do that.\r\n",
                "\r\n",
                "You will need to have docker installed"
            ],
            "metadata": {
                "azdata_cell_guid": "417c67ae-8d69-4be2-9b09-d6178d5c2da6"
            }
        },
        {
            "cell_type": "markdown",
            "source": [
                "## Create the folders and the credential\r\n",
                "\r\n",
                "The code below will create a directory called dbachecks-demo in your Documents folder and save a credential file for logging into the containers. You can alter the directory created by altering the $FolderPath but you will have to do this in every notebook."
            ],
            "metadata": {
                "azdata_cell_guid": "1dc8ffc9-2c1a-4a93-bfcf-bc52f587df30"
            }
        },
        {
            "cell_type": "code",
            "source": [
                "$FolderPath = $Env:USERPROFILE + '\\Documents\\dbachecks'\r\n",
                "\r\n",
                "########################################################\r\n",
                "Write-Output \"Creating Directory $FolderPath\"\r\n",
                "if(Test-Path $FolderPath){\r\n",
                "    Write-Output \"Path $FolderPath exists already\"\r\n",
                "}else {\r\n",
                "    New-Item $FolderPath -ItemType Directory\r\n",
                "}\r\n",
                "Write-Output \"Creating a credential file for the containers - Please don't do this in production\"\r\n",
                "\r\n",
                "$sqladminPassword = ConvertTo-SecureString 'dbatools.IO' -AsPlainText -Force \r\n",
                "$cred = New-Object System.Management.Automation.PSCredential ('sqladmin', $sqladminpassword)\r\n",
                "$Cred | Export-Clixml -Path $FolderPath\\sqladmin.cred\r\n",
                "Write-Output \"Credential file created\""
            ],
            "metadata": {
                "azdata_cell_guid": "05f101cc-6fe4-4f97-9e2a-88230ffa5462",
                "tags": []
            },
            "outputs": [
                {
                    "output_type": "stream",
                    "name": "stdout",
                    "text": "Creating Directory C:\\Users\\Rob.THEBEARD\\Documents\\dbachecks\nPath C:\\Users\\Rob.THEBEARD\\Documents\\dbachecks exists already\nCreating a credential file for the containers - Please don't do this in production\nCredential file created\n"
                }
            ],
            "execution_count": 1
        },
        {
            "cell_type": "markdown",
            "source": [
                "## Containers\r\n",
                "\r\n",
                "We are going to create two SQL2019 containers using the sqldbawithabeard\\dbachecks image from the Docker Hub. Please copy the docker-compose.yml file into the directory that was created above.\r\n",
                "\r\n",
                "The first time it is going to pull the image sqldbawithabeard/dbachecksdemo from the Docker Hub. you can run \r\n",
                "\r\n",
                "`docker pull sqldbawithabeard/dbachecksdemo`\r\n",
                "\r\n",
                "to do this first if you wish."
            ],
            "metadata": {
                "azdata_cell_guid": "47c883a8-f396-492c-8ed1-05acc981aeae"
            }
        },
        {
            "cell_type": "code",
            "source": [
                "$FolderPath = $Env:USERPROFILE + '\\Documents\\dbachecks'\r\n",
                "Set-Location $FolderPath\r\n",
                "docker-compose up -d"
            ],
            "metadata": {
                "azdata_cell_guid": "63ae3fba-d0af-4226-9a2e-1ec9f92b76dd",
                "tags": []
            },
            "outputs": [
                {
                    "output_type": "stream",
                    "name": "stdout",
                    "text": "Creating network \"dbachecks_BeardsMagicNetwork\" with the default driver\nCreating dbachecks_SQL2019_1 ... \nCreating dbachecks_SQL2019-1_1 ... \n\u001b[2A\u001b[2KCreating dbachecks_SQL2019_1   ... \u001b[32mdone\u001b[0m\u001b[2B\u001b[1A\u001b[2KCreating dbachecks_SQL2019-1_1 ... \u001b[32mdone\u001b[0m\u001b[1B"
                }
            ],
            "execution_count": 5
        }
    ]
}