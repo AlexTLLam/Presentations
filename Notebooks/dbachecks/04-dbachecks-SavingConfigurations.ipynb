{
    "metadata": {
        "kernelspec": {
            "name": "SQL",
            "display_name": "SQL",
            "language": "sql"
        },
        "language_info": {
            "name": "sql",
            "version": ""
        }
    },
    "nbformat_minor": 2,
    "nbformat": 4,
    "cells": [
        {
            "cell_type": "markdown",
            "source": [
                "# dbachecks - Saving Configurations\r\n",
                "\r\n",
                "You can alter the configurations for any check at the command line to ensure that you are running hcecks that will test what you want.\r\n",
                "\r\n",
                "You will want to save those configurations so that you can pass them to other people or run them using automation\r\n",
                "\r\n",
                "The process that you will need to follow is \r\n",
                "\r\n",
                "- Create the configuration\r\n",
                "- test the configuration\r\n",
                "- save the configuration with `Export-DbcConfig`\r\n",
                "\r\n",
                "This will create a json file of the configuration which you can save in source control and then you, others in your team or automation can use the configuration with `Import-DbcConfig`"
            ],
            "metadata": {
                "azdata_cell_guid": "005ed3e9-3d1c-4ef2-a8ee-dc18c250ddb4"
            }
        },
        {
            "cell_type": "markdown",
            "source": [
                "## Create a configuration\n",
                "\n",
                "First you will need to create your configuration. It is best practice to run `Reset-DbcConfig` before you start to do this so that you can "
            ],
            "metadata": {
                "azdata_cell_guid": "d7c49093-9e26-4c63-a861-69d85ffbd3ef"
            }
        },
        {
            "cell_type": "code",
            "source": [
                ""
            ],
            "metadata": {
                "azdata_cell_guid": "0041f1b7-7b78-41f1-88d0-98ae964d4f3d"
            },
            "outputs": [],
            "execution_count": 0
        }
    ]
}