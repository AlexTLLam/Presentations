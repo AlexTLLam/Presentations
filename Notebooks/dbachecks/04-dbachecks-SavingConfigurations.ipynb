{
    "metadata": {
        "kernelspec": {
            "name": "powershell",
            "display_name": "PowerShell"
        },
        "language_info": {
            "name": "powershell",
            "codemirror_mode": "shell",
            "mimetype": "text/x-sh",
            "file_extension": ".ps1"
        }
    },
    "nbformat_minor": 2,
    "nbformat": 4,
    "cells": [
        {
            "cell_type": "markdown",
            "source": [
                "# dbachecks - Saving Configurations\r\n",
                "\r\n",
                "You can alter the configurations for any check at the command line to ensure that you are running checks that will test what you want.\r\n",
                "\r\n",
                "You will want to save those configurations so that you can pass them to other people or run them using automation.\r\n",
                "\r\n",
                "The process that you will need to follow is \r\n",
                "\r\n",
                "- Create the configuration\r\n",
                "- test the configuration\r\n",
                "- save the configuration with `Export-DbcConfig`\r\n",
                "\r\n",
                "This will create a json file of the configuration which you can save in source control and then you, others in your team or automation can use the configuration with `Import-DbcConfig`"
            ],
            "metadata": {
                "azdata_cell_guid": "005ed3e9-3d1c-4ef2-a8ee-dc18c250ddb4"
            }
        },
        {
            "cell_type": "markdown",
            "source": [
                "# Excluding and skipping checks\r\n",
                "\r\n",
                "As well as the configuration items that you saw in the simple configuration notebook, which will change the value for a check such as making sure that the database owners are the accounts that you expect, there are other configuration items which enable you to exclude checks, instances or databases from checks, skip parts of checks.\r\n",
                "\r\n",
                "You can see those configurations by running the block below.\r\n",
                "\r\n",
                "When you are creating configurations for saving and sharing, you will find `command.invokedbccheck.excludecheck` and `command.invokedbccheck.excludedatabases` useful.\r\n",
                "\r\n",
                "`command.invokedbccheck.excludecheck` will set the configuration so that any checks specified here will not run. It is best to exclude Groups of checks rather than individual ones here.\r\n",
                "`command.invokedbccheck.excludedatabases` will set the configuration for any databases that you do not wish to run checks against.\r\n",
                ""
            ],
            "metadata": {
                "azdata_cell_guid": "1f10c372-d687-4ee5-a6cd-da6c18195506"
            }
        },
        {
            "cell_type": "code",
            "source": [
                "Get-DbcConfig | Where-Object{$_.Name -like '*exclude*' -or $_.Name -like '*skip*'} "
            ],
            "metadata": {
                "azdata_cell_guid": "77b6428c-768f-4030-8f76-b091afb2f314"
            },
            "outputs": [],
            "execution_count": 10
        },
        {
            "cell_type": "markdown",
            "source": [
                "# Create a configuration\n",
                "\n",
                "First you will need to create your configuration. \n",
                "\n",
                "## Reset the configuration to default first\n",
                "It is best practice to run `Reset-DbcConfig` before you start to do this to avoid confusion. This will reset all of the configurations to the default values. It will also list all of the configurations and you can see the current (default) values  "
            ],
            "metadata": {
                "azdata_cell_guid": "d7c49093-9e26-4c63-a861-69d85ffbd3ef"
            }
        },
        {
            "cell_type": "code",
            "source": [
                "Reset-DbcConfig"
            ],
            "metadata": {
                "azdata_cell_guid": "0041f1b7-7b78-41f1-88d0-98ae964d4f3d"
            },
            "outputs": [],
            "execution_count": 11
        },
        {
            "cell_type": "markdown",
            "source": [
                "## Morning Checks Configuration\r\n",
                "\r\n",
                "Lets create a configuration for some morning checks for our Production estate. You will\r\n",
                "\r\n",
                "- Check the production instances (we only have two in this demo) 'localhost,15592','localhost,15593'\r\n",
                "- Ensure the instance is available and the connection authentication scheme is SQL (because we are using SQL Auth) but don't check PSRemoting\r\n",
                "- Ensure that all agent jobs have succeeded\r\n",
                "- All databases have backups that meet RPO/RTO\r\n",
                "- There are no errors in the Error Logs in the last 24 hours\r\n",
                "- The disk space is not less than 10% free\r\n",
                "- There are no Memory Dumps\r\n",
                "- The last duration of the agent jobs was not more than 10% of the average run time including any currently running jobs\r\n",
                "- The log file sizes are less than 50% of the data file sizes\r\n",
                "- That databases have more than 10% free space available\r\n",
                ""
            ],
            "metadata": {
                "azdata_cell_guid": "7b634ca0-3555-4ad0-90b1-f6d663368d2d"
            }
        },
        {
            "cell_type": "code",
            "source": [
                "# Set the instances and computernames to run the check against\r\n",
                "Set-DbcConfig -Name app.sqlinstance -Value 'localhost,15592','localhost,15593'\r\n",
                "Set-DbcConfig -Name app.computername -Value 'localhost,15592','localhost,15593'\r\n",
                "# Set the auth scheme to SQL as we are using SQL Auth\r\n",
                "Set-DbcConfig -Name policy.connection.authscheme -Value SQL\r\n",
                "# Don't check the PSRemoting\r\n",
                "Set-DbcConfig -Name skip.connection.remoting -Value $true\r\n",
                "# Set expected backup - 7 days for full - 24 hours for diff - 15 minutes for log\r\n",
                "Set-DbcConfig -Name policy.backup.fullmaxdays -Value 7\r\n",
                "Set-DbcConfig -Name policy.backup.diffmaxhours -Value 24\r\n",
                "Set-DbcConfig -Name policy.backup.logmaxminutes -Value 15\r\n",
                "# Set config for disk space\r\n",
                "Set-DbcConfig -Name policy.diskspace.percentfree -Value 10\r\n",
                "# Maximum number of memory dumps\r\n",
                "Set-DbcConfig -Name policy.dump.maxcount -Value 1\r\n",
                "# Set config for job run times\r\n",
                "Set-DbcConfig -Name agent.lastjobruntime.percentage -Value 10\r\n",
                "Set-DbcConfig -Name agent.longrunningjob.percentage -Value 10\r\n",
                "# Set max size of log files compared to data file size\r\n",
                "Set-DbcConfig -Name policy.database.logfilesizecomparison -Value Average\r\n",
                "Set-DbcConfig -Name policy.database.logfilesizepercentage -Value 50\r\n",
                "# Set config to ensure files have more than 10% free\r\n",
                "Set-DbcConfig -Name policy.database.filegrowthfreespacethreshold -Value 10"
            ],
            "metadata": {
                "azdata_cell_guid": "e72f1c7e-5128-4eb1-bca6-a0eecb06efdb"
            },
            "outputs": [],
            "execution_count": 12
        },
        {
            "cell_type": "markdown",
            "source": [
                "# Examining the current configuration and saving it\r\n",
                "\r\n",
                "When you set the configuration, the output shows the cuurently configured values for the configuration items that you have changed.\r\n",
                "\r\n",
                "You can examine the complete current configuration with `Get-DbcConfig`"
            ],
            "metadata": {
                "azdata_cell_guid": "740713a3-70cb-4b41-af15-26a6e5c62a8b"
            }
        },
        {
            "cell_type": "code",
            "source": [
                "Get-DbcConfig"
            ],
            "metadata": {
                "azdata_cell_guid": "810539c5-a5d0-4bb9-94fc-225ce835a608"
            },
            "outputs": [],
            "execution_count": 13
        },
        {
            "cell_type": "markdown",
            "source": [
                "## Saving the configuration to a file for reuse\r\n",
                "\r\n",
                "Once you have a configuration created, you can save it for easy importing into your session or for use with automation. I suggest that the best place for you to save this is in a source control repository so changes can be controlled and auditted\r\n",
                "\r\n",
                "To save the current configuration use `Export-DbcConfig`"
            ],
            "metadata": {
                "azdata_cell_guid": "f68350d3-b173-4e04-ac15-12b376b81bd5"
            }
        },
        {
            "cell_type": "code",
            "source": [
                "$FolderPath = $Env:USERPROFILE + '\\Documents\\dbachecks'\r\n",
                "Export-DbcConfig -Path $FolderPath\\Morning-Checks-Production.json "
            ],
            "metadata": {
                "azdata_cell_guid": "edeb1f12-1aa0-4061-89dc-7503d9e54a15",
                "tags": []
            },
            "outputs": [
                {
                    "name": "stdout",
                    "text": "[09:59:39][Export-DbcConfig] Wrote file to C:\\Users\\Rob.THEBEARD\\Documents\\dbachecks\\Morning-Checks-Production.json\n",
                    "output_type": "stream"
                }
            ],
            "execution_count": 15
        },
        {
            "cell_type": "markdown",
            "source": [
                "The file that is created is just json, you can take a look at it (and alter it directly if you wish)"
            ],
            "metadata": {
                "azdata_cell_guid": "291ade07-0005-4d14-8f83-86b0574282d2"
            }
        },
        {
            "cell_type": "code",
            "source": [
                "azuredatastudio $FolderPath\\Morning-Checks-Production.json "
            ],
            "metadata": {
                "azdata_cell_guid": "66aa7fec-93d0-44ca-bc9f-750f291517e1"
            },
            "outputs": [
                {
                    "name": "stdout",
                    "text": "",
                    "output_type": "stream"
                }
            ],
            "execution_count": 16
        },
        {
            "cell_type": "markdown",
            "source": [
                "# Loading the configuration from a file\r\n",
                "\r\n",
                "To use the configuration that you have saved you use `Import-DbcConfig`\r\n",
                "\r\n",
                "This will take the values from the json file and set the configuration accordingly"
            ],
            "metadata": {
                "azdata_cell_guid": "30d72dbb-6930-4eb8-a15a-3c3cec4aae84"
            }
        },
        {
            "cell_type": "code",
            "source": [
                "Import-DbcConfig -Path $FolderPath\\Morning-Checks-Production.json "
            ],
            "metadata": {
                "azdata_cell_guid": "1b84b47f-6552-4a52-ad27-a189f6aa2a8e"
            },
            "outputs": [],
            "execution_count": 17
        },
        {
            "cell_type": "markdown",
            "source": [
                "# Run the Checks with that configuration\r\n",
                "\r\n",
                "You can then run the checks with that configuration as usual. You do not need to specify the computer names or Instance names as they are in the configuration already. You will reset the configuration, load the configuration from the file and run the checks"
            ],
            "metadata": {
                "azdata_cell_guid": "3f16422e-b293-4933-9aa3-b994bd5d2c1b"
            }
        },
        {
            "cell_type": "code",
            "source": [
                "$FolderPath = $Env:USERPROFILE + '\\Documents\\dbachecks'\r\n",
                "$SqlCredential = Import-Clixml -Path $FolderPath\\sqladmin.cred\r\n",
                "# Just in case the config has been altered\r\n",
                "$null = Reset-DbcConfig\r\n",
                "$null = Import-DbcConfig -Path $FolderPath\\Morning-Checks-Production.json \r\n",
                "$invokeDbcCheckSplat = @{\r\n",
                "    SqlCredential = $SqlCredential\r\n",
                "    Check = 'InstanceConnection', 'FailedJob', 'LastBackup', 'ErrorLog', 'DiskCapacity', 'MemoryDump', 'LastJobRunTime', 'LongRunningJob', 'LogfileSize', 'FutureFileGrowth'\r\n",
                "}\r\n",
                "Invoke-DbcCheck @invokeDbcCheckSplat"
            ],
            "metadata": {
                "azdata_cell_guid": "c8b83e01-84e6-498c-933c-064c88b680c9"
            },
            "outputs": [],
            "execution_count": 19
        },
        {
            "cell_type": "markdown",
            "source": [
                "## Only showing the failures\r\n",
                "\r\n",
                "This will run 114 checks and most will pass. To avoid filling our buffer will all the checks that have passed, we can only display the failed checks using the `-Show` parameter with the `Fails` value. (NOTE - This is a better option than `Failed` which will only show the failed tests and no context for them)"
            ],
            "metadata": {
                "azdata_cell_guid": "3230a695-2f74-419a-a1e6-3fb7b2b100f2"
            }
        },
        {
            "cell_type": "code",
            "source": [
                "$FolderPath = $Env:USERPROFILE + '\\Documents\\dbachecks'\r\n",
                "$SqlCredential = Import-Clixml -Path $FolderPath\\sqladmin.cred\r\n",
                "# Just in case the config has been altered\r\n",
                "$null = Reset-DbcConfig\r\n",
                "$null = Import-DbcConfig -Path $FolderPath\\Morning-Checks-Production.json \r\n",
                "$invokeDbcCheckSplat = @{\r\n",
                "    SqlCredential = $SqlCredential\r\n",
                "    Check = 'InstanceConnection', 'FailedJob', 'LastBackup', 'ErrorLog', 'DiskCapacity', 'MemoryDump', 'LastJobRunTime', 'LongRunningJob', 'LogfileSize', 'FutureFileGrowth'\r\n",
                "    Show = 'Fails'\r\n",
                "}\r\n",
                "Invoke-DbcCheck @invokeDbcCheckSplat"
            ],
            "metadata": {
                "azdata_cell_guid": "a3aab53a-2ac1-4aca-8a65-a1c85ebacfe1"
            },
            "outputs": [],
            "execution_count": 21
        }
    ]
}