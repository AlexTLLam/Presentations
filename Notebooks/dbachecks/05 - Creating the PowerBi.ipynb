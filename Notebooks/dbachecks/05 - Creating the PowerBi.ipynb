{
    "metadata": {
        "kernelspec": {
            "name": "powershell",
            "display_name": "PowerShell"
        },
        "language_info": {
            "name": "powershell",
            "codemirror_mode": "shell",
            "mimetype": "text/x-sh",
            "file_extension": ".ps1"
        }
    },
    "nbformat_minor": 2,
    "nbformat": 4,
    "cells": [
        {
            "cell_type": "markdown",
            "source": [
                "# Creating the PowerBi"
            ],
            "metadata": {
                "azdata_cell_guid": "9bc7915e-3aee-47b6-a760-7902a9fb635f"
            }
        },
        {
            "cell_type": "markdown",
            "source": [
                "Load the different configs, run the checks dont forget `-PassThru`"
            ],
            "metadata": {
                "azdata_cell_guid": "563c48bf-a8da-4509-9d6d-66b55b8b1d76"
            }
        },
        {
            "cell_type": "code",
            "source": [
                "$FolderPath = $Env:USERPROFILE + '\\Documents\\dbachecks'\r\n",
                "$SqlCredential = Import-Clixml -Path $FolderPath\\sqladmin.cred\r\n",
                "# Just in case the config has been altered\r\n",
                "$null = Reset-DbcConfig\r\n",
                "$null = Import-DbcConfig -Path $FolderPath\\Morning-Checks-Production.json \r\n",
                "$invokeDbcCheckSplat = @{\r\n",
                "    SqlCredential = $SqlCredential\r\n",
                "    Check = 'InstanceConnection', 'FailedJob', 'LastBackup', 'ErrorLog', 'DiskCapacity', 'MemoryDump', 'LastJobRunTime', 'LongRunningJob', 'LogfileSize', 'FutureFileGrowth'\r\n",
                "    Show = 'Fails'\r\n",
                "}\r\n",
                "Invoke-DbcCheck @invokeDbcCheckSplat -PassThru | Update-DbcPowerBiDataSource -Environment Morning-Checks-Production\r\n",
                "\r\n",
                "\r\n",
                "$null = Reset-DbcConfig\r\n",
                "$null = Import-DbcConfig -Path $FolderPath\\New-Instance.json \r\n",
                "$invokeDbcCheckSplat = @{\r\n",
                "    SqlInstance = 'localhost,15592'\r\n",
                "    SqlCredential = $SqlCredential\r\n",
                "    Check = 'Instance','Agent'\r\n",
                "    Show = 'Fails'\r\n",
                "}\r\n",
                "Invoke-DbcCheck @invokeDbcCheckSplat -PassThru | Update-DbcPowerBiDataSource -Environment New-Instance\r\n",
                "\r\n",
                "$null = Reset-DbcConfig\r\n",
                "$null = Import-DbcConfig -Path $FolderPath\\Weekly-Check.json \r\n",
                "$invokeDbcCheckSplat = @{\r\n",
                "    SqlInstance = 'localhost,15592'\r\n",
                "    SqlCredential = $SqlCredential\r\n",
                "    Check = 'Agent', 'Database','Instance'\r\n",
                "    Show = 'Fails'\r\n",
                "}\r\n",
                "Invoke-DbcCheck @invokeDbcCheckSplat -PassThru | Update-DbcPowerBiDataSource -Environment Weekly-Check"
            ],
            "metadata": {
                "azdata_cell_guid": "db420b26-042f-44c6-9dcf-de70c29e4315"
            },
            "outputs": [],
            "execution_count": 1
        },
        {
            "cell_type": "markdown",
            "source": [
                "Now three results - Run PowerBi"
            ],
            "metadata": {
                "azdata_cell_guid": "25e75c3c-ebc7-49c4-bd14-0bca715acea6"
            }
        },
        {
            "cell_type": "code",
            "source": [
                "Start-DbcPowerBi"
            ],
            "metadata": {
                "azdata_cell_guid": "c4d8e1f7-37dc-47ad-966d-75cd8e30a0e9"
            },
            "outputs": [
                {
                    "name": "stdout",
                    "text": "[15:06:11][Start-DbcPowerBi] Launching the dbachecks dashboard. This may take a moment.\n",
                    "output_type": "stream"
                }
            ],
            "execution_count": 2
        }
    ]
}