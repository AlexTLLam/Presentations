{
    "metadata": {
        "kernelspec": {
            "name": "powershell",
            "display_name": "PowerShell"
        },
        "language_info": {
            "name": "powershell",
            "codemirror_mode": "shell",
            "mimetype": "text/x-sh",
            "file_extension": ".ps1"
        }
    },
    "nbformat_minor": 2,
    "nbformat": 4,
    "cells": [
        {
            "cell_type": "markdown",
            "source": [
                "# dbachecks\r\n",
                "\r\n",
                "## Installation \r\n",
                "\r\n",
                "Take a look at the installation guidelines here [Intro](./01-dbachecks-Intro.ipynb)\r\n",
                "\r\n",
                "Lets Check if you have the dbachecks module available"
            ],
            "metadata": {
                "azdata_cell_guid": "ae946c13-04d8-4845-8528-907c84d1555c",
                "tags": [
                    "hide_input"
                ]
            }
        },
        {
            "cell_type": "code",
            "source": [
                "Get-Module dbachecks -ListAvailable"
            ],
            "metadata": {
                "azdata_cell_guid": "3627b53c-63a5-4e21-9a2d-96b1a092c913",
                "tags": [
                    "hide_input"
                ]
            },
            "outputs": [
                {
                    "output_type": "stream",
                    "name": "stdout",
                    "text": "\n\n    Directory: C:\\Program Files\\WindowsPowerShell\\Modules\n\n\nModuleType Version    Name                                ExportedCommands                                             \n---------- -------    ----                                ----------------                                             \nScript     1.2.21     dbachecks                           {Get-DbcConfig, Get-DbcConfigValue, Get-DbcReleaseNote, Se...\n\n\n"
                }
            ],
            "execution_count": 1
        },
        {
            "cell_type": "markdown",
            "source": [
                "## Examine the available commands\r\n",
                "\r\n",
                "You can look at the commands in the dbachecks module"
            ],
            "metadata": {
                "azdata_cell_guid": "1ae003f9-d98a-43f0-b0b3-bf6b0736c147",
                "tags": [
                    "hide_input"
                ]
            }
        },
        {
            "cell_type": "code",
            "source": [
                "Get-Command -Module dbachecks"
            ],
            "metadata": {
                "azdata_cell_guid": "2718f60b-6ba6-4887-a886-10d52cd0228a",
                "tags": [
                    "hide_input"
                ]
            },
            "outputs": [
                {
                    "output_type": "stream",
                    "name": "stdout",
                    "text": "\nCommandType     Name                                               Version    Source                                   \n-----------     ----                                               -------    ------                                   \nAlias           Update-Dbachecks                                   1.2.21     dbachecks                                \nFunction        Clear-DbcPowerBiDataSource                         1.2.21     dbachecks                                \nFunction        Export-DbcConfig                                   1.2.21     dbachecks                                \nFunction        Get-DbcCheck                                       1.2.21     dbachecks                                \nFunction        Get-DbcConfig                                      1.2.21     dbachecks                                \nFunction        Get-DbcConfigValue                                 1.2.21     dbachecks                                \nFunction        Get-DbcReleaseNote                                 1.2.21     dbachecks                                \nFunction        Get-DbcTagCollection                               1.2.21     dbachecks                                \nFunction        Import-DbcConfig                                   1.2.21     dbachecks                                \nFunction        Invoke-DbcCheck                                    1.2.21     dbachecks                                \nFunction        Invoke-DbcConfigFile                               1.2.21     dbachecks                                \nFunction        Reset-DbcConfig                                    1.2.21     dbachecks                                \nFunction        Save-DbcRequiredModules                            1.2.21     dbachecks                                \nFunction        Set-DbcConfig                                      1.2.21     dbachecks                                \nFunction        Start-DbcPowerBi                                   1.2.21     dbachecks                                \nFunction        Update-DbcPowerBiDataSource                        1.2.21     dbachecks                                \nFunction        Update-DbcRequiredModules                          1.2.21     dbachecks                                \n\n\n"
                }
            ],
            "execution_count": 2
        },
        {
            "cell_type": "markdown",
            "source": [
                "# All of the checks\r\n",
                "\r\n",
                "You can see all of the checks using `Get-DbcCheck` \r\n",
                ""
            ],
            "metadata": {
                "azdata_cell_guid": "2a6fc094-c131-49af-a96e-4f432737bec2"
            }
        },
        {
            "cell_type": "code",
            "source": [
                "Get-DbcCheck"
            ],
            "metadata": {
                "azdata_cell_guid": "76ce1266-5da6-4999-9fae-5d236fc2e810"
            },
            "outputs": [],
            "execution_count": 11
        },
        {
            "cell_type": "markdown",
            "source": [
                "## Searching for Checks to run\r\n",
                "\r\n",
                "You can search for checks using `Get-DbcCheck -Pattern SEARCHTERM`"
            ],
            "metadata": {
                "azdata_cell_guid": "f0882807-09b6-4328-8e6e-21fb23d18d33"
            }
        },
        {
            "cell_type": "code",
            "source": [
                "Get-DbcCheck -Pattern backup"
            ],
            "metadata": {
                "azdata_cell_guid": "6868c7fa-7bf5-4721-a211-08eb7343b844"
            },
            "outputs": [
                {
                    "output_type": "stream",
                    "name": "stdout",
                    "text": "\nGroup               Type        UniqueTag                AllTags                                                    Con\n                                                                                                                    fig\n-----               ----        ---------                -------                                                    ---\nDatabase            Sqlinstance TestLastBackup           TestLastBackup, Backup, Database                           app\nDatabase            Sqlinstance TestLastBackupVerifyOnly TestLastBackupVerifyOnly, Backup, Database                 app\nDatabase            Sqlinstance LastFullBackup           LastFullBackup, LastBackup, Backup, DISA, Varied, Database app\nDatabase            Sqlinstance LastDiffBackup           LastDiffBackup, LastBackup, Backup, DISA, Varied, Database app\nDatabase            Sqlinstance LastLogBackup            LastLogBackup, LastBackup, Backup, DISA, Varied, Database  app\nInstance            Sqlinstance BackupPathAccess         BackupPathAccess, Storage, DISA, Medium, Instance          app\nInstance            Sqlinstance DefaultBackupCompression DefaultBackupCompression, Low, Instance                    app\nMaintenanceSolution Sqlinstance SystemFull               SystemFull, OlaJobs, MaintenanceSolution                   app\nMaintenanceSolution Sqlinstance UserFull                 UserFull, OlaJobs, MaintenanceSolution                     app\nMaintenanceSolution Sqlinstance UserDiff                 UserDiff, OlaJobs, MaintenanceSolution                     app\nMaintenanceSolution Sqlinstance UserLog                  UserLog, OlaJobs, MaintenanceSolution                      app\nMaintenanceSolution Sqlinstance DeleteBackupHistory      DeleteBackupHistory, OlaJobs, MaintenanceSolution          app\n\n\n"
                }
            ],
            "execution_count": 12
        },
        {
            "cell_type": "markdown",
            "source": [
                "# Running a Check\r\n",
                "\r\n",
                "This requires that you have the containers set up from the Notebook 00 - Setting up the containers for the rest of the containers.ipynb\r\n",
                "\r\n",
                "If you have altered the folder path you will need to alter it below."
            ],
            "metadata": {
                "azdata_cell_guid": "a6de41f8-f3e3-46d4-8325-c5d0ceb04df4"
            }
        },
        {
            "cell_type": "markdown",
            "source": [
                "Running a check from the command line can be done with\r\n",
                "\r\n",
                "`Invoke-DbcCheck -SqlInstance SQLINSTANCE -Check UNIQUETAG, A TAG, GROUP`\r\n",
                "\r\n",
                "You can run multiple checks with\r\n",
                "\r\n",
                "`Invoke-DbcCheck -SqlInstance SQLINSTANCE -Check Tag,AnotherTag,AnotherTag`"
            ],
            "metadata": {
                "azdata_cell_guid": "2bdc0137-380e-4d98-8c21-65710f7eca4e"
            }
        },
        {
            "cell_type": "code",
            "source": [
                "$FolderPath = $Env:USERPROFILE + '\\Documents\\dbachecks'\r\n",
                "$SqlInstance = 'localhost,15592'\r\n",
                "$SqlCredential = Import-Clixml -Path $FolderPath\\sqladmin.cred\r\n",
                "$null = Reset-DbcConfig\r\n",
                "Invoke-DbcCheck -SqlInstance $SqlInstance -SqlCredential $SqlCredential -Check AutoClose"
            ],
            "metadata": {
                "azdata_cell_guid": "990486fd-573a-4c43-afad-6e65e5b8f4fd"
            },
            "outputs": [
                {
                    "output_type": "stream",
                    "name": "stdout",
                    "text": "    ____            __\n   / __ \\___  _____/ /____  _____\n  / /_/ / _ \\/ ___/ __/ _ \\/ ___/\n / ____/  __(__  ) /_/  __/ /\n/_/    \\___/____/\\__/\\___/_/\nPester v4.9.0\nExecuting all tests in 'C:\\Program Files\\WindowsPowerShell\\Modules\\dbachecks\\1.2.21\\checks\\Database.Tests.ps1' with Tags AutoClose\n\nExecuting script C:\\Program Files\\WindowsPowerShell\\Modules\\dbachecks\\1.2.21\\checks\\Database.Tests.ps1\n\n  Describing Auto Close\n\n    Context Testing Auto Close on localhost,15592\n      [+] AdventureWorks2017 on localhost,15592 should have Auto Close set to False 74ms\n      [+] master on localhost,15592 should have Auto Close set to False 28ms\n      [+] model on localhost,15592 should have Auto Close set to False 27ms\n      [+] msdb on localhost,15592 should have Auto Close set to False 27ms\n      [+] Northwind on localhost,15592 should have Auto Close set to False 27ms\n      [+] pubs on localhost,15592 should have Auto Close set to False 28ms\n      [+] tempdb on localhost,15592 should have Auto Close set to False 25ms\n      [+] WideWorldImporters on localhost,15592 should have Auto Close set to False 33ms\nTests completed in 752ms\nTests Passed: 8, Failed: 0, Skipped: 0, Pending: 0, Inconclusive: 0 \n"
                }
            ],
            "execution_count": 14
        },
        {
            "cell_type": "markdown",
            "source": [
                "## Auto-Complete for Checks\r\n",
                "At the command line and in the editor the Checks will auto-complete\r\n",
                "\r\n",
                "Place the cursor a space after the `-Check` and press CTRL + SPACE\r\n",
                "\r\n",
                "`Invoke-DbcCheck -SqlInstance SQL2016N1 -Check `"
            ],
            "metadata": {
                "azdata_cell_guid": "e3eba123-7621-44ee-af57-3b8e95eb46ec"
            }
        },
        {
            "cell_type": "code",
            "source": [
                "$FolderPath = $Env:USERPROFILE + '\\Documents\\dbachecks'\r\n",
                "$SqlInstance = 'localhost,15592'\r\n",
                "$SqlCredential = Import-Clixml -Path $FolderPath\\sqladmin.cred\r\n",
                "Invoke-DbcCheck -SqlInstance $SqlInstance -SqlCredential $SqlCredential -Check "
            ],
            "metadata": {
                "azdata_cell_guid": "6bfbde55-35ff-462c-aaa8-0fef795983f3"
            },
            "outputs": [
                {
                    "output_type": "stream",
                    "name": "stdout",
                    "text": "    ____            __\n   / __ \\___  _____/ /____  _____\n  / /_/ / _ \\/ ___/ __/ _ \\/ ___/\n / ____/  __(__  ) /_/  __/ /\n/_/    \\___/____/\\__/\\___/_/\nPester v4.9.0\nExecuting all tests in 'C:\\Program Files\\WindowsPowerShell\\Modules\\dbachecks\\1.2.21\\checks\\Instance.Tests.ps1' with Tags DefaultTrace\n\nExecuting script C:\\Program Files\\WindowsPowerShell\\Modules\\dbachecks\\1.2.21\\checks\\Instance.Tests.ps1\n\n  Describing Default Trace\n\n    Context Checking Default Trace on localhost,15592\n      [+] The Default Trace should be enabled on localhost,15592 12ms\nTests completed in 755ms\nTests Passed: 1, Failed: 0, Skipped: 0, Pending: 0, Inconclusive: 0 \n"
                }
            ],
            "execution_count": 9
        },
        {
            "cell_type": "markdown",
            "source": [
                "# Check Agent Jobs at the command line\r\n",
                "\r\n",
                "Did all of the Agent Jobs succeed ?"
            ],
            "metadata": {
                "azdata_cell_guid": "ace87d71-f023-4181-ba05-4bb5041f542f"
            }
        },
        {
            "cell_type": "code",
            "source": [
                "$FolderPath = $Env:USERPROFILE + '\\Documents\\dbachecks'\r\n",
                "$SqlInstance = 'localhost,15592'\r\n",
                "$SqlCredential = Import-Clixml -Path $FolderPath\\sqladmin.cred\r\n",
                "Invoke-DbcCheck -SqlInstance $SqlInstance -SqlCredential $SqlCredential -Check FailedJob"
            ],
            "metadata": {
                "azdata_cell_guid": "a9344196-3a43-4638-8847-0dd3afa429b8",
                "tags": []
            },
            "outputs": [
                {
                    "name": "stdout",
                    "text": "    ____            __\n   / __ \\___  _____/ /____  _____\n  / /_/ / _ \\/ ___/ __/ _ \\/ ___/\n / ____/  __(__  ) /_/  __/ /\n/_/    \\___/____/\\__/\\___/_/\nPester v4.9.0\nExecuting all tests in 'C:\\Program Files\\WindowsPowerShell\\Modules\\dbachecks\\1.2.21\\checks\\Agent.Tests.ps1' with Tags FailedJob\n\nExecuting script C:\\Program Files\\WindowsPowerShell\\Modules\\dbachecks\\1.2.21\\checks\\Agent.Tests.ps1\n\n  Describing Failed Jobs\n\n    Context Checking for failed enabled jobs since 11/22/2019 06:54:50 on localhost,15592\n      [+] CommandLog Cleanup's last run outcome on c0bc020554ce is Succeeded 275ms\n      [+] DatabaseBackup - SYSTEM_DATABASES - FULL's last run outcome on c0bc020554ce is Succeeded 2ms\n      [+] DatabaseBackup - USER_DATABASES - DIFF's last run outcome on c0bc020554ce is Succeeded 2ms\n      [+] DatabaseBackup - USER_DATABASES - FULL's last run outcome on c0bc020554ce is Succeeded 2ms\n      [+] DatabaseBackup - USER_DATABASES - LOG's last run outcome on c0bc020554ce is Succeeded 2ms\n      [+] DatabaseIntegrityCheck - SYSTEM_DATABASES's last run outcome on c0bc020554ce is Succeeded 2ms\n      [+] DatabaseIntegrityCheck - USER_DATABASES's last run outcome on c0bc020554ce is Succeeded 2ms\n      [+] IndexOptimize - USER_DATABASES's last run outcome on c0bc020554ce is Succeeded 2ms\n      [+] sp_delete_backuphistory's last run outcome on c0bc020554ce is Succeeded 2ms\n      [+] sp_purge_jobhistory's last run outcome on c0bc020554ce is Succeeded 2ms\n      [-] The Beard is Important's last run outcome on c0bc020554ce is Failed 138ms\n        Expected 'Succeeded', because All Agent Jobs should have succeed - you need to investigate the failed jobs, but got Failed.\n        170:                                         $psitem.LastRunOutcome | Should -Be \"Succeeded\" -Because 'All Agent Jobs should have succeed - you need to investigate the failed jobs'\n        at <ScriptBlock>, C:\\Program Files\\WindowsPowerShell\\Modules\\dbachecks\\1.2.21\\checks\\Agent.Tests.ps1: line 170\nTests completed in 3.38s\nTests Passed: 10, Failed: 1, Skipped: 0, Pending: 0, Inconclusive: 0 \n",
                    "output_type": "stream"
                }
            ],
            "execution_count": 1
        },
        {
            "cell_type": "markdown",
            "source": [
                "You may have no results because they are no enabled jobs that have run in the last 7 days (depending upon when I last updated the image). Lets run the jobs and see what we get"
            ],
            "metadata": {
                "azdata_cell_guid": "3e5ab98e-4e56-4e7a-8d44-510433db06dd"
            }
        },
        {
            "cell_type": "code",
            "source": [
                "$FolderPath = $Env:USERPROFILE + '\\Documents\\dbachecks'\r\n",
                "$SqlInstance = 'localhost,15592'\r\n",
                "$SqlCredential = Import-Clixml -Path $FolderPath\\sqladmin.cred\r\n",
                "(Get-DbaAgentJob -SqlInstance $SqlInstance -SqlCredential $SqlCredential).Start()\r\n",
                "Start-Sleep -Seconds 15\r\n",
                "Invoke-DbcCheck -SqlInstance $SqlInstance -SqlCredential $SqlCredential -Check FailedJob"
            ],
            "metadata": {
                "azdata_cell_guid": "79d42ef2-197c-43e7-865e-6cd4ca290b60"
            },
            "outputs": [
                {
                    "output_type": "stream",
                    "name": "stdout",
                    "text": "    ____            __\n   / __ \\___  _____/ /____  _____\n  / /_/ / _ \\/ ___/ __/ _ \\/ ___/\n / ____/  __(__  ) /_/  __/ /\n/_/    \\___/____/\\__/\\___/_/\nPester v4.9.0\nExecuting all tests in 'C:\\Program Files\\WindowsPowerShell\\Modules\\dbachecks\\1.2.21\\checks\\Agent.Tests.ps1' with Tags FailedJob\n\nExecuting script C:\\Program Files\\WindowsPowerShell\\Modules\\dbachecks\\1.2.21\\checks\\Agent.Tests.ps1\n\n  Describing Failed Jobs\n\n    Context Checking for failed enabled jobs since 11/21/2019 14:47:18 on localhost,15592\n      [+] CommandLog Cleanup's last run outcome on 3c87ea8ca475 is Succeeded 1ms\n      [+] DatabaseBackup - SYSTEM_DATABASES - FULL's last run outcome on 3c87ea8ca475 is Succeeded 1ms\n      [+] DatabaseBackup - USER_DATABASES - DIFF's last run outcome on 3c87ea8ca475 is Succeeded 1ms\n      [+] DatabaseBackup - USER_DATABASES - FULL's last run outcome on 3c87ea8ca475 is Succeeded 1ms\n      [+] DatabaseBackup - USER_DATABASES - LOG's last run outcome on 3c87ea8ca475 is Succeeded 3ms\n      [+] DatabaseIntegrityCheck - SYSTEM_DATABASES's last run outcome on 3c87ea8ca475 is Succeeded 2ms\n      [+] DatabaseIntegrityCheck - USER_DATABASES's last run outcome on 3c87ea8ca475 is Succeeded 1ms\n      [+] IndexOptimize - USER_DATABASES's last run outcome on 3c87ea8ca475 is Succeeded 3ms\n      [+] sp_delete_backuphistory's last run outcome on 3c87ea8ca475 is Succeeded 1ms\n      [+] sp_purge_jobhistory's last run outcome on 3c87ea8ca475 is Succeeded 1ms\n      [-] The Beard is Important's last run outcome on 3c87ea8ca475 is Failed 6ms\n        Expected 'Succeeded', because All Agent Jobs should have succeed - you need to investigate the failed jobs, but got Failed.\n        170:                                         $psitem.LastRunOutcome | Should -Be \"Succeeded\" -Because 'All Agent Jobs should have succeed - you need to investigate the failed jobs'\n        at <ScriptBlock>, C:\\Program Files\\WindowsPowerShell\\Modules\\dbachecks\\1.2.21\\checks\\Agent.Tests.ps1: line 170\nTests completed in 7.03s\nTests Passed: 10, Failed: 1, Skipped: 0, Pending: 0, Inconclusive: 0 \n"
                }
            ],
            "execution_count": 11
        },
        {
            "cell_type": "markdown",
            "source": [
                "## Check the instances are available\r\n",
                "Are all of the instances up and available?\r\n",
                "\r\n",
                "There will be failures for the default values of the authentication scheme as we are connecting with SQL Authentication."
            ],
            "metadata": {
                "azdata_cell_guid": "60a354ad-2eca-4fc2-988b-17ee6cf42ac2"
            }
        },
        {
            "cell_type": "code",
            "source": [
                "$FolderPath = $Env:USERPROFILE + '\\Documents\\dbachecks'\r\n",
                "$SqlInstances = 'localhost,15592','localhost,15593'\r\n",
                "$SqlCredential = Import-Clixml -Path $FolderPath\\sqladmin.cred\r\n",
                "Invoke-DbcCheck -SqlInstance $SqlInstances -SqlCredential $SqlCredential -Check InstanceConnection "
            ],
            "metadata": {
                "azdata_cell_guid": "8e268766-82db-4024-a8c6-ebafe51760f3"
            },
            "outputs": [
                {
                    "output_type": "stream",
                    "name": "stdout",
                    "text": "    ____            __\n   / __ \\___  _____/ /____  _____\n  / /_/ / _ \\/ ___/ __/ _ \\/ ___/\n / ____/  __(__  ) /_/  __/ /\n/_/    \\___/____/\\__/\\___/_/\nPester v4.9.0\nExecuting all tests in 'C:\\Program Files\\WindowsPowerShell\\Modules\\dbachecks\\1.2.21\\checks\\Instance.Tests.ps1' with Tags InstanceConnection\n\nExecuting script C:\\Program Files\\WindowsPowerShell\\Modules\\dbachecks\\1.2.21\\checks\\Instance.Tests.ps1\n\n  Describing Instance Connection\n\n    Context Testing Instance Connection on localhost,15592\n      [+] connects successfully to localhost,15592 3ms\n      [-] auth scheme should be Kerberos on localhost,15592 163ms\n        Expected strings to be the same, but they were different.\n        Expected length: 8\n        Actual length:   3\n        Strings differ at index 0.\n        Expected: 'Kerberos'\n        But was:  'SQL'\n        64:                         (Test-DbaConnectionAuthScheme -SqlInstance $Instance).authscheme | Should -Be $authscheme\n        at <ScriptBlock>, C:\\Program Files\\WindowsPowerShell\\Modules\\dbachecks\\1.2.21\\checks\\Instance.Tests.ps1: line 64\n      [+] localhost,15592 is pingable 2ms\n      [+] localhost,15592 Is PSRemoteable 50.73s\n\n  Describing Instance Connection\n\n    Context Testing Instance Connection on localhost,15593\n      [+] connects successfully to localhost,15593 3ms\n      [-] auth scheme should be Kerberos on localhost,15593 163ms\n        Expected strings to be the same, but they were different.\n        Expected length: 8\n        Actual length:   3\n        Strings differ at index 0.\n        Expected: 'Kerberos'\n        But was:  'SQL'\n        64:                         (Test-DbaConnectionAuthScheme -SqlInstance $Instance).authscheme | Should -Be $authscheme\n        at <ScriptBlock>, C:\\Program Files\\WindowsPowerShell\\Modules\\dbachecks\\1.2.21\\checks\\Instance.Tests.ps1: line 64\n      [+] localhost,15593 is pingable 2ms\n      [+] localhost,15593 Is PSRemoteable 50.48s\nTests completed in 102.43s\nTests Passed: 6, Failed: 2, Skipped: 0, Pending: 0, Inconclusive: 0 \n"
                }
            ],
            "execution_count": 3
        },
        {
            "cell_type": "markdown",
            "source": [
                "# Check the databases are available\r\n",
                "Are all the databases up available?\r\n",
                "\r\n",
                "This by default will only show the system databases but we will talk about configuration for this in the next notebook"
            ],
            "metadata": {
                "azdata_cell_guid": "405d3e5a-c0a8-4819-852e-a865cd0618b4"
            }
        },
        {
            "cell_type": "code",
            "source": [
                "$FolderPath = $Env:USERPROFILE + '\\Documents\\dbachecks'\r\n",
                "$SqlInstances = 'localhost,15592','localhost,15593'\r\n",
                "$SqlCredential = Import-Clixml -Path $FolderPath\\sqladmin.cred\r\n",
                "Invoke-DbcCheck -SqlInstance $SqlInstances -SqlCredential $SqlCredential  -Check DatabaseStatus"
            ],
            "metadata": {
                "azdata_cell_guid": "9a42fc56-1dd6-4512-91e0-9908a98cbf83"
            },
            "outputs": [
                {
                    "output_type": "stream",
                    "name": "stdout",
                    "text": "    ____            __\n   / __ \\___  _____/ /____  _____\n  / /_/ / _ \\/ ___/ __/ _ \\/ ___/\n / ____/  __(__  ) /_/  __/ /\n/_/    \\___/____/\\__/\\___/_/\nPester v4.9.0\nExecuting all tests in 'C:\\Program Files\\WindowsPowerShell\\Modules\\dbachecks\\1.2.21\\checks\\Database.Tests.ps1' with Tags DatabaseStatus\n\nExecuting script C:\\Program Files\\WindowsPowerShell\\Modules\\dbachecks\\1.2.21\\checks\\Database.Tests.ps1\n\n  Describing Database Status\n\n    Context Database status is correct on localhost,15592\n      [+] Database master on localhost,15592 has the expected status 272ms\n      [+] Database model on localhost,15592 has the expected status 128ms\n      [+] Database msdb on localhost,15592 has the expected status 126ms\n      [+] Database tempdb on localhost,15592 has the expected status 114ms\n\n  Describing Database Status\n\n    Context Database status is correct on localhost,15593\n      [+] Database master on localhost,15593 has the expected status 196ms\n      [+] Database model on localhost,15593 has the expected status 110ms\n      [+] Database msdb on localhost,15593 has the expected status 113ms\n      [+] Database tempdb on localhost,15593 has the expected status 109ms\nTests completed in 1.86s\nTests Passed: 8, Failed: 0, Skipped: 0, Pending: 0, Inconclusive: 0 \n"
                }
            ],
            "execution_count": 4
        },
        {
            "cell_type": "markdown",
            "source": [
                "## Check that DBCC CheckDB \r\n",
                "\r\n",
                "This is one of my favourite checks to run. You can get the last time DBCC CHECKDB was run for a single database using T-SQL with\r\n",
                "\r\n",
                "```sql\r\n",
                "DBCC DBINFO('DatabaseName') WITH TABLERESULTS\r\n",
                "```\r\n",
                "\r\n",
                "You will find the result somewhere around line 50. Doing that for all of the databases on your estate is time consuming and prone to (human) error.\r\n",
                "With dbachecks you can do it like this. ON my machine this checks the 2 containers and 14 databases to make sure DBCC CHECKDB was run in the last 7 days in under 2 seconds :-)"
            ],
            "metadata": {
                "azdata_cell_guid": "420b3aad-8a6b-4412-87f4-98cbd5611b29"
            }
        },
        {
            "cell_type": "code",
            "source": [
                "$FolderPath = $Env:USERPROFILE + '\\Documents\\dbachecks'\r\n",
                "$SqlInstances = 'localhost,15592','localhost,15593'\r\n",
                "$SqlCredential = Import-Clixml -Path $FolderPath\\sqladmin.cred\r\n",
                "Invoke-DbcCheck -SqlInstance $SqlInstances -SqlCredential $SqlCredential  -Check LastGoodCheckDb"
            ],
            "metadata": {
                "azdata_cell_guid": "aacc026f-6f6a-4081-ace8-09fe8bf4b72b"
            },
            "outputs": [
                {
                    "name": "stdout",
                    "text": "    ____            __\n   / __ \\___  _____/ /____  _____\n  / /_/ / _ \\/ ___/ __/ _ \\/ ___/\n / ____/  __(__  ) /_/  __/ /\n/_/    \\___/____/\\__/\\___/_/\nPester v4.9.0\nExecuting all tests in 'C:\\Program Files\\WindowsPowerShell\\Modules\\dbachecks\\1.2.21\\checks\\Database.Tests.ps1' with Tags LastGoodCheckDb\n\nExecuting script C:\\Program Files\\WindowsPowerShell\\Modules\\dbachecks\\1.2.21\\checks\\Database.Tests.ps1\n\n  Describing Last Good DBCC CHECKDB\n\n    Context Testing Last Good DBCC CHECKDB on localhost,15592\n      [+] last good integrity check for master on c0bc020554ce should be less than 7 days old 33ms\n      [+] last good integrity check for master on c0bc020554ce has Data Purity Enabled 23ms\n      [+] last good integrity check for model on c0bc020554ce should be less than 7 days old 1ms\n      [+] last good integrity check for model on c0bc020554ce has Data Purity Enabled 1ms\n      [+] last good integrity check for msdb on c0bc020554ce should be less than 7 days old 1ms\n      [+] last good integrity check for msdb on c0bc020554ce has Data Purity Enabled 1ms\n      [+] last good integrity check for AdventureWorks2017 on c0bc020554ce should be less than 7 days old 1ms\n      [+] last good integrity check for AdventureWorks2017 on c0bc020554ce has Data Purity Enabled 1ms\n      [+] last good integrity check for WideWorldImporters on c0bc020554ce should be less than 7 days old 1ms\n      [+] last good integrity check for WideWorldImporters on c0bc020554ce has Data Purity Enabled 3ms\n      [+] last good integrity check for Northwind on c0bc020554ce should be less than 7 days old 1ms\n      [+] last good integrity check for Northwind on c0bc020554ce has Data Purity Enabled 1ms\n      [+] last good integrity check for pubs on c0bc020554ce should be less than 7 days old 1ms\n      [+] last good integrity check for pubs on c0bc020554ce has Data Purity Enabled 1ms\n\n  Describing Last Good DBCC CHECKDB\n\n    Context Testing Last Good DBCC CHECKDB on localhost,15593\n      [+] last good integrity check for master on 02e228a6e959 should be less than 7 days old 1ms\n      [+] last good integrity check for master on 02e228a6e959 has Data Purity Enabled 1ms\n      [+] last good integrity check for model on 02e228a6e959 should be less than 7 days old 1ms\n      [+] last good integrity check for model on 02e228a6e959 has Data Purity Enabled 2ms\n      [+] last good integrity check for msdb on 02e228a6e959 should be less than 7 days old 3ms\n      [+] last good integrity check for msdb on 02e228a6e959 has Data Purity Enabled 4ms\n      [+] last good integrity check for AdventureWorks2017 on 02e228a6e959 should be less than 7 days old 5ms\n      [+] last good integrity check for AdventureWorks2017 on 02e228a6e959 has Data Purity Enabled 2ms\n      [+] last good integrity check for WideWorldImporters on 02e228a6e959 should be less than 7 days old 2ms\n      [+] last good integrity check for WideWorldImporters on 02e228a6e959 has Data Purity Enabled 5ms\n      [+] last good integrity check for Northwind on 02e228a6e959 should be less than 7 days old 2ms\n      [+] last good integrity check for Northwind on 02e228a6e959 has Data Purity Enabled 1ms\n      [+] last good integrity check for pubs on 02e228a6e959 should be less than 7 days old 1ms\n      [+] last good integrity check for pubs on 02e228a6e959 has Data Purity Enabled 3ms\nTests completed in 1.72s\nTests Passed: 28, Failed: 0, Skipped: 0, Pending: 0, Inconclusive: 0 \n",
                    "output_type": "stream"
                }
            ],
            "execution_count": 3
        },
        {
            "cell_type": "markdown",
            "source": [
                "## Check that the Error log has no Errors\r\n",
                "\r\n",
                "By default this will check the error logs for the last 24 hours"
            ],
            "metadata": {
                "azdata_cell_guid": "773c4455-0b23-4388-9e8d-2f02eef29aeb"
            }
        },
        {
            "cell_type": "code",
            "source": [
                "$FolderPath = $Env:USERPROFILE + '\\Documents\\dbachecks'\r\n",
                "$SqlInstances = 'localhost,15592','localhost,15593'\r\n",
                "$SqlCredential = Import-Clixml -Path $FolderPath\\sqladmin.cred\r\n",
                "Invoke-DbcCheck -SqlInstance $SqlInstances -SqlCredential $SqlCredential  -Check ErrorLog"
            ],
            "metadata": {
                "azdata_cell_guid": "c5e424b6-74f4-4057-907c-720f8e1dfc66"
            },
            "outputs": [
                {
                    "name": "stdout",
                    "text": "    ____            __\n   / __ \\___  _____/ /____  _____\n  / /_/ / _ \\/ ___/ __/ _ \\/ ___/\n / ____/  __(__  ) /_/  __/ /\n/_/    \\___/____/\\__/\\___/_/\nPester v4.9.0\nExecuting all tests in 'C:\\Program Files\\WindowsPowerShell\\Modules\\dbachecks\\1.2.21\\checks\\Instance.Tests.ps1' with Tags ErrorLog\n\nExecuting script C:\\Program Files\\WindowsPowerShell\\Modules\\dbachecks\\1.2.21\\checks\\Instance.Tests.ps1\n\n  Describing Error Log Entries\n\n    Context Checking error log on localhost,15592\n      [+] Error log should be free of error severities 17-24 on localhost,15592 27ms\n\n  Describing Error Log Entries\n\n    Context Checking error log on localhost,15593\n      [+] Error log should be free of error severities 17-24 on localhost,15593 2ms\nTests completed in 2.01s\nTests Passed: 2, Failed: 0, Skipped: 0, Pending: 0, Inconclusive: 0 \n",
                    "output_type": "stream"
                }
            ],
            "execution_count": 2
        },
        {
            "cell_type": "markdown",
            "source": [
                "## Check the disk space on the instance\r\n",
                "\r\n",
                "This will check that the disk space on the hosts has at least 20% free space by default. It requires passing the host names to the `-ComputerName` parameter"
            ],
            "metadata": {
                "azdata_cell_guid": "96b863a1-dab1-479b-87c7-b0ca576b8671"
            }
        },
        {
            "cell_type": "code",
            "source": [
                "$FolderPath = $Env:USERPROFILE + '\\Documents\\dbachecks'\r\n",
                "$SqlInstances = 'localhost,15592','localhost,15593'\r\n",
                "$SqlCredential = Import-Clixml -Path $FolderPath\\sqladmin.cred\r\n",
                "Invoke-DbcCheck -ComputerName $SqlInstances -Check DiskCapacity"
            ],
            "metadata": {
                "azdata_cell_guid": "ae93ad9f-950e-40dc-9ab5-d8d2e40d2928"
            },
            "outputs": [
                {
                    "name": "stdout",
                    "text": "    ____            __\n   / __ \\___  _____/ /____  _____\n  / /_/ / _ \\/ ___/ __/ _ \\/ ___/\n / ____/  __(__  ) /_/  __/ /\n/_/    \\___/____/\\__/\\___/_/\nPester v4.9.0\nExecuting all tests in 'C:\\Program Files\\WindowsPowerShell\\Modules\\dbachecks\\1.2.21\\checks\\Server.Tests.ps1' with Tags DiskCapacity\n\nExecuting script C:\\Program Files\\WindowsPowerShell\\Modules\\dbachecks\\1.2.21\\checks\\Server.Tests.ps1\n\n  Describing Disk Space\n\n    Context Testing Disk Space on localhost,15592\n      [+] D:\\ with 72.7% free should be at least 20% free on localhost 16ms\n      [+] C:\\ with 73.53% free should be at least 20% free on localhost 6ms\n\n  Describing Disk Space\n\n    Context Testing Disk Space on localhost,15593\n      [+] D:\\ with 72.7% free should be at least 20% free on localhost 5ms\n      [+] C:\\ with 73.53% free should be at least 20% free on localhost 5ms\nTests completed in 523ms\nTests Passed: 4, Failed: 0, Skipped: 0, Pending: 0, Inconclusive: 0 \n",
                    "output_type": "stream"
                }
            ],
            "execution_count": 4
        },
        {
            "cell_type": "markdown",
            "source": [
                "# Check if DAC is enabled\r\n",
                "\r\n",
                "This will check that DAC - the dedicated administrator connection is enabled (by default)"
            ],
            "metadata": {
                "azdata_cell_guid": "0d2e7bf5-3687-4141-ad68-26a84e7a66cc"
            }
        },
        {
            "cell_type": "code",
            "source": [
                "$FolderPath = $Env:USERPROFILE + '\\Documents\\dbachecks'\r\n",
                "$SqlInstances = 'localhost,15592','localhost,15593'\r\n",
                "$SqlCredential = Import-Clixml -Path $FolderPath\\sqladmin.cred\r\n",
                "Invoke-DbcCheck -SqlInstance $SqlInstances -SqlCredential $SqlCredential  -Check DAC"
            ],
            "metadata": {
                "azdata_cell_guid": "3cb402a8-8d90-45cb-b774-19ea98a57fc9"
            },
            "outputs": [
                {
                    "name": "stdout",
                    "text": "    ____            __\n   / __ \\___  _____/ /____  _____\n  / /_/ / _ \\/ ___/ __/ _ \\/ ___/\n / ____/  __(__  ) /_/  __/ /\n/_/    \\___/____/\\__/\\___/_/\nPester v4.9.0\nExecuting all tests in 'C:\\Program Files\\WindowsPowerShell\\Modules\\dbachecks\\1.2.21\\checks\\Instance.Tests.ps1' with Tags DAC\n\nExecuting script C:\\Program Files\\WindowsPowerShell\\Modules\\dbachecks\\1.2.21\\checks\\Instance.Tests.ps1\n\n  Describing Dedicated Administrator Connection\n\n    Context Testing Dedicated Administrator Connection on localhost,15592\n      [-] DAC is set to True on localhost,15592 327ms\n        Expected $true, because This is the setting that you have chosen for DAC connections, but got $false.\n        237:                     (Get-DbaSpConfigure -SqlInstance $psitem -ConfigName 'RemoteDACConnectionsEnabled').ConfiguredValue -eq 1 | Should -Be $dac -Because 'This is the setting that you have chosen for DAC connections'\n        at <ScriptBlock>, C:\\Program Files\\WindowsPowerShell\\Modules\\dbachecks\\1.2.21\\checks\\Instance.Tests.ps1: line 237\n\n  Describing Dedicated Administrator Connection\n\n    Context Testing Dedicated Administrator Connection on localhost,15593\n      [-] DAC is set to True on localhost,15593 84ms\n        Expected $true, because This is the setting that you have chosen for DAC connections, but got $false.\n        237:                     (Get-DbaSpConfigure -SqlInstance $psitem -ConfigName 'RemoteDACConnectionsEnabled').ConfiguredValue -eq 1 | Should -Be $dac -Because 'This is the setting that you have chosen for DAC connections'\n        at <ScriptBlock>, C:\\Program Files\\WindowsPowerShell\\Modules\\dbachecks\\1.2.21\\checks\\Instance.Tests.ps1: line 237\nTests completed in 895ms\nTests Passed: 0, Failed: 2, Skipped: 0, Pending: 0, Inconclusive: 0 \n",
                    "output_type": "stream"
                }
            ],
            "execution_count": 5
        },
        {
            "cell_type": "markdown",
            "source": [
                "## Check if the database collation matches the server collation\r\n",
                "\r\n",
                "This will check that the collation of the database matches the collation of the instance to avoid collation conflict errors when using temporary tables"
            ],
            "metadata": {
                "azdata_cell_guid": "4748f90f-bc7c-4f7f-85af-9866b2ae6027"
            }
        },
        {
            "cell_type": "code",
            "source": [
                "$FolderPath = $Env:USERPROFILE + '\\Documents\\dbachecks'\r\n",
                "$SqlInstances = 'localhost,15592','localhost,15593'\r\n",
                "$SqlCredential = Import-Clixml -Path $FolderPath\\sqladmin.cred\r\n",
                "Invoke-DbcCheck -SqlInstance $SqlInstances -SqlCredential $SqlCredential  -Check DatabaseCollation"
            ],
            "metadata": {
                "azdata_cell_guid": "e850a5de-3207-4b09-82a7-a05663a0a5ca"
            },
            "outputs": [
                {
                    "name": "stdout",
                    "text": "    ____            __\n   / __ \\___  _____/ /____  _____\n  / /_/ / _ \\/ ___/ __/ _ \\/ ___/\n / ____/  __(__  ) /_/  __/ /\n/_/    \\___/____/\\__/\\___/_/\nPester v4.9.0\nExecuting all tests in 'C:\\Program Files\\WindowsPowerShell\\Modules\\dbachecks\\1.2.21\\checks\\Database.Tests.ps1' with Tags DatabaseCollation\n\nExecuting script C:\\Program Files\\WindowsPowerShell\\Modules\\dbachecks\\1.2.21\\checks\\Database.Tests.ps1\n\n  Describing Database Collation\n\n    Context Testing database collation on localhost,15592\n      [+] database collation (SQL_Latin1_General_CP1_CI_AS) should match server collation (SQL_Latin1_General_CP1_CI_AS) for AdventureWorks2017 on c0bc020554ce 12ms\n      [+] database collation (SQL_Latin1_General_CP1_CI_AS) should match server collation (SQL_Latin1_General_CP1_CI_AS) for master on c0bc020554ce 1ms\n      [+] database collation (SQL_Latin1_General_CP1_CI_AS) should match server collation (SQL_Latin1_General_CP1_CI_AS) for model on c0bc020554ce 4ms\n      [+] database collation (SQL_Latin1_General_CP1_CI_AS) should match server collation (SQL_Latin1_General_CP1_CI_AS) for msdb on c0bc020554ce 1ms\n      [+] database collation (SQL_Latin1_General_CP1_CI_AS) should match server collation (SQL_Latin1_General_CP1_CI_AS) for Northwind on c0bc020554ce 2ms\n      [+] database collation (SQL_Latin1_General_CP1_CI_AS) should match server collation (SQL_Latin1_General_CP1_CI_AS) for pubs on c0bc020554ce 1ms\n      [+] database collation (SQL_Latin1_General_CP1_CI_AS) should match server collation (SQL_Latin1_General_CP1_CI_AS) for tempdb on c0bc020554ce 2ms\n      [-] database collation (Latin1_General_100_CI_AS) should match server collation (SQL_Latin1_General_CP1_CI_AS) for WideWorldImporters on c0bc020554ce 65ms\n        Expected strings to be the same, because You will get collation conflict errors in tempdb, but they were different.\n        Expected length: 24\n        Actual length:   28\n        Strings differ at index 0.\n        Expected: 'Latin1_General_100_CI_AS'\n        But was:  'SQL_Latin1_General_CP1_CI_AS'\n        47:                         $psitem.ServerCollation | Should -Be $psitem.DatabaseCollation -Because \"You will get collation conflict errors in tempdb\"\n        at <ScriptBlock>, C:\\Program Files\\WindowsPowerShell\\Modules\\dbachecks\\1.2.21\\checks\\Database.Tests.ps1: line 47\n\n  Describing Database Collation\n\n    Context Testing database collation on localhost,15593\n      [+] database collation (SQL_Latin1_General_CP1_CI_AS) should match server collation (SQL_Latin1_General_CP1_CI_AS) for AdventureWorks2017 on 02e228a6e959 1ms\n      [+] database collation (SQL_Latin1_General_CP1_CI_AS) should match server collation (SQL_Latin1_General_CP1_CI_AS) for master on 02e228a6e959 1ms\n      [+] database collation (SQL_Latin1_General_CP1_CI_AS) should match server collation (SQL_Latin1_General_CP1_CI_AS) for model on 02e228a6e959 1ms\n      [+] database collation (SQL_Latin1_General_CP1_CI_AS) should match server collation (SQL_Latin1_General_CP1_CI_AS) for msdb on 02e228a6e959 1ms\n      [+] database collation (SQL_Latin1_General_CP1_CI_AS) should match server collation (SQL_Latin1_General_CP1_CI_AS) for Northwind on 02e228a6e959 1ms\n      [+] database collation (SQL_Latin1_General_CP1_CI_AS) should match server collation (SQL_Latin1_General_CP1_CI_AS) for pubs on 02e228a6e959 1ms\n      [+] database collation (SQL_Latin1_General_CP1_CI_AS) should match server collation (SQL_Latin1_General_CP1_CI_AS) for tempdb on 02e228a6e959 1ms\n      [-] database collation (Latin1_General_100_CI_AS) should match server collation (SQL_Latin1_General_CP1_CI_AS) for WideWorldImporters on 02e228a6e959 5ms\n        Expected strings to be the same, because You will get collation conflict errors in tempdb, but they were different.\n        Expected length: 24\n        Actual length:   28\n        Strings differ at index 0.\n        Expected: 'Latin1_General_100_CI_AS'\n        But was:  'SQL_Latin1_General_CP1_CI_AS'\n        47:                         $psitem.ServerCollation | Should -Be $psitem.DatabaseCollation -Because \"You will get collation conflict errors in tempdb\"\n        at <ScriptBlock>, C:\\Program Files\\WindowsPowerShell\\Modules\\dbachecks\\1.2.21\\checks\\Database.Tests.ps1: line 47\nTests completed in 791ms\nTests Passed: 14, Failed: 2, Skipped: 0, Pending: 0, Inconclusive: 0 \n",
                    "output_type": "stream"
                }
            ],
            "execution_count": 6
        },
        {
            "cell_type": "markdown",
            "source": [
                "Are all of the SPNs correct ?\r\n",
                "\r\n",
                "You should not run this one but look at the saved results to see what you can get."
            ],
            "metadata": {
                "azdata_cell_guid": "3aa3347c-b7a9-4d45-b142-8b2f0afc2776"
            }
        },
        {
            "cell_type": "code",
            "source": [
                "$Instances =  'SQL2005Ser2003', 'SQL2008Ser12R2', 'SQL2012Ser08AG1', 'SQL2012Ser08AG2', 'SQL2012Ser08AG3', 'SQL2014Ser12R2', 'SQL2016N1', 'SQL2016N2', 'SQL2016N3', 'SQL2017N5', 'SQL2019N20', 'SQL2019N21', 'SQL2019N22', 'SQL2019N5'\r\n",
                "Invoke-DbcCheck -SqlInstance $instances -Check SPN"
            ],
            "metadata": {
                "azdata_cell_guid": "09010eb5-fc3d-4318-9b29-91a12cff6fbd"
            },
            "outputs": [
                {
                    "output_type": "stream",
                    "name": "stdout",
                    "text": "    ____            __\n   / __ \\___  _____/ /____  _____\n  / /_/ / _ \\/ ___/ __/ _ \\/ ___/\n / ____/  __(__  ) /_/  __/ /\n/_/    \\___/____/\\__/\\___/_/\nPester v4.9.0\nExecuting all tests in 'C:\\Program Files\\WindowsPowerShell\\Modules\\dbachecks\\1.2.21\\checks\\Server.Tests.ps1' with Tags SPN\n\nExecuting script C:\\Program Files\\WindowsPowerShell\\Modules\\dbachecks\\1.2.21\\checks\\Server.Tests.ps1\n\n  Describing SPNs\n\n    Context Testing SPNs on SQL2005Ser2003\n      [-] SQL2005Ser2003 should have a SPN Dont know the SPN for Dont know the Account 5ms\n        Expected strings to be the same, because We expect to have a SPN Dont know the SPN for Dont know the Account, but they were different.\n        Expected length: 4\n        Actual length:   17\n        Strings differ at index 0.\n        Expected: 'None'\n        But was:  'An Error occurred'\n        191:     $SPN.Error | Should -Be 'None' -Because \"We expect to have a SPN $($SPN.RequiredSPN) for $($SPN.InstanceServiceAccount)\"\n        at Assert-SPN, C:\\Program Files\\WindowsPowerShell\\Modules\\dbachecks\\1.2.21\\internal\\assertions\\Server.Assertions.ps1: line 191\n        at <ScriptBlock>, C:\\Program Files\\WindowsPowerShell\\Modules\\dbachecks\\1.2.21\\checks\\Server.Tests.ps1: line 25\n\n  Describing SPNs\n\n    Context Testing SPNs on SQL2008Ser12R2\n      [+] SQL2008Ser12R2 should have a SPN MSSQLSvc/SQL2008Ser12R2.TheBeard.local for THEBEARD\\SQL_SVC 1ms\n      [+] SQL2008Ser12R2 should have a SPN MSSQLSvc/SQL2008Ser12R2.TheBeard.local:1433 for THEBEARD\\SQL_SVC 2ms\n\n  Describing SPNs\n\n    Context Testing SPNs on SQL2012Ser08AG1\n      [-] SQL2012Ser08AG1 should have a SPN MSSQLSvc/SQL2012Ser08AG1.TheBeard.local for THEBEARD\\SVC_SQL_AG1 4ms\n        Expected strings to be the same, because We expect to have a SPN MSSQLSvc/SQL2012Ser08AG1.TheBeard.local for THEBEARD\\SVC_SQL_AG1, but they were different.\n        Expected length: 4\n        Actual length:   11\n        Strings differ at index 0.\n        Expected: 'None'\n        But was:  'SPN missing'\n        191:     $SPN.Error | Should -Be 'None' -Because \"We expect to have a SPN $($SPN.RequiredSPN) for $($SPN.InstanceServiceAccount)\"\n        at Assert-SPN, C:\\Program Files\\WindowsPowerShell\\Modules\\dbachecks\\1.2.21\\internal\\assertions\\Server.Assertions.ps1: line 191\n        at <ScriptBlock>, C:\\Program Files\\WindowsPowerShell\\Modules\\dbachecks\\1.2.21\\checks\\Server.Tests.ps1: line 25\n      [-] SQL2012Ser08AG1 should have a SPN MSSQLSvc/SQL2012Ser08AG1.TheBeard.local:1433 for THEBEARD\\SVC_SQL_AG1 3ms\n        Expected strings to be the same, because We expect to have a SPN MSSQLSvc/SQL2012Ser08AG1.TheBeard.local:1433 for THEBEARD\\SVC_SQL_AG1, but they were different.\n        Expected length: 4\n        Actual length:   11\n        Strings differ at index 0.\n        Expected: 'None'\n        But was:  'SPN missing'\n        191:     $SPN.Error | Should -Be 'None' -Because \"We expect to have a SPN $($SPN.RequiredSPN) for $($SPN.InstanceServiceAccount)\"\n        at Assert-SPN, C:\\Program Files\\WindowsPowerShell\\Modules\\dbachecks\\1.2.21\\internal\\assertions\\Server.Assertions.ps1: line 191\n        at <ScriptBlock>, C:\\Program Files\\WindowsPowerShell\\Modules\\dbachecks\\1.2.21\\checks\\Server.Tests.ps1: line 25\n\n  Describing SPNs\n\n    Context Testing SPNs on SQL2012Ser08AG2\n      [+] SQL2012Ser08AG2 should have a SPN MSSQLSvc/SQL2012Ser08AG2.TheBeard.local for THEBEARD\\SVC_SQL_AG2 5ms\n      [+] SQL2012Ser08AG2 should have a SPN MSSQLSvc/SQL2012Ser08AG2.TheBeard.local:1433 for THEBEARD\\SVC_SQL_AG2 1ms\n\n  Describing SPNs\n\n    Context Testing SPNs on SQL2012Ser08AG3\n      [+] SQL2012Ser08AG3 should have a SPN MSSQLSvc/SQL2012Ser08AG3.TheBeard.local for THEBEARD\\SVC_SQL_AG3 1ms\n      [+] SQL2012Ser08AG3 should have a SPN MSSQLSvc/SQL2012Ser08AG3.TheBeard.local:1433 for THEBEARD\\SVC_SQL_AG3 1ms\n\n  Describing SPNs\n\n    Context Testing SPNs on SQL2014Ser12R2\n      [+] SQL2014Ser12R2 should have a SPN MSSQLSvc/SQL2014Ser12R2.TheBeard.local for thebeard\\sql_svc 2ms\n      [+] SQL2014Ser12R2 should have a SPN MSSQLSvc/SQL2014Ser12R2.TheBeard.local:1433 for thebeard\\sql_svc 1ms\n\n  Describing SPNs\n\n    Context Testing SPNs on SQL2016N1\n      [+] SQL2016N1 should have a SPN MSSQLSvc/SQL2016N1.TheBeard.local for THEBEARD\\SQL_SVC 1ms\n      [+] SQL2016N1 should have a SPN MSSQLSvc/SQL2016N1.TheBeard.local:1433 for THEBEARD\\SQL_SVC 1ms\n\n  Describing SPNs\n\n    Context Testing SPNs on SQL2016N2\n      [+] SQL2016N2 should have a SPN MSSQLSvc/SQL2016N2.TheBeard.local for THEBEARD\\SQL_SVC 1ms\n      [+] SQL2016N2 should have a SPN MSSQLSvc/SQL2016N2.TheBeard.local:1433 for THEBEARD\\SQL_SVC 1ms\n\n  Describing SPNs\n\n    Context Testing SPNs on SQL2016N3\n      [+] SQL2016N3 should have a SPN MSSQLSvc/SQL2016N3.TheBeard.local for THEBEARD\\SQL_SVC 1ms\n      [+] SQL2016N3 should have a SPN MSSQLSvc/SQL2016N3.TheBeard.local:1433 for THEBEARD\\SQL_SVC 4ms\n\n  Describing SPNs\n\n    Context Testing SPNs on SQL2017N5\n      [-] SQL2017N5 should have a SPN MSSQLSvc/SQL2017N5.TheBeard.local for THEBEARD\\SQL_SVC 4ms\n        Expected strings to be the same, because We expect to have a SPN MSSQLSvc/SQL2017N5.TheBeard.local for THEBEARD\\SQL_SVC, but they were different.\n        Expected length: 4\n        Actual length:   11\n        Strings differ at index 0.\n        Expected: 'None'\n        But was:  'SPN missing'\n        191:     $SPN.Error | Should -Be 'None' -Because \"We expect to have a SPN $($SPN.RequiredSPN) for $($SPN.InstanceServiceAccount)\"\n        at Assert-SPN, C:\\Program Files\\WindowsPowerShell\\Modules\\dbachecks\\1.2.21\\internal\\assertions\\Server.Assertions.ps1: line 191\n        at <ScriptBlock>, C:\\Program Files\\WindowsPowerShell\\Modules\\dbachecks\\1.2.21\\checks\\Server.Tests.ps1: line 25\n      [-] SQL2017N5 should have a SPN MSSQLSvc/SQL2017N5.TheBeard.local:1433 for THEBEARD\\SQL_SVC 3ms\n        Expected strings to be the same, because We expect to have a SPN MSSQLSvc/SQL2017N5.TheBeard.local:1433 for THEBEARD\\SQL_SVC, but they were different.\n        Expected length: 4\n        Actual length:   11\n        Strings differ at index 0.\n        Expected: 'None'\n        But was:  'SPN missing'\n        191:     $SPN.Error | Should -Be 'None' -Because \"We expect to have a SPN $($SPN.RequiredSPN) for $($SPN.InstanceServiceAccount)\"\n        at Assert-SPN, C:\\Program Files\\WindowsPowerShell\\Modules\\dbachecks\\1.2.21\\internal\\assertions\\Server.Assertions.ps1: line 191\n        at <ScriptBlock>, C:\\Program Files\\WindowsPowerShell\\Modules\\dbachecks\\1.2.21\\checks\\Server.Tests.ps1: line 25\n\n  Describing SPNs\n\n    Context Testing SPNs on SQL2019N20\n      [+] SQL2019N20 should have a SPN MSSQLSvc/SQL2019N20.TheBeard.local for THEBEARD\\SQL_SVC 1ms\n      [+] SQL2019N20 should have a SPN MSSQLSvc/SQL2019N20.TheBeard.local:1433 for THEBEARD\\SQL_SVC 1ms\n\n  Describing SPNs\n\n    Context Testing SPNs on SQL2019N21\n      [+] SQL2019N21 should have a SPN MSSQLSvc/SQL2019N21.TheBeard.local for THEBEARD\\SQL_SVC 1ms\n      [+] SQL2019N21 should have a SPN MSSQLSvc/SQL2019N21.TheBeard.local:1433 for THEBEARD\\SQL_SVC 1ms\n\n  Describing SPNs\n\n    Context Testing SPNs on SQL2019N22\n      [+] SQL2019N22 should have a SPN MSSQLSvc/SQL2019N22.TheBeard.local for THEBEARD\\SQL_SVC 1ms\n      [+] SQL2019N22 should have a SPN MSSQLSvc/SQL2019N22.TheBeard.local:1433 for THEBEARD\\SQL_SVC 2ms\n\n  Describing SPNs\n\n    Context Testing SPNs on SQL2019N5\n      [+] SQL2019N5 should have a SPN MSSQLSvc/SQL2019N5.TheBeard.local for THEBEARD\\SQL_Svc 2ms\n      [+] SQL2019N5 should have a SPN MSSQLSvc/SQL2019N5.TheBeard.local:1433 for THEBEARD\\SQL_Svc 1ms\nTests completed in 253.49s\nTests Passed: 22, Failed: 5, Skipped: 0, Pending: 0, Inconclusive: 0 \n"
                }
            ],
            "execution_count": 6
        },
        {
            "cell_type": "markdown",
            "source": [
                "# Running multiple checks\r\n",
                "\r\n",
                "All of the examples above have used a single unique tag. You can run more than one check at a time. You can do this either by specifying a tag that covers a number of checks. You can find these by running `Get-DbcCheck`\r\n",
                "\r\n",
                "When you search for checks like disk"
            ],
            "metadata": {
                "azdata_cell_guid": "823ff429-43b3-4598-b34b-d18ff90836bc"
            }
        },
        {
            "cell_type": "code",
            "source": [
                "Get-DbcCheck disk"
            ],
            "metadata": {
                "azdata_cell_guid": "696f7e6a-c592-4434-8c05-9ca240dfde78"
            },
            "outputs": [
                {
                    "name": "stdout",
                    "text": "\nGroup  Type         UniqueTag          AllTags                                     Config                              \n-----  ----         ---------          -------                                     ------                              \nServer ComputerName DiskCapacity       DiskCapacity, Storage, DISA, Varied, Server app.computername policy.diskspace...\nServer ComputerName DiskAllocationUnit DiskAllocationUnit, Medium, Server          app.computername policy.server.ex...\n\n\n",
                    "output_type": "stream"
                }
            ],
            "execution_count": 7
        },
        {
            "cell_type": "markdown",
            "source": [
                "you can see that under AllTags for the DiskCapacity check there is a tag called Storage. If you search for storage"
            ],
            "metadata": {
                "azdata_cell_guid": "8b17d7b4-a646-4e52-8086-764219072454"
            }
        },
        {
            "cell_type": "code",
            "source": [
                "Get-DbcCheck Storage"
            ],
            "metadata": {
                "azdata_cell_guid": "4d71feaf-0be1-4503-b776-0f99b19e8e1d"
            },
            "outputs": [
                {
                    "name": "stdout",
                    "text": "\nGroup    Type         UniqueTag        AllTags                                           Config                        \n-----    ----         ---------        -------                                           ------                        \nInstance Sqlinstance  BackupPathAccess BackupPathAccess, Storage, DISA, Medium, Instance app.sqlinstance policy.stor...\nServer   ComputerName DiskCapacity     DiskCapacity, Storage, DISA, Varied, Server       app.computername policy.dis...\n\n\n",
                    "output_type": "stream"
                }
            ],
            "execution_count": 8
        },
        {
            "cell_type": "markdown",
            "source": [
                "you can see that this returns two checks - BackUpPathAccess and DiskCapacity. You can run both of these checks at the same time. Note that the `Type` of check is different for these two checks and you will have to supply both `SqlInstance` and `ComputerName`"
            ],
            "metadata": {
                "azdata_cell_guid": "71cf2d4b-7024-4ed4-b6a7-29e4fb0e7525"
            }
        },
        {
            "cell_type": "code",
            "source": [
                "$FolderPath = $Env:USERPROFILE + '\\Documents\\dbachecks'\r\n",
                "$SqlInstances = 'localhost,15592','localhost,15593'\r\n",
                "$SqlCredential = Import-Clixml -Path $FolderPath\\sqladmin.cred\r\n",
                "Invoke-DbcCheck -SqlInstance $SqlInstances -ComputerName $SqlInstances -SqlCredential $SqlCredential -Check Storage"
            ],
            "metadata": {
                "azdata_cell_guid": "d48cdb95-521b-4f7b-8fb0-cd1b5edfbac5"
            },
            "outputs": [
                {
                    "name": "stdout",
                    "text": "    ____            __\n   / __ \\___  _____/ /____  _____\n  / /_/ / _ \\/ ___/ __/ _ \\/ ___/\n / ____/  __(__  ) /_/  __/ /\n/_/    \\___/____/\\__/\\___/_/\nPester v4.9.0\nExecuting all tests in 'C:\\Program Files\\WindowsPowerShell\\Modules\\dbachecks\\1.2.21\\checks\\Instance.Tests.ps1', 'C:\\Program Files\\WindowsPowerShell\\Modules\\dbachecks\\1.2.21\\checks\\Server.Tests.ps1' with Tags Storage\n\nExecuting script C:\\Program Files\\WindowsPowerShell\\Modules\\dbachecks\\1.2.21\\checks\\Instance.Tests.ps1\n\n  Describing Backup Path Access\n\n    Context Testing Backup Path Access on localhost,15592\n      [+] can access backup path (/var/opt/mssql/data) on localhost,15592 119ms\n\n  Describing Backup Path Access\n\n    Context Testing Backup Path Access on localhost,15593\n      [+] can access backup path (/var/opt/mssql/data) on localhost,15593 69ms\n\nExecuting script C:\\Program Files\\WindowsPowerShell\\Modules\\dbachecks\\1.2.21\\checks\\Server.Tests.ps1\n\n  Describing Disk Space\n\n    Context Testing Disk Space on localhost,15592\n      [+] D:\\ with 72.7% free should be at least 20% free on localhost 7ms\n      [+] C:\\ with 73.43% free should be at least 20% free on localhost 7ms\n\n  Describing Disk Space\n\n    Context Testing Disk Space on localhost,15593\n      [+] D:\\ with 72.7% free should be at least 20% free on localhost 9ms\n      [+] C:\\ with 73.43% free should be at least 20% free on localhost 7ms\nTests completed in 1.17s\nTests Passed: 6, Failed: 0, Skipped: 0, Pending: 0, Inconclusive: 0 \n",
                    "output_type": "stream"
                }
            ],
            "execution_count": 9
        },
        {
            "cell_type": "markdown",
            "source": [
                "## Running checks for a Group\r\n",
                "\r\n",
                "Checks are grouped into ... well groups! The groups are Database, Instance, Server, Agent, HADR, LogShipping and MaintenanceSolution. You can run all of the checks in a group by specifying the group. You will see failures and some errors due to missing configurations and because some checks wont run against containers"
            ],
            "metadata": {
                "azdata_cell_guid": "5e898a69-40f1-4258-a79f-446d43f09999"
            }
        },
        {
            "cell_type": "code",
            "source": [
                "$FolderPath = $Env:USERPROFILE + '\\Documents\\dbachecks'\r\n",
                "$SqlInstances = 'localhost,15592','localhost,15593'\r\n",
                "$SqlCredential = Import-Clixml -Path $FolderPath\\sqladmin.cred\r\n",
                "Invoke-DbcCheck -SqlInstance $SqlInstances -SqlCredential $SqlCredential -Check Instance"
            ],
            "metadata": {
                "azdata_cell_guid": "6ee020a1-3a9e-414c-b225-bad6255041aa"
            },
            "outputs": [
                {
                    "name": "stdout",
                    "text": "    ____            __\n   / __ \\___  _____/ /____  _____\n  / /_/ / _ \\/ ___/ __/ _ \\/ ___/\n / ____/  __(__  ) /_/  __/ /\n/_/    \\___/____/\\__/\\___/_/\nPester v4.9.0\nExecuting all tests in 'C:\\Program Files\\WindowsPowerShell\\Modules\\dbachecks\\1.2.21\\checks\\Instance.Tests.ps1' with Tags Instance\n\nExecuting script C:\\Program Files\\WindowsPowerShell\\Modules\\dbachecks\\1.2.21\\checks\\Instance.Tests.ps1\n\n  Describing Instance Connection\n\n    Context Testing Instance Connection on localhost,15592\n      [+] connects successfully to localhost,15592 10ms\n      [-] auth scheme should be Kerberos on localhost,15592 105ms\n        Expected strings to be the same, but they were different.\n        Expected length: 8\n        Actual length:   3\n        Strings differ at index 0.\n        Expected: 'Kerberos'\n        But was:  'SQL'\n        64:                         (Test-DbaConnectionAuthScheme -SqlInstance $Instance).authscheme | Should -Be $authscheme\n        at <ScriptBlock>, C:\\Program Files\\WindowsPowerShell\\Modules\\dbachecks\\1.2.21\\checks\\Instance.Tests.ps1: line 64\n      [+] localhost,15592 is pingable 14ms\n      [+] localhost,15592 Is PSRemoteable 50.7s\n\n  Describing SQL Engine Service\n\n    Context Testing SQL Engine Service on localhost,15592\n      [-] Error occurred in Context block 0ms\n        Exception: No services found in relevant namespaces on BEARDNUC2.TheBeard.local. Please note that this function is available from SQL 2005 up.\n        at Stop-Function, C:\\Program Files\\WindowsPowerShell\\Modules\\dbatools\\1.0.74\\allcommands.ps1: line 81885\n        at Get-DbaService<Process>, C:\\Program Files\\WindowsPowerShell\\Modules\\dbatools\\1.0.74\\allcommands.ps1: line 33831\n        at <ScriptBlock>, C:\\Program Files\\WindowsPowerShell\\Modules\\dbachecks\\1.2.21\\checks\\Instance.Tests.ps1: line 104\n        at DescribeImpl, C:\\Program Files\\WindowsPowerShell\\Modules\\Pester\\4.9.0\\Functions\\Describe.ps1: line 199\n\n  Describing TempDB Configuration\n\n    Context Testing TempDB Configuration on localhost,15592\n      [!] should have TF1118 enabled on c0bc020554ce, is skipped 0ms\n      [+] should have 4 TempDB Files on c0bc020554ce 12ms\n      [+] should not have TempDB Files autogrowth set to percent on c0bc020554ce 7ms\n      [+] should not have TempDB Files on the C Drive on c0bc020554ce 9ms\n      [+] should not have TempDB Files with MaxSize Set on c0bc020554ce 10ms\n      [+] The data files should all be the same size on c0bc020554ce 127ms\n\n  Describing Ad Hoc Workload Optimization\n\n    Context Testing Ad Hoc Workload Optimization on localhost,15592\n      [-] localhost,15592 Should be Optimize for Ad Hoc workloads 92ms\n        Expected 1, because optimize for ad hoc workloads is a recommended setting, but got 0.\n        173:                         $psitem.CurrentOptimizeAdHoc | Should -Be $psitem.RecommendedOptimizeAdHoc -Because \"optimize for ad hoc workloads is a recommended setting\"\n        at <ScriptBlock>, C:\\Program Files\\WindowsPowerShell\\Modules\\dbachecks\\1.2.21\\checks\\Instance.Tests.ps1: line 173\n        at <ScriptBlock>, C:\\Program Files\\WindowsPowerShell\\Modules\\dbachecks\\1.2.21\\checks\\Instance.Tests.ps1: line 172\n\n  Describing Backup Path Access\n\n    Context Testing Backup Path Access on localhost,15592\n      [+] can access backup path (/var/opt/mssql/data) on localhost,15592 69ms\n\n  Describing Default File Path\n\n    Context Testing Default Data File Path on localhost,15592\n      [+] Default Data File Path on localhost,15592 431ms\n\n    Context Testing Default Log File Path on localhost,15592\n      [+] Default Log File Path on localhost,15592 371ms\n\n  Describing Dedicated Administrator Connection\n\n    Context Testing Dedicated Administrator Connection on localhost,15592\n      [-] DAC is set to True on localhost,15592 80ms\n        Expected $true, because This is the setting that you have chosen for DAC connections, but got $false.\n        237:                     (Get-DbaSpConfigure -SqlInstance $psitem -ConfigName 'RemoteDACConnectionsEnabled').ConfiguredValue -eq 1 | Should -Be $dac -Because 'This is the setting that you have chosen for DAC connections'\n        at <ScriptBlock>, C:\\Program Files\\WindowsPowerShell\\Modules\\dbachecks\\1.2.21\\checks\\Instance.Tests.ps1: line 237\n\n  Describing Network Latency\n\n    Context Testing Network Latency on localhost,15592\n      [+] network latency should be less than 40 ms on c0bc020554ce 27ms\n\n  Describing Linked Servers\n\n    Context Testing Linked Servers on localhost,15592\n\n  Describing Max Memory\n\n    Context Testing Max Memory on localhost,15592\n      [+] Max Memory setting should be correct on localhost,15592 4.7s\n\n  Describing Orphaned Files\n\n    Context Checking for orphaned database files on localhost,15592\n      [-] localhost,15592 doesn't have orphan files 419ms\n        Expected 0, because You dont want any orphaned files - Use Find-DbaOrphanedFile to locate them, but got 52.\n        322:                     @(Find-DbaOrphanedFile -SqlInstance $psitem).Count | Should -Be 0 -Because 'You dont want any orphaned files - Use Find-DbaOrphanedFile to locate them'\n        at <ScriptBlock>, C:\\Program Files\\WindowsPowerShell\\Modules\\dbachecks\\1.2.21\\checks\\Instance.Tests.ps1: line 322\n\n  Describing SQL and Windows names match\n\n    Context Testing instance name matches Windows name for localhost,15592\n      [-] localhost,15592 doesn't require rename 163ms\n        Expected $false, because SQL and Windows should agree on the server name, but got $true.\n        344:                         (Test-DbaInstanceName -SqlInstance $psitem).RenameRequired | Should -BeFalse -Because 'SQL and Windows should agree on the server name'\n        at <ScriptBlock>, C:\\Program Files\\WindowsPowerShell\\Modules\\dbachecks\\1.2.21\\checks\\Instance.Tests.ps1: line 344\n\n  Describing SQL Memory Dumps\n\n    Context Checking that dumps on localhost,15592 do not exceed 1 for localhost,15592\n      [-] dump count of  is less than or equal to the 1 dumps on localhost,15592 14ms\n        Expected the actual value to be less than 1, because We expected less than 1 dumps but found We Could not Connect to $Instance. Memory dumps often suggest issues with the SQL Server instance, but got 'We Could not Connect to $Instance'.\n        368:     $AllInstanceInfo.MaxDump.Count | Should -BeLessThan $maxdumps -Because \"We expected less than $maxdumps dumps but found $($AllInstanceInfo.MaxDump.Count). Memory dumps often suggest issues with the SQL Server instance\"\n        at Assert-MaxDump, C:\\Program Files\\WindowsPowerShell\\Modules\\dbachecks\\1.2.21\\internal\\assertions\\Instance.Assertions.ps1: line 368\n        at <ScriptBlock>, C:\\Program Files\\WindowsPowerShell\\Modules\\dbachecks\\1.2.21\\checks\\Instance.Tests.ps1: line 363\n\n  Describing Supported Build\n\n    Context Checking that build is still supportedby Microsoft for localhost,15592\n      [+] localhost,15592's build is supported by Microsoft 357ms\n      [+] localhost,15592's build is supported by Microsoft within the warning window of 6 months 256ms\n\n  Describing SA Login Renamed\n\n    Context Checking that sa login has been renamed on localhost,15592\n      [+] sa login does not exist on localhost,15592 8ms\n\n  Describing Default Backup Compression\n\n    Context Testing Default Backup Compression on localhost,15592\n      [-] Default Backup Compression is set to True on localhost,15592 78ms\n        Expected $true, because The default backup compression should be set correctly, but got $false.\n        395:     (Get-DbaSpConfigure -SqlInstance $Instance -ConfigName 'DefaultBackupCompression').ConfiguredValue -eq 1 | Should -Be $defaultbackupcompression -Because 'The default backup compression should be set correctly'\n        at Assert-BackupCompression, C:\\Program Files\\WindowsPowerShell\\Modules\\dbachecks\\1.2.21\\internal\\assertions\\Instance.Assertions.ps1: line 395\n        at <ScriptBlock>, C:\\Program Files\\WindowsPowerShell\\Modules\\dbachecks\\1.2.21\\checks\\Instance.Tests.ps1: line 431\n\n  Describing XE Sessions That should be Stopped\nWARNING: You need to use Set-DbcConfig -Name policy.xevent.requiredstoppedsession -Value to add some Extended Events \nsession names to run this check\n\n  Describing XE Sessions That should be Running\nWARNING: You need to use Set-DbcConfig -Name policy.xevent.requiredrunningsession -Value to add some Extended Events \nsession names to run this check\n\n  Describing XE Sessions That Are Allowed to Be Running\nWARNING: You need to use Set-DbcConfig -Name policy.xevent.validrunningsession -Value to add some Extended Events \nsession names to run this check\n\n  Describing OLE Automation\n\n    Context Testing OLE Automation on localhost,15592\n      [+] OLE Automation is set to False on localhost,15592 81ms\n\n  Describing sp_whoisactive is Installed\n\n    Context Testing WhoIsActive exists on localhost,15592\n      [+] WhoIsActive should exists on master on localhost,15592 269ms\n\n  Describing Model Database Growth\n\n    Context Testing model database growth setting is not default on localhost,15592\n      [+] Model database growth settings should not be percent for file modeldev on c0bc020554ce 11ms\n      [+] Model database growth settings should not be 1Mb for file modeldev on c0bc020554ce 11ms\n      [+] Model database growth settings should not be percent for file modellog on c0bc020554ce 1ms\n      [+] Model database growth settings should not be 1Mb for file modellog on c0bc020554ce 3ms\n\n  Describing Ad Users and Groups \n\n    Context Testing Active Directory users on localhost,15592\n\n    Context Testing Active Directory groups on localhost,15592\n\n  Describing Error Log Entries\n\n    Context Checking error log on localhost,15592\n      [-] Error log should be free of error severities 17-24 on localhost,15592 101ms\n        Expected $null or empty, because these severities indicate serious problems, but got @(@{LogDate=Do not know the Date; ProcessInfo=Do not know the Process; Text=Do not know the Test; InstanceName=An Error occurred [localhost,15592]}).\n        511:     $AllInstanceInfo.ErrorLog | Should -BeNullOrEmpty -Because \"these severities indicate serious problems\"\n        at Assert-ErrorLogEntry, C:\\Program Files\\WindowsPowerShell\\Modules\\dbachecks\\1.2.21\\internal\\assertions\\Instance.Assertions.ps1: line 511\n        at <ScriptBlock>, C:\\Program Files\\WindowsPowerShell\\Modules\\dbachecks\\1.2.21\\checks\\Instance.Tests.ps1: line 658\n\n  Describing Error Log Count\n\n    Context Checking error log count on localhost,15592\n      [+] Error log count should be greater or equal to -1 on localhost,15592 88ms\n\n  Describing Instance MaxDop\n\n    Context Testing Instance MaxDop Value on localhost,15592\n      [+] Instance Level MaxDop setting should be correct on localhost,15592 184ms\n\n  Describing Two Digit Year Cutoff\n\n    Context Testing Two Digit Year Cutoff on localhost,15592\n      [+] Two Digit Year Cutoff is set to 2049 on localhost,15592 118ms\n\n  Describing Trace Flags Expected\n\n    Context Testing Expected Trace Flags on localhost,15592\n      [+] Expected Trace Flags  exist on localhost,15592 87ms\n\n  Describing Trace Flags Not Expected\n\n    Context Testing Not Expected Trace Flags on localhost,15592\n      [+] Expected Trace Flags  to not exist on localhost,15592 72ms\n\n  Describing CLR Enabled\n\n    Context Testing CLR Enabled on localhost,15592\n      [+] CLR Enabled is set to False on localhost,15592 78ms\n\n  Describing Cross Database Ownership Chaining\n\n    Context Testing Cross Database Ownership Chaining on localhost,15592\n      [-] Cross Database Ownership Chaining should be disabled on localhost,15592 15ms\n        Expected 0, because We expected the Cross DB Ownership Chaining to be disabled, but got 'We Could not Connect to $Instance'.\n        484:     $AllInstanceInfo.CrossDBOwnershipChaining.ConfiguredValue | Should -Be 0 -Because \"We expected the Cross DB Ownership Chaining to be disabled\"\n        at Assert-CrossDBOwnershipChaining, C:\\Program Files\\WindowsPowerShell\\Modules\\dbachecks\\1.2.21\\internal\\assertions\\Instance.Assertions.ps1: line 484\n        at <ScriptBlock>, C:\\Program Files\\WindowsPowerShell\\Modules\\dbachecks\\1.2.21\\checks\\Instance.Tests.ps1: line 785\n\n  Describing Ad Hoc Distributed Queries\n\n    Context Testing Ad Hoc Distributed Queries on localhost,15592\n      [+] Ad Hoc Distributed Queries is set to False on localhost,15592 82ms\n\n  Describing XP CmdShell\n\n    Context Testing XP CmdShell on localhost,15592\n      [+] XPCmdShell is set to True on localhost,15592 104ms\n\n  Describing Scan For Startup Procedures\n\n    Context Testing Scan For Startup Procedures on localhost,15592\n      [-] Scan For Startup Procedures should be disabled on localhost,15592 11ms\n        Expected 0, because We expected the scan for startup procedures to be disabled, but got 'We Could not Connect to $Instance'.\n        364:     $AllInstanceInfo.ScanForStartupProceduresDisabled.ConfiguredValue | Should -Be 0 -Because \"We expected the scan for startup procedures to be disabled\"\n        at Assert-ScanForStartupProcedures, C:\\Program Files\\WindowsPowerShell\\Modules\\dbachecks\\1.2.21\\internal\\assertions\\Instance.Assertions.ps1: line 364\n        at <ScriptBlock>, C:\\Program Files\\WindowsPowerShell\\Modules\\dbachecks\\1.2.21\\checks\\Instance.Tests.ps1: line 837\n\n  Describing Default Trace\n\n    Context Checking Default Trace on localhost,15592\n      [-] The Default Trace should be enabled on localhost,15592 11ms\n        Expected 1, because We expected the Default Trace to be enabled, but got 'We Could not Connect to $Instance'.\n        343:     $AllInstanceInfo.DefaultTrace.ConfiguredValue | Should -Be 1 -Because \"We expected the Default Trace to be enabled\"\n        at Assert-DefaultTrace, C:\\Program Files\\WindowsPowerShell\\Modules\\dbachecks\\1.2.21\\internal\\assertions\\Instance.Assertions.ps1: line 343\n        at <ScriptBlock>, C:\\Program Files\\WindowsPowerShell\\Modules\\dbachecks\\1.2.21\\checks\\Instance.Tests.ps1: line 854\n\n  Describing OLE Automation Procedures Disabled\n\n    Context Checking OLE Automation Procedures on localhost,15592\n      [-] The OLE Automation Procedures should be disabled on localhost,15592 13ms\n        Expected 0, because We expect the OLE Automation Procedures to be disabled, but got 'We Could not Connect to $Instance'.\n        360:     $AllInstanceInfo.OleAutomationProceduresDisabled.ConfiguredValue | Should -Be 0 -Because \"We expect the OLE Automation Procedures to be disabled\"\n        at Assert-OleAutomationProcedures, C:\\Program Files\\WindowsPowerShell\\Modules\\dbachecks\\1.2.21\\internal\\assertions\\Instance.Assertions.ps1: line 360\n        at <ScriptBlock>, C:\\Program Files\\WindowsPowerShell\\Modules\\dbachecks\\1.2.21\\checks\\Instance.Tests.ps1: line 871\n\n  Describing Remote Access Disabled\n\n    Context Testing Remote Access on localhost,15592\n      [-] The Remote Access should be disabled on localhost,15592 11ms\n        Expected 0, because We expected Remote Access to be disabled, but got 'We Could not Connect to $Instance'.\n        373:     $AllInstanceInfo.RemoteAccess.ConfiguredValue | Should -Be 0 -Because \"We expected Remote Access to be disabled\"\n        at Assert-RemoteAccess, C:\\Program Files\\WindowsPowerShell\\Modules\\dbachecks\\1.2.21\\internal\\assertions\\Instance.Assertions.ps1: line 373\n        at <ScriptBlock>, C:\\Program Files\\WindowsPowerShell\\Modules\\dbachecks\\1.2.21\\checks\\Instance.Tests.ps1: line 888\n\n  Describing Latest Build\n\n    Context Testing Latest Build on localhost,15592\n      [+] The Latest Build of SQL should be installed on localhost,15592 10ms\n\n  Describing Instance Connection\n\n    Context Testing Instance Connection on localhost,15593\n      [+] connects successfully to localhost,15593 1ms\n      [-] auth scheme should be Kerberos on localhost,15593 84ms\n        Expected strings to be the same, but they were different.\n        Expected length: 8\n        Actual length:   3\n        Strings differ at index 0.\n        Expected: 'Kerberos'\n        But was:  'SQL'\n        64:                         (Test-DbaConnectionAuthScheme -SqlInstance $Instance).authscheme | Should -Be $authscheme\n        at <ScriptBlock>, C:\\Program Files\\WindowsPowerShell\\Modules\\dbachecks\\1.2.21\\checks\\Instance.Tests.ps1: line 64\n      [+] localhost,15593 is pingable 2ms\n      [+] localhost,15593 Is PSRemoteable 50.48s\n\n  Describing SQL Engine Service\n\n    Context Testing SQL Engine Service on localhost,15593\n      [-] Error occurred in Context block 0ms\n        Exception: No services found in relevant namespaces on BEARDNUC2.TheBeard.local. Please note that this function is available from SQL 2005 up.\n        at Stop-Function, C:\\Program Files\\WindowsPowerShell\\Modules\\dbatools\\1.0.74\\allcommands.ps1: line 81885\n        at Get-DbaService<Process>, C:\\Program Files\\WindowsPowerShell\\Modules\\dbatools\\1.0.74\\allcommands.ps1: line 33831\n        at <ScriptBlock>, C:\\Program Files\\WindowsPowerShell\\Modules\\dbachecks\\1.2.21\\checks\\Instance.Tests.ps1: line 104\n        at DescribeImpl, C:\\Program Files\\WindowsPowerShell\\Modules\\Pester\\4.9.0\\Functions\\Describe.ps1: line 199\n\n  Describing TempDB Configuration\n\n    Context Testing TempDB Configuration on localhost,15593\n      [!] should have TF1118 enabled on 02e228a6e959, is skipped 0ms\n      [+] should have 4 TempDB Files on 02e228a6e959 1ms\n      [+] should not have TempDB Files autogrowth set to percent on 02e228a6e959 1ms\n      [+] should not have TempDB Files on the C Drive on 02e228a6e959 1ms\n      [+] should not have TempDB Files with MaxSize Set on 02e228a6e959 1ms\n      [+] The data files should all be the same size on 02e228a6e959 114ms\n\n  Describing Ad Hoc Workload Optimization\n\n    Context Testing Ad Hoc Workload Optimization on localhost,15593\n      [-] localhost,15593 Should be Optimize for Ad Hoc workloads 64ms\n        Expected 1, because optimize for ad hoc workloads is a recommended setting, but got 0.\n        173:                         $psitem.CurrentOptimizeAdHoc | Should -Be $psitem.RecommendedOptimizeAdHoc -Because \"optimize for ad hoc workloads is a recommended setting\"\n        at <ScriptBlock>, C:\\Program Files\\WindowsPowerShell\\Modules\\dbachecks\\1.2.21\\checks\\Instance.Tests.ps1: line 173\n        at <ScriptBlock>, C:\\Program Files\\WindowsPowerShell\\Modules\\dbachecks\\1.2.21\\checks\\Instance.Tests.ps1: line 172\n\n  Describing Backup Path Access\n\n    Context Testing Backup Path Access on localhost,15593\n      [+] can access backup path (/var/opt/mssql/data) on localhost,15593 65ms\n\n  Describing Default File Path\n\n    Context Testing Default Data File Path on localhost,15593\n      [+] Default Data File Path on localhost,15593 353ms\n\n    Context Testing Default Log File Path on localhost,15593\n      [+] Default Log File Path on localhost,15593 355ms\n\n  Describing Dedicated Administrator Connection\n\n    Context Testing Dedicated Administrator Connection on localhost,15593\n      [-] DAC is set to True on localhost,15593 75ms\n        Expected $true, because This is the setting that you have chosen for DAC connections, but got $false.\n        237:                     (Get-DbaSpConfigure -SqlInstance $psitem -ConfigName 'RemoteDACConnectionsEnabled').ConfiguredValue -eq 1 | Should -Be $dac -Because 'This is the setting that you have chosen for DAC connections'\n        at <ScriptBlock>, C:\\Program Files\\WindowsPowerShell\\Modules\\dbachecks\\1.2.21\\checks\\Instance.Tests.ps1: line 237\n\n  Describing Network Latency\n\n    Context Testing Network Latency on localhost,15593\n      [+] network latency should be less than 40 ms on 02e228a6e959 1ms\n\n  Describing Linked Servers\n\n    Context Testing Linked Servers on localhost,15593\n\n  Describing Max Memory\n\n    Context Testing Max Memory on localhost,15593\n      [+] Max Memory setting should be correct on localhost,15593 4.64s\n\n  Describing Orphaned Files\n\n    Context Checking for orphaned database files on localhost,15593\n      [-] localhost,15593 doesn't have orphan files 288ms\n        Expected 0, because You dont want any orphaned files - Use Find-DbaOrphanedFile to locate them, but got 52.\n        322:                     @(Find-DbaOrphanedFile -SqlInstance $psitem).Count | Should -Be 0 -Because 'You dont want any orphaned files - Use Find-DbaOrphanedFile to locate them'\n        at <ScriptBlock>, C:\\Program Files\\WindowsPowerShell\\Modules\\dbachecks\\1.2.21\\checks\\Instance.Tests.ps1: line 322\n\n  Describing SQL and Windows names match\n\n    Context Testing instance name matches Windows name for localhost,15593\n      [-] localhost,15593 doesn't require rename 129ms\n        Expected $false, because SQL and Windows should agree on the server name, but got $true.\n        344:                         (Test-DbaInstanceName -SqlInstance $psitem).RenameRequired | Should -BeFalse -Because 'SQL and Windows should agree on the server name'\n        at <ScriptBlock>, C:\\Program Files\\WindowsPowerShell\\Modules\\dbachecks\\1.2.21\\checks\\Instance.Tests.ps1: line 344\n\n  Describing SQL Memory Dumps\n\n    Context Checking that dumps on localhost,15593 do not exceed 1 for localhost,15593\n      [-] dump count of  is less than or equal to the 1 dumps on localhost,15593 3ms\n        Expected the actual value to be less than 1, because We expected less than 1 dumps but found We Could not Connect to $Instance. Memory dumps often suggest issues with the SQL Server instance, but got 'We Could not Connect to $Instance'.\n        368:     $AllInstanceInfo.MaxDump.Count | Should -BeLessThan $maxdumps -Because \"We expected less than $maxdumps dumps but found $($AllInstanceInfo.MaxDump.Count). Memory dumps often suggest issues with the SQL Server instance\"\n        at Assert-MaxDump, C:\\Program Files\\WindowsPowerShell\\Modules\\dbachecks\\1.2.21\\internal\\assertions\\Instance.Assertions.ps1: line 368\n        at <ScriptBlock>, C:\\Program Files\\WindowsPowerShell\\Modules\\dbachecks\\1.2.21\\checks\\Instance.Tests.ps1: line 363\n\n  Describing Supported Build\n\n    Context Checking that build is still supportedby Microsoft for localhost,15593\n      [+] localhost,15593's build is supported by Microsoft 231ms\n      [+] localhost,15593's build is supported by Microsoft within the warning window of 6 months 251ms\n\n  Describing SA Login Renamed\n\n    Context Checking that sa login has been renamed on localhost,15593\n      [+] sa login does not exist on localhost,15593 2ms\n\n  Describing Default Backup Compression\n\n    Context Testing Default Backup Compression on localhost,15593\n      [-] Default Backup Compression is set to True on localhost,15593 73ms\n        Expected $true, because The default backup compression should be set correctly, but got $false.\n        395:     (Get-DbaSpConfigure -SqlInstance $Instance -ConfigName 'DefaultBackupCompression').ConfiguredValue -eq 1 | Should -Be $defaultbackupcompression -Because 'The default backup compression should be set correctly'\n        at Assert-BackupCompression, C:\\Program Files\\WindowsPowerShell\\Modules\\dbachecks\\1.2.21\\internal\\assertions\\Instance.Assertions.ps1: line 395\n        at <ScriptBlock>, C:\\Program Files\\WindowsPowerShell\\Modules\\dbachecks\\1.2.21\\checks\\Instance.Tests.ps1: line 431\n\n  Describing XE Sessions That should be Stopped\nWARNING: You need to use Set-DbcConfig -Name policy.xevent.requiredstoppedsession -Value to add some Extended Events \nsession names to run this check\n\n  Describing XE Sessions That should be Running\nWARNING: You need to use Set-DbcConfig -Name policy.xevent.requiredrunningsession -Value to add some Extended Events \nsession names to run this check\n\n  Describing XE Sessions That Are Allowed to Be Running\nWARNING: You need to use Set-DbcConfig -Name policy.xevent.validrunningsession -Value to add some Extended Events \nsession names to run this check\n\n  Describing OLE Automation\n\n    Context Testing OLE Automation on localhost,15593\n      [+] OLE Automation is set to False on localhost,15593 126ms\n\n  Describing sp_whoisactive is Installed\n\n    Context Testing WhoIsActive exists on localhost,15593\n      [+] WhoIsActive should exists on master on localhost,15593 245ms\n\n  Describing Model Database Growth\n\n    Context Testing model database growth setting is not default on localhost,15593\n      [+] Model database growth settings should not be percent for file modeldev on 02e228a6e959 1ms\n      [+] Model database growth settings should not be 1Mb for file modeldev on 02e228a6e959 1ms\n      [+] Model database growth settings should not be percent for file modellog on 02e228a6e959 1ms\n      [+] Model database growth settings should not be 1Mb for file modellog on 02e228a6e959 1ms\n\n  Describing Ad Users and Groups \n\n    Context Testing Active Directory users on localhost,15593\n\n    Context Testing Active Directory groups on localhost,15593\n\n  Describing Error Log Entries\n\n    Context Checking error log on localhost,15593\n      [-] Error log should be free of error severities 17-24 on localhost,15593 4ms\n        Expected $null or empty, because these severities indicate serious problems, but got @(@{LogDate=Do not know the Date; ProcessInfo=Do not know the Process; Text=Do not know the Test; InstanceName=An Error occurred [localhost,15593]}).\n        511:     $AllInstanceInfo.ErrorLog | Should -BeNullOrEmpty -Because \"these severities indicate serious problems\"\n        at Assert-ErrorLogEntry, C:\\Program Files\\WindowsPowerShell\\Modules\\dbachecks\\1.2.21\\internal\\assertions\\Instance.Assertions.ps1: line 511\n        at <ScriptBlock>, C:\\Program Files\\WindowsPowerShell\\Modules\\dbachecks\\1.2.21\\checks\\Instance.Tests.ps1: line 658\n\n  Describing Error Log Count\n\n    Context Checking error log count on localhost,15593\n      [+] Error log count should be greater or equal to -1 on localhost,15593 68ms\n\n  Describing Instance MaxDop\n\n    Context Testing Instance MaxDop Value on localhost,15593\n      [+] Instance Level MaxDop setting should be correct on localhost,15593 148ms\n\n  Describing Two Digit Year Cutoff\n\n    Context Testing Two Digit Year Cutoff on localhost,15593\n      [+] Two Digit Year Cutoff is set to 2049 on localhost,15593 72ms\n\n  Describing Trace Flags Expected\n\n    Context Testing Expected Trace Flags on localhost,15593\n      [+] Expected Trace Flags  exist on localhost,15593 81ms\n\n  Describing Trace Flags Not Expected\n\n    Context Testing Not Expected Trace Flags on localhost,15593\n      [+] Expected Trace Flags  to not exist on localhost,15593 70ms\n\n  Describing CLR Enabled\n\n    Context Testing CLR Enabled on localhost,15593\n      [+] CLR Enabled is set to False on localhost,15593 74ms\n\n  Describing Cross Database Ownership Chaining\n\n    Context Testing Cross Database Ownership Chaining on localhost,15593\n      [-] Cross Database Ownership Chaining should be disabled on localhost,15593 4ms\n        Expected 0, because We expected the Cross DB Ownership Chaining to be disabled, but got 'We Could not Connect to $Instance'.\n        484:     $AllInstanceInfo.CrossDBOwnershipChaining.ConfiguredValue | Should -Be 0 -Because \"We expected the Cross DB Ownership Chaining to be disabled\"\n        at Assert-CrossDBOwnershipChaining, C:\\Program Files\\WindowsPowerShell\\Modules\\dbachecks\\1.2.21\\internal\\assertions\\Instance.Assertions.ps1: line 484\n        at <ScriptBlock>, C:\\Program Files\\WindowsPowerShell\\Modules\\dbachecks\\1.2.21\\checks\\Instance.Tests.ps1: line 785\n\n  Describing Ad Hoc Distributed Queries\n\n    Context Testing Ad Hoc Distributed Queries on localhost,15593\n      [+] Ad Hoc Distributed Queries is set to False on localhost,15593 71ms\n\n  Describing XP CmdShell\n\n    Context Testing XP CmdShell on localhost,15593\n      [+] XPCmdShell is set to True on localhost,15593 72ms\n\n  Describing Scan For Startup Procedures\n\n    Context Testing Scan For Startup Procedures on localhost,15593\n      [-] Scan For Startup Procedures should be disabled on localhost,15593 8ms\n        Expected 0, because We expected the scan for startup procedures to be disabled, but got 'We Could not Connect to $Instance'.\n        364:     $AllInstanceInfo.ScanForStartupProceduresDisabled.ConfiguredValue | Should -Be 0 -Because \"We expected the scan for startup procedures to be disabled\"\n        at Assert-ScanForStartupProcedures, C:\\Program Files\\WindowsPowerShell\\Modules\\dbachecks\\1.2.21\\internal\\assertions\\Instance.Assertions.ps1: line 364\n        at <ScriptBlock>, C:\\Program Files\\WindowsPowerShell\\Modules\\dbachecks\\1.2.21\\checks\\Instance.Tests.ps1: line 837\n\n  Describing Default Trace\n\n    Context Checking Default Trace on localhost,15593\n      [-] The Default Trace should be enabled on localhost,15593 4ms\n        Expected 1, because We expected the Default Trace to be enabled, but got 'We Could not Connect to $Instance'.\n        343:     $AllInstanceInfo.DefaultTrace.ConfiguredValue | Should -Be 1 -Because \"We expected the Default Trace to be enabled\"\n        at Assert-DefaultTrace, C:\\Program Files\\WindowsPowerShell\\Modules\\dbachecks\\1.2.21\\internal\\assertions\\Instance.Assertions.ps1: line 343\n        at <ScriptBlock>, C:\\Program Files\\WindowsPowerShell\\Modules\\dbachecks\\1.2.21\\checks\\Instance.Tests.ps1: line 854\n\n  Describing OLE Automation Procedures Disabled\n\n    Context Checking OLE Automation Procedures on localhost,15593\n      [-] The OLE Automation Procedures should be disabled on localhost,15593 3ms\n        Expected 0, because We expect the OLE Automation Procedures to be disabled, but got 'We Could not Connect to $Instance'.\n        360:     $AllInstanceInfo.OleAutomationProceduresDisabled.ConfiguredValue | Should -Be 0 -Because \"We expect the OLE Automation Procedures to be disabled\"\n        at Assert-OleAutomationProcedures, C:\\Program Files\\WindowsPowerShell\\Modules\\dbachecks\\1.2.21\\internal\\assertions\\Instance.Assertions.ps1: line 360\n        at <ScriptBlock>, C:\\Program Files\\WindowsPowerShell\\Modules\\dbachecks\\1.2.21\\checks\\Instance.Tests.ps1: line 871\n\n  Describing Remote Access Disabled\n\n    Context Testing Remote Access on localhost,15593\n      [-] The Remote Access should be disabled on localhost,15593 7ms\n        Expected 0, because We expected Remote Access to be disabled, but got 'We Could not Connect to $Instance'.\n        373:     $AllInstanceInfo.RemoteAccess.ConfiguredValue | Should -Be 0 -Because \"We expected Remote Access to be disabled\"\n        at Assert-RemoteAccess, C:\\Program Files\\WindowsPowerShell\\Modules\\dbachecks\\1.2.21\\internal\\assertions\\Instance.Assertions.ps1: line 373\n        at <ScriptBlock>, C:\\Program Files\\WindowsPowerShell\\Modules\\dbachecks\\1.2.21\\checks\\Instance.Tests.ps1: line 888\n\n  Describing Latest Build\n\n    Context Testing Latest Build on localhost,15593\n      [+] The Latest Build of SQL should be installed on localhost,15593 1ms\n\n  Describing SQL Browser Service\nWARNING: [07:30:25][Get-ComputerName] You must specify -ComputerName or use Set-DbcConfig app.computername to setup a \nlist of servers\nTests completed in 144.85s\nTests Passed: 62, Failed: 28, Skipped: 2, Pending: 0, Inconclusive: 0 \n",
                    "output_type": "stream"
                }
            ],
            "execution_count": 10
        }
    ]
}