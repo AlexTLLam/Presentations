{
    "metadata": {
        "kernelspec": {
            "name": "powershell",
            "display_name": "PowerShell"
        },
        "language_info": {
            "name": "powershell",
            "codemirror_mode": "shell",
            "mimetype": "text/x-sh",
            "file_extension": ".ps1"
        }
    },
    "nbformat_minor": 2,
    "nbformat": 4,
    "cells": [
        {
            "cell_type": "markdown",
            "source": [
                "# dbachecks\r\n",
                "\r\n",
                "## Installation \r\n",
                "\r\n",
                "Take a look at the installation guidelines here [Intro](./01-dbachecks-Intro.ipynb)\r\n",
                "\r\n",
                "Lets Check if you have the dbachecks module available"
            ],
            "metadata": {
                "azdata_cell_guid": "ae946c13-04d8-4845-8528-907c84d1555c",
                "tags": [
                    "hide_input"
                ]
            }
        },
        {
            "cell_type": "code",
            "source": [
                "Get-Module dbachecks -ListAvailable"
            ],
            "metadata": {
                "azdata_cell_guid": "3627b53c-63a5-4e21-9a2d-96b1a092c913",
                "tags": [
                    "hide_input"
                ]
            },
            "outputs": [],
            "execution_count": 9
        },
        {
            "cell_type": "markdown",
            "source": [
                "## Examine the available commands\r\n",
                "\r\n",
                "You can look at the commands in the dbachecks module"
            ],
            "metadata": {
                "azdata_cell_guid": "1ae003f9-d98a-43f0-b0b3-bf6b0736c147",
                "tags": [
                    "hide_input"
                ]
            }
        },
        {
            "cell_type": "code",
            "source": [
                "Get-Command -Module dbachecks"
            ],
            "metadata": {
                "azdata_cell_guid": "2718f60b-6ba6-4887-a886-10d52cd0228a",
                "tags": [
                    "hide_input"
                ]
            },
            "outputs": [],
            "execution_count": 10
        },
        {
            "cell_type": "markdown",
            "source": [
                "# All of the checks\r\n",
                "\r\n",
                "You can see all of the checks using `Get-DbcCheck` \r\n",
                ""
            ],
            "metadata": {
                "azdata_cell_guid": "2a6fc094-c131-49af-a96e-4f432737bec2"
            }
        },
        {
            "cell_type": "code",
            "source": [
                "Get-DbcCheck"
            ],
            "metadata": {
                "azdata_cell_guid": "76ce1266-5da6-4999-9fae-5d236fc2e810"
            },
            "outputs": [],
            "execution_count": 11
        },
        {
            "cell_type": "markdown",
            "source": [
                "You can search for checks using `Get-DbcCheck -Pattern SEARCHTERM`"
            ],
            "metadata": {
                "azdata_cell_guid": "f0882807-09b6-4328-8e6e-21fb23d18d33"
            }
        },
        {
            "cell_type": "code",
            "source": [
                "Get-DbcCheck -Pattern backup"
            ],
            "metadata": {
                "azdata_cell_guid": "6868c7fa-7bf5-4721-a211-08eb7343b844"
            },
            "outputs": [
                {
                    "output_type": "stream",
                    "name": "stdout",
                    "text": "\nGroup               Type        UniqueTag                AllTags                                                    Con\n                                                                                                                    fig\n-----               ----        ---------                -------                                                    ---\nDatabase            Sqlinstance TestLastBackup           TestLastBackup, Backup, Database                           app\nDatabase            Sqlinstance TestLastBackupVerifyOnly TestLastBackupVerifyOnly, Backup, Database                 app\nDatabase            Sqlinstance LastFullBackup           LastFullBackup, LastBackup, Backup, DISA, Varied, Database app\nDatabase            Sqlinstance LastDiffBackup           LastDiffBackup, LastBackup, Backup, DISA, Varied, Database app\nDatabase            Sqlinstance LastLogBackup            LastLogBackup, LastBackup, Backup, DISA, Varied, Database  app\nInstance            Sqlinstance BackupPathAccess         BackupPathAccess, Storage, DISA, Medium, Instance          app\nInstance            Sqlinstance DefaultBackupCompression DefaultBackupCompression, Low, Instance                    app\nMaintenanceSolution Sqlinstance SystemFull               SystemFull, OlaJobs, MaintenanceSolution                   app\nMaintenanceSolution Sqlinstance UserFull                 UserFull, OlaJobs, MaintenanceSolution                     app\nMaintenanceSolution Sqlinstance UserDiff                 UserDiff, OlaJobs, MaintenanceSolution                     app\nMaintenanceSolution Sqlinstance UserLog                  UserLog, OlaJobs, MaintenanceSolution                      app\nMaintenanceSolution Sqlinstance DeleteBackupHistory      DeleteBackupHistory, OlaJobs, MaintenanceSolution          app\n\n\n"
                }
            ],
            "execution_count": 12
        },
        {
            "cell_type": "markdown",
            "source": [
                "# Running a Check\r\n",
                "\r\n",
                "This requires that you have the containers set up from the Notebook 00 - Setting up the containers for the rest of the containers.ipynb\r\n",
                "\r\n",
                "If you have altered the folder path you will need to alter it below."
            ],
            "metadata": {
                "azdata_cell_guid": "a6de41f8-f3e3-46d4-8325-c5d0ceb04df4"
            }
        },
        {
            "cell_type": "markdown",
            "source": [
                "Running a check from the command line can be done with\r\n",
                "\r\n",
                "`Invoke-DbcCheck -SqlInstance SQLINSTANCE -Check UNIQUETAG, A TAG, GROUP`"
            ],
            "metadata": {
                "azdata_cell_guid": "2bdc0137-380e-4d98-8c21-65710f7eca4e"
            }
        },
        {
            "cell_type": "code",
            "source": [
                "$FolderPath = $Env:USERPROFILE + '\\Documents\\dbachecks'\r\n",
                "$SqlInstance = 'localhost,15592'\r\n",
                "$SqlCredential = Import-Clixml -Path $FolderPath\\sqladmin.cred\r\n",
                "$null = Reset-DbcConfig\r\n",
                "Invoke-DbcCheck -SqlInstance $SqlInstance -SqlCredential $SqlCredential -Check AutoClose"
            ],
            "metadata": {
                "azdata_cell_guid": "990486fd-573a-4c43-afad-6e65e5b8f4fd"
            },
            "outputs": [
                {
                    "name": "stdout",
                    "text": "    ____            __\n   / __ \\___  _____/ /____  _____\n  / /_/ / _ \\/ ___/ __/ _ \\/ ___/\n / ____/  __(__  ) /_/  __/ /\n/_/    \\___/____/\\__/\\___/_/\nPester v4.9.0\nExecuting all tests in 'C:\\Program Files\\WindowsPowerShell\\Modules\\dbachecks\\1.2.21\\checks\\Database.Tests.ps1' with Tags AutoClose\n\nExecuting script C:\\Program Files\\WindowsPowerShell\\Modules\\dbachecks\\1.2.21\\checks\\Database.Tests.ps1\n\n  Describing Auto Close\n\n    Context Testing Auto Close on localhost,15592\n      [+] AdventureWorks2017 on localhost,15592 should have Auto Close set to False 74ms\n      [+] master on localhost,15592 should have Auto Close set to False 28ms\n      [+] model on localhost,15592 should have Auto Close set to False 27ms\n      [+] msdb on localhost,15592 should have Auto Close set to False 27ms\n      [+] Northwind on localhost,15592 should have Auto Close set to False 27ms\n      [+] pubs on localhost,15592 should have Auto Close set to False 28ms\n      [+] tempdb on localhost,15592 should have Auto Close set to False 25ms\n      [+] WideWorldImporters on localhost,15592 should have Auto Close set to False 33ms\nTests completed in 752ms\nTests Passed: 8, Failed: 0, Skipped: 0, Pending: 0, Inconclusive: 0 \n",
                    "output_type": "stream"
                }
            ],
            "execution_count": 14
        },
        {
            "cell_type": "markdown",
            "source": [
                "At the command line and in the editor the Checks will auto-complete\r\n",
                "\r\n",
                "Place the cursor a space after the `-Check` and press CTRL + SPACE\r\n",
                "\r\n",
                "`Invoke-DbcCheck -SqlInstance SQL2016N1 -Check `"
            ],
            "metadata": {
                "azdata_cell_guid": "e3eba123-7621-44ee-af57-3b8e95eb46ec"
            }
        },
        {
            "cell_type": "code",
            "source": [
                "$FolderPath = $Env:USERPROFILE + '\\Documents\\dbachecks'\r\n",
                "$SqlInstance = 'localhost,15592'\r\n",
                "$SqlCredential = Import-Clixml -Path $FolderPath\\sqladmin.cred\r\n",
                "Invoke-DbcCheck -SqlInstance $SqlInstance -SqlCredential $SqlCredential -Check "
            ],
            "metadata": {
                "azdata_cell_guid": "6bfbde55-35ff-462c-aaa8-0fef795983f3"
            },
            "outputs": [
                {
                    "output_type": "stream",
                    "name": "stdout",
                    "text": "    ____            __\n   / __ \\___  _____/ /____  _____\n  / /_/ / _ \\/ ___/ __/ _ \\/ ___/\n / ____/  __(__  ) /_/  __/ /\n/_/    \\___/____/\\__/\\___/_/\nPester v4.9.0\nExecuting all tests in 'C:\\Program Files\\WindowsPowerShell\\Modules\\dbachecks\\1.2.21\\checks\\Instance.Tests.ps1' with Tags DefaultTrace\n\nExecuting script C:\\Program Files\\WindowsPowerShell\\Modules\\dbachecks\\1.2.21\\checks\\Instance.Tests.ps1\n\n  Describing Default Trace\n\n    Context Checking Default Trace on localhost,15592\n      [+] The Default Trace should be enabled on localhost,15592 12ms\nTests completed in 755ms\nTests Passed: 1, Failed: 0, Skipped: 0, Pending: 0, Inconclusive: 0 \n"
                }
            ],
            "execution_count": 9
        },
        {
            "cell_type": "markdown",
            "source": [
                "Did all of the Agent Jobs succeed ?"
            ],
            "metadata": {
                "azdata_cell_guid": "ace87d71-f023-4181-ba05-4bb5041f542f"
            }
        },
        {
            "cell_type": "code",
            "source": [
                "$FolderPath = $Env:USERPROFILE + '\\Documents\\dbachecks'\r\n",
                "$SqlInstance = 'localhost,15592'\r\n",
                "$SqlCredential = Import-Clixml -Path $FolderPath\\sqladmin.cred\r\n",
                "Invoke-DbcCheck -SqlInstance $SqlInstance -SqlCredential $SqlCredential -Check FailedJob"
            ],
            "metadata": {
                "azdata_cell_guid": "a9344196-3a43-4638-8847-0dd3afa429b8",
                "tags": []
            },
            "outputs": [
                {
                    "output_type": "stream",
                    "name": "stdout",
                    "text": "    ____            __\n   / __ \\___  _____/ /____  _____\n  / /_/ / _ \\/ ___/ __/ _ \\/ ___/\n / ____/  __(__  ) /_/  __/ /\n/_/    \\___/____/\\__/\\___/_/\nPester v4.9.0\nExecuting all tests in 'C:\\Program Files\\WindowsPowerShell\\Modules\\dbachecks\\1.2.21\\checks\\Agent.Tests.ps1' with Tags FailedJob\n\nExecuting script C:\\Program Files\\WindowsPowerShell\\Modules\\dbachecks\\1.2.21\\checks\\Agent.Tests.ps1\n\n  Describing Failed Jobs\n\n    Context Checking for failed enabled jobs since 11/21/2019 14:46:51 on localhost,15592\n      [+] CommandLog Cleanup's last run outcome on 3c87ea8ca475 is Succeeded 1ms\n      [+] DatabaseBackup - SYSTEM_DATABASES - FULL's last run outcome on 3c87ea8ca475 is Succeeded 1ms\n      [+] DatabaseBackup - USER_DATABASES - DIFF's last run outcome on 3c87ea8ca475 is Succeeded 3ms\n      [+] DatabaseBackup - USER_DATABASES - FULL's last run outcome on 3c87ea8ca475 is Succeeded 1ms\n      [+] DatabaseBackup - USER_DATABASES - LOG's last run outcome on 3c87ea8ca475 is Succeeded 1ms\n      [+] DatabaseIntegrityCheck - SYSTEM_DATABASES's last run outcome on 3c87ea8ca475 is Succeeded 3ms\n      [+] DatabaseIntegrityCheck - USER_DATABASES's last run outcome on 3c87ea8ca475 is Succeeded 1ms\n      [+] IndexOptimize - USER_DATABASES's last run outcome on 3c87ea8ca475 is Succeeded 3ms\n      [+] sp_delete_backuphistory's last run outcome on 3c87ea8ca475 is Succeeded 1ms\n      [+] sp_purge_jobhistory's last run outcome on 3c87ea8ca475 is Succeeded 1ms\n      [-] The Beard is Important's last run outcome on 3c87ea8ca475 is Failed 115ms\n        Expected 'Succeeded', because All Agent Jobs should have succeed - you need to investigate the failed jobs, but got Failed.\n        170:                                         $psitem.LastRunOutcome | Should -Be \"Succeeded\" -Because 'All Agent Jobs should have succeed - you need to investigate the failed jobs'\n        at <ScriptBlock>, C:\\Program Files\\WindowsPowerShell\\Modules\\dbachecks\\1.2.21\\checks\\Agent.Tests.ps1: line 170\nTests completed in 1.47s\nTests Passed: 10, Failed: 1, Skipped: 0, Pending: 0, Inconclusive: 0 \n"
                }
            ],
            "execution_count": 10
        },
        {
            "cell_type": "markdown",
            "source": [
                "You may have no results because they are no enabled jobs that have run in the last 7 days (depending upon when I last updated the image). Lets run the jobs and see what we get"
            ],
            "metadata": {
                "azdata_cell_guid": "3e5ab98e-4e56-4e7a-8d44-510433db06dd"
            }
        },
        {
            "cell_type": "code",
            "source": [
                "$FolderPath = $Env:USERPROFILE + '\\Documents\\dbachecks'\r\n",
                "$SqlInstance = 'localhost,15592'\r\n",
                "$SqlCredential = Import-Clixml -Path $FolderPath\\sqladmin.cred\r\n",
                "(Get-DbaAgentJob -SqlInstance $SqlInstance -SqlCredential $SqlCredential).Start()\r\n",
                "Start-Sleep -Seconds 15\r\n",
                "Invoke-DbcCheck -SqlInstance $SqlInstance -SqlCredential $SqlCredential -Check FailedJob"
            ],
            "metadata": {
                "azdata_cell_guid": "79d42ef2-197c-43e7-865e-6cd4ca290b60"
            },
            "outputs": [
                {
                    "output_type": "stream",
                    "name": "stdout",
                    "text": "    ____            __\n   / __ \\___  _____/ /____  _____\n  / /_/ / _ \\/ ___/ __/ _ \\/ ___/\n / ____/  __(__  ) /_/  __/ /\n/_/    \\___/____/\\__/\\___/_/\nPester v4.9.0\nExecuting all tests in 'C:\\Program Files\\WindowsPowerShell\\Modules\\dbachecks\\1.2.21\\checks\\Agent.Tests.ps1' with Tags FailedJob\n\nExecuting script C:\\Program Files\\WindowsPowerShell\\Modules\\dbachecks\\1.2.21\\checks\\Agent.Tests.ps1\n\n  Describing Failed Jobs\n\n    Context Checking for failed enabled jobs since 11/21/2019 14:47:18 on localhost,15592\n      [+] CommandLog Cleanup's last run outcome on 3c87ea8ca475 is Succeeded 1ms\n      [+] DatabaseBackup - SYSTEM_DATABASES - FULL's last run outcome on 3c87ea8ca475 is Succeeded 1ms\n      [+] DatabaseBackup - USER_DATABASES - DIFF's last run outcome on 3c87ea8ca475 is Succeeded 1ms\n      [+] DatabaseBackup - USER_DATABASES - FULL's last run outcome on 3c87ea8ca475 is Succeeded 1ms\n      [+] DatabaseBackup - USER_DATABASES - LOG's last run outcome on 3c87ea8ca475 is Succeeded 3ms\n      [+] DatabaseIntegrityCheck - SYSTEM_DATABASES's last run outcome on 3c87ea8ca475 is Succeeded 2ms\n      [+] DatabaseIntegrityCheck - USER_DATABASES's last run outcome on 3c87ea8ca475 is Succeeded 1ms\n      [+] IndexOptimize - USER_DATABASES's last run outcome on 3c87ea8ca475 is Succeeded 3ms\n      [+] sp_delete_backuphistory's last run outcome on 3c87ea8ca475 is Succeeded 1ms\n      [+] sp_purge_jobhistory's last run outcome on 3c87ea8ca475 is Succeeded 1ms\n      [-] The Beard is Important's last run outcome on 3c87ea8ca475 is Failed 6ms\n        Expected 'Succeeded', because All Agent Jobs should have succeed - you need to investigate the failed jobs, but got Failed.\n        170:                                         $psitem.LastRunOutcome | Should -Be \"Succeeded\" -Because 'All Agent Jobs should have succeed - you need to investigate the failed jobs'\n        at <ScriptBlock>, C:\\Program Files\\WindowsPowerShell\\Modules\\dbachecks\\1.2.21\\checks\\Agent.Tests.ps1: line 170\nTests completed in 7.03s\nTests Passed: 10, Failed: 1, Skipped: 0, Pending: 0, Inconclusive: 0 \n"
                }
            ],
            "execution_count": 11
        },
        {
            "cell_type": "markdown",
            "source": [
                "Are all of the instances up and available?\r\n",
                "\r\n",
                "There will be failures for the default values of the authentication scheme as we are connecting with SQL Authentication."
            ],
            "metadata": {
                "azdata_cell_guid": "60a354ad-2eca-4fc2-988b-17ee6cf42ac2"
            }
        },
        {
            "cell_type": "code",
            "source": [
                "$FolderPath = $Env:USERPROFILE + '\\Documents\\dbachecks'\r\n",
                "$SqlInstances = 'localhost,15592','localhost,15593'\r\n",
                "$SqlCredential = Import-Clixml -Path $FolderPath\\sqladmin.cred\r\n",
                "Invoke-DbcCheck -SqlInstance $SqlInstances -SqlCredential $SqlCredential -Check InstanceConnection "
            ],
            "metadata": {
                "azdata_cell_guid": "8e268766-82db-4024-a8c6-ebafe51760f3"
            },
            "outputs": [
                {
                    "output_type": "stream",
                    "name": "stdout",
                    "text": "    ____            __\n   / __ \\___  _____/ /____  _____\n  / /_/ / _ \\/ ___/ __/ _ \\/ ___/\n / ____/  __(__  ) /_/  __/ /\n/_/    \\___/____/\\__/\\___/_/\nPester v4.9.0\nExecuting all tests in 'C:\\Program Files\\WindowsPowerShell\\Modules\\dbachecks\\1.2.21\\checks\\Instance.Tests.ps1' with Tags InstanceConnection\n\nExecuting script C:\\Program Files\\WindowsPowerShell\\Modules\\dbachecks\\1.2.21\\checks\\Instance.Tests.ps1\n\n  Describing Instance Connection\n\n    Context Testing Instance Connection on localhost,15592\n      [+] connects successfully to localhost,15592 3ms\n      [-] auth scheme should be Kerberos on localhost,15592 163ms\n        Expected strings to be the same, but they were different.\n        Expected length: 8\n        Actual length:   3\n        Strings differ at index 0.\n        Expected: 'Kerberos'\n        But was:  'SQL'\n        64:                         (Test-DbaConnectionAuthScheme -SqlInstance $Instance).authscheme | Should -Be $authscheme\n        at <ScriptBlock>, C:\\Program Files\\WindowsPowerShell\\Modules\\dbachecks\\1.2.21\\checks\\Instance.Tests.ps1: line 64\n      [+] localhost,15592 is pingable 2ms\n      [+] localhost,15592 Is PSRemoteable 50.73s\n\n  Describing Instance Connection\n\n    Context Testing Instance Connection on localhost,15593\n      [+] connects successfully to localhost,15593 3ms\n      [-] auth scheme should be Kerberos on localhost,15593 163ms\n        Expected strings to be the same, but they were different.\n        Expected length: 8\n        Actual length:   3\n        Strings differ at index 0.\n        Expected: 'Kerberos'\n        But was:  'SQL'\n        64:                         (Test-DbaConnectionAuthScheme -SqlInstance $Instance).authscheme | Should -Be $authscheme\n        at <ScriptBlock>, C:\\Program Files\\WindowsPowerShell\\Modules\\dbachecks\\1.2.21\\checks\\Instance.Tests.ps1: line 64\n      [+] localhost,15593 is pingable 2ms\n      [+] localhost,15593 Is PSRemoteable 50.48s\nTests completed in 102.43s\nTests Passed: 6, Failed: 2, Skipped: 0, Pending: 0, Inconclusive: 0 \n"
                }
            ],
            "execution_count": 3
        },
        {
            "cell_type": "markdown",
            "source": [
                "Are all the databases up available?\r\n",
                "\r\n",
                "This by default will only show the system databases but we will talk about configuration for this in the next notebook"
            ],
            "metadata": {
                "azdata_cell_guid": "405d3e5a-c0a8-4819-852e-a865cd0618b4"
            }
        },
        {
            "cell_type": "code",
            "source": [
                "$FolderPath = $Env:USERPROFILE + '\\Documents\\dbachecks'\r\n",
                "$SqlInstances = 'localhost,15592','localhost,15593'\r\n",
                "$SqlCredential = Import-Clixml -Path $FolderPath\\sqladmin.cred\r\n",
                "Invoke-DbcCheck -SqlInstance $SqlInstances -SqlCredential $SqlCredential  -Check DatabaseStatus"
            ],
            "metadata": {
                "azdata_cell_guid": "9a42fc56-1dd6-4512-91e0-9908a98cbf83"
            },
            "outputs": [
                {
                    "output_type": "stream",
                    "name": "stdout",
                    "text": "    ____            __\n   / __ \\___  _____/ /____  _____\n  / /_/ / _ \\/ ___/ __/ _ \\/ ___/\n / ____/  __(__  ) /_/  __/ /\n/_/    \\___/____/\\__/\\___/_/\nPester v4.9.0\nExecuting all tests in 'C:\\Program Files\\WindowsPowerShell\\Modules\\dbachecks\\1.2.21\\checks\\Database.Tests.ps1' with Tags DatabaseStatus\n\nExecuting script C:\\Program Files\\WindowsPowerShell\\Modules\\dbachecks\\1.2.21\\checks\\Database.Tests.ps1\n\n  Describing Database Status\n\n    Context Database status is correct on localhost,15592\n      [+] Database master on localhost,15592 has the expected status 272ms\n      [+] Database model on localhost,15592 has the expected status 128ms\n      [+] Database msdb on localhost,15592 has the expected status 126ms\n      [+] Database tempdb on localhost,15592 has the expected status 114ms\n\n  Describing Database Status\n\n    Context Database status is correct on localhost,15593\n      [+] Database master on localhost,15593 has the expected status 196ms\n      [+] Database model on localhost,15593 has the expected status 110ms\n      [+] Database msdb on localhost,15593 has the expected status 113ms\n      [+] Database tempdb on localhost,15593 has the expected status 109ms\nTests completed in 1.86s\nTests Passed: 8, Failed: 0, Skipped: 0, Pending: 0, Inconclusive: 0 \n"
                }
            ],
            "execution_count": 4
        },
        {
            "cell_type": "markdown",
            "source": [
                "Are all of the SPNs correct ?\r\n",
                "\r\n",
                "You should not run this one but look at the saved results to see what you can get."
            ],
            "metadata": {
                "azdata_cell_guid": "3aa3347c-b7a9-4d45-b142-8b2f0afc2776"
            }
        },
        {
            "cell_type": "code",
            "source": [
                "$Instances =  'SQL2005Ser2003', 'SQL2008Ser12R2', 'SQL2012Ser08AG1', 'SQL2012Ser08AG2', 'SQL2012Ser08AG3', 'SQL2014Ser12R2', 'SQL2016N1', 'SQL2016N2', 'SQL2016N3', 'SQL2017N5', 'SQL2019N20', 'SQL2019N21', 'SQL2019N22', 'SQL2019N5'\r\n",
                "Invoke-DbcCheck -SqlInstance $instances -Check SPN"
            ],
            "metadata": {
                "azdata_cell_guid": "09010eb5-fc3d-4318-9b29-91a12cff6fbd"
            },
            "outputs": [
                {
                    "output_type": "stream",
                    "name": "stdout",
                    "text": "    ____            __\n   / __ \\___  _____/ /____  _____\n  / /_/ / _ \\/ ___/ __/ _ \\/ ___/\n / ____/  __(__  ) /_/  __/ /\n/_/    \\___/____/\\__/\\___/_/\nPester v4.9.0\nExecuting all tests in 'C:\\Program Files\\WindowsPowerShell\\Modules\\dbachecks\\1.2.21\\checks\\Server.Tests.ps1' with Tags SPN\n\nExecuting script C:\\Program Files\\WindowsPowerShell\\Modules\\dbachecks\\1.2.21\\checks\\Server.Tests.ps1\n\n  Describing SPNs\n\n    Context Testing SPNs on SQL2005Ser2003\n      [-] SQL2005Ser2003 should have a SPN Dont know the SPN for Dont know the Account 5ms\n        Expected strings to be the same, because We expect to have a SPN Dont know the SPN for Dont know the Account, but they were different.\n        Expected length: 4\n        Actual length:   17\n        Strings differ at index 0.\n        Expected: 'None'\n        But was:  'An Error occurred'\n        191:     $SPN.Error | Should -Be 'None' -Because \"We expect to have a SPN $($SPN.RequiredSPN) for $($SPN.InstanceServiceAccount)\"\n        at Assert-SPN, C:\\Program Files\\WindowsPowerShell\\Modules\\dbachecks\\1.2.21\\internal\\assertions\\Server.Assertions.ps1: line 191\n        at <ScriptBlock>, C:\\Program Files\\WindowsPowerShell\\Modules\\dbachecks\\1.2.21\\checks\\Server.Tests.ps1: line 25\n\n  Describing SPNs\n\n    Context Testing SPNs on SQL2008Ser12R2\n      [+] SQL2008Ser12R2 should have a SPN MSSQLSvc/SQL2008Ser12R2.TheBeard.local for THEBEARD\\SQL_SVC 1ms\n      [+] SQL2008Ser12R2 should have a SPN MSSQLSvc/SQL2008Ser12R2.TheBeard.local:1433 for THEBEARD\\SQL_SVC 2ms\n\n  Describing SPNs\n\n    Context Testing SPNs on SQL2012Ser08AG1\n      [-] SQL2012Ser08AG1 should have a SPN MSSQLSvc/SQL2012Ser08AG1.TheBeard.local for THEBEARD\\SVC_SQL_AG1 4ms\n        Expected strings to be the same, because We expect to have a SPN MSSQLSvc/SQL2012Ser08AG1.TheBeard.local for THEBEARD\\SVC_SQL_AG1, but they were different.\n        Expected length: 4\n        Actual length:   11\n        Strings differ at index 0.\n        Expected: 'None'\n        But was:  'SPN missing'\n        191:     $SPN.Error | Should -Be 'None' -Because \"We expect to have a SPN $($SPN.RequiredSPN) for $($SPN.InstanceServiceAccount)\"\n        at Assert-SPN, C:\\Program Files\\WindowsPowerShell\\Modules\\dbachecks\\1.2.21\\internal\\assertions\\Server.Assertions.ps1: line 191\n        at <ScriptBlock>, C:\\Program Files\\WindowsPowerShell\\Modules\\dbachecks\\1.2.21\\checks\\Server.Tests.ps1: line 25\n      [-] SQL2012Ser08AG1 should have a SPN MSSQLSvc/SQL2012Ser08AG1.TheBeard.local:1433 for THEBEARD\\SVC_SQL_AG1 3ms\n        Expected strings to be the same, because We expect to have a SPN MSSQLSvc/SQL2012Ser08AG1.TheBeard.local:1433 for THEBEARD\\SVC_SQL_AG1, but they were different.\n        Expected length: 4\n        Actual length:   11\n        Strings differ at index 0.\n        Expected: 'None'\n        But was:  'SPN missing'\n        191:     $SPN.Error | Should -Be 'None' -Because \"We expect to have a SPN $($SPN.RequiredSPN) for $($SPN.InstanceServiceAccount)\"\n        at Assert-SPN, C:\\Program Files\\WindowsPowerShell\\Modules\\dbachecks\\1.2.21\\internal\\assertions\\Server.Assertions.ps1: line 191\n        at <ScriptBlock>, C:\\Program Files\\WindowsPowerShell\\Modules\\dbachecks\\1.2.21\\checks\\Server.Tests.ps1: line 25\n\n  Describing SPNs\n\n    Context Testing SPNs on SQL2012Ser08AG2\n      [+] SQL2012Ser08AG2 should have a SPN MSSQLSvc/SQL2012Ser08AG2.TheBeard.local for THEBEARD\\SVC_SQL_AG2 5ms\n      [+] SQL2012Ser08AG2 should have a SPN MSSQLSvc/SQL2012Ser08AG2.TheBeard.local:1433 for THEBEARD\\SVC_SQL_AG2 1ms\n\n  Describing SPNs\n\n    Context Testing SPNs on SQL2012Ser08AG3\n      [+] SQL2012Ser08AG3 should have a SPN MSSQLSvc/SQL2012Ser08AG3.TheBeard.local for THEBEARD\\SVC_SQL_AG3 1ms\n      [+] SQL2012Ser08AG3 should have a SPN MSSQLSvc/SQL2012Ser08AG3.TheBeard.local:1433 for THEBEARD\\SVC_SQL_AG3 1ms\n\n  Describing SPNs\n\n    Context Testing SPNs on SQL2014Ser12R2\n      [+] SQL2014Ser12R2 should have a SPN MSSQLSvc/SQL2014Ser12R2.TheBeard.local for thebeard\\sql_svc 2ms\n      [+] SQL2014Ser12R2 should have a SPN MSSQLSvc/SQL2014Ser12R2.TheBeard.local:1433 for thebeard\\sql_svc 1ms\n\n  Describing SPNs\n\n    Context Testing SPNs on SQL2016N1\n      [+] SQL2016N1 should have a SPN MSSQLSvc/SQL2016N1.TheBeard.local for THEBEARD\\SQL_SVC 1ms\n      [+] SQL2016N1 should have a SPN MSSQLSvc/SQL2016N1.TheBeard.local:1433 for THEBEARD\\SQL_SVC 1ms\n\n  Describing SPNs\n\n    Context Testing SPNs on SQL2016N2\n      [+] SQL2016N2 should have a SPN MSSQLSvc/SQL2016N2.TheBeard.local for THEBEARD\\SQL_SVC 1ms\n      [+] SQL2016N2 should have a SPN MSSQLSvc/SQL2016N2.TheBeard.local:1433 for THEBEARD\\SQL_SVC 1ms\n\n  Describing SPNs\n\n    Context Testing SPNs on SQL2016N3\n      [+] SQL2016N3 should have a SPN MSSQLSvc/SQL2016N3.TheBeard.local for THEBEARD\\SQL_SVC 1ms\n      [+] SQL2016N3 should have a SPN MSSQLSvc/SQL2016N3.TheBeard.local:1433 for THEBEARD\\SQL_SVC 4ms\n\n  Describing SPNs\n\n    Context Testing SPNs on SQL2017N5\n      [-] SQL2017N5 should have a SPN MSSQLSvc/SQL2017N5.TheBeard.local for THEBEARD\\SQL_SVC 4ms\n        Expected strings to be the same, because We expect to have a SPN MSSQLSvc/SQL2017N5.TheBeard.local for THEBEARD\\SQL_SVC, but they were different.\n        Expected length: 4\n        Actual length:   11\n        Strings differ at index 0.\n        Expected: 'None'\n        But was:  'SPN missing'\n        191:     $SPN.Error | Should -Be 'None' -Because \"We expect to have a SPN $($SPN.RequiredSPN) for $($SPN.InstanceServiceAccount)\"\n        at Assert-SPN, C:\\Program Files\\WindowsPowerShell\\Modules\\dbachecks\\1.2.21\\internal\\assertions\\Server.Assertions.ps1: line 191\n        at <ScriptBlock>, C:\\Program Files\\WindowsPowerShell\\Modules\\dbachecks\\1.2.21\\checks\\Server.Tests.ps1: line 25\n      [-] SQL2017N5 should have a SPN MSSQLSvc/SQL2017N5.TheBeard.local:1433 for THEBEARD\\SQL_SVC 3ms\n        Expected strings to be the same, because We expect to have a SPN MSSQLSvc/SQL2017N5.TheBeard.local:1433 for THEBEARD\\SQL_SVC, but they were different.\n        Expected length: 4\n        Actual length:   11\n        Strings differ at index 0.\n        Expected: 'None'\n        But was:  'SPN missing'\n        191:     $SPN.Error | Should -Be 'None' -Because \"We expect to have a SPN $($SPN.RequiredSPN) for $($SPN.InstanceServiceAccount)\"\n        at Assert-SPN, C:\\Program Files\\WindowsPowerShell\\Modules\\dbachecks\\1.2.21\\internal\\assertions\\Server.Assertions.ps1: line 191\n        at <ScriptBlock>, C:\\Program Files\\WindowsPowerShell\\Modules\\dbachecks\\1.2.21\\checks\\Server.Tests.ps1: line 25\n\n  Describing SPNs\n\n    Context Testing SPNs on SQL2019N20\n      [+] SQL2019N20 should have a SPN MSSQLSvc/SQL2019N20.TheBeard.local for THEBEARD\\SQL_SVC 1ms\n      [+] SQL2019N20 should have a SPN MSSQLSvc/SQL2019N20.TheBeard.local:1433 for THEBEARD\\SQL_SVC 1ms\n\n  Describing SPNs\n\n    Context Testing SPNs on SQL2019N21\n      [+] SQL2019N21 should have a SPN MSSQLSvc/SQL2019N21.TheBeard.local for THEBEARD\\SQL_SVC 1ms\n      [+] SQL2019N21 should have a SPN MSSQLSvc/SQL2019N21.TheBeard.local:1433 for THEBEARD\\SQL_SVC 1ms\n\n  Describing SPNs\n\n    Context Testing SPNs on SQL2019N22\n      [+] SQL2019N22 should have a SPN MSSQLSvc/SQL2019N22.TheBeard.local for THEBEARD\\SQL_SVC 1ms\n      [+] SQL2019N22 should have a SPN MSSQLSvc/SQL2019N22.TheBeard.local:1433 for THEBEARD\\SQL_SVC 2ms\n\n  Describing SPNs\n\n    Context Testing SPNs on SQL2019N5\n      [+] SQL2019N5 should have a SPN MSSQLSvc/SQL2019N5.TheBeard.local for THEBEARD\\SQL_Svc 2ms\n      [+] SQL2019N5 should have a SPN MSSQLSvc/SQL2019N5.TheBeard.local:1433 for THEBEARD\\SQL_Svc 1ms\nTests completed in 253.49s\nTests Passed: 22, Failed: 5, Skipped: 0, Pending: 0, Inconclusive: 0 \n"
                }
            ],
            "execution_count": 6
        }
    ]
}