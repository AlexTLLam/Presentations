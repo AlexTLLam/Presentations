{
    "metadata": {
        "kernelspec": {
            "name": "powershell",
            "display_name": "PowerShell"
        },
        "language_info": {
            "name": "powershell",
            "codemirror_mode": "shell",
            "mimetype": "text/x-sh",
            "file_extension": ".ps1"
        }
    },
    "nbformat_minor": 2,
    "nbformat": 4,
    "cells": [
        {
            "cell_type": "markdown",
            "source": [
                "# dbachecks\r\n",
                "\r\n",
                "## Installation \r\n",
                "\r\n",
                "Take a look at the installation guidelines here [Intro](./01-dbachecks-Intro.ipynb)\r\n",
                "\r\n",
                "Lets Check if you have the dbachecks module available"
            ],
            "metadata": {
                "azdata_cell_guid": "ae946c13-04d8-4845-8528-907c84d1555c",
                "tags": [
                    "hide_input"
                ]
            }
        },
        {
            "cell_type": "code",
            "source": [
                "Get-Module dbachecks -ListAvailable"
            ],
            "metadata": {
                "azdata_cell_guid": "3627b53c-63a5-4e21-9a2d-96b1a092c913",
                "tags": [
                    "hide_input"
                ]
            },
            "outputs": [],
            "execution_count": 9
        },
        {
            "cell_type": "markdown",
            "source": [
                "## Examine the available commands\r\n",
                "\r\n",
                "You can look at the commands in the dbachecks module"
            ],
            "metadata": {
                "azdata_cell_guid": "1ae003f9-d98a-43f0-b0b3-bf6b0736c147",
                "tags": [
                    "hide_input"
                ]
            }
        },
        {
            "cell_type": "code",
            "source": [
                "Get-Command -Module dbachecks"
            ],
            "metadata": {
                "azdata_cell_guid": "2718f60b-6ba6-4887-a886-10d52cd0228a",
                "tags": [
                    "hide_input"
                ]
            },
            "outputs": [],
            "execution_count": 10
        },
        {
            "cell_type": "markdown",
            "source": [
                "# All of the checks\r\n",
                "\r\n",
                "You can see all of the checks using `Get-DbcCheck` \r\n",
                ""
            ],
            "metadata": {
                "azdata_cell_guid": "2a6fc094-c131-49af-a96e-4f432737bec2"
            }
        },
        {
            "cell_type": "code",
            "source": [
                "Get-DbcCheck"
            ],
            "metadata": {
                "azdata_cell_guid": "76ce1266-5da6-4999-9fae-5d236fc2e810"
            },
            "outputs": [],
            "execution_count": 11
        },
        {
            "cell_type": "markdown",
            "source": [
                "You can search for checks using `Get-DbcCheck -Pattern SEARCHTERM`"
            ],
            "metadata": {
                "azdata_cell_guid": "f0882807-09b6-4328-8e6e-21fb23d18d33"
            }
        },
        {
            "cell_type": "code",
            "source": [
                "Get-DbcCheck -Pattern backup"
            ],
            "metadata": {
                "azdata_cell_guid": "6868c7fa-7bf5-4721-a211-08eb7343b844"
            },
            "outputs": [],
            "execution_count": 12
        },
        {
            "cell_type": "markdown",
            "source": [
                "Running a check from the command line can be done with\r\n",
                "\r\n",
                "`Invoke-DbcCheck -SqlInstance SQLINSTANCE -Check UNIQUETAG, A TAG, GROUP`"
            ],
            "metadata": {
                "azdata_cell_guid": "2bdc0137-380e-4d98-8c21-65710f7eca4e"
            }
        },
        {
            "cell_type": "code",
            "source": [
                "Invoke-DbcCheck -SqlInstance SQL2016N1 -Check AutoClose"
            ],
            "metadata": {
                "azdata_cell_guid": "990486fd-573a-4c43-afad-6e65e5b8f4fd"
            },
            "outputs": [],
            "execution_count": 14
        },
        {
            "cell_type": "markdown",
            "source": [
                "At the command line and in the editor the Checks will auto-complete\r\n",
                "\r\n",
                "Place the cursor a space after the `-Check` and press CTRL + SPACE\r\n",
                "\r\n",
                "`Invoke-DbcCheck -SqlInstance SQL2016N1 -Check `"
            ],
            "metadata": {
                "azdata_cell_guid": "e3eba123-7621-44ee-af57-3b8e95eb46ec"
            }
        },
        {
            "cell_type": "code",
            "source": [
                "Invoke-DbcCheck -SqlInstance SQL2016N1 -Check AutoUpdateStatistics "
            ],
            "metadata": {
                "azdata_cell_guid": "6bfbde55-35ff-462c-aaa8-0fef795983f3"
            },
            "outputs": [
                {
                    "name": "stdout",
                    "text": "    ____            __\n   / __ \\___  _____/ /____  _____\n  / /_/ / _ \\/ ___/ __/ _ \\/ ___/\n / ____/  __(__  ) /_/  __/ /\n/_/    \\___/____/\\__/\\___/_/\nPester v4.9.0\nExecuting all tests in 'C:\\Program Files\\WindowsPowerShell\\Modules\\dbachecks\\1.2.21\\checks\\Database.Tests.ps1' with Tags AutoUpdateStatistics\n\nExecuting script C:\\Program Files\\WindowsPowerShell\\Modules\\dbachecks\\1.2.21\\checks\\Database.Tests.ps1\n\n  Describing Auto Update Statistics\n\n    Context Testing Auto Update Statistics on SQL2016N1\n      [+] AdventureWorksDW2014 on SQL2016N1 should have Auto Update Statistics set to True 334ms\n      [+] BeardedAg_db on SQL2016N1 should have Auto Update Statistics set to True 30ms\n      [+] DAC on SQL2016N1 should have Auto Update Statistics set to True 59ms\n      [+] database on SQL2016N1 should have Auto Update Statistics set to True 47ms\n      [+] DBA-Admin on SQL2016N1 should have Auto Update Statistics set to True 44ms\n      [+] dbachecks on SQL2016N1 should have Auto Update Statistics set to True 40ms\n      [+] DEMOdbareports on SQL2016N1 should have Auto Update Statistics set to True 38ms\n      [+] Lisbondbareports on SQL2016N1 should have Auto Update Statistics set to True 26ms\n      [+] master on SQL2016N1 should have Auto Update Statistics set to True 38ms\n      [+] model on SQL2016N1 should have Auto Update Statistics set to True 30ms\n      [+] msdb on SQL2016N1 should have Auto Update Statistics set to True 50ms\n      [+] NoGoodDBCC on SQL2016N1 should have Auto Update Statistics set to True 41ms\n      [+] passrocssug_dbareports on SQL2016N1 should have Auto Update Statistics set to True 30ms\n      [+] ReportServer on SQL2016N1 should have Auto Update Statistics set to True 38ms\n      [+] ReportServerTempDB on SQL2016N1 should have Auto Update Statistics set to True 57ms\n      [+] SQLWatch on SQL2016N1 should have Auto Update Statistics set to True 37ms\n      [+] SSISDB on SQL2016N1 should have Auto Update Statistics set to True 54ms\n      [+] tempdb on SQL2016N1 should have Auto Update Statistics set to True 46ms\n      [+] TheBeardsProd on SQL2016N1 should have Auto Update Statistics set to True 33ms\n      [+] VideoDemodbareports on SQL2016N1 should have Auto Update Statistics set to True 51ms\n      [+] Viennadbareports on SQL2016N1 should have Auto Update Statistics set to True 58ms\nTests completed in 4.41s\nTests Passed: 21, Failed: 0, Skipped: 0, Pending: 0, Inconclusive: 0 \n",
                    "output_type": "stream"
                }
            ],
            "execution_count": 1
        },
        {
            "cell_type": "markdown",
            "source": [
                "Did all of the Agent Jobs succeed ?"
            ],
            "metadata": {
                "azdata_cell_guid": "ace87d71-f023-4181-ba05-4bb5041f542f"
            }
        },
        {
            "cell_type": "code",
            "source": [
                "Invoke-DbcCheck -SqlInstance SQL2016N1 -Check FailedJob"
            ],
            "metadata": {
                "azdata_cell_guid": "a9344196-3a43-4638-8847-0dd3afa429b8"
            },
            "outputs": [
                {
                    "name": "stdout",
                    "text": "    ____            __\n   / __ \\___  _____/ /____  _____\n  / /_/ / _ \\/ ___/ __/ _ \\/ ___/\n / ____/  __(__  ) /_/  __/ /\n/_/    \\___/____/\\__/\\___/_/\nPester v4.9.0\nExecuting all tests in 'C:\\Program Files\\WindowsPowerShell\\Modules\\dbachecks\\1.2.21\\checks\\Agent.Tests.ps1' with Tags FailedJob\n\nExecuting script C:\\Program Files\\WindowsPowerShell\\Modules\\dbachecks\\1.2.21\\checks\\Agent.Tests.ps1\n\n  Describing Failed Jobs\n\n    Context Checking for failed enabled jobs since 11/07/2019 12:57:41 on SQL2016N1\n      [+] DatabaseBackup - SYSTEM_DATABASES - FULL's last run outcome on SQL2016N1 is Succeeded 16ms\n      [+] DatabaseBackup - USER_DATABASES - DIFF's last run outcome on SQL2016N1 is Succeeded 1ms\n      [+] DatabaseBackup - USER_DATABASES - FULL's last run outcome on SQL2016N1 is Succeeded 1ms\n      [+] DatabaseBackup - USER_DATABASES - LOG's last run outcome on SQL2016N1 is Succeeded 1ms\n      [+] DatabaseIntegrityCheck - SYSTEM_DATABASES's last run outcome on SQL2016N1 is Succeeded 2ms\n      [+] DatabaseIntegrityCheck - USER_DATABASES's last run outcome on SQL2016N1 is Succeeded 3ms\n      [+] IndexOptimize - USER_DATABASES's last run outcome on SQL2016N1 is Succeeded 1ms\n      [+] SQLWATCH-INTERNAL-META-CONFIG's last run outcome on SQL2016N1 is Succeeded 1ms\n      [+] SQLWATCH-INTERNAL-RETENTION's last run outcome on SQL2016N1 is Succeeded 1ms\n      [+] SQLWATCH-LOGGER-AGENT-HISTORY's last run outcome on SQL2016N1 is Succeeded 1ms\n      [+] SQLWATCH-LOGGER-DISK-UTILISATION's last run outcome on SQL2016N1 is Succeeded 1ms\n      [+] SQLWATCH-LOGGER-INDEXES's last run outcome on SQL2016N1 is Succeeded 2ms\n      [+] SQLWATCH-LOGGER-PERFORMANCE's last run outcome on SQL2016N1 is Succeeded 3ms\n      [+] SQLWATCH-LOGGER-WHOISACTIVE's last run outcome on SQL2016N1 is Succeeded 3ms\n      [+] SSIS Server Maintenance Job's last run outcome on SQL2016N1 is Succeeded 5ms\n      [+] syspolicy_purge_history's last run outcome on SQL2016N1 is Succeeded 1ms\nTests completed in 1.96s\nTests Passed: 16, Failed: 0, Skipped: 0, Pending: 0, Inconclusive: 0 \n",
                    "output_type": "stream"
                }
            ],
            "execution_count": 2
        },
        {
            "cell_type": "markdown",
            "source": [
                "Are all of the instances up and available?"
            ],
            "metadata": {
                "azdata_cell_guid": "60a354ad-2eca-4fc2-988b-17ee6cf42ac2"
            }
        },
        {
            "cell_type": "code",
            "source": [
                "$Instances =  'SQL2005Ser2003', 'SQL2008Ser12R2', 'SQL2012Ser08AG1', 'SQL2012Ser08AG2', 'SQL2012Ser08AG3', 'SQL2014Ser12R2', 'SQL2016N1', 'SQL2016N2', 'SQL2016N3', 'SQL2017N5', 'SQL2019N20', 'SQL2019N21', 'SQL2019N22', 'SQL2019N5'\r\n",
                "Invoke-DbcCheck -SqlInstance $Instances -Check InstanceConnection "
            ],
            "metadata": {
                "azdata_cell_guid": "8e268766-82db-4024-a8c6-ebafe51760f3"
            },
            "outputs": [],
            "execution_count": 3
        },
        {
            "cell_type": "markdown",
            "source": [
                "Are all the databases up available?"
            ],
            "metadata": {
                "azdata_cell_guid": "405d3e5a-c0a8-4819-852e-a865cd0618b4"
            }
        },
        {
            "cell_type": "code",
            "source": [
                "Invoke-DbcCheck -SqlInstance SQL2016N1 -Check DatabaseStatus"
            ],
            "metadata": {
                "azdata_cell_guid": "9a42fc56-1dd6-4512-91e0-9908a98cbf83"
            },
            "outputs": [
                {
                    "name": "stdout",
                    "text": "    ____            __\n   / __ \\___  _____/ /____  _____\n  / /_/ / _ \\/ ___/ __/ _ \\/ ___/\n / ____/  __(__  ) /_/  __/ /\n/_/    \\___/____/\\__/\\___/_/\nPester v4.9.0\nExecuting all tests in 'C:\\Program Files\\WindowsPowerShell\\Modules\\dbachecks\\1.2.21\\checks\\Database.Tests.ps1' with Tags DatabaseStatus\n\nExecuting script C:\\Program Files\\WindowsPowerShell\\Modules\\dbachecks\\1.2.21\\checks\\Database.Tests.ps1\n\n  Describing Database Status\n\n    Context Database status is correct on SQL2016N1\n      [+] Database AdventureWorksDW2014 on SQL2016N1 has the expected status 346ms\n      [+] Database BeardedAg_db on SQL2016N1 has the expected status 237ms\n      [+] Database DAC on SQL2016N1 has the expected status 171ms\n      [+] Database database on SQL2016N1 has the expected status 132ms\n      [+] Database DBA-Admin on SQL2016N1 has the expected status 149ms\n      [+] Database dbachecks on SQL2016N1 has the expected status 160ms\n      [+] Database DEMOdbareports on SQL2016N1 has the expected status 171ms\n      [+] Database Lisbondbareports on SQL2016N1 has the expected status 148ms\n      [+] Database master on SQL2016N1 has the expected status 146ms\n      [+] Database model on SQL2016N1 has the expected status 136ms\n      [+] Database msdb on SQL2016N1 has the expected status 201ms\n      [+] Database NoGoodDBCC on SQL2016N1 has the expected status 177ms\n      [+] Database passrocssug_dbareports on SQL2016N1 has the expected status 228ms\n      [+] Database ReportServer on SQL2016N1 has the expected status 157ms\n      [+] Database ReportServerTempDB on SQL2016N1 has the expected status 308ms\n      [+] Database SQLWatch on SQL2016N1 has the expected status 252ms\n      [+] Database SSISDB on SQL2016N1 has the expected status 140ms\n      [+] Database tempdb on SQL2016N1 has the expected status 173ms\n      [+] Database TheBeardsProd on SQL2016N1 has the expected status 199ms\n      [+] Database VideoDemodbareports on SQL2016N1 has the expected status 128ms\n      [+] Database Viennadbareports on SQL2016N1 has the expected status 158ms\nTests completed in 4.46s\nTests Passed: 21, Failed: 0, Skipped: 0, Pending: 0, Inconclusive: 0 \n",
                    "output_type": "stream"
                }
            ],
            "execution_count": 4
        },
        {
            "cell_type": "markdown",
            "source": [
                "Speaking of databases, What if you want to ensure that the data"
            ],
            "metadata": {
                "azdata_cell_guid": "5420494f-6966-4178-a884-1702ae746ad5"
            }
        },
        {
            "cell_type": "code",
            "source": [
                ""
            ],
            "metadata": {
                "azdata_cell_guid": "197ddc73-6b6b-49be-8640-4e95c9c4f3bf"
            },
            "outputs": [],
            "execution_count": 0
        },
        {
            "cell_type": "markdown",
            "source": [
                "Are all of the SPNs correct ?"
            ],
            "metadata": {
                "azdata_cell_guid": "3aa3347c-b7a9-4d45-b142-8b2f0afc2776"
            }
        },
        {
            "cell_type": "code",
            "source": [
                "$Instances =  'SQL2005Ser2003', 'SQL2008Ser12R2', 'SQL2012Ser08AG1', 'SQL2012Ser08AG2', 'SQL2012Ser08AG3', 'SQL2014Ser12R2', 'SQL2016N1', 'SQL2016N2', 'SQL2016N3', 'SQL2017N5', 'SQL2019N20', 'SQL2019N21', 'SQL2019N22', 'SQL2019N5'\r\n",
                "Invoke-DbcCheck -SqlInstance $instances -Check SPN"
            ],
            "metadata": {
                "azdata_cell_guid": "09010eb5-fc3d-4318-9b29-91a12cff6fbd"
            },
            "outputs": [
                {
                    "name": "stdout",
                    "text": "    ____            __\n   / __ \\___  _____/ /____  _____\n  / /_/ / _ \\/ ___/ __/ _ \\/ ___/\n / ____/  __(__  ) /_/  __/ /\n/_/    \\___/____/\\__/\\___/_/\nPester v4.9.0\nExecuting all tests in 'C:\\Program Files\\WindowsPowerShell\\Modules\\dbachecks\\1.2.21\\checks\\Server.Tests.ps1' with Tags SPN\n\nExecuting script C:\\Program Files\\WindowsPowerShell\\Modules\\dbachecks\\1.2.21\\checks\\Server.Tests.ps1\n\n  Describing SPNs\n\n    Context Testing SPNs on SQL2005Ser2003\n      [-] SQL2005Ser2003 should have a SPN Dont know the SPN for Dont know the Account 5ms\n        Expected strings to be the same, because We expect to have a SPN Dont know the SPN for Dont know the Account, but they were different.\n        Expected length: 4\n        Actual length:   17\n        Strings differ at index 0.\n        Expected: 'None'\n        But was:  'An Error occurred'\n        191:     $SPN.Error | Should -Be 'None' -Because \"We expect to have a SPN $($SPN.RequiredSPN) for $($SPN.InstanceServiceAccount)\"\n        at Assert-SPN, C:\\Program Files\\WindowsPowerShell\\Modules\\dbachecks\\1.2.21\\internal\\assertions\\Server.Assertions.ps1: line 191\n        at <ScriptBlock>, C:\\Program Files\\WindowsPowerShell\\Modules\\dbachecks\\1.2.21\\checks\\Server.Tests.ps1: line 25\n\n  Describing SPNs\n\n    Context Testing SPNs on SQL2008Ser12R2\n      [+] SQL2008Ser12R2 should have a SPN MSSQLSvc/SQL2008Ser12R2.TheBeard.local for THEBEARD\\SQL_SVC 1ms\n      [+] SQL2008Ser12R2 should have a SPN MSSQLSvc/SQL2008Ser12R2.TheBeard.local:1433 for THEBEARD\\SQL_SVC 2ms\n\n  Describing SPNs\n\n    Context Testing SPNs on SQL2012Ser08AG1\n      [-] SQL2012Ser08AG1 should have a SPN MSSQLSvc/SQL2012Ser08AG1.TheBeard.local for THEBEARD\\SVC_SQL_AG1 4ms\n        Expected strings to be the same, because We expect to have a SPN MSSQLSvc/SQL2012Ser08AG1.TheBeard.local for THEBEARD\\SVC_SQL_AG1, but they were different.\n        Expected length: 4\n        Actual length:   11\n        Strings differ at index 0.\n        Expected: 'None'\n        But was:  'SPN missing'\n        191:     $SPN.Error | Should -Be 'None' -Because \"We expect to have a SPN $($SPN.RequiredSPN) for $($SPN.InstanceServiceAccount)\"\n        at Assert-SPN, C:\\Program Files\\WindowsPowerShell\\Modules\\dbachecks\\1.2.21\\internal\\assertions\\Server.Assertions.ps1: line 191\n        at <ScriptBlock>, C:\\Program Files\\WindowsPowerShell\\Modules\\dbachecks\\1.2.21\\checks\\Server.Tests.ps1: line 25\n      [-] SQL2012Ser08AG1 should have a SPN MSSQLSvc/SQL2012Ser08AG1.TheBeard.local:1433 for THEBEARD\\SVC_SQL_AG1 3ms\n        Expected strings to be the same, because We expect to have a SPN MSSQLSvc/SQL2012Ser08AG1.TheBeard.local:1433 for THEBEARD\\SVC_SQL_AG1, but they were different.\n        Expected length: 4\n        Actual length:   11\n        Strings differ at index 0.\n        Expected: 'None'\n        But was:  'SPN missing'\n        191:     $SPN.Error | Should -Be 'None' -Because \"We expect to have a SPN $($SPN.RequiredSPN) for $($SPN.InstanceServiceAccount)\"\n        at Assert-SPN, C:\\Program Files\\WindowsPowerShell\\Modules\\dbachecks\\1.2.21\\internal\\assertions\\Server.Assertions.ps1: line 191\n        at <ScriptBlock>, C:\\Program Files\\WindowsPowerShell\\Modules\\dbachecks\\1.2.21\\checks\\Server.Tests.ps1: line 25\n\n  Describing SPNs\n\n    Context Testing SPNs on SQL2012Ser08AG2\n      [+] SQL2012Ser08AG2 should have a SPN MSSQLSvc/SQL2012Ser08AG2.TheBeard.local for THEBEARD\\SVC_SQL_AG2 5ms\n      [+] SQL2012Ser08AG2 should have a SPN MSSQLSvc/SQL2012Ser08AG2.TheBeard.local:1433 for THEBEARD\\SVC_SQL_AG2 1ms\n\n  Describing SPNs\n\n    Context Testing SPNs on SQL2012Ser08AG3\n      [+] SQL2012Ser08AG3 should have a SPN MSSQLSvc/SQL2012Ser08AG3.TheBeard.local for THEBEARD\\SVC_SQL_AG3 1ms\n      [+] SQL2012Ser08AG3 should have a SPN MSSQLSvc/SQL2012Ser08AG3.TheBeard.local:1433 for THEBEARD\\SVC_SQL_AG3 1ms\n\n  Describing SPNs\n\n    Context Testing SPNs on SQL2014Ser12R2\n      [+] SQL2014Ser12R2 should have a SPN MSSQLSvc/SQL2014Ser12R2.TheBeard.local for thebeard\\sql_svc 2ms\n      [+] SQL2014Ser12R2 should have a SPN MSSQLSvc/SQL2014Ser12R2.TheBeard.local:1433 for thebeard\\sql_svc 1ms\n\n  Describing SPNs\n\n    Context Testing SPNs on SQL2016N1\n      [+] SQL2016N1 should have a SPN MSSQLSvc/SQL2016N1.TheBeard.local for THEBEARD\\SQL_SVC 1ms\n      [+] SQL2016N1 should have a SPN MSSQLSvc/SQL2016N1.TheBeard.local:1433 for THEBEARD\\SQL_SVC 1ms\n\n  Describing SPNs\n\n    Context Testing SPNs on SQL2016N2\n      [+] SQL2016N2 should have a SPN MSSQLSvc/SQL2016N2.TheBeard.local for THEBEARD\\SQL_SVC 1ms\n      [+] SQL2016N2 should have a SPN MSSQLSvc/SQL2016N2.TheBeard.local:1433 for THEBEARD\\SQL_SVC 1ms\n\n  Describing SPNs\n\n    Context Testing SPNs on SQL2016N3\n      [+] SQL2016N3 should have a SPN MSSQLSvc/SQL2016N3.TheBeard.local for THEBEARD\\SQL_SVC 1ms\n      [+] SQL2016N3 should have a SPN MSSQLSvc/SQL2016N3.TheBeard.local:1433 for THEBEARD\\SQL_SVC 4ms\n\n  Describing SPNs\n\n    Context Testing SPNs on SQL2017N5\n      [-] SQL2017N5 should have a SPN MSSQLSvc/SQL2017N5.TheBeard.local for THEBEARD\\SQL_SVC 4ms\n        Expected strings to be the same, because We expect to have a SPN MSSQLSvc/SQL2017N5.TheBeard.local for THEBEARD\\SQL_SVC, but they were different.\n        Expected length: 4\n        Actual length:   11\n        Strings differ at index 0.\n        Expected: 'None'\n        But was:  'SPN missing'\n        191:     $SPN.Error | Should -Be 'None' -Because \"We expect to have a SPN $($SPN.RequiredSPN) for $($SPN.InstanceServiceAccount)\"\n        at Assert-SPN, C:\\Program Files\\WindowsPowerShell\\Modules\\dbachecks\\1.2.21\\internal\\assertions\\Server.Assertions.ps1: line 191\n        at <ScriptBlock>, C:\\Program Files\\WindowsPowerShell\\Modules\\dbachecks\\1.2.21\\checks\\Server.Tests.ps1: line 25\n      [-] SQL2017N5 should have a SPN MSSQLSvc/SQL2017N5.TheBeard.local:1433 for THEBEARD\\SQL_SVC 3ms\n        Expected strings to be the same, because We expect to have a SPN MSSQLSvc/SQL2017N5.TheBeard.local:1433 for THEBEARD\\SQL_SVC, but they were different.\n        Expected length: 4\n        Actual length:   11\n        Strings differ at index 0.\n        Expected: 'None'\n        But was:  'SPN missing'\n        191:     $SPN.Error | Should -Be 'None' -Because \"We expect to have a SPN $($SPN.RequiredSPN) for $($SPN.InstanceServiceAccount)\"\n        at Assert-SPN, C:\\Program Files\\WindowsPowerShell\\Modules\\dbachecks\\1.2.21\\internal\\assertions\\Server.Assertions.ps1: line 191\n        at <ScriptBlock>, C:\\Program Files\\WindowsPowerShell\\Modules\\dbachecks\\1.2.21\\checks\\Server.Tests.ps1: line 25\n\n  Describing SPNs\n\n    Context Testing SPNs on SQL2019N20\n      [+] SQL2019N20 should have a SPN MSSQLSvc/SQL2019N20.TheBeard.local for THEBEARD\\SQL_SVC 1ms\n      [+] SQL2019N20 should have a SPN MSSQLSvc/SQL2019N20.TheBeard.local:1433 for THEBEARD\\SQL_SVC 1ms\n\n  Describing SPNs\n\n    Context Testing SPNs on SQL2019N21\n      [+] SQL2019N21 should have a SPN MSSQLSvc/SQL2019N21.TheBeard.local for THEBEARD\\SQL_SVC 1ms\n      [+] SQL2019N21 should have a SPN MSSQLSvc/SQL2019N21.TheBeard.local:1433 for THEBEARD\\SQL_SVC 1ms\n\n  Describing SPNs\n\n    Context Testing SPNs on SQL2019N22\n      [+] SQL2019N22 should have a SPN MSSQLSvc/SQL2019N22.TheBeard.local for THEBEARD\\SQL_SVC 1ms\n      [+] SQL2019N22 should have a SPN MSSQLSvc/SQL2019N22.TheBeard.local:1433 for THEBEARD\\SQL_SVC 2ms\n\n  Describing SPNs\n\n    Context Testing SPNs on SQL2019N5\n      [+] SQL2019N5 should have a SPN MSSQLSvc/SQL2019N5.TheBeard.local for THEBEARD\\SQL_Svc 2ms\n      [+] SQL2019N5 should have a SPN MSSQLSvc/SQL2019N5.TheBeard.local:1433 for THEBEARD\\SQL_Svc 1ms\nTests completed in 253.49s\nTests Passed: 22, Failed: 5, Skipped: 0, Pending: 0, Inconclusive: 0 \n",
                    "output_type": "stream"
                }
            ],
            "execution_count": 6
        }
    ]
}