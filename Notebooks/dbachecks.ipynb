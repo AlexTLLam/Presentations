{
    "metadata": {
        "kernelspec": {
            "name": "powershell",
            "display_name": "PowerShell"
        },
        "language_info": {
            "name": "powershell",
            "codemirror_mode": "shell",
            "mimetype": "text/x-sh",
            "file_extension": ".ps1"
        }
    },
    "nbformat_minor": 2,
    "nbformat": 4,
    "cells": [
        {
            "cell_type": "markdown",
            "source": [
                "# dbachecks\r\n",
                "\r\n",
                "dbachecks is a PowerShell module to validate your SQL Server estate.\r\n",
                "\r\n",
                "You can ge the latest release from the PowerShell gallery by running `Install-Module dbachecks`\r\n",
                ""
            ],
            "metadata": {
                "azdata_cell_guid": "96b802f5-4dc9-4e01-b199-60593d63ff85"
            }
        },
        {
            "cell_type": "code",
            "source": [
                "Get-Date\r\n",
                "$sqlinstance = 'XXXXXXXXX'\r\n",
                "Invoke-DbcCheck -SqlInstance $sqlinstance -Check FailedJob\r\n",
                "Get-Date"
            ],
            "metadata": {
                "azdata_cell_guid": "4c5cb099-abe6-4bf3-af2f-283360972216"
            },
            "outputs": [
                {
                    "name": "stdout",
                    "text": "& { Get-Date\n>> $sqlinstance = 'XXXXXXXXX'\n>> Invoke-DbcCheck -SqlInstance $sqlinstance -Check FailedJob\n>> Get-Date }\n>> \n\n23 October 2019 08:36:05\n    ____            __\n   / __ \\___  _____/ /____  _____\n  / /_/ / _ \\/ ___/ __/ _ \\/ ___/\n / ____/  __(__  ) /_/  __/ /\n/_/    \\___/____/\\__/\\___/_/\nPester v4.9.0\nExecuting all tests in 'C:\\Users\\rob sewell\\Documents\\WindowsPowerShell\\Modules\\dbachecks\\1.2.15\\checks\\Agent.Tests.ps1' with Tags FailedJob\n\nExecuting script C:\\Users\\rob sewell\\Documents\\WindowsPowerShell\\Modules\\dbachecks\\1.2.15\\checks\\Agent.Tests.ps1\n\n  Describing Failed Jobs\n\n    Context Checking for failed enabled jobs since 09/23/2019 08:36:19 on XXXXXXXXX\n      [+] [DBA] - Backup Logs's last run outcome on XXXXXXXXX is Succeeded 107ms\n      [+] [DBA] - Backups - FULL's last run outcome on XXXXXXXXX is Succeeded 5ms\n      [+] [DBA] - Drop any snapshots's last run outcome on XXXXXXXXX is Succeeded 3ms\n      [+] [VMM] - Populate Database Information's last run outcome on XXXXXXXXX is Succeeded 5ms\n      [+] 07011E79-17AE-458F-A27B-A7878FFE6108's last run outcome on XXXXXXXXX is Succeeded 3ms\n      [+] 4E9837E7-63BD-47E0-AA5E-94EEA4BB81F6's last run outcome on XXXXXXXXX is Succeeded 3ms\n      [+] 6B765052-F82A-4194-8B05-55C669ADA1CD's last run outcome on XXXXXXXXX is Succeeded 4ms\n      [+] 86A91460-EFD8-4077-A1F7-36B5A2CA4620's last run outcome on XXXXXXXXX is Succeeded 3ms\n      [+] 8A67EDCD-5D85-403B-83DB-0F8CFE94879F's last run outcome on XXXXXXXXX is Succeeded 3ms\n      [+] CCDEE510-A405-427D-A1BF-3D12BF6C9AAD's last run outcome on XXXXXXXXX is Succeeded 75ms\n      [+] DatabaseBackup - USER_DATABASES - LOG's last run outcome on XXXXXXXXX is Succeeded 3ms\n      [-] DBA - Run dbachecks's last run outcome on XXXXXXXXX is Failed 33ms\n        Expected 'Succeeded', because All Agent Jobs should have succeed - you need to investigate the failed jobs, but got Failed.\n        170:                                         $psitem.LastRunOutcome | Should -Be \"Succeeded\" -Because 'All Agent Jobs should have succeed - you need to investigate the failed jobs'\n        at <ScriptBlock>, C:\\Users\\rob sewell\\Documents\\WindowsPowerShell\\Modules\\dbachecks\\1.2.15\\checks\\Agent.Tests.ps1: line 170\n      [+] E6D0213E-961D-4E19-9F6D-077F0E478FA7's last run outcome on XXXXXXXXX is Succeeded 3ms\n      [+] F7BFD5BB-0856-41AA-881E-C93715C15F7B's last run outcome on XXXXXXXXX is Succeeded 5ms\n      [-] Morning Checks's last run outcome on XXXXXXXXX is Failed 6ms\n        Expected 'Succeeded', because All Agent Jobs should have succeed - you need to investigate the failed jobs, but got Failed.\n        170:                                         $psitem.LastRunOutcome | Should -Be \"Succeeded\" -Because 'All Agent Jobs should have succeed - you need to investigate the failed jobs'\n        at <ScriptBlock>, C:\\Users\\rob sewell\\Documents\\WindowsPowerShell\\Modules\\dbachecks\\1.2.15\\checks\\Agent.Tests.ps1: line 170\n      [+] RunMorningChecks's last run outcome on XXXXXXXXX is Succeeded 4ms\n      [+] Set Recovery Model to Simple's last run outcome on XXXXXXXXX is Succeeded 3ms\n      [+] sp_purge_jobhistory's last run outcome on XXXXXXXXX is Succeeded 3ms\n      [-] VMM Host Growth Gatherer's last run outcome on XXXXXXXXX is Failed 6ms\n        Expected 'Succeeded', because All Agent Jobs should have succeed - you need to investigate the failed jobs, but got Failed.\n        170:                                         $psitem.LastRunOutcome | Should -Be \"Succeeded\" -Because 'All Agent Jobs should have succeed - you need to investigate the failed jobs'\n        at <ScriptBlock>, C:\\Users\\rob sewell\\Documents\\WindowsPowerShell\\Modules\\dbachecks\\1.2.15\\checks\\Agent.Tests.ps1: line 170\nTests completed in 3.17s\nTests Passed: 16, Failed: 3, Skipped: 0, Pending: 0, Inconclusive: 0 \n23 October 2019 08:36:22\n\n\n",
                    "output_type": "stream"
                }
            ],
            "execution_count": 2
        }
    ]
}