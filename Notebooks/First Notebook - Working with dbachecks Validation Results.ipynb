{
    "metadata": {
        "kernelspec": {
            "name": "SQL",
            "display_name": "SQL",
            "language": "sql"
        },
        "language_info": {
            "name": "sql",
            "version": ""
        }
    },
    "nbformat_minor": 2,
    "nbformat": 4,
    "cells": [
        {
            "cell_type": "markdown",
            "source": "First Notebook - Working with dbachecks Validation Results\r\n\r\nThe first thing that is required is to update the data in the database so that it reflects the current date as if dbachecks had been run today\r\n",
            "metadata": {}
        },
        {
            "cell_type": "code",
            "source": "/*Resets the date for the demo*/\r\nUSE [ValidationResults]\r\nGO\r\n\r\nUPDATE [dbachecks].[Prod_dbachecks_summary]\r\n   SET [TestDate] = GETDATE()\r\n WHERE SummaryID = 7\r\nGO\r\n\r\nUPDATE [dbachecks].[Prod_dbachecks_summary]\r\n   SET [TestDate] = DATEADD(day,-1,GetDAte())\r\n WHERE SummaryID = 6\r\nGO\r\n\r\nUPDATE [dbachecks].[Prod_dbachecks_summary]\r\n   SET [TestDate] = DATEADD(day,-2,GetDAte())\r\n WHERE SummaryID = 5\r\n GO\r\n \r\nUPDATE [dbachecks].[Prod_dbachecks_summary]\r\n   SET [TestDate] = DATEADD(day,-3,GetDAte())\r\n WHERE SummaryID = 4\r\n GO\r\n \r\nUPDATE [dbachecks].[Prod_dbachecks_summary]\r\n   SET [TestDate] = DATEADD(day,-4,GetDAte())\r\n WHERE SummaryID = 3\r\n GO\r\n\r\n \r\nUPDATE [dbachecks].[Prod_dbachecks_summary]\r\n   SET [TestDate] = DATEADD(day,-5,GetDAte())\r\n WHERE SummaryID = 2\r\n GO\r\n\r\n \r\nUPDATE [dbachecks].[Prod_dbachecks_summary]\r\n   SET [TestDate] = DATEADD(day,-6,GetDAte())\r\n WHERE SummaryID = 1\r\n GO\r\n",
            "metadata": {},
            "outputs": [],
            "execution_count": 1
        },
        {
            "cell_type": "markdown",
            "source": "Lets list the Checks that we have and the descriptions",
            "metadata": {}
        },
        {
            "cell_type": "code",
            "source": "USE [ValidationResults]\r\nGO\r\nSELECT \r\nUniqueTag AS 'Check',  \r\nDescription\r\nFROM dbachecks.Checks",
            "metadata": {},
            "outputs": [],
            "execution_count": 3
        },
        {
            "cell_type": "markdown",
            "source": "I want to see the total number of checks that passed and failed by date",
            "metadata": {}
        },
        {
            "cell_type": "code",
            "source": "USE [ValidationResults]\r\nGO\r\nSELECT \r\nTestDate,\r\nTotalCount AS 'Total Checks',\r\nPassedCount AS Passed,\r\nFailedCount AS Failed,\r\nSkippedCount AS Skipped\r\nFROM dbachecks.Prod_dbachecks_summary\r\n",
            "metadata": {},
            "outputs": [],
            "execution_count": 4
        },
        {
            "cell_type": "markdown",
            "source": "What are todays failures ?",
            "metadata": {}
        },
        {
            "cell_type": "code",
            "source": "SELECT \r\nd.Name,\r\nErrorRecord\r\nFROM dbachecks.Prod_dbachecks_detail d\r\nJOIN\r\ndbachecks.Prod_dbachecks_summary s\r\nON\r\nd.SummaryID = S.SummaryID\r\nWHERE\r\ns.TestDate = Convert(date, GetDate())\r\nAND\r\nd.Passed = 0\r\nORDER BY d.Name\r\n",
            "metadata": {},
            "outputs": [],
            "execution_count": 6
        },
        {
            "cell_type": "markdown",
            "source": "Which instance had the most failures today ?",
            "metadata": {}
        },
        {
            "cell_type": "code",
            "source": "; With CTE AS (\r\nSELECT \r\nDetailID,\r\nRIGHT(Context, charindex(' ', reverse(Context) + ' ') - 1) AS SqlInstance\r\nFROM dbachecks.Prod_dbachecks_detail\r\n) \r\nSELECT \r\nCTE.SqlInstance,\r\nCOUNT(d.DetailID) AS 'Failed Checks'\r\nFROM dbachecks.Prod_dbachecks_detail d\r\nJOIN CTE\r\nON CTE.DetailID = d.DetailID\r\nJOIN\r\ndbachecks.Prod_dbachecks_summary s\r\nON\r\nd.SummaryID = S.SummaryID\r\nWHERE\r\ns.TestDate = Convert(date, GetDate())\r\nAND\r\nd.Passed = 0\r\nGROUP BY CTE.SqlInstance",
            "metadata": {},
            "outputs": [],
            "execution_count": 7
        },
        {
            "cell_type": "markdown",
            "source": "Todays failures by instance and context",
            "metadata": {}
        },
        {
            "cell_type": "code",
            "source": "; With CTE AS (\r\nSELECT \r\nDetailID,\r\nRIGHT(Context, charindex(' ', reverse(Context) + ' ') - 1) AS SqlInstance\r\nFROM dbachecks.Prod_dbachecks_detail\r\n) \r\nSELECT \r\nCTE.SqlInstance,\r\nd.Context,\r\nCOUNT(d.DetailID) AS 'Failed Checks'\r\nFROM dbachecks.Prod_dbachecks_detail d\r\nJOIN CTE\r\nON CTE.DetailID = d.DetailID\r\nJOIN\r\ndbachecks.Prod_dbachecks_summary s\r\nON\r\nd.SummaryID = S.SummaryID\r\nWHERE\r\ns.TestDate = Convert(date, GetDate())\r\nAND\r\nd.Passed = 0\r\nGROUP BY CTE.SqlInstance,d.Context\r\nORDER BY CTE.SqlInstance, [Failed Checks] DESC",
            "metadata": {},
            "outputs": [],
            "execution_count": 8
        },
        {
            "cell_type": "markdown",
            "source": "Number of failures by date, instance and context",
            "metadata": {}
        },
        {
            "cell_type": "code",
            "source": "; With CTE AS (\r\nSELECT \r\nDetailID,\r\nRIGHT(Context, charindex(' ', reverse(Context) + ' ') - 1) AS SqlInstance\r\nFROM dbachecks.Prod_dbachecks_detail\r\n) \r\nSELECT \r\ns.TestDate,\r\nCTE.SqlInstance,\r\nd.Context,\r\nCOUNT(d.DetailID) AS 'Failed Checks'\r\nFROM dbachecks.Prod_dbachecks_detail d\r\nJOIN CTE\r\nON CTE.DetailID = d.DetailID\r\nJOIN\r\ndbachecks.Prod_dbachecks_summary s\r\nON\r\nd.SummaryID = S.SummaryID\r\nWHERE\r\nd.Passed = 0\r\nGROUP BY s.TestDate,CTE.SqlInstance,d.Context\r\nORDER BY CTE.SqlInstance, [Failed Checks] DESC",
            "metadata": {},
            "outputs": [],
            "execution_count": 9
        },
        {
            "cell_type": "markdown",
            "source": "This is just a quick example of some of the things in the dbachecks ValidationResults database - What more can you do ?",
            "metadata": {}
        }
    ]
}}